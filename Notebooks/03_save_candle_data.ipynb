{
 "cells": [
  {
   "cell_type": "markdown",
   "metadata": {},
   "source": [
    "### Fetch and save candle data from Oanda API\n",
    "\n"
   ]
  },
  {
   "cell_type": "code",
   "execution_count": 1,
   "metadata": {},
   "outputs": [],
   "source": [
    "import sys\n",
    "import os\n",
    "sys.path.append(os.path.abspath(os.path.join(os.getcwd(), '..')))\n",
    "\n",
    "import oanda_api as OandaApi\n",
    "import utils\n",
    "import pandas as pd\n"
   ]
  },
  {
   "cell_type": "code",
   "execution_count": 2,
   "metadata": {},
   "outputs": [],
   "source": [
    "os.makedirs(\"../his_data\", exist_ok=True)\n",
    "api = OandaApi.OandaApi()\n"
   ]
  },
  {
   "cell_type": "code",
   "execution_count": 3,
   "metadata": {},
   "outputs": [],
   "source": [
    "\n",
    "ins_df = pd.read_pickle(utils.get_currency_instruments_data_filename(True))\n",
    "curr = ['EUR', 'USD', 'GBP', 'JPY', 'CHF', 'NZD', 'CAD']"
   ]
  },
  {
   "cell_type": "code",
   "execution_count": 4,
   "metadata": {},
   "outputs": [],
   "source": [
    "def get_candles_df(json_response):\n",
    "\n",
    "    prices = ['mid', 'bid', 'ask']\n",
    "    ohlc = ['o', 'h', 'l', 'c']\n",
    "\n",
    "    our_data = []\n",
    "    for candle in json_response['candles']:\n",
    "        if candle['complete'] == False:\n",
    "            continue\n",
    "        new_dict = {}\n",
    "        new_dict['time'] = candle['time']\n",
    "        new_dict['volume'] = candle['volume']\n",
    "        for price in prices:\n",
    "            for oh in ohlc:\n",
    "                new_dict[f\"{price}_{oh}\"] = candle[price][oh]\n",
    "        our_data.append(new_dict)\n",
    "    return pd.DataFrame.from_dict(our_data)"
   ]
  },
  {
   "cell_type": "code",
   "execution_count": 5,
   "metadata": {},
   "outputs": [],
   "source": [
    "def save_file(candles_df, pair, granularity):\n",
    "    candles_df.to_pickle(f\"../his_data/{pair}_{granularity}.pkl\")"
   ]
  },
  {
   "cell_type": "code",
   "execution_count": 6,
   "metadata": {},
   "outputs": [],
   "source": [
    "def create_data(pair, granularity):\n",
    "    json_data = api.fetch_candles(pair, 4000, granularity)\n",
    "    df = get_candles_df(json_data)\n",
    "    print(f\"{pair} loaded {df.shape[0]} candles from {df.time.min()} to {df.time.max()}\")\n",
    "    save_file(df, pair, granularity)\n",
    "\n"
   ]
  },
  {
   "cell_type": "code",
   "execution_count": 7,
   "metadata": {},
   "outputs": [
    {
     "name": "stdout",
     "output_type": "stream",
     "text": [
      "EUR_USD loaded 4000 candles from 2023-12-27T04:00:00.000000000Z to 2024-08-16T20:00:00.000000000Z\n",
      "EUR_GBP loaded 4000 candles from 2023-12-27T04:00:00.000000000Z to 2024-08-16T20:00:00.000000000Z\n",
      "EUR_JPY loaded 4000 candles from 2023-12-27T04:00:00.000000000Z to 2024-08-16T20:00:00.000000000Z\n",
      "EUR_CHF loaded 4000 candles from 2023-12-27T04:00:00.000000000Z to 2024-08-16T20:00:00.000000000Z\n",
      "EUR_NZD loaded 4000 candles from 2023-12-27T05:00:00.000000000Z to 2024-08-16T20:00:00.000000000Z\n",
      "EUR_CAD loaded 4000 candles from 2023-12-27T04:00:00.000000000Z to 2024-08-16T20:00:00.000000000Z\n",
      "USD_JPY loaded 4000 candles from 2023-12-27T04:00:00.000000000Z to 2024-08-16T20:00:00.000000000Z\n",
      "USD_CHF loaded 4000 candles from 2023-12-27T04:00:00.000000000Z to 2024-08-16T20:00:00.000000000Z\n",
      "USD_CAD loaded 4000 candles from 2023-12-27T04:00:00.000000000Z to 2024-08-16T20:00:00.000000000Z\n",
      "GBP_USD loaded 4000 candles from 2023-12-27T04:00:00.000000000Z to 2024-08-16T20:00:00.000000000Z\n",
      "GBP_JPY loaded 4000 candles from 2023-12-27T04:00:00.000000000Z to 2024-08-16T20:00:00.000000000Z\n",
      "GBP_CHF loaded 4000 candles from 2023-12-27T04:00:00.000000000Z to 2024-08-16T20:00:00.000000000Z\n",
      "GBP_NZD loaded 4000 candles from 2023-12-27T05:00:00.000000000Z to 2024-08-16T20:00:00.000000000Z\n",
      "GBP_CAD loaded 4000 candles from 2023-12-27T04:00:00.000000000Z to 2024-08-16T20:00:00.000000000Z\n",
      "CHF_JPY loaded 4000 candles from 2023-12-27T04:00:00.000000000Z to 2024-08-16T20:00:00.000000000Z\n",
      "NZD_USD loaded 4000 candles from 2023-12-27T05:00:00.000000000Z to 2024-08-16T20:00:00.000000000Z\n",
      "NZD_JPY loaded 4000 candles from 2023-12-27T05:00:00.000000000Z to 2024-08-16T20:00:00.000000000Z\n",
      "NZD_CHF loaded 4000 candles from 2023-12-27T04:00:00.000000000Z to 2024-08-16T20:00:00.000000000Z\n",
      "NZD_CAD loaded 4000 candles from 2023-12-27T05:00:00.000000000Z to 2024-08-16T20:00:00.000000000Z\n",
      "CAD_JPY loaded 4000 candles from 2023-12-27T04:00:00.000000000Z to 2024-08-16T20:00:00.000000000Z\n",
      "CAD_CHF loaded 4000 candles from 2023-12-27T04:00:00.000000000Z to 2024-08-16T20:00:00.000000000Z\n"
     ]
    }
   ],
   "source": [
    "for p1 in curr:\n",
    "    for p2 in curr:\n",
    "        pair = f\"{p1}_{p2}\"\n",
    "        if pair in ins_df.name.unique():\n",
    "            create_data(pair, \"H1\")"
   ]
  }
 ],
 "metadata": {
  "kernelspec": {
   "display_name": ".venv",
   "language": "python",
   "name": "python3"
  },
  "language_info": {
   "codemirror_mode": {
    "name": "ipython",
    "version": 3
   },
   "file_extension": ".py",
   "mimetype": "text/x-python",
   "name": "python",
   "nbconvert_exporter": "python",
   "pygments_lexer": "ipython3",
   "version": "3.12.4"
  }
 },
 "nbformat": 4,
 "nbformat_minor": 2
}
