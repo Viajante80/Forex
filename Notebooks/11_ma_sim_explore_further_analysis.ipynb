{
 "cells": [
  {
   "cell_type": "code",
   "execution_count": 24,
   "metadata": {},
   "outputs": [],
   "source": [
    "import pandas as pd\n",
    "import plotly.graph_objects as go"
   ]
  },
  {
   "cell_type": "code",
   "execution_count": 25,
   "metadata": {},
   "outputs": [],
   "source": [
    "ma_test_res = pd.read_pickle(\"../ma_test_res.pkl\")\n",
    "all_trades = pd.read_pickle(\"../all_trades.pkl\")"
   ]
  },
  {
   "cell_type": "code",
   "execution_count": 26,
   "metadata": {},
   "outputs": [
    {
     "data": {
      "text/plain": [
       "(64171, 11)"
      ]
     },
     "execution_count": 26,
     "metadata": {},
     "output_type": "execute_result"
    }
   ],
   "source": [
    "all_trades.shape"
   ]
  },
  {
   "cell_type": "code",
   "execution_count": 27,
   "metadata": {},
   "outputs": [
    {
     "data": {
      "text/plain": [
       "(630, 8)"
      ]
     },
     "execution_count": 27,
     "metadata": {},
     "output_type": "execute_result"
    }
   ],
   "source": [
    "ma_test_res.shape"
   ]
  },
  {
   "cell_type": "code",
   "execution_count": 28,
   "metadata": {},
   "outputs": [
    {
     "data": {
      "text/html": [
       "<div>\n",
       "<style scoped>\n",
       "    .dataframe tbody tr th:only-of-type {\n",
       "        vertical-align: middle;\n",
       "    }\n",
       "\n",
       "    .dataframe tbody tr th {\n",
       "        vertical-align: top;\n",
       "    }\n",
       "\n",
       "    .dataframe thead th {\n",
       "        text-align: right;\n",
       "    }\n",
       "</style>\n",
       "<table border=\"1\" class=\"dataframe\">\n",
       "  <thead>\n",
       "    <tr style=\"text-align: right;\">\n",
       "      <th></th>\n",
       "      <th>pair</th>\n",
       "      <th>num_trades</th>\n",
       "      <th>total_gain</th>\n",
       "      <th>mean_gain</th>\n",
       "      <th>min_gain</th>\n",
       "      <th>max_gain</th>\n",
       "      <th>mashort</th>\n",
       "      <th>malong</th>\n",
       "    </tr>\n",
       "  </thead>\n",
       "  <tbody>\n",
       "    <tr>\n",
       "      <th>0</th>\n",
       "      <td>GBP_USD</td>\n",
       "      <td>560</td>\n",
       "      <td>-3.4</td>\n",
       "      <td>-0.006071</td>\n",
       "      <td>-93.0</td>\n",
       "      <td>128.8</td>\n",
       "      <td>4</td>\n",
       "      <td>8</td>\n",
       "    </tr>\n",
       "    <tr>\n",
       "      <th>1</th>\n",
       "      <td>GBP_USD</td>\n",
       "      <td>331</td>\n",
       "      <td>-648.6</td>\n",
       "      <td>-1.959517</td>\n",
       "      <td>-77.6</td>\n",
       "      <td>168.0</td>\n",
       "      <td>4</td>\n",
       "      <td>16</td>\n",
       "    </tr>\n",
       "    <tr>\n",
       "      <th>2</th>\n",
       "      <td>GBP_USD</td>\n",
       "      <td>292</td>\n",
       "      <td>-1070.3</td>\n",
       "      <td>-3.665411</td>\n",
       "      <td>-112.2</td>\n",
       "      <td>156.0</td>\n",
       "      <td>8</td>\n",
       "      <td>16</td>\n",
       "    </tr>\n",
       "    <tr>\n",
       "      <th>3</th>\n",
       "      <td>GBP_USD</td>\n",
       "      <td>205</td>\n",
       "      <td>-1246.3</td>\n",
       "      <td>-6.079512</td>\n",
       "      <td>-77.6</td>\n",
       "      <td>156.7</td>\n",
       "      <td>4</td>\n",
       "      <td>32</td>\n",
       "    </tr>\n",
       "    <tr>\n",
       "      <th>4</th>\n",
       "      <td>GBP_USD</td>\n",
       "      <td>166</td>\n",
       "      <td>-1313.0</td>\n",
       "      <td>-7.909639</td>\n",
       "      <td>-116.4</td>\n",
       "      <td>159.7</td>\n",
       "      <td>8</td>\n",
       "      <td>32</td>\n",
       "    </tr>\n",
       "  </tbody>\n",
       "</table>\n",
       "</div>"
      ],
      "text/plain": [
       "      pair  num_trades  total_gain  mean_gain  min_gain  max_gain  mashort  \\\n",
       "0  GBP_USD         560        -3.4  -0.006071     -93.0     128.8        4   \n",
       "1  GBP_USD         331      -648.6  -1.959517     -77.6     168.0        4   \n",
       "2  GBP_USD         292     -1070.3  -3.665411    -112.2     156.0        8   \n",
       "3  GBP_USD         205     -1246.3  -6.079512     -77.6     156.7        4   \n",
       "4  GBP_USD         166     -1313.0  -7.909639    -116.4     159.7        8   \n",
       "\n",
       "   malong  \n",
       "0       8  \n",
       "1      16  \n",
       "2      16  \n",
       "3      32  \n",
       "4      32  "
      ]
     },
     "execution_count": 28,
     "metadata": {},
     "output_type": "execute_result"
    }
   ],
   "source": [
    "ma_test_res.head()"
   ]
  },
  {
   "cell_type": "code",
   "execution_count": 29,
   "metadata": {},
   "outputs": [
    {
     "data": {
      "text/plain": [
       "Index(['pair', 'num_trades', 'total_gain', 'mean_gain', 'min_gain', 'max_gain',\n",
       "       'mashort', 'malong'],\n",
       "      dtype='object')"
      ]
     },
     "execution_count": 29,
     "metadata": {},
     "output_type": "execute_result"
    }
   ],
   "source": [
    "ma_test_res.columns"
   ]
  },
  {
   "cell_type": "code",
   "execution_count": 30,
   "metadata": {},
   "outputs": [
    {
     "data": {
      "text/html": [
       "<div>\n",
       "<style scoped>\n",
       "    .dataframe tbody tr th:only-of-type {\n",
       "        vertical-align: middle;\n",
       "    }\n",
       "\n",
       "    .dataframe tbody tr th {\n",
       "        vertical-align: top;\n",
       "    }\n",
       "\n",
       "    .dataframe thead th {\n",
       "        text-align: right;\n",
       "    }\n",
       "</style>\n",
       "<table border=\"1\" class=\"dataframe\">\n",
       "  <thead>\n",
       "    <tr style=\"text-align: right;\">\n",
       "      <th></th>\n",
       "      <th>pair</th>\n",
       "      <th>num_trades</th>\n",
       "      <th>total_gain</th>\n",
       "      <th>mashort</th>\n",
       "      <th>malong</th>\n",
       "    </tr>\n",
       "  </thead>\n",
       "  <tbody>\n",
       "    <tr>\n",
       "      <th>0</th>\n",
       "      <td>GBP_USD</td>\n",
       "      <td>560</td>\n",
       "      <td>-3.4</td>\n",
       "      <td>4</td>\n",
       "      <td>8</td>\n",
       "    </tr>\n",
       "    <tr>\n",
       "      <th>1</th>\n",
       "      <td>GBP_USD</td>\n",
       "      <td>331</td>\n",
       "      <td>-648.6</td>\n",
       "      <td>4</td>\n",
       "      <td>16</td>\n",
       "    </tr>\n",
       "    <tr>\n",
       "      <th>2</th>\n",
       "      <td>GBP_USD</td>\n",
       "      <td>292</td>\n",
       "      <td>-1070.3</td>\n",
       "      <td>8</td>\n",
       "      <td>16</td>\n",
       "    </tr>\n",
       "    <tr>\n",
       "      <th>3</th>\n",
       "      <td>GBP_USD</td>\n",
       "      <td>205</td>\n",
       "      <td>-1246.3</td>\n",
       "      <td>4</td>\n",
       "      <td>32</td>\n",
       "    </tr>\n",
       "    <tr>\n",
       "      <th>4</th>\n",
       "      <td>GBP_USD</td>\n",
       "      <td>166</td>\n",
       "      <td>-1313.0</td>\n",
       "      <td>8</td>\n",
       "      <td>32</td>\n",
       "    </tr>\n",
       "  </tbody>\n",
       "</table>\n",
       "</div>"
      ],
      "text/plain": [
       "      pair  num_trades  total_gain  mashort  malong\n",
       "0  GBP_USD         560        -3.4        4       8\n",
       "1  GBP_USD         331      -648.6        4      16\n",
       "2  GBP_USD         292     -1070.3        8      16\n",
       "3  GBP_USD         205     -1246.3        4      32\n",
       "4  GBP_USD         166     -1313.0        8      32"
      ]
     },
     "execution_count": 30,
     "metadata": {},
     "output_type": "execute_result"
    }
   ],
   "source": [
    "ma_test_res = ma_test_res[['pair', 'num_trades', 'total_gain','mashort', 'malong']]\n",
    "ma_test_res.head()"
   ]
  },
  {
   "cell_type": "code",
   "execution_count": 31,
   "metadata": {},
   "outputs": [
    {
     "data": {
      "text/html": [
       "<div>\n",
       "<style scoped>\n",
       "    .dataframe tbody tr th:only-of-type {\n",
       "        vertical-align: middle;\n",
       "    }\n",
       "\n",
       "    .dataframe tbody tr th {\n",
       "        vertical-align: top;\n",
       "    }\n",
       "\n",
       "    .dataframe thead th {\n",
       "        text-align: right;\n",
       "    }\n",
       "</style>\n",
       "<table border=\"1\" class=\"dataframe\">\n",
       "  <thead>\n",
       "    <tr style=\"text-align: right;\">\n",
       "      <th></th>\n",
       "      <th>pair</th>\n",
       "      <th>num_trades</th>\n",
       "      <th>total_gain</th>\n",
       "      <th>mashort</th>\n",
       "      <th>malong</th>\n",
       "      <th>CROSS</th>\n",
       "    </tr>\n",
       "  </thead>\n",
       "  <tbody>\n",
       "    <tr>\n",
       "      <th>0</th>\n",
       "      <td>GBP_USD</td>\n",
       "      <td>560</td>\n",
       "      <td>-3.4</td>\n",
       "      <td>4</td>\n",
       "      <td>8</td>\n",
       "      <td>MA_4_8</td>\n",
       "    </tr>\n",
       "    <tr>\n",
       "      <th>1</th>\n",
       "      <td>GBP_USD</td>\n",
       "      <td>331</td>\n",
       "      <td>-648.6</td>\n",
       "      <td>4</td>\n",
       "      <td>16</td>\n",
       "      <td>MA_4_16</td>\n",
       "    </tr>\n",
       "    <tr>\n",
       "      <th>2</th>\n",
       "      <td>GBP_USD</td>\n",
       "      <td>292</td>\n",
       "      <td>-1070.3</td>\n",
       "      <td>8</td>\n",
       "      <td>16</td>\n",
       "      <td>MA_8_16</td>\n",
       "    </tr>\n",
       "    <tr>\n",
       "      <th>3</th>\n",
       "      <td>GBP_USD</td>\n",
       "      <td>205</td>\n",
       "      <td>-1246.3</td>\n",
       "      <td>4</td>\n",
       "      <td>32</td>\n",
       "      <td>MA_4_32</td>\n",
       "    </tr>\n",
       "    <tr>\n",
       "      <th>4</th>\n",
       "      <td>GBP_USD</td>\n",
       "      <td>166</td>\n",
       "      <td>-1313.0</td>\n",
       "      <td>8</td>\n",
       "      <td>32</td>\n",
       "      <td>MA_8_32</td>\n",
       "    </tr>\n",
       "  </tbody>\n",
       "</table>\n",
       "</div>"
      ],
      "text/plain": [
       "      pair  num_trades  total_gain  mashort  malong    CROSS\n",
       "0  GBP_USD         560        -3.4        4       8   MA_4_8\n",
       "1  GBP_USD         331      -648.6        4      16  MA_4_16\n",
       "2  GBP_USD         292     -1070.3        8      16  MA_8_16\n",
       "3  GBP_USD         205     -1246.3        4      32  MA_4_32\n",
       "4  GBP_USD         166     -1313.0        8      32  MA_8_32"
      ]
     },
     "execution_count": 31,
     "metadata": {},
     "output_type": "execute_result"
    }
   ],
   "source": [
    "ma_test_res[\"CROSS\"] = \"MA_\" + ma_test_res.mashort.map(str) + \"_\" + ma_test_res.malong.map(str)\n",
    "ma_test_res.head()"
   ]
  },
  {
   "cell_type": "code",
   "execution_count": 32,
   "metadata": {},
   "outputs": [
    {
     "data": {
      "text/html": [
       "<div>\n",
       "<style scoped>\n",
       "    .dataframe tbody tr th:only-of-type {\n",
       "        vertical-align: middle;\n",
       "    }\n",
       "\n",
       "    .dataframe tbody tr th {\n",
       "        vertical-align: top;\n",
       "    }\n",
       "\n",
       "    .dataframe thead th {\n",
       "        text-align: right;\n",
       "    }\n",
       "</style>\n",
       "<table border=\"1\" class=\"dataframe\">\n",
       "  <thead>\n",
       "    <tr style=\"text-align: right;\">\n",
       "      <th></th>\n",
       "      <th>CROSS</th>\n",
       "      <th>mashort</th>\n",
       "      <th>malong</th>\n",
       "      <th>pair</th>\n",
       "      <th>num_trades</th>\n",
       "      <th>total_gain</th>\n",
       "    </tr>\n",
       "  </thead>\n",
       "  <tbody>\n",
       "    <tr>\n",
       "      <th>0</th>\n",
       "      <td>MA_16_128</td>\n",
       "      <td>16</td>\n",
       "      <td>128</td>\n",
       "      <td>GBP_USDGBP_CADGBP_JPYGBP_NZDGBP_CHFEUR_GBPEUR_...</td>\n",
       "      <td>923</td>\n",
       "      <td>4249.2</td>\n",
       "    </tr>\n",
       "    <tr>\n",
       "      <th>1</th>\n",
       "      <td>MA_16_256</td>\n",
       "      <td>16</td>\n",
       "      <td>256</td>\n",
       "      <td>GBP_USDGBP_CADGBP_JPYGBP_NZDGBP_CHFEUR_GBPEUR_...</td>\n",
       "      <td>566</td>\n",
       "      <td>4999.7</td>\n",
       "    </tr>\n",
       "    <tr>\n",
       "      <th>2</th>\n",
       "      <td>MA_16_32</td>\n",
       "      <td>16</td>\n",
       "      <td>32</td>\n",
       "      <td>GBP_USDGBP_CADGBP_JPYGBP_NZDGBP_CHFEUR_GBPEUR_...</td>\n",
       "      <td>2913</td>\n",
       "      <td>658.0</td>\n",
       "    </tr>\n",
       "    <tr>\n",
       "      <th>3</th>\n",
       "      <td>MA_16_64</td>\n",
       "      <td>16</td>\n",
       "      <td>64</td>\n",
       "      <td>GBP_USDGBP_CADGBP_JPYGBP_NZDGBP_CHFEUR_GBPEUR_...</td>\n",
       "      <td>1531</td>\n",
       "      <td>1227.7</td>\n",
       "    </tr>\n",
       "    <tr>\n",
       "      <th>4</th>\n",
       "      <td>MA_16_96</td>\n",
       "      <td>16</td>\n",
       "      <td>96</td>\n",
       "      <td>GBP_USDGBP_CADGBP_JPYGBP_NZDGBP_CHFEUR_GBPEUR_...</td>\n",
       "      <td>1161</td>\n",
       "      <td>2237.7</td>\n",
       "    </tr>\n",
       "  </tbody>\n",
       "</table>\n",
       "</div>"
      ],
      "text/plain": [
       "       CROSS  mashort  malong  \\\n",
       "0  MA_16_128       16     128   \n",
       "1  MA_16_256       16     256   \n",
       "2   MA_16_32       16      32   \n",
       "3   MA_16_64       16      64   \n",
       "4   MA_16_96       16      96   \n",
       "\n",
       "                                                pair  num_trades  total_gain  \n",
       "0  GBP_USDGBP_CADGBP_JPYGBP_NZDGBP_CHFEUR_GBPEUR_...         923      4249.2  \n",
       "1  GBP_USDGBP_CADGBP_JPYGBP_NZDGBP_CHFEUR_GBPEUR_...         566      4999.7  \n",
       "2  GBP_USDGBP_CADGBP_JPYGBP_NZDGBP_CHFEUR_GBPEUR_...        2913       658.0  \n",
       "3  GBP_USDGBP_CADGBP_JPYGBP_NZDGBP_CHFEUR_GBPEUR_...        1531      1227.7  \n",
       "4  GBP_USDGBP_CADGBP_JPYGBP_NZDGBP_CHFEUR_GBPEUR_...        1161      2237.7  "
      ]
     },
     "execution_count": 32,
     "metadata": {},
     "output_type": "execute_result"
    }
   ],
   "source": [
    "df_all_gains = ma_test_res.groupby(by=[\"CROSS\", \"mashort\", \"malong\"], as_index=False).sum()\n",
    "df_all_gains.head()"
   ]
  },
  {
   "cell_type": "code",
   "execution_count": 33,
   "metadata": {},
   "outputs": [
    {
     "data": {
      "text/html": [
       "<div>\n",
       "<style scoped>\n",
       "    .dataframe tbody tr th:only-of-type {\n",
       "        vertical-align: middle;\n",
       "    }\n",
       "\n",
       "    .dataframe tbody tr th {\n",
       "        vertical-align: top;\n",
       "    }\n",
       "\n",
       "    .dataframe thead th {\n",
       "        text-align: right;\n",
       "    }\n",
       "</style>\n",
       "<table border=\"1\" class=\"dataframe\">\n",
       "  <thead>\n",
       "    <tr style=\"text-align: right;\">\n",
       "      <th></th>\n",
       "      <th>CROSS</th>\n",
       "      <th>mashort</th>\n",
       "      <th>malong</th>\n",
       "      <th>pair</th>\n",
       "      <th>num_trades</th>\n",
       "      <th>total_gain</th>\n",
       "    </tr>\n",
       "  </thead>\n",
       "  <tbody>\n",
       "    <tr>\n",
       "      <th>21</th>\n",
       "      <td>MA_64_128</td>\n",
       "      <td>64</td>\n",
       "      <td>128</td>\n",
       "      <td>GBP_USDGBP_CADGBP_JPYGBP_NZDGBP_CHFEUR_GBPEUR_...</td>\n",
       "      <td>632</td>\n",
       "      <td>9136.7</td>\n",
       "    </tr>\n",
       "    <tr>\n",
       "      <th>10</th>\n",
       "      <td>MA_32_128</td>\n",
       "      <td>32</td>\n",
       "      <td>128</td>\n",
       "      <td>GBP_USDGBP_CADGBP_JPYGBP_NZDGBP_CHFEUR_GBPEUR_...</td>\n",
       "      <td>695</td>\n",
       "      <td>6920.4</td>\n",
       "    </tr>\n",
       "    <tr>\n",
       "      <th>5</th>\n",
       "      <td>MA_24_128</td>\n",
       "      <td>24</td>\n",
       "      <td>128</td>\n",
       "      <td>GBP_USDGBP_CADGBP_JPYGBP_NZDGBP_CHFEUR_GBPEUR_...</td>\n",
       "      <td>773</td>\n",
       "      <td>6268.9</td>\n",
       "    </tr>\n",
       "    <tr>\n",
       "      <th>23</th>\n",
       "      <td>MA_64_96</td>\n",
       "      <td>64</td>\n",
       "      <td>96</td>\n",
       "      <td>GBP_USDGBP_CADGBP_JPYGBP_NZDGBP_CHFEUR_GBPEUR_...</td>\n",
       "      <td>930</td>\n",
       "      <td>5899.4</td>\n",
       "    </tr>\n",
       "    <tr>\n",
       "      <th>11</th>\n",
       "      <td>MA_32_256</td>\n",
       "      <td>32</td>\n",
       "      <td>256</td>\n",
       "      <td>GBP_USDGBP_CADGBP_JPYGBP_NZDGBP_CHFEUR_GBPEUR_...</td>\n",
       "      <td>432</td>\n",
       "      <td>5042.0</td>\n",
       "    </tr>\n",
       "    <tr>\n",
       "      <th>22</th>\n",
       "      <td>MA_64_256</td>\n",
       "      <td>64</td>\n",
       "      <td>256</td>\n",
       "      <td>GBP_USDGBP_CADGBP_JPYGBP_NZDGBP_CHFEUR_GBPEUR_...</td>\n",
       "      <td>342</td>\n",
       "      <td>5022.2</td>\n",
       "    </tr>\n",
       "    <tr>\n",
       "      <th>6</th>\n",
       "      <td>MA_24_256</td>\n",
       "      <td>24</td>\n",
       "      <td>256</td>\n",
       "      <td>GBP_USDGBP_CADGBP_JPYGBP_NZDGBP_CHFEUR_GBPEUR_...</td>\n",
       "      <td>489</td>\n",
       "      <td>5005.3</td>\n",
       "    </tr>\n",
       "    <tr>\n",
       "      <th>16</th>\n",
       "      <td>MA_4_256</td>\n",
       "      <td>4</td>\n",
       "      <td>256</td>\n",
       "      <td>GBP_USDGBP_CADGBP_JPYGBP_NZDGBP_CHFEUR_GBPEUR_...</td>\n",
       "      <td>1070</td>\n",
       "      <td>5005.0</td>\n",
       "    </tr>\n",
       "    <tr>\n",
       "      <th>26</th>\n",
       "      <td>MA_8_256</td>\n",
       "      <td>8</td>\n",
       "      <td>256</td>\n",
       "      <td>GBP_USDGBP_CADGBP_JPYGBP_NZDGBP_CHFEUR_GBPEUR_...</td>\n",
       "      <td>796</td>\n",
       "      <td>5001.5</td>\n",
       "    </tr>\n",
       "    <tr>\n",
       "      <th>1</th>\n",
       "      <td>MA_16_256</td>\n",
       "      <td>16</td>\n",
       "      <td>256</td>\n",
       "      <td>GBP_USDGBP_CADGBP_JPYGBP_NZDGBP_CHFEUR_GBPEUR_...</td>\n",
       "      <td>566</td>\n",
       "      <td>4999.7</td>\n",
       "    </tr>\n",
       "    <tr>\n",
       "      <th>0</th>\n",
       "      <td>MA_16_128</td>\n",
       "      <td>16</td>\n",
       "      <td>128</td>\n",
       "      <td>GBP_USDGBP_CADGBP_JPYGBP_NZDGBP_CHFEUR_GBPEUR_...</td>\n",
       "      <td>923</td>\n",
       "      <td>4249.2</td>\n",
       "    </tr>\n",
       "    <tr>\n",
       "      <th>13</th>\n",
       "      <td>MA_32_96</td>\n",
       "      <td>32</td>\n",
       "      <td>96</td>\n",
       "      <td>GBP_USDGBP_CADGBP_JPYGBP_NZDGBP_CHFEUR_GBPEUR_...</td>\n",
       "      <td>944</td>\n",
       "      <td>3814.9</td>\n",
       "    </tr>\n",
       "    <tr>\n",
       "      <th>8</th>\n",
       "      <td>MA_24_64</td>\n",
       "      <td>24</td>\n",
       "      <td>64</td>\n",
       "      <td>GBP_USDGBP_CADGBP_JPYGBP_NZDGBP_CHFEUR_GBPEUR_...</td>\n",
       "      <td>1431</td>\n",
       "      <td>3121.4</td>\n",
       "    </tr>\n",
       "    <tr>\n",
       "      <th>7</th>\n",
       "      <td>MA_24_32</td>\n",
       "      <td>24</td>\n",
       "      <td>32</td>\n",
       "      <td>GBP_USDGBP_CADGBP_JPYGBP_NZDGBP_CHFEUR_GBPEUR_...</td>\n",
       "      <td>3255</td>\n",
       "      <td>3003.2</td>\n",
       "    </tr>\n",
       "    <tr>\n",
       "      <th>12</th>\n",
       "      <td>MA_32_64</td>\n",
       "      <td>32</td>\n",
       "      <td>64</td>\n",
       "      <td>GBP_USDGBP_CADGBP_JPYGBP_NZDGBP_CHFEUR_GBPEUR_...</td>\n",
       "      <td>1365</td>\n",
       "      <td>2872.3</td>\n",
       "    </tr>\n",
       "    <tr>\n",
       "      <th>9</th>\n",
       "      <td>MA_24_96</td>\n",
       "      <td>24</td>\n",
       "      <td>96</td>\n",
       "      <td>GBP_USDGBP_CADGBP_JPYGBP_NZDGBP_CHFEUR_GBPEUR_...</td>\n",
       "      <td>1024</td>\n",
       "      <td>2688.5</td>\n",
       "    </tr>\n",
       "    <tr>\n",
       "      <th>4</th>\n",
       "      <td>MA_16_96</td>\n",
       "      <td>16</td>\n",
       "      <td>96</td>\n",
       "      <td>GBP_USDGBP_CADGBP_JPYGBP_NZDGBP_CHFEUR_GBPEUR_...</td>\n",
       "      <td>1161</td>\n",
       "      <td>2237.7</td>\n",
       "    </tr>\n",
       "    <tr>\n",
       "      <th>28</th>\n",
       "      <td>MA_8_64</td>\n",
       "      <td>8</td>\n",
       "      <td>64</td>\n",
       "      <td>GBP_USDGBP_CADGBP_JPYGBP_NZDGBP_CHFEUR_GBPEUR_...</td>\n",
       "      <td>1961</td>\n",
       "      <td>1332.5</td>\n",
       "    </tr>\n",
       "    <tr>\n",
       "      <th>3</th>\n",
       "      <td>MA_16_64</td>\n",
       "      <td>16</td>\n",
       "      <td>64</td>\n",
       "      <td>GBP_USDGBP_CADGBP_JPYGBP_NZDGBP_CHFEUR_GBPEUR_...</td>\n",
       "      <td>1531</td>\n",
       "      <td>1227.7</td>\n",
       "    </tr>\n",
       "    <tr>\n",
       "      <th>29</th>\n",
       "      <td>MA_8_96</td>\n",
       "      <td>8</td>\n",
       "      <td>96</td>\n",
       "      <td>GBP_USDGBP_CADGBP_JPYGBP_NZDGBP_CHFEUR_GBPEUR_...</td>\n",
       "      <td>1514</td>\n",
       "      <td>787.0</td>\n",
       "    </tr>\n",
       "  </tbody>\n",
       "</table>\n",
       "</div>"
      ],
      "text/plain": [
       "        CROSS  mashort  malong  \\\n",
       "21  MA_64_128       64     128   \n",
       "10  MA_32_128       32     128   \n",
       "5   MA_24_128       24     128   \n",
       "23   MA_64_96       64      96   \n",
       "11  MA_32_256       32     256   \n",
       "22  MA_64_256       64     256   \n",
       "6   MA_24_256       24     256   \n",
       "16   MA_4_256        4     256   \n",
       "26   MA_8_256        8     256   \n",
       "1   MA_16_256       16     256   \n",
       "0   MA_16_128       16     128   \n",
       "13   MA_32_96       32      96   \n",
       "8    MA_24_64       24      64   \n",
       "7    MA_24_32       24      32   \n",
       "12   MA_32_64       32      64   \n",
       "9    MA_24_96       24      96   \n",
       "4    MA_16_96       16      96   \n",
       "28    MA_8_64        8      64   \n",
       "3    MA_16_64       16      64   \n",
       "29    MA_8_96        8      96   \n",
       "\n",
       "                                                 pair  num_trades  total_gain  \n",
       "21  GBP_USDGBP_CADGBP_JPYGBP_NZDGBP_CHFEUR_GBPEUR_...         632      9136.7  \n",
       "10  GBP_USDGBP_CADGBP_JPYGBP_NZDGBP_CHFEUR_GBPEUR_...         695      6920.4  \n",
       "5   GBP_USDGBP_CADGBP_JPYGBP_NZDGBP_CHFEUR_GBPEUR_...         773      6268.9  \n",
       "23  GBP_USDGBP_CADGBP_JPYGBP_NZDGBP_CHFEUR_GBPEUR_...         930      5899.4  \n",
       "11  GBP_USDGBP_CADGBP_JPYGBP_NZDGBP_CHFEUR_GBPEUR_...         432      5042.0  \n",
       "22  GBP_USDGBP_CADGBP_JPYGBP_NZDGBP_CHFEUR_GBPEUR_...         342      5022.2  \n",
       "6   GBP_USDGBP_CADGBP_JPYGBP_NZDGBP_CHFEUR_GBPEUR_...         489      5005.3  \n",
       "16  GBP_USDGBP_CADGBP_JPYGBP_NZDGBP_CHFEUR_GBPEUR_...        1070      5005.0  \n",
       "26  GBP_USDGBP_CADGBP_JPYGBP_NZDGBP_CHFEUR_GBPEUR_...         796      5001.5  \n",
       "1   GBP_USDGBP_CADGBP_JPYGBP_NZDGBP_CHFEUR_GBPEUR_...         566      4999.7  \n",
       "0   GBP_USDGBP_CADGBP_JPYGBP_NZDGBP_CHFEUR_GBPEUR_...         923      4249.2  \n",
       "13  GBP_USDGBP_CADGBP_JPYGBP_NZDGBP_CHFEUR_GBPEUR_...         944      3814.9  \n",
       "8   GBP_USDGBP_CADGBP_JPYGBP_NZDGBP_CHFEUR_GBPEUR_...        1431      3121.4  \n",
       "7   GBP_USDGBP_CADGBP_JPYGBP_NZDGBP_CHFEUR_GBPEUR_...        3255      3003.2  \n",
       "12  GBP_USDGBP_CADGBP_JPYGBP_NZDGBP_CHFEUR_GBPEUR_...        1365      2872.3  \n",
       "9   GBP_USDGBP_CADGBP_JPYGBP_NZDGBP_CHFEUR_GBPEUR_...        1024      2688.5  \n",
       "4   GBP_USDGBP_CADGBP_JPYGBP_NZDGBP_CHFEUR_GBPEUR_...        1161      2237.7  \n",
       "28  GBP_USDGBP_CADGBP_JPYGBP_NZDGBP_CHFEUR_GBPEUR_...        1961      1332.5  \n",
       "3   GBP_USDGBP_CADGBP_JPYGBP_NZDGBP_CHFEUR_GBPEUR_...        1531      1227.7  \n",
       "29  GBP_USDGBP_CADGBP_JPYGBP_NZDGBP_CHFEUR_GBPEUR_...        1514       787.0  "
      ]
     },
     "execution_count": 33,
     "metadata": {},
     "output_type": "execute_result"
    }
   ],
   "source": [
    "df_all_gains.sort_values(by=\"total_gain\", ascending=False, inplace=True)\n",
    "df_all_gains.head(20)"
   ]
  },
  {
   "cell_type": "code",
   "execution_count": 34,
   "metadata": {},
   "outputs": [
    {
     "data": {
      "text/html": [
       "<div>\n",
       "<style scoped>\n",
       "    .dataframe tbody tr th:only-of-type {\n",
       "        vertical-align: middle;\n",
       "    }\n",
       "\n",
       "    .dataframe tbody tr th {\n",
       "        vertical-align: top;\n",
       "    }\n",
       "\n",
       "    .dataframe thead th {\n",
       "        text-align: right;\n",
       "    }\n",
       "</style>\n",
       "<table border=\"1\" class=\"dataframe\">\n",
       "  <thead>\n",
       "    <tr style=\"text-align: right;\">\n",
       "      <th></th>\n",
       "      <th>pair</th>\n",
       "      <th>num_trades</th>\n",
       "      <th>total_gain</th>\n",
       "      <th>mashort</th>\n",
       "      <th>malong</th>\n",
       "      <th>CROSS</th>\n",
       "    </tr>\n",
       "  </thead>\n",
       "  <tbody>\n",
       "    <tr>\n",
       "      <th>23</th>\n",
       "      <td>GBP_USD</td>\n",
       "      <td>34</td>\n",
       "      <td>-270.6</td>\n",
       "      <td>64</td>\n",
       "      <td>128</td>\n",
       "      <td>MA_64_128</td>\n",
       "    </tr>\n",
       "    <tr>\n",
       "      <th>53</th>\n",
       "      <td>GBP_CAD</td>\n",
       "      <td>35</td>\n",
       "      <td>254.3</td>\n",
       "      <td>64</td>\n",
       "      <td>128</td>\n",
       "      <td>MA_64_128</td>\n",
       "    </tr>\n",
       "    <tr>\n",
       "      <th>83</th>\n",
       "      <td>GBP_JPY</td>\n",
       "      <td>26</td>\n",
       "      <td>2388.9</td>\n",
       "      <td>64</td>\n",
       "      <td>128</td>\n",
       "      <td>MA_64_128</td>\n",
       "    </tr>\n",
       "    <tr>\n",
       "      <th>113</th>\n",
       "      <td>GBP_NZD</td>\n",
       "      <td>27</td>\n",
       "      <td>309.9</td>\n",
       "      <td>64</td>\n",
       "      <td>128</td>\n",
       "      <td>MA_64_128</td>\n",
       "    </tr>\n",
       "    <tr>\n",
       "      <th>143</th>\n",
       "      <td>GBP_CHF</td>\n",
       "      <td>22</td>\n",
       "      <td>1073.7</td>\n",
       "      <td>64</td>\n",
       "      <td>128</td>\n",
       "      <td>MA_64_128</td>\n",
       "    </tr>\n",
       "    <tr>\n",
       "      <th>173</th>\n",
       "      <td>EUR_GBP</td>\n",
       "      <td>35</td>\n",
       "      <td>-48.2</td>\n",
       "      <td>64</td>\n",
       "      <td>128</td>\n",
       "      <td>MA_64_128</td>\n",
       "    </tr>\n",
       "    <tr>\n",
       "      <th>203</th>\n",
       "      <td>EUR_USD</td>\n",
       "      <td>34</td>\n",
       "      <td>-428.0</td>\n",
       "      <td>64</td>\n",
       "      <td>128</td>\n",
       "      <td>MA_64_128</td>\n",
       "    </tr>\n",
       "    <tr>\n",
       "      <th>233</th>\n",
       "      <td>EUR_CAD</td>\n",
       "      <td>36</td>\n",
       "      <td>-72.3</td>\n",
       "      <td>64</td>\n",
       "      <td>128</td>\n",
       "      <td>MA_64_128</td>\n",
       "    </tr>\n",
       "    <tr>\n",
       "      <th>263</th>\n",
       "      <td>EUR_JPY</td>\n",
       "      <td>18</td>\n",
       "      <td>1833.0</td>\n",
       "      <td>64</td>\n",
       "      <td>128</td>\n",
       "      <td>MA_64_128</td>\n",
       "    </tr>\n",
       "    <tr>\n",
       "      <th>293</th>\n",
       "      <td>EUR_NZD</td>\n",
       "      <td>30</td>\n",
       "      <td>-916.9</td>\n",
       "      <td>64</td>\n",
       "      <td>128</td>\n",
       "      <td>MA_64_128</td>\n",
       "    </tr>\n",
       "  </tbody>\n",
       "</table>\n",
       "</div>"
      ],
      "text/plain": [
       "        pair  num_trades  total_gain  mashort  malong      CROSS\n",
       "23   GBP_USD          34      -270.6       64     128  MA_64_128\n",
       "53   GBP_CAD          35       254.3       64     128  MA_64_128\n",
       "83   GBP_JPY          26      2388.9       64     128  MA_64_128\n",
       "113  GBP_NZD          27       309.9       64     128  MA_64_128\n",
       "143  GBP_CHF          22      1073.7       64     128  MA_64_128\n",
       "173  EUR_GBP          35       -48.2       64     128  MA_64_128\n",
       "203  EUR_USD          34      -428.0       64     128  MA_64_128\n",
       "233  EUR_CAD          36       -72.3       64     128  MA_64_128\n",
       "263  EUR_JPY          18      1833.0       64     128  MA_64_128\n",
       "293  EUR_NZD          30      -916.9       64     128  MA_64_128"
      ]
     },
     "execution_count": 34,
     "metadata": {},
     "output_type": "execute_result"
    }
   ],
   "source": [
    "MA_64_128 = ma_test_res[ma_test_res.CROSS=='MA_64_128'].copy()\n",
    "MA_64_128.head(10)"
   ]
  },
  {
   "cell_type": "code",
   "execution_count": 35,
   "metadata": {},
   "outputs": [
    {
     "data": {
      "text/html": [
       "<div>\n",
       "<style scoped>\n",
       "    .dataframe tbody tr th:only-of-type {\n",
       "        vertical-align: middle;\n",
       "    }\n",
       "\n",
       "    .dataframe tbody tr th {\n",
       "        vertical-align: top;\n",
       "    }\n",
       "\n",
       "    .dataframe thead th {\n",
       "        text-align: right;\n",
       "    }\n",
       "</style>\n",
       "<table border=\"1\" class=\"dataframe\">\n",
       "  <thead>\n",
       "    <tr style=\"text-align: right;\">\n",
       "      <th></th>\n",
       "      <th>pair</th>\n",
       "      <th>num_trades</th>\n",
       "      <th>total_gain</th>\n",
       "      <th>mashort</th>\n",
       "      <th>malong</th>\n",
       "      <th>CROSS</th>\n",
       "    </tr>\n",
       "  </thead>\n",
       "  <tbody>\n",
       "    <tr>\n",
       "      <th>83</th>\n",
       "      <td>GBP_JPY</td>\n",
       "      <td>26</td>\n",
       "      <td>2388.9</td>\n",
       "      <td>64</td>\n",
       "      <td>128</td>\n",
       "      <td>MA_64_128</td>\n",
       "    </tr>\n",
       "    <tr>\n",
       "      <th>263</th>\n",
       "      <td>EUR_JPY</td>\n",
       "      <td>18</td>\n",
       "      <td>1833.0</td>\n",
       "      <td>64</td>\n",
       "      <td>128</td>\n",
       "      <td>MA_64_128</td>\n",
       "    </tr>\n",
       "    <tr>\n",
       "      <th>443</th>\n",
       "      <td>CAD_JPY</td>\n",
       "      <td>28</td>\n",
       "      <td>1435.8</td>\n",
       "      <td>64</td>\n",
       "      <td>128</td>\n",
       "      <td>MA_64_128</td>\n",
       "    </tr>\n",
       "    <tr>\n",
       "      <th>563</th>\n",
       "      <td>NZD_JPY</td>\n",
       "      <td>28</td>\n",
       "      <td>1142.4</td>\n",
       "      <td>64</td>\n",
       "      <td>128</td>\n",
       "      <td>MA_64_128</td>\n",
       "    </tr>\n",
       "    <tr>\n",
       "      <th>143</th>\n",
       "      <td>GBP_CHF</td>\n",
       "      <td>22</td>\n",
       "      <td>1073.7</td>\n",
       "      <td>64</td>\n",
       "      <td>128</td>\n",
       "      <td>MA_64_128</td>\n",
       "    </tr>\n",
       "    <tr>\n",
       "      <th>383</th>\n",
       "      <td>USD_JPY</td>\n",
       "      <td>27</td>\n",
       "      <td>1056.4</td>\n",
       "      <td>64</td>\n",
       "      <td>128</td>\n",
       "      <td>MA_64_128</td>\n",
       "    </tr>\n",
       "    <tr>\n",
       "      <th>323</th>\n",
       "      <td>EUR_CHF</td>\n",
       "      <td>22</td>\n",
       "      <td>809.0</td>\n",
       "      <td>64</td>\n",
       "      <td>128</td>\n",
       "      <td>MA_64_128</td>\n",
       "    </tr>\n",
       "    <tr>\n",
       "      <th>623</th>\n",
       "      <td>CHF_JPY</td>\n",
       "      <td>34</td>\n",
       "      <td>708.6</td>\n",
       "      <td>64</td>\n",
       "      <td>128</td>\n",
       "      <td>MA_64_128</td>\n",
       "    </tr>\n",
       "    <tr>\n",
       "      <th>473</th>\n",
       "      <td>CAD_CHF</td>\n",
       "      <td>32</td>\n",
       "      <td>347.6</td>\n",
       "      <td>64</td>\n",
       "      <td>128</td>\n",
       "      <td>MA_64_128</td>\n",
       "    </tr>\n",
       "    <tr>\n",
       "      <th>113</th>\n",
       "      <td>GBP_NZD</td>\n",
       "      <td>27</td>\n",
       "      <td>309.9</td>\n",
       "      <td>64</td>\n",
       "      <td>128</td>\n",
       "      <td>MA_64_128</td>\n",
       "    </tr>\n",
       "    <tr>\n",
       "      <th>53</th>\n",
       "      <td>GBP_CAD</td>\n",
       "      <td>35</td>\n",
       "      <td>254.3</td>\n",
       "      <td>64</td>\n",
       "      <td>128</td>\n",
       "      <td>MA_64_128</td>\n",
       "    </tr>\n",
       "    <tr>\n",
       "      <th>593</th>\n",
       "      <td>NZD_CHF</td>\n",
       "      <td>27</td>\n",
       "      <td>196.8</td>\n",
       "      <td>64</td>\n",
       "      <td>128</td>\n",
       "      <td>MA_64_128</td>\n",
       "    </tr>\n",
       "    <tr>\n",
       "      <th>413</th>\n",
       "      <td>USD_CHF</td>\n",
       "      <td>33</td>\n",
       "      <td>-9.8</td>\n",
       "      <td>64</td>\n",
       "      <td>128</td>\n",
       "      <td>MA_64_128</td>\n",
       "    </tr>\n",
       "    <tr>\n",
       "      <th>533</th>\n",
       "      <td>NZD_CAD</td>\n",
       "      <td>33</td>\n",
       "      <td>-20.4</td>\n",
       "      <td>64</td>\n",
       "      <td>128</td>\n",
       "      <td>MA_64_128</td>\n",
       "    </tr>\n",
       "    <tr>\n",
       "      <th>503</th>\n",
       "      <td>NZD_USD</td>\n",
       "      <td>35</td>\n",
       "      <td>-39.3</td>\n",
       "      <td>64</td>\n",
       "      <td>128</td>\n",
       "      <td>MA_64_128</td>\n",
       "    </tr>\n",
       "    <tr>\n",
       "      <th>173</th>\n",
       "      <td>EUR_GBP</td>\n",
       "      <td>35</td>\n",
       "      <td>-48.2</td>\n",
       "      <td>64</td>\n",
       "      <td>128</td>\n",
       "      <td>MA_64_128</td>\n",
       "    </tr>\n",
       "    <tr>\n",
       "      <th>233</th>\n",
       "      <td>EUR_CAD</td>\n",
       "      <td>36</td>\n",
       "      <td>-72.3</td>\n",
       "      <td>64</td>\n",
       "      <td>128</td>\n",
       "      <td>MA_64_128</td>\n",
       "    </tr>\n",
       "    <tr>\n",
       "      <th>23</th>\n",
       "      <td>GBP_USD</td>\n",
       "      <td>34</td>\n",
       "      <td>-270.6</td>\n",
       "      <td>64</td>\n",
       "      <td>128</td>\n",
       "      <td>MA_64_128</td>\n",
       "    </tr>\n",
       "    <tr>\n",
       "      <th>203</th>\n",
       "      <td>EUR_USD</td>\n",
       "      <td>34</td>\n",
       "      <td>-428.0</td>\n",
       "      <td>64</td>\n",
       "      <td>128</td>\n",
       "      <td>MA_64_128</td>\n",
       "    </tr>\n",
       "    <tr>\n",
       "      <th>353</th>\n",
       "      <td>USD_CAD</td>\n",
       "      <td>36</td>\n",
       "      <td>-614.2</td>\n",
       "      <td>64</td>\n",
       "      <td>128</td>\n",
       "      <td>MA_64_128</td>\n",
       "    </tr>\n",
       "  </tbody>\n",
       "</table>\n",
       "</div>"
      ],
      "text/plain": [
       "        pair  num_trades  total_gain  mashort  malong      CROSS\n",
       "83   GBP_JPY          26      2388.9       64     128  MA_64_128\n",
       "263  EUR_JPY          18      1833.0       64     128  MA_64_128\n",
       "443  CAD_JPY          28      1435.8       64     128  MA_64_128\n",
       "563  NZD_JPY          28      1142.4       64     128  MA_64_128\n",
       "143  GBP_CHF          22      1073.7       64     128  MA_64_128\n",
       "383  USD_JPY          27      1056.4       64     128  MA_64_128\n",
       "323  EUR_CHF          22       809.0       64     128  MA_64_128\n",
       "623  CHF_JPY          34       708.6       64     128  MA_64_128\n",
       "473  CAD_CHF          32       347.6       64     128  MA_64_128\n",
       "113  GBP_NZD          27       309.9       64     128  MA_64_128\n",
       "53   GBP_CAD          35       254.3       64     128  MA_64_128\n",
       "593  NZD_CHF          27       196.8       64     128  MA_64_128\n",
       "413  USD_CHF          33        -9.8       64     128  MA_64_128\n",
       "533  NZD_CAD          33       -20.4       64     128  MA_64_128\n",
       "503  NZD_USD          35       -39.3       64     128  MA_64_128\n",
       "173  EUR_GBP          35       -48.2       64     128  MA_64_128\n",
       "233  EUR_CAD          36       -72.3       64     128  MA_64_128\n",
       "23   GBP_USD          34      -270.6       64     128  MA_64_128\n",
       "203  EUR_USD          34      -428.0       64     128  MA_64_128\n",
       "353  USD_CAD          36      -614.2       64     128  MA_64_128"
      ]
     },
     "execution_count": 35,
     "metadata": {},
     "output_type": "execute_result"
    }
   ],
   "source": [
    "MA_64_128.sort_values(by=\"total_gain\", ascending=False, inplace=True)\n",
    "MA_64_128.head(20)"
   ]
  },
  {
   "cell_type": "code",
   "execution_count": 36,
   "metadata": {},
   "outputs": [
    {
     "data": {
      "text/plain": [
       "array(['GBP_JPY', 'EUR_JPY', 'CAD_JPY', 'NZD_JPY', 'GBP_CHF', 'USD_JPY',\n",
       "       'EUR_CHF', 'CHF_JPY', 'CAD_CHF', 'GBP_NZD', 'GBP_CAD', 'NZD_CHF',\n",
       "       'USD_CHF', 'NZD_CAD', 'NZD_USD', 'EUR_GBP', 'EUR_CAD', 'GBP_USD',\n",
       "       'EUR_USD', 'USD_CAD', 'EUR_NZD'], dtype=object)"
      ]
     },
     "execution_count": 36,
     "metadata": {},
     "output_type": "execute_result"
    }
   ],
   "source": [
    "MA_64_128.pair.unique()"
   ]
  },
  {
   "cell_type": "code",
   "execution_count": 37,
   "metadata": {},
   "outputs": [
    {
     "data": {
      "text/plain": [
       "21"
      ]
     },
     "execution_count": 37,
     "metadata": {},
     "output_type": "execute_result"
    }
   ],
   "source": [
    "total_p = len(MA_64_128.pair.unique())\n",
    "total_p"
   ]
  },
  {
   "cell_type": "code",
   "execution_count": 38,
   "metadata": {},
   "outputs": [
    {
     "data": {
      "text/plain": [
       "12"
      ]
     },
     "execution_count": 38,
     "metadata": {},
     "output_type": "execute_result"
    }
   ],
   "source": [
    "MA_64_128[MA_64_128.total_gain>0].shape[0]"
   ]
  },
  {
   "cell_type": "code",
   "execution_count": 39,
   "metadata": {},
   "outputs": [
    {
     "data": {
      "text/plain": [
       "0.6190476190476191"
      ]
     },
     "execution_count": 39,
     "metadata": {},
     "output_type": "execute_result"
    }
   ],
   "source": [
    "13 / total_p"
   ]
  },
  {
   "cell_type": "code",
   "execution_count": 40,
   "metadata": {},
   "outputs": [
    {
     "name": "stdout",
     "output_type": "stream",
     "text": [
      "MA_64_128      12   57%\n",
      "MA_32_128      13   62%\n",
      "MA_24_128      14   67%\n",
      "MA_64_96       11   52%\n",
      "MA_32_256      13   62%\n",
      "MA_64_256      14   67%\n",
      "MA_24_256      13   62%\n",
      "MA_4_256       14   67%\n",
      "MA_8_256       14   67%\n",
      "MA_16_256      13   62%\n",
      "MA_16_128      13   62%\n",
      "MA_32_96       13   62%\n",
      "MA_24_64        9   43%\n",
      "MA_24_32       12   57%\n",
      "MA_32_64       13   62%\n",
      "MA_24_96       14   67%\n",
      "MA_16_96       11   52%\n",
      "MA_8_64        12   57%\n",
      "MA_16_64       10   48%\n",
      "MA_8_96        11   52%\n",
      "MA_8_128       10   48%\n",
      "MA_16_32       12   57%\n",
      "MA_4_128       10   48%\n",
      "MA_4_96         8   38%\n",
      "MA_4_64         9   43%\n",
      "MA_8_32         8   38%\n",
      "MA_8_16         8   38%\n",
      "MA_4_16        10   48%\n",
      "MA_4_32         7   33%\n",
      "MA_4_8          8   38%\n"
     ]
    }
   ],
   "source": [
    "for cross in df_all_gains.CROSS.unique():\n",
    "    df_temp = ma_test_res[ma_test_res.CROSS==cross]\n",
    "    total_p = df_temp.shape[0]\n",
    "    n_good = df_temp[df_temp.total_gain>0].shape[0]\n",
    "    print(f\"{cross:12} {n_good:4} {(n_good/total_p)*100:4.0f}%\")"
   ]
  },
  {
   "cell_type": "code",
   "execution_count": 41,
   "metadata": {},
   "outputs": [
    {
     "data": {
      "text/plain": [
       "array(['MA_64_128', 'MA_32_128', 'MA_24_128'], dtype=object)"
      ]
     },
     "execution_count": 41,
     "metadata": {},
     "output_type": "execute_result"
    }
   ],
   "source": [
    "crosses = df_all_gains.CROSS.unique()[:3]\n",
    "crosses"
   ]
  },
  {
   "cell_type": "code",
   "execution_count": 42,
   "metadata": {},
   "outputs": [
    {
     "data": {
      "text/html": [
       "<div>\n",
       "<style scoped>\n",
       "    .dataframe tbody tr th:only-of-type {\n",
       "        vertical-align: middle;\n",
       "    }\n",
       "\n",
       "    .dataframe tbody tr th {\n",
       "        vertical-align: top;\n",
       "    }\n",
       "\n",
       "    .dataframe thead th {\n",
       "        text-align: right;\n",
       "    }\n",
       "</style>\n",
       "<table border=\"1\" class=\"dataframe\">\n",
       "  <thead>\n",
       "    <tr style=\"text-align: right;\">\n",
       "      <th></th>\n",
       "      <th>pair</th>\n",
       "      <th>num_trades</th>\n",
       "      <th>total_gain</th>\n",
       "      <th>mashort</th>\n",
       "      <th>malong</th>\n",
       "      <th>CROSS</th>\n",
       "    </tr>\n",
       "  </thead>\n",
       "  <tbody>\n",
       "    <tr>\n",
       "      <th>0</th>\n",
       "      <td>GBP_USD</td>\n",
       "      <td>560</td>\n",
       "      <td>-3.4</td>\n",
       "      <td>4</td>\n",
       "      <td>8</td>\n",
       "      <td>MA_4_8</td>\n",
       "    </tr>\n",
       "    <tr>\n",
       "      <th>1</th>\n",
       "      <td>GBP_USD</td>\n",
       "      <td>331</td>\n",
       "      <td>-648.6</td>\n",
       "      <td>4</td>\n",
       "      <td>16</td>\n",
       "      <td>MA_4_16</td>\n",
       "    </tr>\n",
       "  </tbody>\n",
       "</table>\n",
       "</div>"
      ],
      "text/plain": [
       "      pair  num_trades  total_gain  mashort  malong    CROSS\n",
       "0  GBP_USD         560        -3.4        4       8   MA_4_8\n",
       "1  GBP_USD         331      -648.6        4      16  MA_4_16"
      ]
     },
     "execution_count": 42,
     "metadata": {},
     "output_type": "execute_result"
    }
   ],
   "source": [
    "ma_test_res.head(2)"
   ]
  },
  {
   "cell_type": "code",
   "execution_count": 43,
   "metadata": {},
   "outputs": [
    {
     "data": {
      "text/html": [
       "<div>\n",
       "<style scoped>\n",
       "    .dataframe tbody tr th:only-of-type {\n",
       "        vertical-align: middle;\n",
       "    }\n",
       "\n",
       "    .dataframe tbody tr th {\n",
       "        vertical-align: top;\n",
       "    }\n",
       "\n",
       "    .dataframe thead th {\n",
       "        text-align: right;\n",
       "    }\n",
       "</style>\n",
       "<table border=\"1\" class=\"dataframe\">\n",
       "  <thead>\n",
       "    <tr style=\"text-align: right;\">\n",
       "      <th></th>\n",
       "      <th>pair</th>\n",
       "      <th>num_trades</th>\n",
       "      <th>total_gain</th>\n",
       "      <th>mashort</th>\n",
       "      <th>malong</th>\n",
       "      <th>CROSS</th>\n",
       "    </tr>\n",
       "  </thead>\n",
       "  <tbody>\n",
       "    <tr>\n",
       "      <th>51</th>\n",
       "      <td>GBP_CAD</td>\n",
       "      <td>43</td>\n",
       "      <td>155.8</td>\n",
       "      <td>24</td>\n",
       "      <td>128</td>\n",
       "      <td>MA_24_128</td>\n",
       "    </tr>\n",
       "    <tr>\n",
       "      <th>52</th>\n",
       "      <td>GBP_CAD</td>\n",
       "      <td>39</td>\n",
       "      <td>269.8</td>\n",
       "      <td>32</td>\n",
       "      <td>128</td>\n",
       "      <td>MA_32_128</td>\n",
       "    </tr>\n",
       "    <tr>\n",
       "      <th>53</th>\n",
       "      <td>GBP_CAD</td>\n",
       "      <td>35</td>\n",
       "      <td>254.3</td>\n",
       "      <td>64</td>\n",
       "      <td>128</td>\n",
       "      <td>MA_64_128</td>\n",
       "    </tr>\n",
       "    <tr>\n",
       "      <th>81</th>\n",
       "      <td>GBP_JPY</td>\n",
       "      <td>31</td>\n",
       "      <td>1715.2</td>\n",
       "      <td>24</td>\n",
       "      <td>128</td>\n",
       "      <td>MA_24_128</td>\n",
       "    </tr>\n",
       "    <tr>\n",
       "      <th>82</th>\n",
       "      <td>GBP_JPY</td>\n",
       "      <td>27</td>\n",
       "      <td>2044.8</td>\n",
       "      <td>32</td>\n",
       "      <td>128</td>\n",
       "      <td>MA_32_128</td>\n",
       "    </tr>\n",
       "  </tbody>\n",
       "</table>\n",
       "</div>"
      ],
      "text/plain": [
       "       pair  num_trades  total_gain  mashort  malong      CROSS\n",
       "51  GBP_CAD          43       155.8       24     128  MA_24_128\n",
       "52  GBP_CAD          39       269.8       32     128  MA_32_128\n",
       "53  GBP_CAD          35       254.3       64     128  MA_64_128\n",
       "81  GBP_JPY          31      1715.2       24     128  MA_24_128\n",
       "82  GBP_JPY          27      2044.8       32     128  MA_32_128"
      ]
     },
     "execution_count": 43,
     "metadata": {},
     "output_type": "execute_result"
    }
   ],
   "source": [
    "df_good = ma_test_res[(ma_test_res.CROSS.isin(crosses)) & (ma_test_res.total_gain>0)].copy()\n",
    "df_good.head()"
   ]
  },
  {
   "cell_type": "code",
   "execution_count": 44,
   "metadata": {},
   "outputs": [
    {
     "data": {
      "text/plain": [
       "['GBP_CAD',\n",
       " 'GBP_JPY',\n",
       " 'GBP_NZD',\n",
       " 'GBP_CHF',\n",
       " 'EUR_JPY',\n",
       " 'EUR_CHF',\n",
       " 'USD_JPY',\n",
       " 'CAD_JPY',\n",
       " 'CAD_CHF']"
      ]
     },
     "execution_count": 44,
     "metadata": {},
     "output_type": "execute_result"
    }
   ],
   "source": [
    "our_pairs = list(df_good.pair.value_counts()[:9].index)\n",
    "our_pairs"
   ]
  },
  {
   "cell_type": "code",
   "execution_count": 45,
   "metadata": {},
   "outputs": [
    {
     "data": {
      "text/html": [
       "<div>\n",
       "<style scoped>\n",
       "    .dataframe tbody tr th:only-of-type {\n",
       "        vertical-align: middle;\n",
       "    }\n",
       "\n",
       "    .dataframe tbody tr th {\n",
       "        vertical-align: top;\n",
       "    }\n",
       "\n",
       "    .dataframe thead th {\n",
       "        text-align: right;\n",
       "    }\n",
       "</style>\n",
       "<table border=\"1\" class=\"dataframe\">\n",
       "  <thead>\n",
       "    <tr style=\"text-align: right;\">\n",
       "      <th></th>\n",
       "      <th>time</th>\n",
       "      <th>mid_c</th>\n",
       "      <th>DIFF</th>\n",
       "      <th>DIFF_PREV</th>\n",
       "      <th>IS_TRADE</th>\n",
       "      <th>DELTA</th>\n",
       "      <th>GAIN</th>\n",
       "      <th>PAIR</th>\n",
       "      <th>MASHORT</th>\n",
       "      <th>MALONG</th>\n",
       "      <th>DURATION</th>\n",
       "    </tr>\n",
       "  </thead>\n",
       "  <tbody>\n",
       "    <tr>\n",
       "      <th>8</th>\n",
       "      <td>2023-12-27 12:00:00+00:00</td>\n",
       "      <td>1.27428</td>\n",
       "      <td>0.000516</td>\n",
       "      <td>-0.000387</td>\n",
       "      <td>1</td>\n",
       "      <td>62.0</td>\n",
       "      <td>62.0</td>\n",
       "      <td>GBP_USD</td>\n",
       "      <td>4</td>\n",
       "      <td>8</td>\n",
       "      <td>20.0</td>\n",
       "    </tr>\n",
       "    <tr>\n",
       "      <th>28</th>\n",
       "      <td>2023-12-28 08:00:00+00:00</td>\n",
       "      <td>1.28048</td>\n",
       "      <td>-0.000030</td>\n",
       "      <td>0.000055</td>\n",
       "      <td>-1</td>\n",
       "      <td>-70.2</td>\n",
       "      <td>70.2</td>\n",
       "      <td>GBP_USD</td>\n",
       "      <td>4</td>\n",
       "      <td>8</td>\n",
       "      <td>15.0</td>\n",
       "    </tr>\n",
       "  </tbody>\n",
       "</table>\n",
       "</div>"
      ],
      "text/plain": [
       "                        time    mid_c      DIFF  DIFF_PREV  IS_TRADE  DELTA  \\\n",
       "8  2023-12-27 12:00:00+00:00  1.27428  0.000516  -0.000387         1   62.0   \n",
       "28 2023-12-28 08:00:00+00:00  1.28048 -0.000030   0.000055        -1  -70.2   \n",
       "\n",
       "    GAIN     PAIR  MASHORT  MALONG  DURATION  \n",
       "8   62.0  GBP_USD        4       8      20.0  \n",
       "28  70.2  GBP_USD        4       8      15.0  "
      ]
     },
     "execution_count": 45,
     "metadata": {},
     "output_type": "execute_result"
    }
   ],
   "source": [
    "all_trades.head(2)"
   ]
  },
  {
   "cell_type": "code",
   "execution_count": 52,
   "metadata": {},
   "outputs": [
    {
     "data": {
      "text/plain": [
       "pair\n",
       "GBP_CAD    3\n",
       "GBP_JPY    3\n",
       "GBP_NZD    3\n",
       "GBP_CHF    3\n",
       "EUR_JPY    3\n",
       "EUR_CHF    3\n",
       "USD_JPY    3\n",
       "CAD_JPY    3\n",
       "CAD_CHF    3\n",
       "NZD_JPY    3\n",
       "NZD_CHF    3\n",
       "EUR_GBP    2\n",
       "USD_CHF    2\n",
       "NZD_CAD    1\n",
       "CHF_JPY    1\n",
       "Name: count, dtype: int64"
      ]
     },
     "execution_count": 52,
     "metadata": {},
     "output_type": "execute_result"
    }
   ],
   "source": [
    "df_good.pair.value_counts()"
   ]
  },
  {
   "cell_type": "code",
   "execution_count": 53,
   "metadata": {},
   "outputs": [
    {
     "data": {
      "text/html": [
       "<div>\n",
       "<style scoped>\n",
       "    .dataframe tbody tr th:only-of-type {\n",
       "        vertical-align: middle;\n",
       "    }\n",
       "\n",
       "    .dataframe tbody tr th {\n",
       "        vertical-align: top;\n",
       "    }\n",
       "\n",
       "    .dataframe thead th {\n",
       "        text-align: right;\n",
       "    }\n",
       "</style>\n",
       "<table border=\"1\" class=\"dataframe\">\n",
       "  <thead>\n",
       "    <tr style=\"text-align: right;\">\n",
       "      <th></th>\n",
       "      <th>time</th>\n",
       "      <th>mid_c</th>\n",
       "      <th>DIFF</th>\n",
       "      <th>DIFF_PREV</th>\n",
       "      <th>IS_TRADE</th>\n",
       "      <th>DELTA</th>\n",
       "      <th>GAIN</th>\n",
       "      <th>PAIR</th>\n",
       "      <th>MASHORT</th>\n",
       "      <th>MALONG</th>\n",
       "      <th>DURATION</th>\n",
       "      <th>CROSS</th>\n",
       "    </tr>\n",
       "  </thead>\n",
       "  <tbody>\n",
       "    <tr>\n",
       "      <th>333</th>\n",
       "      <td>2024-01-17 01:00:00+00:00</td>\n",
       "      <td>1.70438</td>\n",
       "      <td>-0.000016</td>\n",
       "      <td>0.000156</td>\n",
       "      <td>-1</td>\n",
       "      <td>89.4</td>\n",
       "      <td>-89.4</td>\n",
       "      <td>GBP_CAD</td>\n",
       "      <td>24</td>\n",
       "      <td>128</td>\n",
       "      <td>11.0</td>\n",
       "      <td>MA_24_128</td>\n",
       "    </tr>\n",
       "    <tr>\n",
       "      <th>344</th>\n",
       "      <td>2024-01-17 12:00:00+00:00</td>\n",
       "      <td>1.71332</td>\n",
       "      <td>0.000104</td>\n",
       "      <td>-0.000171</td>\n",
       "      <td>1</td>\n",
       "      <td>-69.2</td>\n",
       "      <td>-69.2</td>\n",
       "      <td>GBP_CAD</td>\n",
       "      <td>24</td>\n",
       "      <td>128</td>\n",
       "      <td>108.0</td>\n",
       "      <td>MA_24_128</td>\n",
       "    </tr>\n",
       "    <tr>\n",
       "      <th>404</th>\n",
       "      <td>2024-01-22 00:00:00+00:00</td>\n",
       "      <td>1.70640</td>\n",
       "      <td>-0.000215</td>\n",
       "      <td>0.000081</td>\n",
       "      <td>-1</td>\n",
       "      <td>84.2</td>\n",
       "      <td>-84.2</td>\n",
       "      <td>GBP_CAD</td>\n",
       "      <td>24</td>\n",
       "      <td>128</td>\n",
       "      <td>25.0</td>\n",
       "      <td>MA_24_128</td>\n",
       "    </tr>\n",
       "    <tr>\n",
       "      <th>429</th>\n",
       "      <td>2024-01-23 01:00:00+00:00</td>\n",
       "      <td>1.71482</td>\n",
       "      <td>0.000301</td>\n",
       "      <td>-0.000008</td>\n",
       "      <td>1</td>\n",
       "      <td>-47.9</td>\n",
       "      <td>-47.9</td>\n",
       "      <td>GBP_CAD</td>\n",
       "      <td>24</td>\n",
       "      <td>128</td>\n",
       "      <td>29.0</td>\n",
       "      <td>MA_24_128</td>\n",
       "    </tr>\n",
       "    <tr>\n",
       "      <th>458</th>\n",
       "      <td>2024-01-24 06:00:00+00:00</td>\n",
       "      <td>1.71003</td>\n",
       "      <td>-0.000142</td>\n",
       "      <td>0.000104</td>\n",
       "      <td>-1</td>\n",
       "      <td>88.3</td>\n",
       "      <td>-88.3</td>\n",
       "      <td>GBP_CAD</td>\n",
       "      <td>24</td>\n",
       "      <td>128</td>\n",
       "      <td>10.0</td>\n",
       "      <td>MA_24_128</td>\n",
       "    </tr>\n",
       "  </tbody>\n",
       "</table>\n",
       "</div>"
      ],
      "text/plain": [
       "                         time    mid_c      DIFF  DIFF_PREV  IS_TRADE  DELTA  \\\n",
       "333 2024-01-17 01:00:00+00:00  1.70438 -0.000016   0.000156        -1   89.4   \n",
       "344 2024-01-17 12:00:00+00:00  1.71332  0.000104  -0.000171         1  -69.2   \n",
       "404 2024-01-22 00:00:00+00:00  1.70640 -0.000215   0.000081        -1   84.2   \n",
       "429 2024-01-23 01:00:00+00:00  1.71482  0.000301  -0.000008         1  -47.9   \n",
       "458 2024-01-24 06:00:00+00:00  1.71003 -0.000142   0.000104        -1   88.3   \n",
       "\n",
       "     GAIN     PAIR  MASHORT  MALONG  DURATION      CROSS  \n",
       "333 -89.4  GBP_CAD       24     128      11.0  MA_24_128  \n",
       "344 -69.2  GBP_CAD       24     128     108.0  MA_24_128  \n",
       "404 -84.2  GBP_CAD       24     128      25.0  MA_24_128  \n",
       "429 -47.9  GBP_CAD       24     128      29.0  MA_24_128  \n",
       "458 -88.3  GBP_CAD       24     128      10.0  MA_24_128  "
      ]
     },
     "execution_count": 53,
     "metadata": {},
     "output_type": "execute_result"
    }
   ],
   "source": [
    "all_trades[\"CROSS\"] = \"MA_\" + all_trades.MASHORT.map(str) + \"_\" + all_trades.MALONG.map(str)\n",
    "trades_cad_jpy = all_trades[(all_trades.CROSS==\"MA_24_128\") & (all_trades.PAIR==\"GBP_CAD\")].copy()\n",
    "trades_cad_jpy.head()"
   ]
  },
  {
   "cell_type": "code",
   "execution_count": 54,
   "metadata": {},
   "outputs": [],
   "source": [
    "trades_cad_jpy['CUM_GAIN'] = trades_cad_jpy.GAIN.cumsum()"
   ]
  },
  {
   "cell_type": "code",
   "execution_count": 55,
   "metadata": {},
   "outputs": [],
   "source": [
    "def plot_line(df_plot, name):\n",
    "    fig = go.Figure()\n",
    "    fig.add_trace(go.Scatter( \n",
    "        x=df_plot.time,\n",
    "        y=df_plot.CUM_GAIN,\n",
    "        line=dict(width=2,color=\"#3d825f\"),\n",
    "        line_shape='spline',\n",
    "        name=name,\n",
    "        mode='lines'\n",
    "        ))\n",
    "    fig.update_layout(width=1000,height=400,\n",
    "        margin=dict(l=15,r=15,b=10),\n",
    "        font=dict(size=10,color=\"#e1e1e1\"),\n",
    "        paper_bgcolor=\"#1e1e1e\",\n",
    "        plot_bgcolor=\"#1e1e1e\",\n",
    "        title=name)\n",
    "    fig.update_xaxes(\n",
    "        linewidth=1,\n",
    "        linecolor='#3a4a54',\n",
    "        showgrid=False,\n",
    "        zeroline=False\n",
    "    )\n",
    "    fig.update_yaxes(\n",
    "        linewidth=1,\n",
    "        linecolor='#3a4a54',\n",
    "        showgrid=False,\n",
    "        zeroline=False\n",
    "    )\n",
    "    fig.show()"
   ]
  },
  {
   "cell_type": "code",
   "execution_count": 60,
   "metadata": {},
   "outputs": [
    {
     "data": {
      "application/vnd.plotly.v1+json": {
       "config": {
        "plotlyServerURL": "https://plot.ly"
       },
       "data": [
        {
         "line": {
          "color": "#3d825f",
          "shape": "spline",
          "width": 2
         },
         "mode": "lines",
         "name": "GBP_CAD",
         "type": "scatter",
         "x": [
          "2024-01-17T01:00:00+00:00",
          "2024-01-17T12:00:00+00:00",
          "2024-01-22T00:00:00+00:00",
          "2024-01-23T01:00:00+00:00",
          "2024-01-24T06:00:00+00:00",
          "2024-01-24T16:00:00+00:00",
          "2024-01-26T13:00:00+00:00",
          "2024-02-02T12:00:00+00:00",
          "2024-02-02T21:00:00+00:00",
          "2024-02-12T01:00:00+00:00",
          "2024-02-13T01:00:00+00:00",
          "2024-02-13T14:00:00+00:00",
          "2024-02-15T15:00:00+00:00",
          "2024-02-20T16:00:00+00:00",
          "2024-03-01T13:00:00+00:00",
          "2024-03-03T23:00:00+00:00",
          "2024-03-12T16:00:00+00:00",
          "2024-03-20T00:00:00+00:00",
          "2024-03-21T07:00:00+00:00",
          "2024-04-04T03:00:00+00:00",
          "2024-04-11T11:00:00+00:00",
          "2024-04-12T00:00:00+00:00",
          "2024-04-12T12:00:00+00:00",
          "2024-04-16T19:00:00+00:00",
          "2024-04-18T07:00:00+00:00",
          "2024-04-25T00:00:00+00:00",
          "2024-05-03T06:00:00+00:00",
          "2024-05-06T00:00:00+00:00",
          "2024-05-07T07:00:00+00:00",
          "2024-05-08T10:00:00+00:00",
          "2024-05-08T13:00:00+00:00",
          "2024-05-13T21:00:00+00:00",
          "2024-05-31T04:00:00+00:00",
          "2024-06-04T02:00:00+00:00",
          "2024-06-14T11:00:00+00:00",
          "2024-06-28T06:00:00+00:00",
          "2024-06-30T22:00:00+00:00",
          "2024-07-01T15:00:00+00:00",
          "2024-07-19T13:00:00+00:00",
          "2024-07-22T19:00:00+00:00",
          "2024-07-26T11:00:00+00:00",
          "2024-07-28T22:00:00+00:00",
          "2024-07-30T21:00:00+00:00"
         ],
         "y": [
          -89.39999999999948,
          -158.59999999999985,
          -242.8000000000008,
          -290.7000000000015,
          -379.0000000000027,
          -448.8000000000025,
          -391.40000000000174,
          -439.4000000000009,
          -432.3999999999994,
          -460.59999999999764,
          -555.599999999996,
          -641.199999999995,
          -742.8999999999952,
          -673.3999999999951,
          -671.3999999999953,
          -575.7999999999952,
          -587.3999999999935,
          -632.9999999999925,
          -513.9999999999923,
          -446.29999999999285,
          -461.9999999999936,
          -502.7999999999944,
          -538.5999999999958,
          -557.4999999999975,
          -467.9999999999974,
          -389.3999999999954,
          -419.8999999999953,
          -443.39999999999606,
          -465.6999999999956,
          -499.19999999999527,
          -521.5999999999955,
          -296.3999999999968,
          -369.99999999999716,
          -359.19999999999743,
          -219.89999999999745,
          -259.6999999999962,
          -344.7999999999963,
          7.400000000003956,
          -40.199999999994795,
          -39.599999999995305,
          -55.19999999999536,
          -79.99999999999352,
          155.80000000000803
         ]
        }
       ],
       "layout": {
        "font": {
         "color": "#e1e1e1",
         "size": 10
        },
        "height": 400,
        "margin": {
         "b": 10,
         "l": 15,
         "r": 15
        },
        "paper_bgcolor": "#1e1e1e",
        "plot_bgcolor": "#1e1e1e",
        "template": {
         "data": {
          "bar": [
           {
            "error_x": {
             "color": "#2a3f5f"
            },
            "error_y": {
             "color": "#2a3f5f"
            },
            "marker": {
             "line": {
              "color": "#E5ECF6",
              "width": 0.5
             },
             "pattern": {
              "fillmode": "overlay",
              "size": 10,
              "solidity": 0.2
             }
            },
            "type": "bar"
           }
          ],
          "barpolar": [
           {
            "marker": {
             "line": {
              "color": "#E5ECF6",
              "width": 0.5
             },
             "pattern": {
              "fillmode": "overlay",
              "size": 10,
              "solidity": 0.2
             }
            },
            "type": "barpolar"
           }
          ],
          "carpet": [
           {
            "aaxis": {
             "endlinecolor": "#2a3f5f",
             "gridcolor": "white",
             "linecolor": "white",
             "minorgridcolor": "white",
             "startlinecolor": "#2a3f5f"
            },
            "baxis": {
             "endlinecolor": "#2a3f5f",
             "gridcolor": "white",
             "linecolor": "white",
             "minorgridcolor": "white",
             "startlinecolor": "#2a3f5f"
            },
            "type": "carpet"
           }
          ],
          "choropleth": [
           {
            "colorbar": {
             "outlinewidth": 0,
             "ticks": ""
            },
            "type": "choropleth"
           }
          ],
          "contour": [
           {
            "colorbar": {
             "outlinewidth": 0,
             "ticks": ""
            },
            "colorscale": [
             [
              0,
              "#0d0887"
             ],
             [
              0.1111111111111111,
              "#46039f"
             ],
             [
              0.2222222222222222,
              "#7201a8"
             ],
             [
              0.3333333333333333,
              "#9c179e"
             ],
             [
              0.4444444444444444,
              "#bd3786"
             ],
             [
              0.5555555555555556,
              "#d8576b"
             ],
             [
              0.6666666666666666,
              "#ed7953"
             ],
             [
              0.7777777777777778,
              "#fb9f3a"
             ],
             [
              0.8888888888888888,
              "#fdca26"
             ],
             [
              1,
              "#f0f921"
             ]
            ],
            "type": "contour"
           }
          ],
          "contourcarpet": [
           {
            "colorbar": {
             "outlinewidth": 0,
             "ticks": ""
            },
            "type": "contourcarpet"
           }
          ],
          "heatmap": [
           {
            "colorbar": {
             "outlinewidth": 0,
             "ticks": ""
            },
            "colorscale": [
             [
              0,
              "#0d0887"
             ],
             [
              0.1111111111111111,
              "#46039f"
             ],
             [
              0.2222222222222222,
              "#7201a8"
             ],
             [
              0.3333333333333333,
              "#9c179e"
             ],
             [
              0.4444444444444444,
              "#bd3786"
             ],
             [
              0.5555555555555556,
              "#d8576b"
             ],
             [
              0.6666666666666666,
              "#ed7953"
             ],
             [
              0.7777777777777778,
              "#fb9f3a"
             ],
             [
              0.8888888888888888,
              "#fdca26"
             ],
             [
              1,
              "#f0f921"
             ]
            ],
            "type": "heatmap"
           }
          ],
          "heatmapgl": [
           {
            "colorbar": {
             "outlinewidth": 0,
             "ticks": ""
            },
            "colorscale": [
             [
              0,
              "#0d0887"
             ],
             [
              0.1111111111111111,
              "#46039f"
             ],
             [
              0.2222222222222222,
              "#7201a8"
             ],
             [
              0.3333333333333333,
              "#9c179e"
             ],
             [
              0.4444444444444444,
              "#bd3786"
             ],
             [
              0.5555555555555556,
              "#d8576b"
             ],
             [
              0.6666666666666666,
              "#ed7953"
             ],
             [
              0.7777777777777778,
              "#fb9f3a"
             ],
             [
              0.8888888888888888,
              "#fdca26"
             ],
             [
              1,
              "#f0f921"
             ]
            ],
            "type": "heatmapgl"
           }
          ],
          "histogram": [
           {
            "marker": {
             "pattern": {
              "fillmode": "overlay",
              "size": 10,
              "solidity": 0.2
             }
            },
            "type": "histogram"
           }
          ],
          "histogram2d": [
           {
            "colorbar": {
             "outlinewidth": 0,
             "ticks": ""
            },
            "colorscale": [
             [
              0,
              "#0d0887"
             ],
             [
              0.1111111111111111,
              "#46039f"
             ],
             [
              0.2222222222222222,
              "#7201a8"
             ],
             [
              0.3333333333333333,
              "#9c179e"
             ],
             [
              0.4444444444444444,
              "#bd3786"
             ],
             [
              0.5555555555555556,
              "#d8576b"
             ],
             [
              0.6666666666666666,
              "#ed7953"
             ],
             [
              0.7777777777777778,
              "#fb9f3a"
             ],
             [
              0.8888888888888888,
              "#fdca26"
             ],
             [
              1,
              "#f0f921"
             ]
            ],
            "type": "histogram2d"
           }
          ],
          "histogram2dcontour": [
           {
            "colorbar": {
             "outlinewidth": 0,
             "ticks": ""
            },
            "colorscale": [
             [
              0,
              "#0d0887"
             ],
             [
              0.1111111111111111,
              "#46039f"
             ],
             [
              0.2222222222222222,
              "#7201a8"
             ],
             [
              0.3333333333333333,
              "#9c179e"
             ],
             [
              0.4444444444444444,
              "#bd3786"
             ],
             [
              0.5555555555555556,
              "#d8576b"
             ],
             [
              0.6666666666666666,
              "#ed7953"
             ],
             [
              0.7777777777777778,
              "#fb9f3a"
             ],
             [
              0.8888888888888888,
              "#fdca26"
             ],
             [
              1,
              "#f0f921"
             ]
            ],
            "type": "histogram2dcontour"
           }
          ],
          "mesh3d": [
           {
            "colorbar": {
             "outlinewidth": 0,
             "ticks": ""
            },
            "type": "mesh3d"
           }
          ],
          "parcoords": [
           {
            "line": {
             "colorbar": {
              "outlinewidth": 0,
              "ticks": ""
             }
            },
            "type": "parcoords"
           }
          ],
          "pie": [
           {
            "automargin": true,
            "type": "pie"
           }
          ],
          "scatter": [
           {
            "fillpattern": {
             "fillmode": "overlay",
             "size": 10,
             "solidity": 0.2
            },
            "type": "scatter"
           }
          ],
          "scatter3d": [
           {
            "line": {
             "colorbar": {
              "outlinewidth": 0,
              "ticks": ""
             }
            },
            "marker": {
             "colorbar": {
              "outlinewidth": 0,
              "ticks": ""
             }
            },
            "type": "scatter3d"
           }
          ],
          "scattercarpet": [
           {
            "marker": {
             "colorbar": {
              "outlinewidth": 0,
              "ticks": ""
             }
            },
            "type": "scattercarpet"
           }
          ],
          "scattergeo": [
           {
            "marker": {
             "colorbar": {
              "outlinewidth": 0,
              "ticks": ""
             }
            },
            "type": "scattergeo"
           }
          ],
          "scattergl": [
           {
            "marker": {
             "colorbar": {
              "outlinewidth": 0,
              "ticks": ""
             }
            },
            "type": "scattergl"
           }
          ],
          "scattermapbox": [
           {
            "marker": {
             "colorbar": {
              "outlinewidth": 0,
              "ticks": ""
             }
            },
            "type": "scattermapbox"
           }
          ],
          "scatterpolar": [
           {
            "marker": {
             "colorbar": {
              "outlinewidth": 0,
              "ticks": ""
             }
            },
            "type": "scatterpolar"
           }
          ],
          "scatterpolargl": [
           {
            "marker": {
             "colorbar": {
              "outlinewidth": 0,
              "ticks": ""
             }
            },
            "type": "scatterpolargl"
           }
          ],
          "scatterternary": [
           {
            "marker": {
             "colorbar": {
              "outlinewidth": 0,
              "ticks": ""
             }
            },
            "type": "scatterternary"
           }
          ],
          "surface": [
           {
            "colorbar": {
             "outlinewidth": 0,
             "ticks": ""
            },
            "colorscale": [
             [
              0,
              "#0d0887"
             ],
             [
              0.1111111111111111,
              "#46039f"
             ],
             [
              0.2222222222222222,
              "#7201a8"
             ],
             [
              0.3333333333333333,
              "#9c179e"
             ],
             [
              0.4444444444444444,
              "#bd3786"
             ],
             [
              0.5555555555555556,
              "#d8576b"
             ],
             [
              0.6666666666666666,
              "#ed7953"
             ],
             [
              0.7777777777777778,
              "#fb9f3a"
             ],
             [
              0.8888888888888888,
              "#fdca26"
             ],
             [
              1,
              "#f0f921"
             ]
            ],
            "type": "surface"
           }
          ],
          "table": [
           {
            "cells": {
             "fill": {
              "color": "#EBF0F8"
             },
             "line": {
              "color": "white"
             }
            },
            "header": {
             "fill": {
              "color": "#C8D4E3"
             },
             "line": {
              "color": "white"
             }
            },
            "type": "table"
           }
          ]
         },
         "layout": {
          "annotationdefaults": {
           "arrowcolor": "#2a3f5f",
           "arrowhead": 0,
           "arrowwidth": 1
          },
          "autotypenumbers": "strict",
          "coloraxis": {
           "colorbar": {
            "outlinewidth": 0,
            "ticks": ""
           }
          },
          "colorscale": {
           "diverging": [
            [
             0,
             "#8e0152"
            ],
            [
             0.1,
             "#c51b7d"
            ],
            [
             0.2,
             "#de77ae"
            ],
            [
             0.3,
             "#f1b6da"
            ],
            [
             0.4,
             "#fde0ef"
            ],
            [
             0.5,
             "#f7f7f7"
            ],
            [
             0.6,
             "#e6f5d0"
            ],
            [
             0.7,
             "#b8e186"
            ],
            [
             0.8,
             "#7fbc41"
            ],
            [
             0.9,
             "#4d9221"
            ],
            [
             1,
             "#276419"
            ]
           ],
           "sequential": [
            [
             0,
             "#0d0887"
            ],
            [
             0.1111111111111111,
             "#46039f"
            ],
            [
             0.2222222222222222,
             "#7201a8"
            ],
            [
             0.3333333333333333,
             "#9c179e"
            ],
            [
             0.4444444444444444,
             "#bd3786"
            ],
            [
             0.5555555555555556,
             "#d8576b"
            ],
            [
             0.6666666666666666,
             "#ed7953"
            ],
            [
             0.7777777777777778,
             "#fb9f3a"
            ],
            [
             0.8888888888888888,
             "#fdca26"
            ],
            [
             1,
             "#f0f921"
            ]
           ],
           "sequentialminus": [
            [
             0,
             "#0d0887"
            ],
            [
             0.1111111111111111,
             "#46039f"
            ],
            [
             0.2222222222222222,
             "#7201a8"
            ],
            [
             0.3333333333333333,
             "#9c179e"
            ],
            [
             0.4444444444444444,
             "#bd3786"
            ],
            [
             0.5555555555555556,
             "#d8576b"
            ],
            [
             0.6666666666666666,
             "#ed7953"
            ],
            [
             0.7777777777777778,
             "#fb9f3a"
            ],
            [
             0.8888888888888888,
             "#fdca26"
            ],
            [
             1,
             "#f0f921"
            ]
           ]
          },
          "colorway": [
           "#636efa",
           "#EF553B",
           "#00cc96",
           "#ab63fa",
           "#FFA15A",
           "#19d3f3",
           "#FF6692",
           "#B6E880",
           "#FF97FF",
           "#FECB52"
          ],
          "font": {
           "color": "#2a3f5f"
          },
          "geo": {
           "bgcolor": "white",
           "lakecolor": "white",
           "landcolor": "#E5ECF6",
           "showlakes": true,
           "showland": true,
           "subunitcolor": "white"
          },
          "hoverlabel": {
           "align": "left"
          },
          "hovermode": "closest",
          "mapbox": {
           "style": "light"
          },
          "paper_bgcolor": "white",
          "plot_bgcolor": "#E5ECF6",
          "polar": {
           "angularaxis": {
            "gridcolor": "white",
            "linecolor": "white",
            "ticks": ""
           },
           "bgcolor": "#E5ECF6",
           "radialaxis": {
            "gridcolor": "white",
            "linecolor": "white",
            "ticks": ""
           }
          },
          "scene": {
           "xaxis": {
            "backgroundcolor": "#E5ECF6",
            "gridcolor": "white",
            "gridwidth": 2,
            "linecolor": "white",
            "showbackground": true,
            "ticks": "",
            "zerolinecolor": "white"
           },
           "yaxis": {
            "backgroundcolor": "#E5ECF6",
            "gridcolor": "white",
            "gridwidth": 2,
            "linecolor": "white",
            "showbackground": true,
            "ticks": "",
            "zerolinecolor": "white"
           },
           "zaxis": {
            "backgroundcolor": "#E5ECF6",
            "gridcolor": "white",
            "gridwidth": 2,
            "linecolor": "white",
            "showbackground": true,
            "ticks": "",
            "zerolinecolor": "white"
           }
          },
          "shapedefaults": {
           "line": {
            "color": "#2a3f5f"
           }
          },
          "ternary": {
           "aaxis": {
            "gridcolor": "white",
            "linecolor": "white",
            "ticks": ""
           },
           "baxis": {
            "gridcolor": "white",
            "linecolor": "white",
            "ticks": ""
           },
           "bgcolor": "#E5ECF6",
           "caxis": {
            "gridcolor": "white",
            "linecolor": "white",
            "ticks": ""
           }
          },
          "title": {
           "x": 0.05
          },
          "xaxis": {
           "automargin": true,
           "gridcolor": "white",
           "linecolor": "white",
           "ticks": "",
           "title": {
            "standoff": 15
           },
           "zerolinecolor": "white",
           "zerolinewidth": 2
          },
          "yaxis": {
           "automargin": true,
           "gridcolor": "white",
           "linecolor": "white",
           "ticks": "",
           "title": {
            "standoff": 15
           },
           "zerolinecolor": "white",
           "zerolinewidth": 2
          }
         }
        },
        "title": {
         "text": "GBP_CAD"
        },
        "width": 1000,
        "xaxis": {
         "linecolor": "#3a4a54",
         "linewidth": 1,
         "showgrid": false,
         "zeroline": false
        },
        "yaxis": {
         "linecolor": "#3a4a54",
         "linewidth": 1,
         "showgrid": false,
         "zeroline": false
        }
       }
      }
     },
     "metadata": {},
     "output_type": "display_data"
    }
   ],
   "source": [
    "plot_line(trades_cad_jpy, \"GBP_CAD\")"
   ]
  },
  {
   "cell_type": "code",
   "execution_count": 61,
   "metadata": {},
   "outputs": [
    {
     "data": {
      "application/vnd.plotly.v1+json": {
       "config": {
        "plotlyServerURL": "https://plot.ly"
       },
       "data": [
        {
         "line": {
          "color": "#3d825f",
          "shape": "spline",
          "width": 2
         },
         "mode": "lines",
         "name": "GBP_CAD_MA_24_128",
         "type": "scatter",
         "x": [
          "2024-01-17T01:00:00+00:00",
          "2024-01-17T12:00:00+00:00",
          "2024-01-22T00:00:00+00:00",
          "2024-01-23T01:00:00+00:00",
          "2024-01-24T06:00:00+00:00",
          "2024-01-24T16:00:00+00:00",
          "2024-01-26T13:00:00+00:00",
          "2024-02-02T12:00:00+00:00",
          "2024-02-02T21:00:00+00:00",
          "2024-02-12T01:00:00+00:00",
          "2024-02-13T01:00:00+00:00",
          "2024-02-13T14:00:00+00:00",
          "2024-02-15T15:00:00+00:00",
          "2024-02-20T16:00:00+00:00",
          "2024-03-01T13:00:00+00:00",
          "2024-03-03T23:00:00+00:00",
          "2024-03-12T16:00:00+00:00",
          "2024-03-20T00:00:00+00:00",
          "2024-03-21T07:00:00+00:00",
          "2024-04-04T03:00:00+00:00",
          "2024-04-11T11:00:00+00:00",
          "2024-04-12T00:00:00+00:00",
          "2024-04-12T12:00:00+00:00",
          "2024-04-16T19:00:00+00:00",
          "2024-04-18T07:00:00+00:00",
          "2024-04-25T00:00:00+00:00",
          "2024-05-03T06:00:00+00:00",
          "2024-05-06T00:00:00+00:00",
          "2024-05-07T07:00:00+00:00",
          "2024-05-08T10:00:00+00:00",
          "2024-05-08T13:00:00+00:00",
          "2024-05-13T21:00:00+00:00",
          "2024-05-31T04:00:00+00:00",
          "2024-06-04T02:00:00+00:00",
          "2024-06-14T11:00:00+00:00",
          "2024-06-28T06:00:00+00:00",
          "2024-06-30T22:00:00+00:00",
          "2024-07-01T15:00:00+00:00",
          "2024-07-19T13:00:00+00:00",
          "2024-07-22T19:00:00+00:00",
          "2024-07-26T11:00:00+00:00",
          "2024-07-28T22:00:00+00:00",
          "2024-07-30T21:00:00+00:00"
         ],
         "y": [
          -89.39999999999948,
          -158.59999999999985,
          -242.8000000000008,
          -290.7000000000015,
          -379.0000000000027,
          -448.8000000000025,
          -391.40000000000174,
          -439.4000000000009,
          -432.3999999999994,
          -460.59999999999764,
          -555.599999999996,
          -641.199999999995,
          -742.8999999999952,
          -673.3999999999951,
          -671.3999999999953,
          -575.7999999999952,
          -587.3999999999935,
          -632.9999999999925,
          -513.9999999999923,
          -446.29999999999285,
          -461.9999999999936,
          -502.7999999999944,
          -538.5999999999958,
          -557.4999999999975,
          -467.9999999999974,
          -389.3999999999954,
          -419.8999999999953,
          -443.39999999999606,
          -465.6999999999956,
          -499.19999999999527,
          -521.5999999999955,
          -296.3999999999968,
          -369.99999999999716,
          -359.19999999999743,
          -219.89999999999745,
          -259.6999999999962,
          -344.7999999999963,
          7.400000000003956,
          -40.199999999994795,
          -39.599999999995305,
          -55.19999999999536,
          -79.99999999999352,
          155.80000000000803
         ]
        }
       ],
       "layout": {
        "font": {
         "color": "#e1e1e1",
         "size": 10
        },
        "height": 400,
        "margin": {
         "b": 10,
         "l": 15,
         "r": 15
        },
        "paper_bgcolor": "#1e1e1e",
        "plot_bgcolor": "#1e1e1e",
        "template": {
         "data": {
          "bar": [
           {
            "error_x": {
             "color": "#2a3f5f"
            },
            "error_y": {
             "color": "#2a3f5f"
            },
            "marker": {
             "line": {
              "color": "#E5ECF6",
              "width": 0.5
             },
             "pattern": {
              "fillmode": "overlay",
              "size": 10,
              "solidity": 0.2
             }
            },
            "type": "bar"
           }
          ],
          "barpolar": [
           {
            "marker": {
             "line": {
              "color": "#E5ECF6",
              "width": 0.5
             },
             "pattern": {
              "fillmode": "overlay",
              "size": 10,
              "solidity": 0.2
             }
            },
            "type": "barpolar"
           }
          ],
          "carpet": [
           {
            "aaxis": {
             "endlinecolor": "#2a3f5f",
             "gridcolor": "white",
             "linecolor": "white",
             "minorgridcolor": "white",
             "startlinecolor": "#2a3f5f"
            },
            "baxis": {
             "endlinecolor": "#2a3f5f",
             "gridcolor": "white",
             "linecolor": "white",
             "minorgridcolor": "white",
             "startlinecolor": "#2a3f5f"
            },
            "type": "carpet"
           }
          ],
          "choropleth": [
           {
            "colorbar": {
             "outlinewidth": 0,
             "ticks": ""
            },
            "type": "choropleth"
           }
          ],
          "contour": [
           {
            "colorbar": {
             "outlinewidth": 0,
             "ticks": ""
            },
            "colorscale": [
             [
              0,
              "#0d0887"
             ],
             [
              0.1111111111111111,
              "#46039f"
             ],
             [
              0.2222222222222222,
              "#7201a8"
             ],
             [
              0.3333333333333333,
              "#9c179e"
             ],
             [
              0.4444444444444444,
              "#bd3786"
             ],
             [
              0.5555555555555556,
              "#d8576b"
             ],
             [
              0.6666666666666666,
              "#ed7953"
             ],
             [
              0.7777777777777778,
              "#fb9f3a"
             ],
             [
              0.8888888888888888,
              "#fdca26"
             ],
             [
              1,
              "#f0f921"
             ]
            ],
            "type": "contour"
           }
          ],
          "contourcarpet": [
           {
            "colorbar": {
             "outlinewidth": 0,
             "ticks": ""
            },
            "type": "contourcarpet"
           }
          ],
          "heatmap": [
           {
            "colorbar": {
             "outlinewidth": 0,
             "ticks": ""
            },
            "colorscale": [
             [
              0,
              "#0d0887"
             ],
             [
              0.1111111111111111,
              "#46039f"
             ],
             [
              0.2222222222222222,
              "#7201a8"
             ],
             [
              0.3333333333333333,
              "#9c179e"
             ],
             [
              0.4444444444444444,
              "#bd3786"
             ],
             [
              0.5555555555555556,
              "#d8576b"
             ],
             [
              0.6666666666666666,
              "#ed7953"
             ],
             [
              0.7777777777777778,
              "#fb9f3a"
             ],
             [
              0.8888888888888888,
              "#fdca26"
             ],
             [
              1,
              "#f0f921"
             ]
            ],
            "type": "heatmap"
           }
          ],
          "heatmapgl": [
           {
            "colorbar": {
             "outlinewidth": 0,
             "ticks": ""
            },
            "colorscale": [
             [
              0,
              "#0d0887"
             ],
             [
              0.1111111111111111,
              "#46039f"
             ],
             [
              0.2222222222222222,
              "#7201a8"
             ],
             [
              0.3333333333333333,
              "#9c179e"
             ],
             [
              0.4444444444444444,
              "#bd3786"
             ],
             [
              0.5555555555555556,
              "#d8576b"
             ],
             [
              0.6666666666666666,
              "#ed7953"
             ],
             [
              0.7777777777777778,
              "#fb9f3a"
             ],
             [
              0.8888888888888888,
              "#fdca26"
             ],
             [
              1,
              "#f0f921"
             ]
            ],
            "type": "heatmapgl"
           }
          ],
          "histogram": [
           {
            "marker": {
             "pattern": {
              "fillmode": "overlay",
              "size": 10,
              "solidity": 0.2
             }
            },
            "type": "histogram"
           }
          ],
          "histogram2d": [
           {
            "colorbar": {
             "outlinewidth": 0,
             "ticks": ""
            },
            "colorscale": [
             [
              0,
              "#0d0887"
             ],
             [
              0.1111111111111111,
              "#46039f"
             ],
             [
              0.2222222222222222,
              "#7201a8"
             ],
             [
              0.3333333333333333,
              "#9c179e"
             ],
             [
              0.4444444444444444,
              "#bd3786"
             ],
             [
              0.5555555555555556,
              "#d8576b"
             ],
             [
              0.6666666666666666,
              "#ed7953"
             ],
             [
              0.7777777777777778,
              "#fb9f3a"
             ],
             [
              0.8888888888888888,
              "#fdca26"
             ],
             [
              1,
              "#f0f921"
             ]
            ],
            "type": "histogram2d"
           }
          ],
          "histogram2dcontour": [
           {
            "colorbar": {
             "outlinewidth": 0,
             "ticks": ""
            },
            "colorscale": [
             [
              0,
              "#0d0887"
             ],
             [
              0.1111111111111111,
              "#46039f"
             ],
             [
              0.2222222222222222,
              "#7201a8"
             ],
             [
              0.3333333333333333,
              "#9c179e"
             ],
             [
              0.4444444444444444,
              "#bd3786"
             ],
             [
              0.5555555555555556,
              "#d8576b"
             ],
             [
              0.6666666666666666,
              "#ed7953"
             ],
             [
              0.7777777777777778,
              "#fb9f3a"
             ],
             [
              0.8888888888888888,
              "#fdca26"
             ],
             [
              1,
              "#f0f921"
             ]
            ],
            "type": "histogram2dcontour"
           }
          ],
          "mesh3d": [
           {
            "colorbar": {
             "outlinewidth": 0,
             "ticks": ""
            },
            "type": "mesh3d"
           }
          ],
          "parcoords": [
           {
            "line": {
             "colorbar": {
              "outlinewidth": 0,
              "ticks": ""
             }
            },
            "type": "parcoords"
           }
          ],
          "pie": [
           {
            "automargin": true,
            "type": "pie"
           }
          ],
          "scatter": [
           {
            "fillpattern": {
             "fillmode": "overlay",
             "size": 10,
             "solidity": 0.2
            },
            "type": "scatter"
           }
          ],
          "scatter3d": [
           {
            "line": {
             "colorbar": {
              "outlinewidth": 0,
              "ticks": ""
             }
            },
            "marker": {
             "colorbar": {
              "outlinewidth": 0,
              "ticks": ""
             }
            },
            "type": "scatter3d"
           }
          ],
          "scattercarpet": [
           {
            "marker": {
             "colorbar": {
              "outlinewidth": 0,
              "ticks": ""
             }
            },
            "type": "scattercarpet"
           }
          ],
          "scattergeo": [
           {
            "marker": {
             "colorbar": {
              "outlinewidth": 0,
              "ticks": ""
             }
            },
            "type": "scattergeo"
           }
          ],
          "scattergl": [
           {
            "marker": {
             "colorbar": {
              "outlinewidth": 0,
              "ticks": ""
             }
            },
            "type": "scattergl"
           }
          ],
          "scattermapbox": [
           {
            "marker": {
             "colorbar": {
              "outlinewidth": 0,
              "ticks": ""
             }
            },
            "type": "scattermapbox"
           }
          ],
          "scatterpolar": [
           {
            "marker": {
             "colorbar": {
              "outlinewidth": 0,
              "ticks": ""
             }
            },
            "type": "scatterpolar"
           }
          ],
          "scatterpolargl": [
           {
            "marker": {
             "colorbar": {
              "outlinewidth": 0,
              "ticks": ""
             }
            },
            "type": "scatterpolargl"
           }
          ],
          "scatterternary": [
           {
            "marker": {
             "colorbar": {
              "outlinewidth": 0,
              "ticks": ""
             }
            },
            "type": "scatterternary"
           }
          ],
          "surface": [
           {
            "colorbar": {
             "outlinewidth": 0,
             "ticks": ""
            },
            "colorscale": [
             [
              0,
              "#0d0887"
             ],
             [
              0.1111111111111111,
              "#46039f"
             ],
             [
              0.2222222222222222,
              "#7201a8"
             ],
             [
              0.3333333333333333,
              "#9c179e"
             ],
             [
              0.4444444444444444,
              "#bd3786"
             ],
             [
              0.5555555555555556,
              "#d8576b"
             ],
             [
              0.6666666666666666,
              "#ed7953"
             ],
             [
              0.7777777777777778,
              "#fb9f3a"
             ],
             [
              0.8888888888888888,
              "#fdca26"
             ],
             [
              1,
              "#f0f921"
             ]
            ],
            "type": "surface"
           }
          ],
          "table": [
           {
            "cells": {
             "fill": {
              "color": "#EBF0F8"
             },
             "line": {
              "color": "white"
             }
            },
            "header": {
             "fill": {
              "color": "#C8D4E3"
             },
             "line": {
              "color": "white"
             }
            },
            "type": "table"
           }
          ]
         },
         "layout": {
          "annotationdefaults": {
           "arrowcolor": "#2a3f5f",
           "arrowhead": 0,
           "arrowwidth": 1
          },
          "autotypenumbers": "strict",
          "coloraxis": {
           "colorbar": {
            "outlinewidth": 0,
            "ticks": ""
           }
          },
          "colorscale": {
           "diverging": [
            [
             0,
             "#8e0152"
            ],
            [
             0.1,
             "#c51b7d"
            ],
            [
             0.2,
             "#de77ae"
            ],
            [
             0.3,
             "#f1b6da"
            ],
            [
             0.4,
             "#fde0ef"
            ],
            [
             0.5,
             "#f7f7f7"
            ],
            [
             0.6,
             "#e6f5d0"
            ],
            [
             0.7,
             "#b8e186"
            ],
            [
             0.8,
             "#7fbc41"
            ],
            [
             0.9,
             "#4d9221"
            ],
            [
             1,
             "#276419"
            ]
           ],
           "sequential": [
            [
             0,
             "#0d0887"
            ],
            [
             0.1111111111111111,
             "#46039f"
            ],
            [
             0.2222222222222222,
             "#7201a8"
            ],
            [
             0.3333333333333333,
             "#9c179e"
            ],
            [
             0.4444444444444444,
             "#bd3786"
            ],
            [
             0.5555555555555556,
             "#d8576b"
            ],
            [
             0.6666666666666666,
             "#ed7953"
            ],
            [
             0.7777777777777778,
             "#fb9f3a"
            ],
            [
             0.8888888888888888,
             "#fdca26"
            ],
            [
             1,
             "#f0f921"
            ]
           ],
           "sequentialminus": [
            [
             0,
             "#0d0887"
            ],
            [
             0.1111111111111111,
             "#46039f"
            ],
            [
             0.2222222222222222,
             "#7201a8"
            ],
            [
             0.3333333333333333,
             "#9c179e"
            ],
            [
             0.4444444444444444,
             "#bd3786"
            ],
            [
             0.5555555555555556,
             "#d8576b"
            ],
            [
             0.6666666666666666,
             "#ed7953"
            ],
            [
             0.7777777777777778,
             "#fb9f3a"
            ],
            [
             0.8888888888888888,
             "#fdca26"
            ],
            [
             1,
             "#f0f921"
            ]
           ]
          },
          "colorway": [
           "#636efa",
           "#EF553B",
           "#00cc96",
           "#ab63fa",
           "#FFA15A",
           "#19d3f3",
           "#FF6692",
           "#B6E880",
           "#FF97FF",
           "#FECB52"
          ],
          "font": {
           "color": "#2a3f5f"
          },
          "geo": {
           "bgcolor": "white",
           "lakecolor": "white",
           "landcolor": "#E5ECF6",
           "showlakes": true,
           "showland": true,
           "subunitcolor": "white"
          },
          "hoverlabel": {
           "align": "left"
          },
          "hovermode": "closest",
          "mapbox": {
           "style": "light"
          },
          "paper_bgcolor": "white",
          "plot_bgcolor": "#E5ECF6",
          "polar": {
           "angularaxis": {
            "gridcolor": "white",
            "linecolor": "white",
            "ticks": ""
           },
           "bgcolor": "#E5ECF6",
           "radialaxis": {
            "gridcolor": "white",
            "linecolor": "white",
            "ticks": ""
           }
          },
          "scene": {
           "xaxis": {
            "backgroundcolor": "#E5ECF6",
            "gridcolor": "white",
            "gridwidth": 2,
            "linecolor": "white",
            "showbackground": true,
            "ticks": "",
            "zerolinecolor": "white"
           },
           "yaxis": {
            "backgroundcolor": "#E5ECF6",
            "gridcolor": "white",
            "gridwidth": 2,
            "linecolor": "white",
            "showbackground": true,
            "ticks": "",
            "zerolinecolor": "white"
           },
           "zaxis": {
            "backgroundcolor": "#E5ECF6",
            "gridcolor": "white",
            "gridwidth": 2,
            "linecolor": "white",
            "showbackground": true,
            "ticks": "",
            "zerolinecolor": "white"
           }
          },
          "shapedefaults": {
           "line": {
            "color": "#2a3f5f"
           }
          },
          "ternary": {
           "aaxis": {
            "gridcolor": "white",
            "linecolor": "white",
            "ticks": ""
           },
           "baxis": {
            "gridcolor": "white",
            "linecolor": "white",
            "ticks": ""
           },
           "bgcolor": "#E5ECF6",
           "caxis": {
            "gridcolor": "white",
            "linecolor": "white",
            "ticks": ""
           }
          },
          "title": {
           "x": 0.05
          },
          "xaxis": {
           "automargin": true,
           "gridcolor": "white",
           "linecolor": "white",
           "ticks": "",
           "title": {
            "standoff": 15
           },
           "zerolinecolor": "white",
           "zerolinewidth": 2
          },
          "yaxis": {
           "automargin": true,
           "gridcolor": "white",
           "linecolor": "white",
           "ticks": "",
           "title": {
            "standoff": 15
           },
           "zerolinecolor": "white",
           "zerolinewidth": 2
          }
         }
        },
        "title": {
         "text": "GBP_CAD_MA_24_128"
        },
        "width": 1000,
        "xaxis": {
         "linecolor": "#3a4a54",
         "linewidth": 1,
         "showgrid": false,
         "zeroline": false
        },
        "yaxis": {
         "linecolor": "#3a4a54",
         "linewidth": 1,
         "showgrid": false,
         "zeroline": false
        }
       }
      }
     },
     "metadata": {},
     "output_type": "display_data"
    },
    {
     "data": {
      "application/vnd.plotly.v1+json": {
       "config": {
        "plotlyServerURL": "https://plot.ly"
       },
       "data": [
        {
         "line": {
          "color": "#3d825f",
          "shape": "spline",
          "width": 2
         },
         "mode": "lines",
         "name": "GBP_JPY_MA_24_128",
         "type": "scatter",
         "x": [
          "2024-01-24T14:00:00+00:00",
          "2024-01-28T23:00:00+00:00",
          "2024-01-29T17:00:00+00:00",
          "2024-02-04T22:00:00+00:00",
          "2024-02-05T22:00:00+00:00",
          "2024-02-07T17:00:00+00:00",
          "2024-02-15T15:00:00+00:00",
          "2024-02-16T10:00:00+00:00",
          "2024-02-29T02:00:00+00:00",
          "2024-03-04T17:00:00+00:00",
          "2024-03-07T00:00:00+00:00",
          "2024-03-13T22:00:00+00:00",
          "2024-03-22T17:00:00+00:00",
          "2024-04-03T17:00:00+00:00",
          "2024-04-11T11:00:00+00:00",
          "2024-04-11T15:00:00+00:00",
          "2024-04-12T13:00:00+00:00",
          "2024-04-16T01:00:00+00:00",
          "2024-04-19T17:00:00+00:00",
          "2024-04-24T00:00:00+00:00",
          "2024-05-02T06:00:00+00:00",
          "2024-05-08T12:00:00+00:00",
          "2024-05-30T10:00:00+00:00",
          "2024-06-03T04:00:00+00:00",
          "2024-06-03T14:00:00+00:00",
          "2024-06-06T06:00:00+00:00",
          "2024-06-06T19:00:00+00:00",
          "2024-06-10T03:00:00+00:00",
          "2024-06-16T21:00:00+00:00",
          "2024-06-18T09:00:00+00:00",
          "2024-07-12T02:00:00+00:00"
         ],
         "y": [
          -71.19999999999891,
          -157.79999999999745,
          -186.2999999999971,
          -300.9999999999991,
          -358.7999999999994,
          -175.79999999999814,
          -209.19999999999845,
          -150,
          -286.00000000000136,
          -430.2000000000021,
          -368.20000000000164,
          -206.00000000000023,
          -322.5999999999999,
          -310.8000000000004,
          -317.0000000000016,
          -471.8000000000018,
          -618.1000000000012,
          -676.0000000000019,
          -825.8000000000038,
          -645.900000000006,
          -600.8000000000067,
          -71.00000000000648,
          -180.70000000000732,
          -290.50000000000864,
          -313.40000000001,
          -383.80000000001075,
          -462.3000000000104,
          -484.6000000000089,
          -580.8000000000078,
          -76.50000000000716,
          1715.199999999993
         ]
        }
       ],
       "layout": {
        "font": {
         "color": "#e1e1e1",
         "size": 10
        },
        "height": 400,
        "margin": {
         "b": 10,
         "l": 15,
         "r": 15
        },
        "paper_bgcolor": "#1e1e1e",
        "plot_bgcolor": "#1e1e1e",
        "template": {
         "data": {
          "bar": [
           {
            "error_x": {
             "color": "#2a3f5f"
            },
            "error_y": {
             "color": "#2a3f5f"
            },
            "marker": {
             "line": {
              "color": "#E5ECF6",
              "width": 0.5
             },
             "pattern": {
              "fillmode": "overlay",
              "size": 10,
              "solidity": 0.2
             }
            },
            "type": "bar"
           }
          ],
          "barpolar": [
           {
            "marker": {
             "line": {
              "color": "#E5ECF6",
              "width": 0.5
             },
             "pattern": {
              "fillmode": "overlay",
              "size": 10,
              "solidity": 0.2
             }
            },
            "type": "barpolar"
           }
          ],
          "carpet": [
           {
            "aaxis": {
             "endlinecolor": "#2a3f5f",
             "gridcolor": "white",
             "linecolor": "white",
             "minorgridcolor": "white",
             "startlinecolor": "#2a3f5f"
            },
            "baxis": {
             "endlinecolor": "#2a3f5f",
             "gridcolor": "white",
             "linecolor": "white",
             "minorgridcolor": "white",
             "startlinecolor": "#2a3f5f"
            },
            "type": "carpet"
           }
          ],
          "choropleth": [
           {
            "colorbar": {
             "outlinewidth": 0,
             "ticks": ""
            },
            "type": "choropleth"
           }
          ],
          "contour": [
           {
            "colorbar": {
             "outlinewidth": 0,
             "ticks": ""
            },
            "colorscale": [
             [
              0,
              "#0d0887"
             ],
             [
              0.1111111111111111,
              "#46039f"
             ],
             [
              0.2222222222222222,
              "#7201a8"
             ],
             [
              0.3333333333333333,
              "#9c179e"
             ],
             [
              0.4444444444444444,
              "#bd3786"
             ],
             [
              0.5555555555555556,
              "#d8576b"
             ],
             [
              0.6666666666666666,
              "#ed7953"
             ],
             [
              0.7777777777777778,
              "#fb9f3a"
             ],
             [
              0.8888888888888888,
              "#fdca26"
             ],
             [
              1,
              "#f0f921"
             ]
            ],
            "type": "contour"
           }
          ],
          "contourcarpet": [
           {
            "colorbar": {
             "outlinewidth": 0,
             "ticks": ""
            },
            "type": "contourcarpet"
           }
          ],
          "heatmap": [
           {
            "colorbar": {
             "outlinewidth": 0,
             "ticks": ""
            },
            "colorscale": [
             [
              0,
              "#0d0887"
             ],
             [
              0.1111111111111111,
              "#46039f"
             ],
             [
              0.2222222222222222,
              "#7201a8"
             ],
             [
              0.3333333333333333,
              "#9c179e"
             ],
             [
              0.4444444444444444,
              "#bd3786"
             ],
             [
              0.5555555555555556,
              "#d8576b"
             ],
             [
              0.6666666666666666,
              "#ed7953"
             ],
             [
              0.7777777777777778,
              "#fb9f3a"
             ],
             [
              0.8888888888888888,
              "#fdca26"
             ],
             [
              1,
              "#f0f921"
             ]
            ],
            "type": "heatmap"
           }
          ],
          "heatmapgl": [
           {
            "colorbar": {
             "outlinewidth": 0,
             "ticks": ""
            },
            "colorscale": [
             [
              0,
              "#0d0887"
             ],
             [
              0.1111111111111111,
              "#46039f"
             ],
             [
              0.2222222222222222,
              "#7201a8"
             ],
             [
              0.3333333333333333,
              "#9c179e"
             ],
             [
              0.4444444444444444,
              "#bd3786"
             ],
             [
              0.5555555555555556,
              "#d8576b"
             ],
             [
              0.6666666666666666,
              "#ed7953"
             ],
             [
              0.7777777777777778,
              "#fb9f3a"
             ],
             [
              0.8888888888888888,
              "#fdca26"
             ],
             [
              1,
              "#f0f921"
             ]
            ],
            "type": "heatmapgl"
           }
          ],
          "histogram": [
           {
            "marker": {
             "pattern": {
              "fillmode": "overlay",
              "size": 10,
              "solidity": 0.2
             }
            },
            "type": "histogram"
           }
          ],
          "histogram2d": [
           {
            "colorbar": {
             "outlinewidth": 0,
             "ticks": ""
            },
            "colorscale": [
             [
              0,
              "#0d0887"
             ],
             [
              0.1111111111111111,
              "#46039f"
             ],
             [
              0.2222222222222222,
              "#7201a8"
             ],
             [
              0.3333333333333333,
              "#9c179e"
             ],
             [
              0.4444444444444444,
              "#bd3786"
             ],
             [
              0.5555555555555556,
              "#d8576b"
             ],
             [
              0.6666666666666666,
              "#ed7953"
             ],
             [
              0.7777777777777778,
              "#fb9f3a"
             ],
             [
              0.8888888888888888,
              "#fdca26"
             ],
             [
              1,
              "#f0f921"
             ]
            ],
            "type": "histogram2d"
           }
          ],
          "histogram2dcontour": [
           {
            "colorbar": {
             "outlinewidth": 0,
             "ticks": ""
            },
            "colorscale": [
             [
              0,
              "#0d0887"
             ],
             [
              0.1111111111111111,
              "#46039f"
             ],
             [
              0.2222222222222222,
              "#7201a8"
             ],
             [
              0.3333333333333333,
              "#9c179e"
             ],
             [
              0.4444444444444444,
              "#bd3786"
             ],
             [
              0.5555555555555556,
              "#d8576b"
             ],
             [
              0.6666666666666666,
              "#ed7953"
             ],
             [
              0.7777777777777778,
              "#fb9f3a"
             ],
             [
              0.8888888888888888,
              "#fdca26"
             ],
             [
              1,
              "#f0f921"
             ]
            ],
            "type": "histogram2dcontour"
           }
          ],
          "mesh3d": [
           {
            "colorbar": {
             "outlinewidth": 0,
             "ticks": ""
            },
            "type": "mesh3d"
           }
          ],
          "parcoords": [
           {
            "line": {
             "colorbar": {
              "outlinewidth": 0,
              "ticks": ""
             }
            },
            "type": "parcoords"
           }
          ],
          "pie": [
           {
            "automargin": true,
            "type": "pie"
           }
          ],
          "scatter": [
           {
            "fillpattern": {
             "fillmode": "overlay",
             "size": 10,
             "solidity": 0.2
            },
            "type": "scatter"
           }
          ],
          "scatter3d": [
           {
            "line": {
             "colorbar": {
              "outlinewidth": 0,
              "ticks": ""
             }
            },
            "marker": {
             "colorbar": {
              "outlinewidth": 0,
              "ticks": ""
             }
            },
            "type": "scatter3d"
           }
          ],
          "scattercarpet": [
           {
            "marker": {
             "colorbar": {
              "outlinewidth": 0,
              "ticks": ""
             }
            },
            "type": "scattercarpet"
           }
          ],
          "scattergeo": [
           {
            "marker": {
             "colorbar": {
              "outlinewidth": 0,
              "ticks": ""
             }
            },
            "type": "scattergeo"
           }
          ],
          "scattergl": [
           {
            "marker": {
             "colorbar": {
              "outlinewidth": 0,
              "ticks": ""
             }
            },
            "type": "scattergl"
           }
          ],
          "scattermapbox": [
           {
            "marker": {
             "colorbar": {
              "outlinewidth": 0,
              "ticks": ""
             }
            },
            "type": "scattermapbox"
           }
          ],
          "scatterpolar": [
           {
            "marker": {
             "colorbar": {
              "outlinewidth": 0,
              "ticks": ""
             }
            },
            "type": "scatterpolar"
           }
          ],
          "scatterpolargl": [
           {
            "marker": {
             "colorbar": {
              "outlinewidth": 0,
              "ticks": ""
             }
            },
            "type": "scatterpolargl"
           }
          ],
          "scatterternary": [
           {
            "marker": {
             "colorbar": {
              "outlinewidth": 0,
              "ticks": ""
             }
            },
            "type": "scatterternary"
           }
          ],
          "surface": [
           {
            "colorbar": {
             "outlinewidth": 0,
             "ticks": ""
            },
            "colorscale": [
             [
              0,
              "#0d0887"
             ],
             [
              0.1111111111111111,
              "#46039f"
             ],
             [
              0.2222222222222222,
              "#7201a8"
             ],
             [
              0.3333333333333333,
              "#9c179e"
             ],
             [
              0.4444444444444444,
              "#bd3786"
             ],
             [
              0.5555555555555556,
              "#d8576b"
             ],
             [
              0.6666666666666666,
              "#ed7953"
             ],
             [
              0.7777777777777778,
              "#fb9f3a"
             ],
             [
              0.8888888888888888,
              "#fdca26"
             ],
             [
              1,
              "#f0f921"
             ]
            ],
            "type": "surface"
           }
          ],
          "table": [
           {
            "cells": {
             "fill": {
              "color": "#EBF0F8"
             },
             "line": {
              "color": "white"
             }
            },
            "header": {
             "fill": {
              "color": "#C8D4E3"
             },
             "line": {
              "color": "white"
             }
            },
            "type": "table"
           }
          ]
         },
         "layout": {
          "annotationdefaults": {
           "arrowcolor": "#2a3f5f",
           "arrowhead": 0,
           "arrowwidth": 1
          },
          "autotypenumbers": "strict",
          "coloraxis": {
           "colorbar": {
            "outlinewidth": 0,
            "ticks": ""
           }
          },
          "colorscale": {
           "diverging": [
            [
             0,
             "#8e0152"
            ],
            [
             0.1,
             "#c51b7d"
            ],
            [
             0.2,
             "#de77ae"
            ],
            [
             0.3,
             "#f1b6da"
            ],
            [
             0.4,
             "#fde0ef"
            ],
            [
             0.5,
             "#f7f7f7"
            ],
            [
             0.6,
             "#e6f5d0"
            ],
            [
             0.7,
             "#b8e186"
            ],
            [
             0.8,
             "#7fbc41"
            ],
            [
             0.9,
             "#4d9221"
            ],
            [
             1,
             "#276419"
            ]
           ],
           "sequential": [
            [
             0,
             "#0d0887"
            ],
            [
             0.1111111111111111,
             "#46039f"
            ],
            [
             0.2222222222222222,
             "#7201a8"
            ],
            [
             0.3333333333333333,
             "#9c179e"
            ],
            [
             0.4444444444444444,
             "#bd3786"
            ],
            [
             0.5555555555555556,
             "#d8576b"
            ],
            [
             0.6666666666666666,
             "#ed7953"
            ],
            [
             0.7777777777777778,
             "#fb9f3a"
            ],
            [
             0.8888888888888888,
             "#fdca26"
            ],
            [
             1,
             "#f0f921"
            ]
           ],
           "sequentialminus": [
            [
             0,
             "#0d0887"
            ],
            [
             0.1111111111111111,
             "#46039f"
            ],
            [
             0.2222222222222222,
             "#7201a8"
            ],
            [
             0.3333333333333333,
             "#9c179e"
            ],
            [
             0.4444444444444444,
             "#bd3786"
            ],
            [
             0.5555555555555556,
             "#d8576b"
            ],
            [
             0.6666666666666666,
             "#ed7953"
            ],
            [
             0.7777777777777778,
             "#fb9f3a"
            ],
            [
             0.8888888888888888,
             "#fdca26"
            ],
            [
             1,
             "#f0f921"
            ]
           ]
          },
          "colorway": [
           "#636efa",
           "#EF553B",
           "#00cc96",
           "#ab63fa",
           "#FFA15A",
           "#19d3f3",
           "#FF6692",
           "#B6E880",
           "#FF97FF",
           "#FECB52"
          ],
          "font": {
           "color": "#2a3f5f"
          },
          "geo": {
           "bgcolor": "white",
           "lakecolor": "white",
           "landcolor": "#E5ECF6",
           "showlakes": true,
           "showland": true,
           "subunitcolor": "white"
          },
          "hoverlabel": {
           "align": "left"
          },
          "hovermode": "closest",
          "mapbox": {
           "style": "light"
          },
          "paper_bgcolor": "white",
          "plot_bgcolor": "#E5ECF6",
          "polar": {
           "angularaxis": {
            "gridcolor": "white",
            "linecolor": "white",
            "ticks": ""
           },
           "bgcolor": "#E5ECF6",
           "radialaxis": {
            "gridcolor": "white",
            "linecolor": "white",
            "ticks": ""
           }
          },
          "scene": {
           "xaxis": {
            "backgroundcolor": "#E5ECF6",
            "gridcolor": "white",
            "gridwidth": 2,
            "linecolor": "white",
            "showbackground": true,
            "ticks": "",
            "zerolinecolor": "white"
           },
           "yaxis": {
            "backgroundcolor": "#E5ECF6",
            "gridcolor": "white",
            "gridwidth": 2,
            "linecolor": "white",
            "showbackground": true,
            "ticks": "",
            "zerolinecolor": "white"
           },
           "zaxis": {
            "backgroundcolor": "#E5ECF6",
            "gridcolor": "white",
            "gridwidth": 2,
            "linecolor": "white",
            "showbackground": true,
            "ticks": "",
            "zerolinecolor": "white"
           }
          },
          "shapedefaults": {
           "line": {
            "color": "#2a3f5f"
           }
          },
          "ternary": {
           "aaxis": {
            "gridcolor": "white",
            "linecolor": "white",
            "ticks": ""
           },
           "baxis": {
            "gridcolor": "white",
            "linecolor": "white",
            "ticks": ""
           },
           "bgcolor": "#E5ECF6",
           "caxis": {
            "gridcolor": "white",
            "linecolor": "white",
            "ticks": ""
           }
          },
          "title": {
           "x": 0.05
          },
          "xaxis": {
           "automargin": true,
           "gridcolor": "white",
           "linecolor": "white",
           "ticks": "",
           "title": {
            "standoff": 15
           },
           "zerolinecolor": "white",
           "zerolinewidth": 2
          },
          "yaxis": {
           "automargin": true,
           "gridcolor": "white",
           "linecolor": "white",
           "ticks": "",
           "title": {
            "standoff": 15
           },
           "zerolinecolor": "white",
           "zerolinewidth": 2
          }
         }
        },
        "title": {
         "text": "GBP_JPY_MA_24_128"
        },
        "width": 1000,
        "xaxis": {
         "linecolor": "#3a4a54",
         "linewidth": 1,
         "showgrid": false,
         "zeroline": false
        },
        "yaxis": {
         "linecolor": "#3a4a54",
         "linewidth": 1,
         "showgrid": false,
         "zeroline": false
        }
       }
      }
     },
     "metadata": {},
     "output_type": "display_data"
    },
    {
     "data": {
      "application/vnd.plotly.v1+json": {
       "config": {
        "plotlyServerURL": "https://plot.ly"
       },
       "data": [
        {
         "line": {
          "color": "#3d825f",
          "shape": "spline",
          "width": 2
         },
         "mode": "lines",
         "name": "GBP_NZD_MA_24_128",
         "type": "scatter",
         "x": [
          "2024-01-25T05:00:00+00:00",
          "2024-01-25T07:00:00+00:00",
          "2024-01-25T10:00:00+00:00",
          "2024-01-26T16:00:00+00:00",
          "2024-01-29T12:00:00+00:00",
          "2024-02-02T16:00:00+00:00",
          "2024-02-06T02:00:00+00:00",
          "2024-02-13T13:00:00+00:00",
          "2024-02-15T05:00:00+00:00",
          "2024-02-26T03:00:00+00:00",
          "2024-03-07T06:00:00+00:00",
          "2024-03-11T08:00:00+00:00",
          "2024-03-11T19:00:00+00:00",
          "2024-03-13T08:00:00+00:00",
          "2024-04-02T18:00:00+00:00",
          "2024-04-11T11:00:00+00:00",
          "2024-04-11T14:00:00+00:00",
          "2024-04-15T06:00:00+00:00",
          "2024-04-22T01:00:00+00:00",
          "2024-04-25T09:00:00+00:00",
          "2024-05-03T00:00:00+00:00",
          "2024-05-13T17:00:00+00:00",
          "2024-05-15T12:00:00+00:00",
          "2024-05-21T01:00:00+00:00",
          "2024-05-27T05:00:00+00:00",
          "2024-05-30T08:00:00+00:00",
          "2024-05-31T11:00:00+00:00",
          "2024-06-07T18:00:00+00:00",
          "2024-06-12T17:00:00+00:00",
          "2024-06-18T03:00:00+00:00",
          "2024-06-20T20:00:00+00:00",
          "2024-06-25T06:00:00+00:00",
          "2024-07-30T22:00:00+00:00"
         ],
         "y": [
          -4.40000000000218,
          -37.90000000000404,
          -88.20000000000493,
          -156.20000000000633,
          -203.8000000000073,
          -333.2000000000068,
          -421.4000000000073,
          -543.2000000000103,
          -411.6000000000097,
          -206.00000000000836,
          -284.80000000000945,
          -322.4000000000115,
          -318.10000000001446,
          -7.100000000015427,
          123.09999999998487,
          133.59999999998706,
          103.39999999998906,
          24.099999999989137,
          -71.60000000001165,
          -62.20000000001224,
          80.0999999999874,
          -5.400000000013165,
          -48.60000000001196,
          -89.80000000001098,
          -115.40000000000994,
          -197.00000000000716,
          -284.80000000000507,
          -444.00000000000443,
          -534.6000000000029,
          -602.8000000000011,
          -625.7000000000002,
          407.19999999999857,
          738.3999999999967
         ]
        }
       ],
       "layout": {
        "font": {
         "color": "#e1e1e1",
         "size": 10
        },
        "height": 400,
        "margin": {
         "b": 10,
         "l": 15,
         "r": 15
        },
        "paper_bgcolor": "#1e1e1e",
        "plot_bgcolor": "#1e1e1e",
        "template": {
         "data": {
          "bar": [
           {
            "error_x": {
             "color": "#2a3f5f"
            },
            "error_y": {
             "color": "#2a3f5f"
            },
            "marker": {
             "line": {
              "color": "#E5ECF6",
              "width": 0.5
             },
             "pattern": {
              "fillmode": "overlay",
              "size": 10,
              "solidity": 0.2
             }
            },
            "type": "bar"
           }
          ],
          "barpolar": [
           {
            "marker": {
             "line": {
              "color": "#E5ECF6",
              "width": 0.5
             },
             "pattern": {
              "fillmode": "overlay",
              "size": 10,
              "solidity": 0.2
             }
            },
            "type": "barpolar"
           }
          ],
          "carpet": [
           {
            "aaxis": {
             "endlinecolor": "#2a3f5f",
             "gridcolor": "white",
             "linecolor": "white",
             "minorgridcolor": "white",
             "startlinecolor": "#2a3f5f"
            },
            "baxis": {
             "endlinecolor": "#2a3f5f",
             "gridcolor": "white",
             "linecolor": "white",
             "minorgridcolor": "white",
             "startlinecolor": "#2a3f5f"
            },
            "type": "carpet"
           }
          ],
          "choropleth": [
           {
            "colorbar": {
             "outlinewidth": 0,
             "ticks": ""
            },
            "type": "choropleth"
           }
          ],
          "contour": [
           {
            "colorbar": {
             "outlinewidth": 0,
             "ticks": ""
            },
            "colorscale": [
             [
              0,
              "#0d0887"
             ],
             [
              0.1111111111111111,
              "#46039f"
             ],
             [
              0.2222222222222222,
              "#7201a8"
             ],
             [
              0.3333333333333333,
              "#9c179e"
             ],
             [
              0.4444444444444444,
              "#bd3786"
             ],
             [
              0.5555555555555556,
              "#d8576b"
             ],
             [
              0.6666666666666666,
              "#ed7953"
             ],
             [
              0.7777777777777778,
              "#fb9f3a"
             ],
             [
              0.8888888888888888,
              "#fdca26"
             ],
             [
              1,
              "#f0f921"
             ]
            ],
            "type": "contour"
           }
          ],
          "contourcarpet": [
           {
            "colorbar": {
             "outlinewidth": 0,
             "ticks": ""
            },
            "type": "contourcarpet"
           }
          ],
          "heatmap": [
           {
            "colorbar": {
             "outlinewidth": 0,
             "ticks": ""
            },
            "colorscale": [
             [
              0,
              "#0d0887"
             ],
             [
              0.1111111111111111,
              "#46039f"
             ],
             [
              0.2222222222222222,
              "#7201a8"
             ],
             [
              0.3333333333333333,
              "#9c179e"
             ],
             [
              0.4444444444444444,
              "#bd3786"
             ],
             [
              0.5555555555555556,
              "#d8576b"
             ],
             [
              0.6666666666666666,
              "#ed7953"
             ],
             [
              0.7777777777777778,
              "#fb9f3a"
             ],
             [
              0.8888888888888888,
              "#fdca26"
             ],
             [
              1,
              "#f0f921"
             ]
            ],
            "type": "heatmap"
           }
          ],
          "heatmapgl": [
           {
            "colorbar": {
             "outlinewidth": 0,
             "ticks": ""
            },
            "colorscale": [
             [
              0,
              "#0d0887"
             ],
             [
              0.1111111111111111,
              "#46039f"
             ],
             [
              0.2222222222222222,
              "#7201a8"
             ],
             [
              0.3333333333333333,
              "#9c179e"
             ],
             [
              0.4444444444444444,
              "#bd3786"
             ],
             [
              0.5555555555555556,
              "#d8576b"
             ],
             [
              0.6666666666666666,
              "#ed7953"
             ],
             [
              0.7777777777777778,
              "#fb9f3a"
             ],
             [
              0.8888888888888888,
              "#fdca26"
             ],
             [
              1,
              "#f0f921"
             ]
            ],
            "type": "heatmapgl"
           }
          ],
          "histogram": [
           {
            "marker": {
             "pattern": {
              "fillmode": "overlay",
              "size": 10,
              "solidity": 0.2
             }
            },
            "type": "histogram"
           }
          ],
          "histogram2d": [
           {
            "colorbar": {
             "outlinewidth": 0,
             "ticks": ""
            },
            "colorscale": [
             [
              0,
              "#0d0887"
             ],
             [
              0.1111111111111111,
              "#46039f"
             ],
             [
              0.2222222222222222,
              "#7201a8"
             ],
             [
              0.3333333333333333,
              "#9c179e"
             ],
             [
              0.4444444444444444,
              "#bd3786"
             ],
             [
              0.5555555555555556,
              "#d8576b"
             ],
             [
              0.6666666666666666,
              "#ed7953"
             ],
             [
              0.7777777777777778,
              "#fb9f3a"
             ],
             [
              0.8888888888888888,
              "#fdca26"
             ],
             [
              1,
              "#f0f921"
             ]
            ],
            "type": "histogram2d"
           }
          ],
          "histogram2dcontour": [
           {
            "colorbar": {
             "outlinewidth": 0,
             "ticks": ""
            },
            "colorscale": [
             [
              0,
              "#0d0887"
             ],
             [
              0.1111111111111111,
              "#46039f"
             ],
             [
              0.2222222222222222,
              "#7201a8"
             ],
             [
              0.3333333333333333,
              "#9c179e"
             ],
             [
              0.4444444444444444,
              "#bd3786"
             ],
             [
              0.5555555555555556,
              "#d8576b"
             ],
             [
              0.6666666666666666,
              "#ed7953"
             ],
             [
              0.7777777777777778,
              "#fb9f3a"
             ],
             [
              0.8888888888888888,
              "#fdca26"
             ],
             [
              1,
              "#f0f921"
             ]
            ],
            "type": "histogram2dcontour"
           }
          ],
          "mesh3d": [
           {
            "colorbar": {
             "outlinewidth": 0,
             "ticks": ""
            },
            "type": "mesh3d"
           }
          ],
          "parcoords": [
           {
            "line": {
             "colorbar": {
              "outlinewidth": 0,
              "ticks": ""
             }
            },
            "type": "parcoords"
           }
          ],
          "pie": [
           {
            "automargin": true,
            "type": "pie"
           }
          ],
          "scatter": [
           {
            "fillpattern": {
             "fillmode": "overlay",
             "size": 10,
             "solidity": 0.2
            },
            "type": "scatter"
           }
          ],
          "scatter3d": [
           {
            "line": {
             "colorbar": {
              "outlinewidth": 0,
              "ticks": ""
             }
            },
            "marker": {
             "colorbar": {
              "outlinewidth": 0,
              "ticks": ""
             }
            },
            "type": "scatter3d"
           }
          ],
          "scattercarpet": [
           {
            "marker": {
             "colorbar": {
              "outlinewidth": 0,
              "ticks": ""
             }
            },
            "type": "scattercarpet"
           }
          ],
          "scattergeo": [
           {
            "marker": {
             "colorbar": {
              "outlinewidth": 0,
              "ticks": ""
             }
            },
            "type": "scattergeo"
           }
          ],
          "scattergl": [
           {
            "marker": {
             "colorbar": {
              "outlinewidth": 0,
              "ticks": ""
             }
            },
            "type": "scattergl"
           }
          ],
          "scattermapbox": [
           {
            "marker": {
             "colorbar": {
              "outlinewidth": 0,
              "ticks": ""
             }
            },
            "type": "scattermapbox"
           }
          ],
          "scatterpolar": [
           {
            "marker": {
             "colorbar": {
              "outlinewidth": 0,
              "ticks": ""
             }
            },
            "type": "scatterpolar"
           }
          ],
          "scatterpolargl": [
           {
            "marker": {
             "colorbar": {
              "outlinewidth": 0,
              "ticks": ""
             }
            },
            "type": "scatterpolargl"
           }
          ],
          "scatterternary": [
           {
            "marker": {
             "colorbar": {
              "outlinewidth": 0,
              "ticks": ""
             }
            },
            "type": "scatterternary"
           }
          ],
          "surface": [
           {
            "colorbar": {
             "outlinewidth": 0,
             "ticks": ""
            },
            "colorscale": [
             [
              0,
              "#0d0887"
             ],
             [
              0.1111111111111111,
              "#46039f"
             ],
             [
              0.2222222222222222,
              "#7201a8"
             ],
             [
              0.3333333333333333,
              "#9c179e"
             ],
             [
              0.4444444444444444,
              "#bd3786"
             ],
             [
              0.5555555555555556,
              "#d8576b"
             ],
             [
              0.6666666666666666,
              "#ed7953"
             ],
             [
              0.7777777777777778,
              "#fb9f3a"
             ],
             [
              0.8888888888888888,
              "#fdca26"
             ],
             [
              1,
              "#f0f921"
             ]
            ],
            "type": "surface"
           }
          ],
          "table": [
           {
            "cells": {
             "fill": {
              "color": "#EBF0F8"
             },
             "line": {
              "color": "white"
             }
            },
            "header": {
             "fill": {
              "color": "#C8D4E3"
             },
             "line": {
              "color": "white"
             }
            },
            "type": "table"
           }
          ]
         },
         "layout": {
          "annotationdefaults": {
           "arrowcolor": "#2a3f5f",
           "arrowhead": 0,
           "arrowwidth": 1
          },
          "autotypenumbers": "strict",
          "coloraxis": {
           "colorbar": {
            "outlinewidth": 0,
            "ticks": ""
           }
          },
          "colorscale": {
           "diverging": [
            [
             0,
             "#8e0152"
            ],
            [
             0.1,
             "#c51b7d"
            ],
            [
             0.2,
             "#de77ae"
            ],
            [
             0.3,
             "#f1b6da"
            ],
            [
             0.4,
             "#fde0ef"
            ],
            [
             0.5,
             "#f7f7f7"
            ],
            [
             0.6,
             "#e6f5d0"
            ],
            [
             0.7,
             "#b8e186"
            ],
            [
             0.8,
             "#7fbc41"
            ],
            [
             0.9,
             "#4d9221"
            ],
            [
             1,
             "#276419"
            ]
           ],
           "sequential": [
            [
             0,
             "#0d0887"
            ],
            [
             0.1111111111111111,
             "#46039f"
            ],
            [
             0.2222222222222222,
             "#7201a8"
            ],
            [
             0.3333333333333333,
             "#9c179e"
            ],
            [
             0.4444444444444444,
             "#bd3786"
            ],
            [
             0.5555555555555556,
             "#d8576b"
            ],
            [
             0.6666666666666666,
             "#ed7953"
            ],
            [
             0.7777777777777778,
             "#fb9f3a"
            ],
            [
             0.8888888888888888,
             "#fdca26"
            ],
            [
             1,
             "#f0f921"
            ]
           ],
           "sequentialminus": [
            [
             0,
             "#0d0887"
            ],
            [
             0.1111111111111111,
             "#46039f"
            ],
            [
             0.2222222222222222,
             "#7201a8"
            ],
            [
             0.3333333333333333,
             "#9c179e"
            ],
            [
             0.4444444444444444,
             "#bd3786"
            ],
            [
             0.5555555555555556,
             "#d8576b"
            ],
            [
             0.6666666666666666,
             "#ed7953"
            ],
            [
             0.7777777777777778,
             "#fb9f3a"
            ],
            [
             0.8888888888888888,
             "#fdca26"
            ],
            [
             1,
             "#f0f921"
            ]
           ]
          },
          "colorway": [
           "#636efa",
           "#EF553B",
           "#00cc96",
           "#ab63fa",
           "#FFA15A",
           "#19d3f3",
           "#FF6692",
           "#B6E880",
           "#FF97FF",
           "#FECB52"
          ],
          "font": {
           "color": "#2a3f5f"
          },
          "geo": {
           "bgcolor": "white",
           "lakecolor": "white",
           "landcolor": "#E5ECF6",
           "showlakes": true,
           "showland": true,
           "subunitcolor": "white"
          },
          "hoverlabel": {
           "align": "left"
          },
          "hovermode": "closest",
          "mapbox": {
           "style": "light"
          },
          "paper_bgcolor": "white",
          "plot_bgcolor": "#E5ECF6",
          "polar": {
           "angularaxis": {
            "gridcolor": "white",
            "linecolor": "white",
            "ticks": ""
           },
           "bgcolor": "#E5ECF6",
           "radialaxis": {
            "gridcolor": "white",
            "linecolor": "white",
            "ticks": ""
           }
          },
          "scene": {
           "xaxis": {
            "backgroundcolor": "#E5ECF6",
            "gridcolor": "white",
            "gridwidth": 2,
            "linecolor": "white",
            "showbackground": true,
            "ticks": "",
            "zerolinecolor": "white"
           },
           "yaxis": {
            "backgroundcolor": "#E5ECF6",
            "gridcolor": "white",
            "gridwidth": 2,
            "linecolor": "white",
            "showbackground": true,
            "ticks": "",
            "zerolinecolor": "white"
           },
           "zaxis": {
            "backgroundcolor": "#E5ECF6",
            "gridcolor": "white",
            "gridwidth": 2,
            "linecolor": "white",
            "showbackground": true,
            "ticks": "",
            "zerolinecolor": "white"
           }
          },
          "shapedefaults": {
           "line": {
            "color": "#2a3f5f"
           }
          },
          "ternary": {
           "aaxis": {
            "gridcolor": "white",
            "linecolor": "white",
            "ticks": ""
           },
           "baxis": {
            "gridcolor": "white",
            "linecolor": "white",
            "ticks": ""
           },
           "bgcolor": "#E5ECF6",
           "caxis": {
            "gridcolor": "white",
            "linecolor": "white",
            "ticks": ""
           }
          },
          "title": {
           "x": 0.05
          },
          "xaxis": {
           "automargin": true,
           "gridcolor": "white",
           "linecolor": "white",
           "ticks": "",
           "title": {
            "standoff": 15
           },
           "zerolinecolor": "white",
           "zerolinewidth": 2
          },
          "yaxis": {
           "automargin": true,
           "gridcolor": "white",
           "linecolor": "white",
           "ticks": "",
           "title": {
            "standoff": 15
           },
           "zerolinecolor": "white",
           "zerolinewidth": 2
          }
         }
        },
        "title": {
         "text": "GBP_NZD_MA_24_128"
        },
        "width": 1000,
        "xaxis": {
         "linecolor": "#3a4a54",
         "linewidth": 1,
         "showgrid": false,
         "zeroline": false
        },
        "yaxis": {
         "linecolor": "#3a4a54",
         "linewidth": 1,
         "showgrid": false,
         "zeroline": false
        }
       }
      }
     },
     "metadata": {},
     "output_type": "display_data"
    },
    {
     "data": {
      "application/vnd.plotly.v1+json": {
       "config": {
        "plotlyServerURL": "https://plot.ly"
       },
       "data": [
        {
         "line": {
          "color": "#3d825f",
          "shape": "spline",
          "width": 2
         },
         "mode": "lines",
         "name": "GBP_CHF_MA_24_128",
         "type": "scatter",
         "x": [
          "2024-01-24T21:00:00+00:00",
          "2024-02-05T08:00:00+00:00",
          "2024-02-05T19:00:00+00:00",
          "2024-02-06T19:00:00+00:00",
          "2024-02-16T03:00:00+00:00",
          "2024-02-19T07:00:00+00:00",
          "2024-02-20T04:00:00+00:00",
          "2024-02-20T18:00:00+00:00",
          "2024-02-28T15:00:00+00:00",
          "2024-03-01T06:00:00+00:00",
          "2024-03-12T10:00:00+00:00",
          "2024-03-14T09:00:00+00:00",
          "2024-03-29T20:00:00+00:00",
          "2024-04-03T00:00:00+00:00",
          "2024-04-05T15:00:00+00:00",
          "2024-04-08T11:00:00+00:00",
          "2024-04-12T02:00:00+00:00",
          "2024-04-24T01:00:00+00:00",
          "2024-05-02T19:00:00+00:00",
          "2024-05-13T16:00:00+00:00",
          "2024-05-29T11:00:00+00:00",
          "2024-06-10T22:00:00+00:00",
          "2024-06-14T06:00:00+00:00",
          "2024-06-21T05:00:00+00:00",
          "2024-07-10T08:00:00+00:00",
          "2024-07-10T14:00:00+00:00",
          "2024-07-17T14:00:00+00:00"
         ],
         "y": [
          10.100000000001774,
          -47.69999999999719,
          -97.59999999999769,
          29.40000000000164,
          -5.999999999999346,
          -20.000000000000025,
          -40.1000000000007,
          -33.600000000002524,
          -78.20000000000383,
          -44.40000000000444,
          -104.00000000000409,
          -1.400000000004738,
          -43.20000000000546,
          -86.80000000000464,
          -150.3000000000032,
          -162.90000000000137,
          -94.89999999999998,
          -42.5999999999993,
          -29.79999999999982,
          206.599999999999,
          426.3999999999979,
          398.3999999999965,
          499.8999999999953,
          698.799999999995,
          641.5999999999955,
          634.399999999995,
          1124.5999999999933
         ]
        }
       ],
       "layout": {
        "font": {
         "color": "#e1e1e1",
         "size": 10
        },
        "height": 400,
        "margin": {
         "b": 10,
         "l": 15,
         "r": 15
        },
        "paper_bgcolor": "#1e1e1e",
        "plot_bgcolor": "#1e1e1e",
        "template": {
         "data": {
          "bar": [
           {
            "error_x": {
             "color": "#2a3f5f"
            },
            "error_y": {
             "color": "#2a3f5f"
            },
            "marker": {
             "line": {
              "color": "#E5ECF6",
              "width": 0.5
             },
             "pattern": {
              "fillmode": "overlay",
              "size": 10,
              "solidity": 0.2
             }
            },
            "type": "bar"
           }
          ],
          "barpolar": [
           {
            "marker": {
             "line": {
              "color": "#E5ECF6",
              "width": 0.5
             },
             "pattern": {
              "fillmode": "overlay",
              "size": 10,
              "solidity": 0.2
             }
            },
            "type": "barpolar"
           }
          ],
          "carpet": [
           {
            "aaxis": {
             "endlinecolor": "#2a3f5f",
             "gridcolor": "white",
             "linecolor": "white",
             "minorgridcolor": "white",
             "startlinecolor": "#2a3f5f"
            },
            "baxis": {
             "endlinecolor": "#2a3f5f",
             "gridcolor": "white",
             "linecolor": "white",
             "minorgridcolor": "white",
             "startlinecolor": "#2a3f5f"
            },
            "type": "carpet"
           }
          ],
          "choropleth": [
           {
            "colorbar": {
             "outlinewidth": 0,
             "ticks": ""
            },
            "type": "choropleth"
           }
          ],
          "contour": [
           {
            "colorbar": {
             "outlinewidth": 0,
             "ticks": ""
            },
            "colorscale": [
             [
              0,
              "#0d0887"
             ],
             [
              0.1111111111111111,
              "#46039f"
             ],
             [
              0.2222222222222222,
              "#7201a8"
             ],
             [
              0.3333333333333333,
              "#9c179e"
             ],
             [
              0.4444444444444444,
              "#bd3786"
             ],
             [
              0.5555555555555556,
              "#d8576b"
             ],
             [
              0.6666666666666666,
              "#ed7953"
             ],
             [
              0.7777777777777778,
              "#fb9f3a"
             ],
             [
              0.8888888888888888,
              "#fdca26"
             ],
             [
              1,
              "#f0f921"
             ]
            ],
            "type": "contour"
           }
          ],
          "contourcarpet": [
           {
            "colorbar": {
             "outlinewidth": 0,
             "ticks": ""
            },
            "type": "contourcarpet"
           }
          ],
          "heatmap": [
           {
            "colorbar": {
             "outlinewidth": 0,
             "ticks": ""
            },
            "colorscale": [
             [
              0,
              "#0d0887"
             ],
             [
              0.1111111111111111,
              "#46039f"
             ],
             [
              0.2222222222222222,
              "#7201a8"
             ],
             [
              0.3333333333333333,
              "#9c179e"
             ],
             [
              0.4444444444444444,
              "#bd3786"
             ],
             [
              0.5555555555555556,
              "#d8576b"
             ],
             [
              0.6666666666666666,
              "#ed7953"
             ],
             [
              0.7777777777777778,
              "#fb9f3a"
             ],
             [
              0.8888888888888888,
              "#fdca26"
             ],
             [
              1,
              "#f0f921"
             ]
            ],
            "type": "heatmap"
           }
          ],
          "heatmapgl": [
           {
            "colorbar": {
             "outlinewidth": 0,
             "ticks": ""
            },
            "colorscale": [
             [
              0,
              "#0d0887"
             ],
             [
              0.1111111111111111,
              "#46039f"
             ],
             [
              0.2222222222222222,
              "#7201a8"
             ],
             [
              0.3333333333333333,
              "#9c179e"
             ],
             [
              0.4444444444444444,
              "#bd3786"
             ],
             [
              0.5555555555555556,
              "#d8576b"
             ],
             [
              0.6666666666666666,
              "#ed7953"
             ],
             [
              0.7777777777777778,
              "#fb9f3a"
             ],
             [
              0.8888888888888888,
              "#fdca26"
             ],
             [
              1,
              "#f0f921"
             ]
            ],
            "type": "heatmapgl"
           }
          ],
          "histogram": [
           {
            "marker": {
             "pattern": {
              "fillmode": "overlay",
              "size": 10,
              "solidity": 0.2
             }
            },
            "type": "histogram"
           }
          ],
          "histogram2d": [
           {
            "colorbar": {
             "outlinewidth": 0,
             "ticks": ""
            },
            "colorscale": [
             [
              0,
              "#0d0887"
             ],
             [
              0.1111111111111111,
              "#46039f"
             ],
             [
              0.2222222222222222,
              "#7201a8"
             ],
             [
              0.3333333333333333,
              "#9c179e"
             ],
             [
              0.4444444444444444,
              "#bd3786"
             ],
             [
              0.5555555555555556,
              "#d8576b"
             ],
             [
              0.6666666666666666,
              "#ed7953"
             ],
             [
              0.7777777777777778,
              "#fb9f3a"
             ],
             [
              0.8888888888888888,
              "#fdca26"
             ],
             [
              1,
              "#f0f921"
             ]
            ],
            "type": "histogram2d"
           }
          ],
          "histogram2dcontour": [
           {
            "colorbar": {
             "outlinewidth": 0,
             "ticks": ""
            },
            "colorscale": [
             [
              0,
              "#0d0887"
             ],
             [
              0.1111111111111111,
              "#46039f"
             ],
             [
              0.2222222222222222,
              "#7201a8"
             ],
             [
              0.3333333333333333,
              "#9c179e"
             ],
             [
              0.4444444444444444,
              "#bd3786"
             ],
             [
              0.5555555555555556,
              "#d8576b"
             ],
             [
              0.6666666666666666,
              "#ed7953"
             ],
             [
              0.7777777777777778,
              "#fb9f3a"
             ],
             [
              0.8888888888888888,
              "#fdca26"
             ],
             [
              1,
              "#f0f921"
             ]
            ],
            "type": "histogram2dcontour"
           }
          ],
          "mesh3d": [
           {
            "colorbar": {
             "outlinewidth": 0,
             "ticks": ""
            },
            "type": "mesh3d"
           }
          ],
          "parcoords": [
           {
            "line": {
             "colorbar": {
              "outlinewidth": 0,
              "ticks": ""
             }
            },
            "type": "parcoords"
           }
          ],
          "pie": [
           {
            "automargin": true,
            "type": "pie"
           }
          ],
          "scatter": [
           {
            "fillpattern": {
             "fillmode": "overlay",
             "size": 10,
             "solidity": 0.2
            },
            "type": "scatter"
           }
          ],
          "scatter3d": [
           {
            "line": {
             "colorbar": {
              "outlinewidth": 0,
              "ticks": ""
             }
            },
            "marker": {
             "colorbar": {
              "outlinewidth": 0,
              "ticks": ""
             }
            },
            "type": "scatter3d"
           }
          ],
          "scattercarpet": [
           {
            "marker": {
             "colorbar": {
              "outlinewidth": 0,
              "ticks": ""
             }
            },
            "type": "scattercarpet"
           }
          ],
          "scattergeo": [
           {
            "marker": {
             "colorbar": {
              "outlinewidth": 0,
              "ticks": ""
             }
            },
            "type": "scattergeo"
           }
          ],
          "scattergl": [
           {
            "marker": {
             "colorbar": {
              "outlinewidth": 0,
              "ticks": ""
             }
            },
            "type": "scattergl"
           }
          ],
          "scattermapbox": [
           {
            "marker": {
             "colorbar": {
              "outlinewidth": 0,
              "ticks": ""
             }
            },
            "type": "scattermapbox"
           }
          ],
          "scatterpolar": [
           {
            "marker": {
             "colorbar": {
              "outlinewidth": 0,
              "ticks": ""
             }
            },
            "type": "scatterpolar"
           }
          ],
          "scatterpolargl": [
           {
            "marker": {
             "colorbar": {
              "outlinewidth": 0,
              "ticks": ""
             }
            },
            "type": "scatterpolargl"
           }
          ],
          "scatterternary": [
           {
            "marker": {
             "colorbar": {
              "outlinewidth": 0,
              "ticks": ""
             }
            },
            "type": "scatterternary"
           }
          ],
          "surface": [
           {
            "colorbar": {
             "outlinewidth": 0,
             "ticks": ""
            },
            "colorscale": [
             [
              0,
              "#0d0887"
             ],
             [
              0.1111111111111111,
              "#46039f"
             ],
             [
              0.2222222222222222,
              "#7201a8"
             ],
             [
              0.3333333333333333,
              "#9c179e"
             ],
             [
              0.4444444444444444,
              "#bd3786"
             ],
             [
              0.5555555555555556,
              "#d8576b"
             ],
             [
              0.6666666666666666,
              "#ed7953"
             ],
             [
              0.7777777777777778,
              "#fb9f3a"
             ],
             [
              0.8888888888888888,
              "#fdca26"
             ],
             [
              1,
              "#f0f921"
             ]
            ],
            "type": "surface"
           }
          ],
          "table": [
           {
            "cells": {
             "fill": {
              "color": "#EBF0F8"
             },
             "line": {
              "color": "white"
             }
            },
            "header": {
             "fill": {
              "color": "#C8D4E3"
             },
             "line": {
              "color": "white"
             }
            },
            "type": "table"
           }
          ]
         },
         "layout": {
          "annotationdefaults": {
           "arrowcolor": "#2a3f5f",
           "arrowhead": 0,
           "arrowwidth": 1
          },
          "autotypenumbers": "strict",
          "coloraxis": {
           "colorbar": {
            "outlinewidth": 0,
            "ticks": ""
           }
          },
          "colorscale": {
           "diverging": [
            [
             0,
             "#8e0152"
            ],
            [
             0.1,
             "#c51b7d"
            ],
            [
             0.2,
             "#de77ae"
            ],
            [
             0.3,
             "#f1b6da"
            ],
            [
             0.4,
             "#fde0ef"
            ],
            [
             0.5,
             "#f7f7f7"
            ],
            [
             0.6,
             "#e6f5d0"
            ],
            [
             0.7,
             "#b8e186"
            ],
            [
             0.8,
             "#7fbc41"
            ],
            [
             0.9,
             "#4d9221"
            ],
            [
             1,
             "#276419"
            ]
           ],
           "sequential": [
            [
             0,
             "#0d0887"
            ],
            [
             0.1111111111111111,
             "#46039f"
            ],
            [
             0.2222222222222222,
             "#7201a8"
            ],
            [
             0.3333333333333333,
             "#9c179e"
            ],
            [
             0.4444444444444444,
             "#bd3786"
            ],
            [
             0.5555555555555556,
             "#d8576b"
            ],
            [
             0.6666666666666666,
             "#ed7953"
            ],
            [
             0.7777777777777778,
             "#fb9f3a"
            ],
            [
             0.8888888888888888,
             "#fdca26"
            ],
            [
             1,
             "#f0f921"
            ]
           ],
           "sequentialminus": [
            [
             0,
             "#0d0887"
            ],
            [
             0.1111111111111111,
             "#46039f"
            ],
            [
             0.2222222222222222,
             "#7201a8"
            ],
            [
             0.3333333333333333,
             "#9c179e"
            ],
            [
             0.4444444444444444,
             "#bd3786"
            ],
            [
             0.5555555555555556,
             "#d8576b"
            ],
            [
             0.6666666666666666,
             "#ed7953"
            ],
            [
             0.7777777777777778,
             "#fb9f3a"
            ],
            [
             0.8888888888888888,
             "#fdca26"
            ],
            [
             1,
             "#f0f921"
            ]
           ]
          },
          "colorway": [
           "#636efa",
           "#EF553B",
           "#00cc96",
           "#ab63fa",
           "#FFA15A",
           "#19d3f3",
           "#FF6692",
           "#B6E880",
           "#FF97FF",
           "#FECB52"
          ],
          "font": {
           "color": "#2a3f5f"
          },
          "geo": {
           "bgcolor": "white",
           "lakecolor": "white",
           "landcolor": "#E5ECF6",
           "showlakes": true,
           "showland": true,
           "subunitcolor": "white"
          },
          "hoverlabel": {
           "align": "left"
          },
          "hovermode": "closest",
          "mapbox": {
           "style": "light"
          },
          "paper_bgcolor": "white",
          "plot_bgcolor": "#E5ECF6",
          "polar": {
           "angularaxis": {
            "gridcolor": "white",
            "linecolor": "white",
            "ticks": ""
           },
           "bgcolor": "#E5ECF6",
           "radialaxis": {
            "gridcolor": "white",
            "linecolor": "white",
            "ticks": ""
           }
          },
          "scene": {
           "xaxis": {
            "backgroundcolor": "#E5ECF6",
            "gridcolor": "white",
            "gridwidth": 2,
            "linecolor": "white",
            "showbackground": true,
            "ticks": "",
            "zerolinecolor": "white"
           },
           "yaxis": {
            "backgroundcolor": "#E5ECF6",
            "gridcolor": "white",
            "gridwidth": 2,
            "linecolor": "white",
            "showbackground": true,
            "ticks": "",
            "zerolinecolor": "white"
           },
           "zaxis": {
            "backgroundcolor": "#E5ECF6",
            "gridcolor": "white",
            "gridwidth": 2,
            "linecolor": "white",
            "showbackground": true,
            "ticks": "",
            "zerolinecolor": "white"
           }
          },
          "shapedefaults": {
           "line": {
            "color": "#2a3f5f"
           }
          },
          "ternary": {
           "aaxis": {
            "gridcolor": "white",
            "linecolor": "white",
            "ticks": ""
           },
           "baxis": {
            "gridcolor": "white",
            "linecolor": "white",
            "ticks": ""
           },
           "bgcolor": "#E5ECF6",
           "caxis": {
            "gridcolor": "white",
            "linecolor": "white",
            "ticks": ""
           }
          },
          "title": {
           "x": 0.05
          },
          "xaxis": {
           "automargin": true,
           "gridcolor": "white",
           "linecolor": "white",
           "ticks": "",
           "title": {
            "standoff": 15
           },
           "zerolinecolor": "white",
           "zerolinewidth": 2
          },
          "yaxis": {
           "automargin": true,
           "gridcolor": "white",
           "linecolor": "white",
           "ticks": "",
           "title": {
            "standoff": 15
           },
           "zerolinecolor": "white",
           "zerolinewidth": 2
          }
         }
        },
        "title": {
         "text": "GBP_CHF_MA_24_128"
        },
        "width": 1000,
        "xaxis": {
         "linecolor": "#3a4a54",
         "linewidth": 1,
         "showgrid": false,
         "zeroline": false
        },
        "yaxis": {
         "linecolor": "#3a4a54",
         "linewidth": 1,
         "showgrid": false,
         "zeroline": false
        }
       }
      }
     },
     "metadata": {},
     "output_type": "display_data"
    },
    {
     "data": {
      "application/vnd.plotly.v1+json": {
       "config": {
        "plotlyServerURL": "https://plot.ly"
       },
       "data": [
        {
         "line": {
          "color": "#3d825f",
          "shape": "spline",
          "width": 2
         },
         "mode": "lines",
         "name": "EUR_JPY_MA_24_128",
         "type": "scatter",
         "x": [
          "2024-01-23T22:00:00+00:00",
          "2024-02-04T22:00:00+00:00",
          "2024-02-06T20:00:00+00:00",
          "2024-02-07T23:00:00+00:00",
          "2024-02-29T04:00:00+00:00",
          "2024-03-04T15:00:00+00:00",
          "2024-03-06T09:00:00+00:00",
          "2024-03-13T15:00:00+00:00",
          "2024-03-25T03:00:00+00:00",
          "2024-04-03T12:00:00+00:00",
          "2024-04-11T02:00:00+00:00",
          "2024-04-16T21:00:00+00:00",
          "2024-05-02T05:00:00+00:00",
          "2024-05-07T20:00:00+00:00",
          "2024-05-16T09:00:00+00:00",
          "2024-05-17T00:00:00+00:00",
          "2024-05-30T07:00:00+00:00",
          "2024-06-02T23:00:00+00:00",
          "2024-06-04T03:00:00+00:00",
          "2024-06-13T03:00:00+00:00",
          "2024-06-14T07:00:00+00:00",
          "2024-06-18T00:00:00+00:00",
          "2024-07-11T19:00:00+00:00"
         ],
         "y": [
          97.49999999999943,
          -6.700000000000728,
          -61.000000000001364,
          216.59999999999684,
          104.79999999999734,
          33.799999999999386,
          142.40000000000066,
          328.7000000000006,
          315.80000000000155,
          371.1000000000041,
          371.9000000000051,
          636.4000000000061,
          685.600000000008,
          862.000000000009,
          789.00000000001,
          868.9000000000107,
          776.4000000000095,
          776.1000000000081,
          866.9000000000068,
          782.600000000005,
          736.8000000000052,
          1064.8000000000052,
          2280.7000000000044
         ]
        }
       ],
       "layout": {
        "font": {
         "color": "#e1e1e1",
         "size": 10
        },
        "height": 400,
        "margin": {
         "b": 10,
         "l": 15,
         "r": 15
        },
        "paper_bgcolor": "#1e1e1e",
        "plot_bgcolor": "#1e1e1e",
        "template": {
         "data": {
          "bar": [
           {
            "error_x": {
             "color": "#2a3f5f"
            },
            "error_y": {
             "color": "#2a3f5f"
            },
            "marker": {
             "line": {
              "color": "#E5ECF6",
              "width": 0.5
             },
             "pattern": {
              "fillmode": "overlay",
              "size": 10,
              "solidity": 0.2
             }
            },
            "type": "bar"
           }
          ],
          "barpolar": [
           {
            "marker": {
             "line": {
              "color": "#E5ECF6",
              "width": 0.5
             },
             "pattern": {
              "fillmode": "overlay",
              "size": 10,
              "solidity": 0.2
             }
            },
            "type": "barpolar"
           }
          ],
          "carpet": [
           {
            "aaxis": {
             "endlinecolor": "#2a3f5f",
             "gridcolor": "white",
             "linecolor": "white",
             "minorgridcolor": "white",
             "startlinecolor": "#2a3f5f"
            },
            "baxis": {
             "endlinecolor": "#2a3f5f",
             "gridcolor": "white",
             "linecolor": "white",
             "minorgridcolor": "white",
             "startlinecolor": "#2a3f5f"
            },
            "type": "carpet"
           }
          ],
          "choropleth": [
           {
            "colorbar": {
             "outlinewidth": 0,
             "ticks": ""
            },
            "type": "choropleth"
           }
          ],
          "contour": [
           {
            "colorbar": {
             "outlinewidth": 0,
             "ticks": ""
            },
            "colorscale": [
             [
              0,
              "#0d0887"
             ],
             [
              0.1111111111111111,
              "#46039f"
             ],
             [
              0.2222222222222222,
              "#7201a8"
             ],
             [
              0.3333333333333333,
              "#9c179e"
             ],
             [
              0.4444444444444444,
              "#bd3786"
             ],
             [
              0.5555555555555556,
              "#d8576b"
             ],
             [
              0.6666666666666666,
              "#ed7953"
             ],
             [
              0.7777777777777778,
              "#fb9f3a"
             ],
             [
              0.8888888888888888,
              "#fdca26"
             ],
             [
              1,
              "#f0f921"
             ]
            ],
            "type": "contour"
           }
          ],
          "contourcarpet": [
           {
            "colorbar": {
             "outlinewidth": 0,
             "ticks": ""
            },
            "type": "contourcarpet"
           }
          ],
          "heatmap": [
           {
            "colorbar": {
             "outlinewidth": 0,
             "ticks": ""
            },
            "colorscale": [
             [
              0,
              "#0d0887"
             ],
             [
              0.1111111111111111,
              "#46039f"
             ],
             [
              0.2222222222222222,
              "#7201a8"
             ],
             [
              0.3333333333333333,
              "#9c179e"
             ],
             [
              0.4444444444444444,
              "#bd3786"
             ],
             [
              0.5555555555555556,
              "#d8576b"
             ],
             [
              0.6666666666666666,
              "#ed7953"
             ],
             [
              0.7777777777777778,
              "#fb9f3a"
             ],
             [
              0.8888888888888888,
              "#fdca26"
             ],
             [
              1,
              "#f0f921"
             ]
            ],
            "type": "heatmap"
           }
          ],
          "heatmapgl": [
           {
            "colorbar": {
             "outlinewidth": 0,
             "ticks": ""
            },
            "colorscale": [
             [
              0,
              "#0d0887"
             ],
             [
              0.1111111111111111,
              "#46039f"
             ],
             [
              0.2222222222222222,
              "#7201a8"
             ],
             [
              0.3333333333333333,
              "#9c179e"
             ],
             [
              0.4444444444444444,
              "#bd3786"
             ],
             [
              0.5555555555555556,
              "#d8576b"
             ],
             [
              0.6666666666666666,
              "#ed7953"
             ],
             [
              0.7777777777777778,
              "#fb9f3a"
             ],
             [
              0.8888888888888888,
              "#fdca26"
             ],
             [
              1,
              "#f0f921"
             ]
            ],
            "type": "heatmapgl"
           }
          ],
          "histogram": [
           {
            "marker": {
             "pattern": {
              "fillmode": "overlay",
              "size": 10,
              "solidity": 0.2
             }
            },
            "type": "histogram"
           }
          ],
          "histogram2d": [
           {
            "colorbar": {
             "outlinewidth": 0,
             "ticks": ""
            },
            "colorscale": [
             [
              0,
              "#0d0887"
             ],
             [
              0.1111111111111111,
              "#46039f"
             ],
             [
              0.2222222222222222,
              "#7201a8"
             ],
             [
              0.3333333333333333,
              "#9c179e"
             ],
             [
              0.4444444444444444,
              "#bd3786"
             ],
             [
              0.5555555555555556,
              "#d8576b"
             ],
             [
              0.6666666666666666,
              "#ed7953"
             ],
             [
              0.7777777777777778,
              "#fb9f3a"
             ],
             [
              0.8888888888888888,
              "#fdca26"
             ],
             [
              1,
              "#f0f921"
             ]
            ],
            "type": "histogram2d"
           }
          ],
          "histogram2dcontour": [
           {
            "colorbar": {
             "outlinewidth": 0,
             "ticks": ""
            },
            "colorscale": [
             [
              0,
              "#0d0887"
             ],
             [
              0.1111111111111111,
              "#46039f"
             ],
             [
              0.2222222222222222,
              "#7201a8"
             ],
             [
              0.3333333333333333,
              "#9c179e"
             ],
             [
              0.4444444444444444,
              "#bd3786"
             ],
             [
              0.5555555555555556,
              "#d8576b"
             ],
             [
              0.6666666666666666,
              "#ed7953"
             ],
             [
              0.7777777777777778,
              "#fb9f3a"
             ],
             [
              0.8888888888888888,
              "#fdca26"
             ],
             [
              1,
              "#f0f921"
             ]
            ],
            "type": "histogram2dcontour"
           }
          ],
          "mesh3d": [
           {
            "colorbar": {
             "outlinewidth": 0,
             "ticks": ""
            },
            "type": "mesh3d"
           }
          ],
          "parcoords": [
           {
            "line": {
             "colorbar": {
              "outlinewidth": 0,
              "ticks": ""
             }
            },
            "type": "parcoords"
           }
          ],
          "pie": [
           {
            "automargin": true,
            "type": "pie"
           }
          ],
          "scatter": [
           {
            "fillpattern": {
             "fillmode": "overlay",
             "size": 10,
             "solidity": 0.2
            },
            "type": "scatter"
           }
          ],
          "scatter3d": [
           {
            "line": {
             "colorbar": {
              "outlinewidth": 0,
              "ticks": ""
             }
            },
            "marker": {
             "colorbar": {
              "outlinewidth": 0,
              "ticks": ""
             }
            },
            "type": "scatter3d"
           }
          ],
          "scattercarpet": [
           {
            "marker": {
             "colorbar": {
              "outlinewidth": 0,
              "ticks": ""
             }
            },
            "type": "scattercarpet"
           }
          ],
          "scattergeo": [
           {
            "marker": {
             "colorbar": {
              "outlinewidth": 0,
              "ticks": ""
             }
            },
            "type": "scattergeo"
           }
          ],
          "scattergl": [
           {
            "marker": {
             "colorbar": {
              "outlinewidth": 0,
              "ticks": ""
             }
            },
            "type": "scattergl"
           }
          ],
          "scattermapbox": [
           {
            "marker": {
             "colorbar": {
              "outlinewidth": 0,
              "ticks": ""
             }
            },
            "type": "scattermapbox"
           }
          ],
          "scatterpolar": [
           {
            "marker": {
             "colorbar": {
              "outlinewidth": 0,
              "ticks": ""
             }
            },
            "type": "scatterpolar"
           }
          ],
          "scatterpolargl": [
           {
            "marker": {
             "colorbar": {
              "outlinewidth": 0,
              "ticks": ""
             }
            },
            "type": "scatterpolargl"
           }
          ],
          "scatterternary": [
           {
            "marker": {
             "colorbar": {
              "outlinewidth": 0,
              "ticks": ""
             }
            },
            "type": "scatterternary"
           }
          ],
          "surface": [
           {
            "colorbar": {
             "outlinewidth": 0,
             "ticks": ""
            },
            "colorscale": [
             [
              0,
              "#0d0887"
             ],
             [
              0.1111111111111111,
              "#46039f"
             ],
             [
              0.2222222222222222,
              "#7201a8"
             ],
             [
              0.3333333333333333,
              "#9c179e"
             ],
             [
              0.4444444444444444,
              "#bd3786"
             ],
             [
              0.5555555555555556,
              "#d8576b"
             ],
             [
              0.6666666666666666,
              "#ed7953"
             ],
             [
              0.7777777777777778,
              "#fb9f3a"
             ],
             [
              0.8888888888888888,
              "#fdca26"
             ],
             [
              1,
              "#f0f921"
             ]
            ],
            "type": "surface"
           }
          ],
          "table": [
           {
            "cells": {
             "fill": {
              "color": "#EBF0F8"
             },
             "line": {
              "color": "white"
             }
            },
            "header": {
             "fill": {
              "color": "#C8D4E3"
             },
             "line": {
              "color": "white"
             }
            },
            "type": "table"
           }
          ]
         },
         "layout": {
          "annotationdefaults": {
           "arrowcolor": "#2a3f5f",
           "arrowhead": 0,
           "arrowwidth": 1
          },
          "autotypenumbers": "strict",
          "coloraxis": {
           "colorbar": {
            "outlinewidth": 0,
            "ticks": ""
           }
          },
          "colorscale": {
           "diverging": [
            [
             0,
             "#8e0152"
            ],
            [
             0.1,
             "#c51b7d"
            ],
            [
             0.2,
             "#de77ae"
            ],
            [
             0.3,
             "#f1b6da"
            ],
            [
             0.4,
             "#fde0ef"
            ],
            [
             0.5,
             "#f7f7f7"
            ],
            [
             0.6,
             "#e6f5d0"
            ],
            [
             0.7,
             "#b8e186"
            ],
            [
             0.8,
             "#7fbc41"
            ],
            [
             0.9,
             "#4d9221"
            ],
            [
             1,
             "#276419"
            ]
           ],
           "sequential": [
            [
             0,
             "#0d0887"
            ],
            [
             0.1111111111111111,
             "#46039f"
            ],
            [
             0.2222222222222222,
             "#7201a8"
            ],
            [
             0.3333333333333333,
             "#9c179e"
            ],
            [
             0.4444444444444444,
             "#bd3786"
            ],
            [
             0.5555555555555556,
             "#d8576b"
            ],
            [
             0.6666666666666666,
             "#ed7953"
            ],
            [
             0.7777777777777778,
             "#fb9f3a"
            ],
            [
             0.8888888888888888,
             "#fdca26"
            ],
            [
             1,
             "#f0f921"
            ]
           ],
           "sequentialminus": [
            [
             0,
             "#0d0887"
            ],
            [
             0.1111111111111111,
             "#46039f"
            ],
            [
             0.2222222222222222,
             "#7201a8"
            ],
            [
             0.3333333333333333,
             "#9c179e"
            ],
            [
             0.4444444444444444,
             "#bd3786"
            ],
            [
             0.5555555555555556,
             "#d8576b"
            ],
            [
             0.6666666666666666,
             "#ed7953"
            ],
            [
             0.7777777777777778,
             "#fb9f3a"
            ],
            [
             0.8888888888888888,
             "#fdca26"
            ],
            [
             1,
             "#f0f921"
            ]
           ]
          },
          "colorway": [
           "#636efa",
           "#EF553B",
           "#00cc96",
           "#ab63fa",
           "#FFA15A",
           "#19d3f3",
           "#FF6692",
           "#B6E880",
           "#FF97FF",
           "#FECB52"
          ],
          "font": {
           "color": "#2a3f5f"
          },
          "geo": {
           "bgcolor": "white",
           "lakecolor": "white",
           "landcolor": "#E5ECF6",
           "showlakes": true,
           "showland": true,
           "subunitcolor": "white"
          },
          "hoverlabel": {
           "align": "left"
          },
          "hovermode": "closest",
          "mapbox": {
           "style": "light"
          },
          "paper_bgcolor": "white",
          "plot_bgcolor": "#E5ECF6",
          "polar": {
           "angularaxis": {
            "gridcolor": "white",
            "linecolor": "white",
            "ticks": ""
           },
           "bgcolor": "#E5ECF6",
           "radialaxis": {
            "gridcolor": "white",
            "linecolor": "white",
            "ticks": ""
           }
          },
          "scene": {
           "xaxis": {
            "backgroundcolor": "#E5ECF6",
            "gridcolor": "white",
            "gridwidth": 2,
            "linecolor": "white",
            "showbackground": true,
            "ticks": "",
            "zerolinecolor": "white"
           },
           "yaxis": {
            "backgroundcolor": "#E5ECF6",
            "gridcolor": "white",
            "gridwidth": 2,
            "linecolor": "white",
            "showbackground": true,
            "ticks": "",
            "zerolinecolor": "white"
           },
           "zaxis": {
            "backgroundcolor": "#E5ECF6",
            "gridcolor": "white",
            "gridwidth": 2,
            "linecolor": "white",
            "showbackground": true,
            "ticks": "",
            "zerolinecolor": "white"
           }
          },
          "shapedefaults": {
           "line": {
            "color": "#2a3f5f"
           }
          },
          "ternary": {
           "aaxis": {
            "gridcolor": "white",
            "linecolor": "white",
            "ticks": ""
           },
           "baxis": {
            "gridcolor": "white",
            "linecolor": "white",
            "ticks": ""
           },
           "bgcolor": "#E5ECF6",
           "caxis": {
            "gridcolor": "white",
            "linecolor": "white",
            "ticks": ""
           }
          },
          "title": {
           "x": 0.05
          },
          "xaxis": {
           "automargin": true,
           "gridcolor": "white",
           "linecolor": "white",
           "ticks": "",
           "title": {
            "standoff": 15
           },
           "zerolinecolor": "white",
           "zerolinewidth": 2
          },
          "yaxis": {
           "automargin": true,
           "gridcolor": "white",
           "linecolor": "white",
           "ticks": "",
           "title": {
            "standoff": 15
           },
           "zerolinecolor": "white",
           "zerolinewidth": 2
          }
         }
        },
        "title": {
         "text": "EUR_JPY_MA_24_128"
        },
        "width": 1000,
        "xaxis": {
         "linecolor": "#3a4a54",
         "linewidth": 1,
         "showgrid": false,
         "zeroline": false
        },
        "yaxis": {
         "linecolor": "#3a4a54",
         "linewidth": 1,
         "showgrid": false,
         "zeroline": false
        }
       }
      }
     },
     "metadata": {},
     "output_type": "display_data"
    },
    {
     "data": {
      "application/vnd.plotly.v1+json": {
       "config": {
        "plotlyServerURL": "https://plot.ly"
       },
       "data": [
        {
         "line": {
          "color": "#3d825f",
          "shape": "spline",
          "width": 2
         },
         "mode": "lines",
         "name": "EUR_CHF_MA_24_128",
         "type": "scatter",
         "x": [
          "2024-01-05T05:00:00+00:00",
          "2024-01-07T22:00:00+00:00",
          "2024-01-08T01:00:00+00:00",
          "2024-01-08T21:00:00+00:00",
          "2024-01-10T00:00:00+00:00",
          "2024-01-24T13:00:00+00:00",
          "2024-02-05T03:00:00+00:00",
          "2024-02-28T13:00:00+00:00",
          "2024-03-01T01:00:00+00:00",
          "2024-03-08T17:00:00+00:00",
          "2024-03-13T20:00:00+00:00",
          "2024-03-29T01:00:00+00:00",
          "2024-04-03T00:00:00+00:00",
          "2024-04-11T13:00:00+00:00",
          "2024-04-22T09:00:00+00:00",
          "2024-04-30T01:00:00+00:00",
          "2024-04-30T18:00:00+00:00",
          "2024-05-02T19:00:00+00:00",
          "2024-05-09T14:00:00+00:00",
          "2024-05-29T01:00:00+00:00",
          "2024-06-13T09:00:00+00:00",
          "2024-06-13T17:00:00+00:00",
          "2024-06-21T01:00:00+00:00",
          "2024-07-08T05:00:00+00:00",
          "2024-07-09T05:00:00+00:00",
          "2024-07-09T20:00:00+00:00",
          "2024-07-10T19:00:00+00:00",
          "2024-07-17T09:00:00+00:00"
         ],
         "y": [
          0.9999999999998899,
          -4.6000000000001595,
          -25.600000000000065,
          -55.600000000000094,
          33.800000000000495,
          89.60000000000079,
          267.9000000000009,
          229.30000000000115,
          251.90000000000154,
          221.20000000000138,
          323.000000000001,
          266.6000000000013,
          265.0000000000019,
          334.20000000000226,
          382.800000000002,
          325.7000000000021,
          275.1000000000026,
          268.6000000000033,
          394.9000000000036,
          617.5000000000031,
          548.8000000000027,
          603.8000000000022,
          741.8000000000014,
          703.100000000001,
          684.6000000000008,
          651.9000000000009,
          625.8000000000009,
          935.6000000000009
         ]
        }
       ],
       "layout": {
        "font": {
         "color": "#e1e1e1",
         "size": 10
        },
        "height": 400,
        "margin": {
         "b": 10,
         "l": 15,
         "r": 15
        },
        "paper_bgcolor": "#1e1e1e",
        "plot_bgcolor": "#1e1e1e",
        "template": {
         "data": {
          "bar": [
           {
            "error_x": {
             "color": "#2a3f5f"
            },
            "error_y": {
             "color": "#2a3f5f"
            },
            "marker": {
             "line": {
              "color": "#E5ECF6",
              "width": 0.5
             },
             "pattern": {
              "fillmode": "overlay",
              "size": 10,
              "solidity": 0.2
             }
            },
            "type": "bar"
           }
          ],
          "barpolar": [
           {
            "marker": {
             "line": {
              "color": "#E5ECF6",
              "width": 0.5
             },
             "pattern": {
              "fillmode": "overlay",
              "size": 10,
              "solidity": 0.2
             }
            },
            "type": "barpolar"
           }
          ],
          "carpet": [
           {
            "aaxis": {
             "endlinecolor": "#2a3f5f",
             "gridcolor": "white",
             "linecolor": "white",
             "minorgridcolor": "white",
             "startlinecolor": "#2a3f5f"
            },
            "baxis": {
             "endlinecolor": "#2a3f5f",
             "gridcolor": "white",
             "linecolor": "white",
             "minorgridcolor": "white",
             "startlinecolor": "#2a3f5f"
            },
            "type": "carpet"
           }
          ],
          "choropleth": [
           {
            "colorbar": {
             "outlinewidth": 0,
             "ticks": ""
            },
            "type": "choropleth"
           }
          ],
          "contour": [
           {
            "colorbar": {
             "outlinewidth": 0,
             "ticks": ""
            },
            "colorscale": [
             [
              0,
              "#0d0887"
             ],
             [
              0.1111111111111111,
              "#46039f"
             ],
             [
              0.2222222222222222,
              "#7201a8"
             ],
             [
              0.3333333333333333,
              "#9c179e"
             ],
             [
              0.4444444444444444,
              "#bd3786"
             ],
             [
              0.5555555555555556,
              "#d8576b"
             ],
             [
              0.6666666666666666,
              "#ed7953"
             ],
             [
              0.7777777777777778,
              "#fb9f3a"
             ],
             [
              0.8888888888888888,
              "#fdca26"
             ],
             [
              1,
              "#f0f921"
             ]
            ],
            "type": "contour"
           }
          ],
          "contourcarpet": [
           {
            "colorbar": {
             "outlinewidth": 0,
             "ticks": ""
            },
            "type": "contourcarpet"
           }
          ],
          "heatmap": [
           {
            "colorbar": {
             "outlinewidth": 0,
             "ticks": ""
            },
            "colorscale": [
             [
              0,
              "#0d0887"
             ],
             [
              0.1111111111111111,
              "#46039f"
             ],
             [
              0.2222222222222222,
              "#7201a8"
             ],
             [
              0.3333333333333333,
              "#9c179e"
             ],
             [
              0.4444444444444444,
              "#bd3786"
             ],
             [
              0.5555555555555556,
              "#d8576b"
             ],
             [
              0.6666666666666666,
              "#ed7953"
             ],
             [
              0.7777777777777778,
              "#fb9f3a"
             ],
             [
              0.8888888888888888,
              "#fdca26"
             ],
             [
              1,
              "#f0f921"
             ]
            ],
            "type": "heatmap"
           }
          ],
          "heatmapgl": [
           {
            "colorbar": {
             "outlinewidth": 0,
             "ticks": ""
            },
            "colorscale": [
             [
              0,
              "#0d0887"
             ],
             [
              0.1111111111111111,
              "#46039f"
             ],
             [
              0.2222222222222222,
              "#7201a8"
             ],
             [
              0.3333333333333333,
              "#9c179e"
             ],
             [
              0.4444444444444444,
              "#bd3786"
             ],
             [
              0.5555555555555556,
              "#d8576b"
             ],
             [
              0.6666666666666666,
              "#ed7953"
             ],
             [
              0.7777777777777778,
              "#fb9f3a"
             ],
             [
              0.8888888888888888,
              "#fdca26"
             ],
             [
              1,
              "#f0f921"
             ]
            ],
            "type": "heatmapgl"
           }
          ],
          "histogram": [
           {
            "marker": {
             "pattern": {
              "fillmode": "overlay",
              "size": 10,
              "solidity": 0.2
             }
            },
            "type": "histogram"
           }
          ],
          "histogram2d": [
           {
            "colorbar": {
             "outlinewidth": 0,
             "ticks": ""
            },
            "colorscale": [
             [
              0,
              "#0d0887"
             ],
             [
              0.1111111111111111,
              "#46039f"
             ],
             [
              0.2222222222222222,
              "#7201a8"
             ],
             [
              0.3333333333333333,
              "#9c179e"
             ],
             [
              0.4444444444444444,
              "#bd3786"
             ],
             [
              0.5555555555555556,
              "#d8576b"
             ],
             [
              0.6666666666666666,
              "#ed7953"
             ],
             [
              0.7777777777777778,
              "#fb9f3a"
             ],
             [
              0.8888888888888888,
              "#fdca26"
             ],
             [
              1,
              "#f0f921"
             ]
            ],
            "type": "histogram2d"
           }
          ],
          "histogram2dcontour": [
           {
            "colorbar": {
             "outlinewidth": 0,
             "ticks": ""
            },
            "colorscale": [
             [
              0,
              "#0d0887"
             ],
             [
              0.1111111111111111,
              "#46039f"
             ],
             [
              0.2222222222222222,
              "#7201a8"
             ],
             [
              0.3333333333333333,
              "#9c179e"
             ],
             [
              0.4444444444444444,
              "#bd3786"
             ],
             [
              0.5555555555555556,
              "#d8576b"
             ],
             [
              0.6666666666666666,
              "#ed7953"
             ],
             [
              0.7777777777777778,
              "#fb9f3a"
             ],
             [
              0.8888888888888888,
              "#fdca26"
             ],
             [
              1,
              "#f0f921"
             ]
            ],
            "type": "histogram2dcontour"
           }
          ],
          "mesh3d": [
           {
            "colorbar": {
             "outlinewidth": 0,
             "ticks": ""
            },
            "type": "mesh3d"
           }
          ],
          "parcoords": [
           {
            "line": {
             "colorbar": {
              "outlinewidth": 0,
              "ticks": ""
             }
            },
            "type": "parcoords"
           }
          ],
          "pie": [
           {
            "automargin": true,
            "type": "pie"
           }
          ],
          "scatter": [
           {
            "fillpattern": {
             "fillmode": "overlay",
             "size": 10,
             "solidity": 0.2
            },
            "type": "scatter"
           }
          ],
          "scatter3d": [
           {
            "line": {
             "colorbar": {
              "outlinewidth": 0,
              "ticks": ""
             }
            },
            "marker": {
             "colorbar": {
              "outlinewidth": 0,
              "ticks": ""
             }
            },
            "type": "scatter3d"
           }
          ],
          "scattercarpet": [
           {
            "marker": {
             "colorbar": {
              "outlinewidth": 0,
              "ticks": ""
             }
            },
            "type": "scattercarpet"
           }
          ],
          "scattergeo": [
           {
            "marker": {
             "colorbar": {
              "outlinewidth": 0,
              "ticks": ""
             }
            },
            "type": "scattergeo"
           }
          ],
          "scattergl": [
           {
            "marker": {
             "colorbar": {
              "outlinewidth": 0,
              "ticks": ""
             }
            },
            "type": "scattergl"
           }
          ],
          "scattermapbox": [
           {
            "marker": {
             "colorbar": {
              "outlinewidth": 0,
              "ticks": ""
             }
            },
            "type": "scattermapbox"
           }
          ],
          "scatterpolar": [
           {
            "marker": {
             "colorbar": {
              "outlinewidth": 0,
              "ticks": ""
             }
            },
            "type": "scatterpolar"
           }
          ],
          "scatterpolargl": [
           {
            "marker": {
             "colorbar": {
              "outlinewidth": 0,
              "ticks": ""
             }
            },
            "type": "scatterpolargl"
           }
          ],
          "scatterternary": [
           {
            "marker": {
             "colorbar": {
              "outlinewidth": 0,
              "ticks": ""
             }
            },
            "type": "scatterternary"
           }
          ],
          "surface": [
           {
            "colorbar": {
             "outlinewidth": 0,
             "ticks": ""
            },
            "colorscale": [
             [
              0,
              "#0d0887"
             ],
             [
              0.1111111111111111,
              "#46039f"
             ],
             [
              0.2222222222222222,
              "#7201a8"
             ],
             [
              0.3333333333333333,
              "#9c179e"
             ],
             [
              0.4444444444444444,
              "#bd3786"
             ],
             [
              0.5555555555555556,
              "#d8576b"
             ],
             [
              0.6666666666666666,
              "#ed7953"
             ],
             [
              0.7777777777777778,
              "#fb9f3a"
             ],
             [
              0.8888888888888888,
              "#fdca26"
             ],
             [
              1,
              "#f0f921"
             ]
            ],
            "type": "surface"
           }
          ],
          "table": [
           {
            "cells": {
             "fill": {
              "color": "#EBF0F8"
             },
             "line": {
              "color": "white"
             }
            },
            "header": {
             "fill": {
              "color": "#C8D4E3"
             },
             "line": {
              "color": "white"
             }
            },
            "type": "table"
           }
          ]
         },
         "layout": {
          "annotationdefaults": {
           "arrowcolor": "#2a3f5f",
           "arrowhead": 0,
           "arrowwidth": 1
          },
          "autotypenumbers": "strict",
          "coloraxis": {
           "colorbar": {
            "outlinewidth": 0,
            "ticks": ""
           }
          },
          "colorscale": {
           "diverging": [
            [
             0,
             "#8e0152"
            ],
            [
             0.1,
             "#c51b7d"
            ],
            [
             0.2,
             "#de77ae"
            ],
            [
             0.3,
             "#f1b6da"
            ],
            [
             0.4,
             "#fde0ef"
            ],
            [
             0.5,
             "#f7f7f7"
            ],
            [
             0.6,
             "#e6f5d0"
            ],
            [
             0.7,
             "#b8e186"
            ],
            [
             0.8,
             "#7fbc41"
            ],
            [
             0.9,
             "#4d9221"
            ],
            [
             1,
             "#276419"
            ]
           ],
           "sequential": [
            [
             0,
             "#0d0887"
            ],
            [
             0.1111111111111111,
             "#46039f"
            ],
            [
             0.2222222222222222,
             "#7201a8"
            ],
            [
             0.3333333333333333,
             "#9c179e"
            ],
            [
             0.4444444444444444,
             "#bd3786"
            ],
            [
             0.5555555555555556,
             "#d8576b"
            ],
            [
             0.6666666666666666,
             "#ed7953"
            ],
            [
             0.7777777777777778,
             "#fb9f3a"
            ],
            [
             0.8888888888888888,
             "#fdca26"
            ],
            [
             1,
             "#f0f921"
            ]
           ],
           "sequentialminus": [
            [
             0,
             "#0d0887"
            ],
            [
             0.1111111111111111,
             "#46039f"
            ],
            [
             0.2222222222222222,
             "#7201a8"
            ],
            [
             0.3333333333333333,
             "#9c179e"
            ],
            [
             0.4444444444444444,
             "#bd3786"
            ],
            [
             0.5555555555555556,
             "#d8576b"
            ],
            [
             0.6666666666666666,
             "#ed7953"
            ],
            [
             0.7777777777777778,
             "#fb9f3a"
            ],
            [
             0.8888888888888888,
             "#fdca26"
            ],
            [
             1,
             "#f0f921"
            ]
           ]
          },
          "colorway": [
           "#636efa",
           "#EF553B",
           "#00cc96",
           "#ab63fa",
           "#FFA15A",
           "#19d3f3",
           "#FF6692",
           "#B6E880",
           "#FF97FF",
           "#FECB52"
          ],
          "font": {
           "color": "#2a3f5f"
          },
          "geo": {
           "bgcolor": "white",
           "lakecolor": "white",
           "landcolor": "#E5ECF6",
           "showlakes": true,
           "showland": true,
           "subunitcolor": "white"
          },
          "hoverlabel": {
           "align": "left"
          },
          "hovermode": "closest",
          "mapbox": {
           "style": "light"
          },
          "paper_bgcolor": "white",
          "plot_bgcolor": "#E5ECF6",
          "polar": {
           "angularaxis": {
            "gridcolor": "white",
            "linecolor": "white",
            "ticks": ""
           },
           "bgcolor": "#E5ECF6",
           "radialaxis": {
            "gridcolor": "white",
            "linecolor": "white",
            "ticks": ""
           }
          },
          "scene": {
           "xaxis": {
            "backgroundcolor": "#E5ECF6",
            "gridcolor": "white",
            "gridwidth": 2,
            "linecolor": "white",
            "showbackground": true,
            "ticks": "",
            "zerolinecolor": "white"
           },
           "yaxis": {
            "backgroundcolor": "#E5ECF6",
            "gridcolor": "white",
            "gridwidth": 2,
            "linecolor": "white",
            "showbackground": true,
            "ticks": "",
            "zerolinecolor": "white"
           },
           "zaxis": {
            "backgroundcolor": "#E5ECF6",
            "gridcolor": "white",
            "gridwidth": 2,
            "linecolor": "white",
            "showbackground": true,
            "ticks": "",
            "zerolinecolor": "white"
           }
          },
          "shapedefaults": {
           "line": {
            "color": "#2a3f5f"
           }
          },
          "ternary": {
           "aaxis": {
            "gridcolor": "white",
            "linecolor": "white",
            "ticks": ""
           },
           "baxis": {
            "gridcolor": "white",
            "linecolor": "white",
            "ticks": ""
           },
           "bgcolor": "#E5ECF6",
           "caxis": {
            "gridcolor": "white",
            "linecolor": "white",
            "ticks": ""
           }
          },
          "title": {
           "x": 0.05
          },
          "xaxis": {
           "automargin": true,
           "gridcolor": "white",
           "linecolor": "white",
           "ticks": "",
           "title": {
            "standoff": 15
           },
           "zerolinecolor": "white",
           "zerolinewidth": 2
          },
          "yaxis": {
           "automargin": true,
           "gridcolor": "white",
           "linecolor": "white",
           "ticks": "",
           "title": {
            "standoff": 15
           },
           "zerolinecolor": "white",
           "zerolinewidth": 2
          }
         }
        },
        "title": {
         "text": "EUR_CHF_MA_24_128"
        },
        "width": 1000,
        "xaxis": {
         "linecolor": "#3a4a54",
         "linewidth": 1,
         "showgrid": false,
         "zeroline": false
        },
        "yaxis": {
         "linecolor": "#3a4a54",
         "linewidth": 1,
         "showgrid": false,
         "zeroline": false
        }
       }
      }
     },
     "metadata": {},
     "output_type": "display_data"
    },
    {
     "data": {
      "application/vnd.plotly.v1+json": {
       "config": {
        "plotlyServerURL": "https://plot.ly"
       },
       "data": [
        {
         "line": {
          "color": "#3d825f",
          "shape": "spline",
          "width": 2
         },
         "mode": "lines",
         "name": "USD_JPY_MA_24_128",
         "type": "scatter",
         "x": [
          "2024-01-24T13:00:00+00:00",
          "2024-01-28T23:00:00+00:00",
          "2024-01-30T00:00:00+00:00",
          "2024-02-05T00:00:00+00:00",
          "2024-02-19T14:00:00+00:00",
          "2024-02-22T01:00:00+00:00",
          "2024-02-29T07:00:00+00:00",
          "2024-03-04T23:00:00+00:00",
          "2024-03-05T20:00:00+00:00",
          "2024-03-13T18:00:00+00:00",
          "2024-03-28T06:00:00+00:00",
          "2024-04-01T15:00:00+00:00",
          "2024-04-05T01:00:00+00:00",
          "2024-04-08T05:00:00+00:00",
          "2024-05-02T07:00:00+00:00",
          "2024-05-08T06:00:00+00:00",
          "2024-05-15T19:00:00+00:00",
          "2024-05-19T23:00:00+00:00",
          "2024-05-30T20:00:00+00:00",
          "2024-06-02T21:00:00+00:00",
          "2024-06-03T16:00:00+00:00",
          "2024-06-09T22:00:00+00:00",
          "2024-07-04T22:00:00+00:00",
          "2024-07-10T00:00:00+00:00",
          "2024-07-11T16:00:00+00:00",
          "2024-07-30T10:00:00+00:00",
          "2024-07-31T01:00:00+00:00",
          "2024-08-07T23:00:00+00:00",
          "2024-08-14T08:00:00+00:00"
         ],
         "y": [
          -141.4999999999992,
          -230.09999999999877,
          -369.7999999999979,
          -234.9999999999966,
          -261.99999999999477,
          -327.19999999999345,
          -406.6999999999922,
          -460.29999999999234,
          -245.19999999999413,
          112.00000000000614,
          73.80000000000848,
          8.000000000009777,
          -64.39999999998918,
          306.8000000000126,
          330.6000000000125,
          301.40000000001237,
          221.90000000001362,
          326.8000000000143,
          285.60000000001367,
          169.40000000001305,
          85.60000000001367,
          522.5000000000136,
          503.20000000001244,
          213.60000000001094,
          597.1000000000089,
          366.3000000000068,
          980.3000000000054,
          1063.0000000000052,
          1045.4000000000065
         ]
        }
       ],
       "layout": {
        "font": {
         "color": "#e1e1e1",
         "size": 10
        },
        "height": 400,
        "margin": {
         "b": 10,
         "l": 15,
         "r": 15
        },
        "paper_bgcolor": "#1e1e1e",
        "plot_bgcolor": "#1e1e1e",
        "template": {
         "data": {
          "bar": [
           {
            "error_x": {
             "color": "#2a3f5f"
            },
            "error_y": {
             "color": "#2a3f5f"
            },
            "marker": {
             "line": {
              "color": "#E5ECF6",
              "width": 0.5
             },
             "pattern": {
              "fillmode": "overlay",
              "size": 10,
              "solidity": 0.2
             }
            },
            "type": "bar"
           }
          ],
          "barpolar": [
           {
            "marker": {
             "line": {
              "color": "#E5ECF6",
              "width": 0.5
             },
             "pattern": {
              "fillmode": "overlay",
              "size": 10,
              "solidity": 0.2
             }
            },
            "type": "barpolar"
           }
          ],
          "carpet": [
           {
            "aaxis": {
             "endlinecolor": "#2a3f5f",
             "gridcolor": "white",
             "linecolor": "white",
             "minorgridcolor": "white",
             "startlinecolor": "#2a3f5f"
            },
            "baxis": {
             "endlinecolor": "#2a3f5f",
             "gridcolor": "white",
             "linecolor": "white",
             "minorgridcolor": "white",
             "startlinecolor": "#2a3f5f"
            },
            "type": "carpet"
           }
          ],
          "choropleth": [
           {
            "colorbar": {
             "outlinewidth": 0,
             "ticks": ""
            },
            "type": "choropleth"
           }
          ],
          "contour": [
           {
            "colorbar": {
             "outlinewidth": 0,
             "ticks": ""
            },
            "colorscale": [
             [
              0,
              "#0d0887"
             ],
             [
              0.1111111111111111,
              "#46039f"
             ],
             [
              0.2222222222222222,
              "#7201a8"
             ],
             [
              0.3333333333333333,
              "#9c179e"
             ],
             [
              0.4444444444444444,
              "#bd3786"
             ],
             [
              0.5555555555555556,
              "#d8576b"
             ],
             [
              0.6666666666666666,
              "#ed7953"
             ],
             [
              0.7777777777777778,
              "#fb9f3a"
             ],
             [
              0.8888888888888888,
              "#fdca26"
             ],
             [
              1,
              "#f0f921"
             ]
            ],
            "type": "contour"
           }
          ],
          "contourcarpet": [
           {
            "colorbar": {
             "outlinewidth": 0,
             "ticks": ""
            },
            "type": "contourcarpet"
           }
          ],
          "heatmap": [
           {
            "colorbar": {
             "outlinewidth": 0,
             "ticks": ""
            },
            "colorscale": [
             [
              0,
              "#0d0887"
             ],
             [
              0.1111111111111111,
              "#46039f"
             ],
             [
              0.2222222222222222,
              "#7201a8"
             ],
             [
              0.3333333333333333,
              "#9c179e"
             ],
             [
              0.4444444444444444,
              "#bd3786"
             ],
             [
              0.5555555555555556,
              "#d8576b"
             ],
             [
              0.6666666666666666,
              "#ed7953"
             ],
             [
              0.7777777777777778,
              "#fb9f3a"
             ],
             [
              0.8888888888888888,
              "#fdca26"
             ],
             [
              1,
              "#f0f921"
             ]
            ],
            "type": "heatmap"
           }
          ],
          "heatmapgl": [
           {
            "colorbar": {
             "outlinewidth": 0,
             "ticks": ""
            },
            "colorscale": [
             [
              0,
              "#0d0887"
             ],
             [
              0.1111111111111111,
              "#46039f"
             ],
             [
              0.2222222222222222,
              "#7201a8"
             ],
             [
              0.3333333333333333,
              "#9c179e"
             ],
             [
              0.4444444444444444,
              "#bd3786"
             ],
             [
              0.5555555555555556,
              "#d8576b"
             ],
             [
              0.6666666666666666,
              "#ed7953"
             ],
             [
              0.7777777777777778,
              "#fb9f3a"
             ],
             [
              0.8888888888888888,
              "#fdca26"
             ],
             [
              1,
              "#f0f921"
             ]
            ],
            "type": "heatmapgl"
           }
          ],
          "histogram": [
           {
            "marker": {
             "pattern": {
              "fillmode": "overlay",
              "size": 10,
              "solidity": 0.2
             }
            },
            "type": "histogram"
           }
          ],
          "histogram2d": [
           {
            "colorbar": {
             "outlinewidth": 0,
             "ticks": ""
            },
            "colorscale": [
             [
              0,
              "#0d0887"
             ],
             [
              0.1111111111111111,
              "#46039f"
             ],
             [
              0.2222222222222222,
              "#7201a8"
             ],
             [
              0.3333333333333333,
              "#9c179e"
             ],
             [
              0.4444444444444444,
              "#bd3786"
             ],
             [
              0.5555555555555556,
              "#d8576b"
             ],
             [
              0.6666666666666666,
              "#ed7953"
             ],
             [
              0.7777777777777778,
              "#fb9f3a"
             ],
             [
              0.8888888888888888,
              "#fdca26"
             ],
             [
              1,
              "#f0f921"
             ]
            ],
            "type": "histogram2d"
           }
          ],
          "histogram2dcontour": [
           {
            "colorbar": {
             "outlinewidth": 0,
             "ticks": ""
            },
            "colorscale": [
             [
              0,
              "#0d0887"
             ],
             [
              0.1111111111111111,
              "#46039f"
             ],
             [
              0.2222222222222222,
              "#7201a8"
             ],
             [
              0.3333333333333333,
              "#9c179e"
             ],
             [
              0.4444444444444444,
              "#bd3786"
             ],
             [
              0.5555555555555556,
              "#d8576b"
             ],
             [
              0.6666666666666666,
              "#ed7953"
             ],
             [
              0.7777777777777778,
              "#fb9f3a"
             ],
             [
              0.8888888888888888,
              "#fdca26"
             ],
             [
              1,
              "#f0f921"
             ]
            ],
            "type": "histogram2dcontour"
           }
          ],
          "mesh3d": [
           {
            "colorbar": {
             "outlinewidth": 0,
             "ticks": ""
            },
            "type": "mesh3d"
           }
          ],
          "parcoords": [
           {
            "line": {
             "colorbar": {
              "outlinewidth": 0,
              "ticks": ""
             }
            },
            "type": "parcoords"
           }
          ],
          "pie": [
           {
            "automargin": true,
            "type": "pie"
           }
          ],
          "scatter": [
           {
            "fillpattern": {
             "fillmode": "overlay",
             "size": 10,
             "solidity": 0.2
            },
            "type": "scatter"
           }
          ],
          "scatter3d": [
           {
            "line": {
             "colorbar": {
              "outlinewidth": 0,
              "ticks": ""
             }
            },
            "marker": {
             "colorbar": {
              "outlinewidth": 0,
              "ticks": ""
             }
            },
            "type": "scatter3d"
           }
          ],
          "scattercarpet": [
           {
            "marker": {
             "colorbar": {
              "outlinewidth": 0,
              "ticks": ""
             }
            },
            "type": "scattercarpet"
           }
          ],
          "scattergeo": [
           {
            "marker": {
             "colorbar": {
              "outlinewidth": 0,
              "ticks": ""
             }
            },
            "type": "scattergeo"
           }
          ],
          "scattergl": [
           {
            "marker": {
             "colorbar": {
              "outlinewidth": 0,
              "ticks": ""
             }
            },
            "type": "scattergl"
           }
          ],
          "scattermapbox": [
           {
            "marker": {
             "colorbar": {
              "outlinewidth": 0,
              "ticks": ""
             }
            },
            "type": "scattermapbox"
           }
          ],
          "scatterpolar": [
           {
            "marker": {
             "colorbar": {
              "outlinewidth": 0,
              "ticks": ""
             }
            },
            "type": "scatterpolar"
           }
          ],
          "scatterpolargl": [
           {
            "marker": {
             "colorbar": {
              "outlinewidth": 0,
              "ticks": ""
             }
            },
            "type": "scatterpolargl"
           }
          ],
          "scatterternary": [
           {
            "marker": {
             "colorbar": {
              "outlinewidth": 0,
              "ticks": ""
             }
            },
            "type": "scatterternary"
           }
          ],
          "surface": [
           {
            "colorbar": {
             "outlinewidth": 0,
             "ticks": ""
            },
            "colorscale": [
             [
              0,
              "#0d0887"
             ],
             [
              0.1111111111111111,
              "#46039f"
             ],
             [
              0.2222222222222222,
              "#7201a8"
             ],
             [
              0.3333333333333333,
              "#9c179e"
             ],
             [
              0.4444444444444444,
              "#bd3786"
             ],
             [
              0.5555555555555556,
              "#d8576b"
             ],
             [
              0.6666666666666666,
              "#ed7953"
             ],
             [
              0.7777777777777778,
              "#fb9f3a"
             ],
             [
              0.8888888888888888,
              "#fdca26"
             ],
             [
              1,
              "#f0f921"
             ]
            ],
            "type": "surface"
           }
          ],
          "table": [
           {
            "cells": {
             "fill": {
              "color": "#EBF0F8"
             },
             "line": {
              "color": "white"
             }
            },
            "header": {
             "fill": {
              "color": "#C8D4E3"
             },
             "line": {
              "color": "white"
             }
            },
            "type": "table"
           }
          ]
         },
         "layout": {
          "annotationdefaults": {
           "arrowcolor": "#2a3f5f",
           "arrowhead": 0,
           "arrowwidth": 1
          },
          "autotypenumbers": "strict",
          "coloraxis": {
           "colorbar": {
            "outlinewidth": 0,
            "ticks": ""
           }
          },
          "colorscale": {
           "diverging": [
            [
             0,
             "#8e0152"
            ],
            [
             0.1,
             "#c51b7d"
            ],
            [
             0.2,
             "#de77ae"
            ],
            [
             0.3,
             "#f1b6da"
            ],
            [
             0.4,
             "#fde0ef"
            ],
            [
             0.5,
             "#f7f7f7"
            ],
            [
             0.6,
             "#e6f5d0"
            ],
            [
             0.7,
             "#b8e186"
            ],
            [
             0.8,
             "#7fbc41"
            ],
            [
             0.9,
             "#4d9221"
            ],
            [
             1,
             "#276419"
            ]
           ],
           "sequential": [
            [
             0,
             "#0d0887"
            ],
            [
             0.1111111111111111,
             "#46039f"
            ],
            [
             0.2222222222222222,
             "#7201a8"
            ],
            [
             0.3333333333333333,
             "#9c179e"
            ],
            [
             0.4444444444444444,
             "#bd3786"
            ],
            [
             0.5555555555555556,
             "#d8576b"
            ],
            [
             0.6666666666666666,
             "#ed7953"
            ],
            [
             0.7777777777777778,
             "#fb9f3a"
            ],
            [
             0.8888888888888888,
             "#fdca26"
            ],
            [
             1,
             "#f0f921"
            ]
           ],
           "sequentialminus": [
            [
             0,
             "#0d0887"
            ],
            [
             0.1111111111111111,
             "#46039f"
            ],
            [
             0.2222222222222222,
             "#7201a8"
            ],
            [
             0.3333333333333333,
             "#9c179e"
            ],
            [
             0.4444444444444444,
             "#bd3786"
            ],
            [
             0.5555555555555556,
             "#d8576b"
            ],
            [
             0.6666666666666666,
             "#ed7953"
            ],
            [
             0.7777777777777778,
             "#fb9f3a"
            ],
            [
             0.8888888888888888,
             "#fdca26"
            ],
            [
             1,
             "#f0f921"
            ]
           ]
          },
          "colorway": [
           "#636efa",
           "#EF553B",
           "#00cc96",
           "#ab63fa",
           "#FFA15A",
           "#19d3f3",
           "#FF6692",
           "#B6E880",
           "#FF97FF",
           "#FECB52"
          ],
          "font": {
           "color": "#2a3f5f"
          },
          "geo": {
           "bgcolor": "white",
           "lakecolor": "white",
           "landcolor": "#E5ECF6",
           "showlakes": true,
           "showland": true,
           "subunitcolor": "white"
          },
          "hoverlabel": {
           "align": "left"
          },
          "hovermode": "closest",
          "mapbox": {
           "style": "light"
          },
          "paper_bgcolor": "white",
          "plot_bgcolor": "#E5ECF6",
          "polar": {
           "angularaxis": {
            "gridcolor": "white",
            "linecolor": "white",
            "ticks": ""
           },
           "bgcolor": "#E5ECF6",
           "radialaxis": {
            "gridcolor": "white",
            "linecolor": "white",
            "ticks": ""
           }
          },
          "scene": {
           "xaxis": {
            "backgroundcolor": "#E5ECF6",
            "gridcolor": "white",
            "gridwidth": 2,
            "linecolor": "white",
            "showbackground": true,
            "ticks": "",
            "zerolinecolor": "white"
           },
           "yaxis": {
            "backgroundcolor": "#E5ECF6",
            "gridcolor": "white",
            "gridwidth": 2,
            "linecolor": "white",
            "showbackground": true,
            "ticks": "",
            "zerolinecolor": "white"
           },
           "zaxis": {
            "backgroundcolor": "#E5ECF6",
            "gridcolor": "white",
            "gridwidth": 2,
            "linecolor": "white",
            "showbackground": true,
            "ticks": "",
            "zerolinecolor": "white"
           }
          },
          "shapedefaults": {
           "line": {
            "color": "#2a3f5f"
           }
          },
          "ternary": {
           "aaxis": {
            "gridcolor": "white",
            "linecolor": "white",
            "ticks": ""
           },
           "baxis": {
            "gridcolor": "white",
            "linecolor": "white",
            "ticks": ""
           },
           "bgcolor": "#E5ECF6",
           "caxis": {
            "gridcolor": "white",
            "linecolor": "white",
            "ticks": ""
           }
          },
          "title": {
           "x": 0.05
          },
          "xaxis": {
           "automargin": true,
           "gridcolor": "white",
           "linecolor": "white",
           "ticks": "",
           "title": {
            "standoff": 15
           },
           "zerolinecolor": "white",
           "zerolinewidth": 2
          },
          "yaxis": {
           "automargin": true,
           "gridcolor": "white",
           "linecolor": "white",
           "ticks": "",
           "title": {
            "standoff": 15
           },
           "zerolinecolor": "white",
           "zerolinewidth": 2
          }
         }
        },
        "title": {
         "text": "USD_JPY_MA_24_128"
        },
        "width": 1000,
        "xaxis": {
         "linecolor": "#3a4a54",
         "linewidth": 1,
         "showgrid": false,
         "zeroline": false
        },
        "yaxis": {
         "linecolor": "#3a4a54",
         "linewidth": 1,
         "showgrid": false,
         "zeroline": false
        }
       }
      }
     },
     "metadata": {},
     "output_type": "display_data"
    },
    {
     "data": {
      "application/vnd.plotly.v1+json": {
       "config": {
        "plotlyServerURL": "https://plot.ly"
       },
       "data": [
        {
         "line": {
          "color": "#3d825f",
          "shape": "spline",
          "width": 2
         },
         "mode": "lines",
         "name": "CAD_JPY_MA_24_128",
         "type": "scatter",
         "x": [
          "2024-01-09T23:00:00+00:00",
          "2024-01-10T01:00:00+00:00",
          "2024-01-24T15:00:00+00:00",
          "2024-01-26T18:00:00+00:00",
          "2024-02-01T00:00:00+00:00",
          "2024-02-04T22:00:00+00:00",
          "2024-02-07T07:00:00+00:00",
          "2024-02-07T12:00:00+00:00",
          "2024-02-20T20:00:00+00:00",
          "2024-02-22T05:00:00+00:00",
          "2024-02-27T21:00:00+00:00",
          "2024-03-13T19:00:00+00:00",
          "2024-03-25T11:00:00+00:00",
          "2024-03-28T20:00:00+00:00",
          "2024-04-05T09:00:00+00:00",
          "2024-04-09T08:00:00+00:00",
          "2024-04-09T23:00:00+00:00",
          "2024-04-10T20:00:00+00:00",
          "2024-04-11T01:00:00+00:00",
          "2024-04-11T12:00:00+00:00",
          "2024-04-12T13:00:00+00:00",
          "2024-04-15T17:00:00+00:00",
          "2024-05-01T22:00:00+00:00",
          "2024-05-08T12:00:00+00:00",
          "2024-05-16T02:00:00+00:00",
          "2024-05-17T08:00:00+00:00",
          "2024-05-24T04:00:00+00:00",
          "2024-05-24T19:00:00+00:00",
          "2024-05-30T08:00:00+00:00",
          "2024-05-31T18:00:00+00:00",
          "2024-06-03T22:00:00+00:00",
          "2024-06-10T15:00:00+00:00",
          "2024-07-08T00:00:00+00:00",
          "2024-07-10T00:00:00+00:00",
          "2024-07-11T17:00:00+00:00"
         ],
         "y": [
          -28.900000000000148,
          50.89999999999861,
          -60.90000000000231,
          -139.50000000000244,
          -236.3000000000028,
          -297.00000000000273,
          -338.10000000000144,
          -253.90000000000015,
          -314.00000000000006,
          -338.70000000000005,
          -187.8,
          -26.700000000001012,
          -70.50000000000125,
          -80.8000000000007,
          -101.50000000000006,
          -109.69999999999942,
          -121.49999999999892,
          -148.09999999999803,
          -161.89999999999714,
          -221.099999999997,
          -292.89999999999736,
          -163.99999999999721,
          -157.49999999999744,
          -152.09999999999866,
          -260.3999999999999,
          -253.30000000000013,
          -300.3,
          -340.5000000000001,
          -434.9000000000004,
          -514.7000000000005,
          -465.6999999999996,
          -103.09999999999911,
          -173.59999999999894,
          -374.89999999999804,
          564.2000000000024
         ]
        }
       ],
       "layout": {
        "font": {
         "color": "#e1e1e1",
         "size": 10
        },
        "height": 400,
        "margin": {
         "b": 10,
         "l": 15,
         "r": 15
        },
        "paper_bgcolor": "#1e1e1e",
        "plot_bgcolor": "#1e1e1e",
        "template": {
         "data": {
          "bar": [
           {
            "error_x": {
             "color": "#2a3f5f"
            },
            "error_y": {
             "color": "#2a3f5f"
            },
            "marker": {
             "line": {
              "color": "#E5ECF6",
              "width": 0.5
             },
             "pattern": {
              "fillmode": "overlay",
              "size": 10,
              "solidity": 0.2
             }
            },
            "type": "bar"
           }
          ],
          "barpolar": [
           {
            "marker": {
             "line": {
              "color": "#E5ECF6",
              "width": 0.5
             },
             "pattern": {
              "fillmode": "overlay",
              "size": 10,
              "solidity": 0.2
             }
            },
            "type": "barpolar"
           }
          ],
          "carpet": [
           {
            "aaxis": {
             "endlinecolor": "#2a3f5f",
             "gridcolor": "white",
             "linecolor": "white",
             "minorgridcolor": "white",
             "startlinecolor": "#2a3f5f"
            },
            "baxis": {
             "endlinecolor": "#2a3f5f",
             "gridcolor": "white",
             "linecolor": "white",
             "minorgridcolor": "white",
             "startlinecolor": "#2a3f5f"
            },
            "type": "carpet"
           }
          ],
          "choropleth": [
           {
            "colorbar": {
             "outlinewidth": 0,
             "ticks": ""
            },
            "type": "choropleth"
           }
          ],
          "contour": [
           {
            "colorbar": {
             "outlinewidth": 0,
             "ticks": ""
            },
            "colorscale": [
             [
              0,
              "#0d0887"
             ],
             [
              0.1111111111111111,
              "#46039f"
             ],
             [
              0.2222222222222222,
              "#7201a8"
             ],
             [
              0.3333333333333333,
              "#9c179e"
             ],
             [
              0.4444444444444444,
              "#bd3786"
             ],
             [
              0.5555555555555556,
              "#d8576b"
             ],
             [
              0.6666666666666666,
              "#ed7953"
             ],
             [
              0.7777777777777778,
              "#fb9f3a"
             ],
             [
              0.8888888888888888,
              "#fdca26"
             ],
             [
              1,
              "#f0f921"
             ]
            ],
            "type": "contour"
           }
          ],
          "contourcarpet": [
           {
            "colorbar": {
             "outlinewidth": 0,
             "ticks": ""
            },
            "type": "contourcarpet"
           }
          ],
          "heatmap": [
           {
            "colorbar": {
             "outlinewidth": 0,
             "ticks": ""
            },
            "colorscale": [
             [
              0,
              "#0d0887"
             ],
             [
              0.1111111111111111,
              "#46039f"
             ],
             [
              0.2222222222222222,
              "#7201a8"
             ],
             [
              0.3333333333333333,
              "#9c179e"
             ],
             [
              0.4444444444444444,
              "#bd3786"
             ],
             [
              0.5555555555555556,
              "#d8576b"
             ],
             [
              0.6666666666666666,
              "#ed7953"
             ],
             [
              0.7777777777777778,
              "#fb9f3a"
             ],
             [
              0.8888888888888888,
              "#fdca26"
             ],
             [
              1,
              "#f0f921"
             ]
            ],
            "type": "heatmap"
           }
          ],
          "heatmapgl": [
           {
            "colorbar": {
             "outlinewidth": 0,
             "ticks": ""
            },
            "colorscale": [
             [
              0,
              "#0d0887"
             ],
             [
              0.1111111111111111,
              "#46039f"
             ],
             [
              0.2222222222222222,
              "#7201a8"
             ],
             [
              0.3333333333333333,
              "#9c179e"
             ],
             [
              0.4444444444444444,
              "#bd3786"
             ],
             [
              0.5555555555555556,
              "#d8576b"
             ],
             [
              0.6666666666666666,
              "#ed7953"
             ],
             [
              0.7777777777777778,
              "#fb9f3a"
             ],
             [
              0.8888888888888888,
              "#fdca26"
             ],
             [
              1,
              "#f0f921"
             ]
            ],
            "type": "heatmapgl"
           }
          ],
          "histogram": [
           {
            "marker": {
             "pattern": {
              "fillmode": "overlay",
              "size": 10,
              "solidity": 0.2
             }
            },
            "type": "histogram"
           }
          ],
          "histogram2d": [
           {
            "colorbar": {
             "outlinewidth": 0,
             "ticks": ""
            },
            "colorscale": [
             [
              0,
              "#0d0887"
             ],
             [
              0.1111111111111111,
              "#46039f"
             ],
             [
              0.2222222222222222,
              "#7201a8"
             ],
             [
              0.3333333333333333,
              "#9c179e"
             ],
             [
              0.4444444444444444,
              "#bd3786"
             ],
             [
              0.5555555555555556,
              "#d8576b"
             ],
             [
              0.6666666666666666,
              "#ed7953"
             ],
             [
              0.7777777777777778,
              "#fb9f3a"
             ],
             [
              0.8888888888888888,
              "#fdca26"
             ],
             [
              1,
              "#f0f921"
             ]
            ],
            "type": "histogram2d"
           }
          ],
          "histogram2dcontour": [
           {
            "colorbar": {
             "outlinewidth": 0,
             "ticks": ""
            },
            "colorscale": [
             [
              0,
              "#0d0887"
             ],
             [
              0.1111111111111111,
              "#46039f"
             ],
             [
              0.2222222222222222,
              "#7201a8"
             ],
             [
              0.3333333333333333,
              "#9c179e"
             ],
             [
              0.4444444444444444,
              "#bd3786"
             ],
             [
              0.5555555555555556,
              "#d8576b"
             ],
             [
              0.6666666666666666,
              "#ed7953"
             ],
             [
              0.7777777777777778,
              "#fb9f3a"
             ],
             [
              0.8888888888888888,
              "#fdca26"
             ],
             [
              1,
              "#f0f921"
             ]
            ],
            "type": "histogram2dcontour"
           }
          ],
          "mesh3d": [
           {
            "colorbar": {
             "outlinewidth": 0,
             "ticks": ""
            },
            "type": "mesh3d"
           }
          ],
          "parcoords": [
           {
            "line": {
             "colorbar": {
              "outlinewidth": 0,
              "ticks": ""
             }
            },
            "type": "parcoords"
           }
          ],
          "pie": [
           {
            "automargin": true,
            "type": "pie"
           }
          ],
          "scatter": [
           {
            "fillpattern": {
             "fillmode": "overlay",
             "size": 10,
             "solidity": 0.2
            },
            "type": "scatter"
           }
          ],
          "scatter3d": [
           {
            "line": {
             "colorbar": {
              "outlinewidth": 0,
              "ticks": ""
             }
            },
            "marker": {
             "colorbar": {
              "outlinewidth": 0,
              "ticks": ""
             }
            },
            "type": "scatter3d"
           }
          ],
          "scattercarpet": [
           {
            "marker": {
             "colorbar": {
              "outlinewidth": 0,
              "ticks": ""
             }
            },
            "type": "scattercarpet"
           }
          ],
          "scattergeo": [
           {
            "marker": {
             "colorbar": {
              "outlinewidth": 0,
              "ticks": ""
             }
            },
            "type": "scattergeo"
           }
          ],
          "scattergl": [
           {
            "marker": {
             "colorbar": {
              "outlinewidth": 0,
              "ticks": ""
             }
            },
            "type": "scattergl"
           }
          ],
          "scattermapbox": [
           {
            "marker": {
             "colorbar": {
              "outlinewidth": 0,
              "ticks": ""
             }
            },
            "type": "scattermapbox"
           }
          ],
          "scatterpolar": [
           {
            "marker": {
             "colorbar": {
              "outlinewidth": 0,
              "ticks": ""
             }
            },
            "type": "scatterpolar"
           }
          ],
          "scatterpolargl": [
           {
            "marker": {
             "colorbar": {
              "outlinewidth": 0,
              "ticks": ""
             }
            },
            "type": "scatterpolargl"
           }
          ],
          "scatterternary": [
           {
            "marker": {
             "colorbar": {
              "outlinewidth": 0,
              "ticks": ""
             }
            },
            "type": "scatterternary"
           }
          ],
          "surface": [
           {
            "colorbar": {
             "outlinewidth": 0,
             "ticks": ""
            },
            "colorscale": [
             [
              0,
              "#0d0887"
             ],
             [
              0.1111111111111111,
              "#46039f"
             ],
             [
              0.2222222222222222,
              "#7201a8"
             ],
             [
              0.3333333333333333,
              "#9c179e"
             ],
             [
              0.4444444444444444,
              "#bd3786"
             ],
             [
              0.5555555555555556,
              "#d8576b"
             ],
             [
              0.6666666666666666,
              "#ed7953"
             ],
             [
              0.7777777777777778,
              "#fb9f3a"
             ],
             [
              0.8888888888888888,
              "#fdca26"
             ],
             [
              1,
              "#f0f921"
             ]
            ],
            "type": "surface"
           }
          ],
          "table": [
           {
            "cells": {
             "fill": {
              "color": "#EBF0F8"
             },
             "line": {
              "color": "white"
             }
            },
            "header": {
             "fill": {
              "color": "#C8D4E3"
             },
             "line": {
              "color": "white"
             }
            },
            "type": "table"
           }
          ]
         },
         "layout": {
          "annotationdefaults": {
           "arrowcolor": "#2a3f5f",
           "arrowhead": 0,
           "arrowwidth": 1
          },
          "autotypenumbers": "strict",
          "coloraxis": {
           "colorbar": {
            "outlinewidth": 0,
            "ticks": ""
           }
          },
          "colorscale": {
           "diverging": [
            [
             0,
             "#8e0152"
            ],
            [
             0.1,
             "#c51b7d"
            ],
            [
             0.2,
             "#de77ae"
            ],
            [
             0.3,
             "#f1b6da"
            ],
            [
             0.4,
             "#fde0ef"
            ],
            [
             0.5,
             "#f7f7f7"
            ],
            [
             0.6,
             "#e6f5d0"
            ],
            [
             0.7,
             "#b8e186"
            ],
            [
             0.8,
             "#7fbc41"
            ],
            [
             0.9,
             "#4d9221"
            ],
            [
             1,
             "#276419"
            ]
           ],
           "sequential": [
            [
             0,
             "#0d0887"
            ],
            [
             0.1111111111111111,
             "#46039f"
            ],
            [
             0.2222222222222222,
             "#7201a8"
            ],
            [
             0.3333333333333333,
             "#9c179e"
            ],
            [
             0.4444444444444444,
             "#bd3786"
            ],
            [
             0.5555555555555556,
             "#d8576b"
            ],
            [
             0.6666666666666666,
             "#ed7953"
            ],
            [
             0.7777777777777778,
             "#fb9f3a"
            ],
            [
             0.8888888888888888,
             "#fdca26"
            ],
            [
             1,
             "#f0f921"
            ]
           ],
           "sequentialminus": [
            [
             0,
             "#0d0887"
            ],
            [
             0.1111111111111111,
             "#46039f"
            ],
            [
             0.2222222222222222,
             "#7201a8"
            ],
            [
             0.3333333333333333,
             "#9c179e"
            ],
            [
             0.4444444444444444,
             "#bd3786"
            ],
            [
             0.5555555555555556,
             "#d8576b"
            ],
            [
             0.6666666666666666,
             "#ed7953"
            ],
            [
             0.7777777777777778,
             "#fb9f3a"
            ],
            [
             0.8888888888888888,
             "#fdca26"
            ],
            [
             1,
             "#f0f921"
            ]
           ]
          },
          "colorway": [
           "#636efa",
           "#EF553B",
           "#00cc96",
           "#ab63fa",
           "#FFA15A",
           "#19d3f3",
           "#FF6692",
           "#B6E880",
           "#FF97FF",
           "#FECB52"
          ],
          "font": {
           "color": "#2a3f5f"
          },
          "geo": {
           "bgcolor": "white",
           "lakecolor": "white",
           "landcolor": "#E5ECF6",
           "showlakes": true,
           "showland": true,
           "subunitcolor": "white"
          },
          "hoverlabel": {
           "align": "left"
          },
          "hovermode": "closest",
          "mapbox": {
           "style": "light"
          },
          "paper_bgcolor": "white",
          "plot_bgcolor": "#E5ECF6",
          "polar": {
           "angularaxis": {
            "gridcolor": "white",
            "linecolor": "white",
            "ticks": ""
           },
           "bgcolor": "#E5ECF6",
           "radialaxis": {
            "gridcolor": "white",
            "linecolor": "white",
            "ticks": ""
           }
          },
          "scene": {
           "xaxis": {
            "backgroundcolor": "#E5ECF6",
            "gridcolor": "white",
            "gridwidth": 2,
            "linecolor": "white",
            "showbackground": true,
            "ticks": "",
            "zerolinecolor": "white"
           },
           "yaxis": {
            "backgroundcolor": "#E5ECF6",
            "gridcolor": "white",
            "gridwidth": 2,
            "linecolor": "white",
            "showbackground": true,
            "ticks": "",
            "zerolinecolor": "white"
           },
           "zaxis": {
            "backgroundcolor": "#E5ECF6",
            "gridcolor": "white",
            "gridwidth": 2,
            "linecolor": "white",
            "showbackground": true,
            "ticks": "",
            "zerolinecolor": "white"
           }
          },
          "shapedefaults": {
           "line": {
            "color": "#2a3f5f"
           }
          },
          "ternary": {
           "aaxis": {
            "gridcolor": "white",
            "linecolor": "white",
            "ticks": ""
           },
           "baxis": {
            "gridcolor": "white",
            "linecolor": "white",
            "ticks": ""
           },
           "bgcolor": "#E5ECF6",
           "caxis": {
            "gridcolor": "white",
            "linecolor": "white",
            "ticks": ""
           }
          },
          "title": {
           "x": 0.05
          },
          "xaxis": {
           "automargin": true,
           "gridcolor": "white",
           "linecolor": "white",
           "ticks": "",
           "title": {
            "standoff": 15
           },
           "zerolinecolor": "white",
           "zerolinewidth": 2
          },
          "yaxis": {
           "automargin": true,
           "gridcolor": "white",
           "linecolor": "white",
           "ticks": "",
           "title": {
            "standoff": 15
           },
           "zerolinecolor": "white",
           "zerolinewidth": 2
          }
         }
        },
        "title": {
         "text": "CAD_JPY_MA_24_128"
        },
        "width": 1000,
        "xaxis": {
         "linecolor": "#3a4a54",
         "linewidth": 1,
         "showgrid": false,
         "zeroline": false
        },
        "yaxis": {
         "linecolor": "#3a4a54",
         "linewidth": 1,
         "showgrid": false,
         "zeroline": false
        }
       }
      }
     },
     "metadata": {},
     "output_type": "display_data"
    },
    {
     "data": {
      "application/vnd.plotly.v1+json": {
       "config": {
        "plotlyServerURL": "https://plot.ly"
       },
       "data": [
        {
         "line": {
          "color": "#3d825f",
          "shape": "spline",
          "width": 2
         },
         "mode": "lines",
         "name": "CAD_CHF_MA_24_128",
         "type": "scatter",
         "x": [
          "2024-01-04T22:00:00+00:00",
          "2024-01-05T19:00:00+00:00",
          "2024-01-10T10:00:00+00:00",
          "2024-01-11T09:00:00+00:00",
          "2024-01-11T18:00:00+00:00",
          "2024-01-24T19:00:00+00:00",
          "2024-01-30T10:00:00+00:00",
          "2024-02-01T07:00:00+00:00",
          "2024-02-05T02:00:00+00:00",
          "2024-02-20T15:00:00+00:00",
          "2024-02-23T08:00:00+00:00",
          "2024-02-26T05:00:00+00:00",
          "2024-03-01T09:00:00+00:00",
          "2024-03-08T20:00:00+00:00",
          "2024-03-14T01:00:00+00:00",
          "2024-04-05T08:00:00+00:00",
          "2024-04-10T21:00:00+00:00",
          "2024-04-12T02:00:00+00:00",
          "2024-04-22T04:00:00+00:00",
          "2024-04-30T01:00:00+00:00",
          "2024-05-01T10:00:00+00:00",
          "2024-05-02T08:00:00+00:00",
          "2024-05-10T07:00:00+00:00",
          "2024-05-16T06:00:00+00:00",
          "2024-05-17T00:00:00+00:00",
          "2024-05-24T01:00:00+00:00",
          "2024-05-27T00:00:00+00:00",
          "2024-05-29T04:00:00+00:00",
          "2024-06-11T16:00:00+00:00",
          "2024-06-13T04:00:00+00:00",
          "2024-06-20T19:00:00+00:00",
          "2024-07-07T21:00:00+00:00",
          "2024-07-10T21:00:00+00:00",
          "2024-07-11T19:00:00+00:00"
         ],
         "y": [
          -8.599999999999719,
          -23.400000000000087,
          -32.600000000000406,
          -44.60000000000019,
          -33.60000000000029,
          -82.7000000000011,
          -98.80000000000109,
          -116.60000000000113,
          -40.70000000000128,
          -58.00000000000138,
          -68.40000000000178,
          -67.00000000000149,
          -84.40000000000113,
          -106.00000000000163,
          32.199999999997786,
          21.599999999997177,
          -4.1000000000035435,
          1.5999999999960508,
          25.899999999995373,
          2.2999999999950873,
          -32.80000000000504,
          -5.000000000004995,
          -15.400000000004294,
          -56.900000000004155,
          -52.00000000000425,
          -82.20000000000448,
          -95.60000000000456,
          53.99999999999629,
          40.99999999999661,
          43.59999999999588,
          94.89999999999556,
          54.89999999999552,
          24.199999999995352,
          334.2999999999951
         ]
        }
       ],
       "layout": {
        "font": {
         "color": "#e1e1e1",
         "size": 10
        },
        "height": 400,
        "margin": {
         "b": 10,
         "l": 15,
         "r": 15
        },
        "paper_bgcolor": "#1e1e1e",
        "plot_bgcolor": "#1e1e1e",
        "template": {
         "data": {
          "bar": [
           {
            "error_x": {
             "color": "#2a3f5f"
            },
            "error_y": {
             "color": "#2a3f5f"
            },
            "marker": {
             "line": {
              "color": "#E5ECF6",
              "width": 0.5
             },
             "pattern": {
              "fillmode": "overlay",
              "size": 10,
              "solidity": 0.2
             }
            },
            "type": "bar"
           }
          ],
          "barpolar": [
           {
            "marker": {
             "line": {
              "color": "#E5ECF6",
              "width": 0.5
             },
             "pattern": {
              "fillmode": "overlay",
              "size": 10,
              "solidity": 0.2
             }
            },
            "type": "barpolar"
           }
          ],
          "carpet": [
           {
            "aaxis": {
             "endlinecolor": "#2a3f5f",
             "gridcolor": "white",
             "linecolor": "white",
             "minorgridcolor": "white",
             "startlinecolor": "#2a3f5f"
            },
            "baxis": {
             "endlinecolor": "#2a3f5f",
             "gridcolor": "white",
             "linecolor": "white",
             "minorgridcolor": "white",
             "startlinecolor": "#2a3f5f"
            },
            "type": "carpet"
           }
          ],
          "choropleth": [
           {
            "colorbar": {
             "outlinewidth": 0,
             "ticks": ""
            },
            "type": "choropleth"
           }
          ],
          "contour": [
           {
            "colorbar": {
             "outlinewidth": 0,
             "ticks": ""
            },
            "colorscale": [
             [
              0,
              "#0d0887"
             ],
             [
              0.1111111111111111,
              "#46039f"
             ],
             [
              0.2222222222222222,
              "#7201a8"
             ],
             [
              0.3333333333333333,
              "#9c179e"
             ],
             [
              0.4444444444444444,
              "#bd3786"
             ],
             [
              0.5555555555555556,
              "#d8576b"
             ],
             [
              0.6666666666666666,
              "#ed7953"
             ],
             [
              0.7777777777777778,
              "#fb9f3a"
             ],
             [
              0.8888888888888888,
              "#fdca26"
             ],
             [
              1,
              "#f0f921"
             ]
            ],
            "type": "contour"
           }
          ],
          "contourcarpet": [
           {
            "colorbar": {
             "outlinewidth": 0,
             "ticks": ""
            },
            "type": "contourcarpet"
           }
          ],
          "heatmap": [
           {
            "colorbar": {
             "outlinewidth": 0,
             "ticks": ""
            },
            "colorscale": [
             [
              0,
              "#0d0887"
             ],
             [
              0.1111111111111111,
              "#46039f"
             ],
             [
              0.2222222222222222,
              "#7201a8"
             ],
             [
              0.3333333333333333,
              "#9c179e"
             ],
             [
              0.4444444444444444,
              "#bd3786"
             ],
             [
              0.5555555555555556,
              "#d8576b"
             ],
             [
              0.6666666666666666,
              "#ed7953"
             ],
             [
              0.7777777777777778,
              "#fb9f3a"
             ],
             [
              0.8888888888888888,
              "#fdca26"
             ],
             [
              1,
              "#f0f921"
             ]
            ],
            "type": "heatmap"
           }
          ],
          "heatmapgl": [
           {
            "colorbar": {
             "outlinewidth": 0,
             "ticks": ""
            },
            "colorscale": [
             [
              0,
              "#0d0887"
             ],
             [
              0.1111111111111111,
              "#46039f"
             ],
             [
              0.2222222222222222,
              "#7201a8"
             ],
             [
              0.3333333333333333,
              "#9c179e"
             ],
             [
              0.4444444444444444,
              "#bd3786"
             ],
             [
              0.5555555555555556,
              "#d8576b"
             ],
             [
              0.6666666666666666,
              "#ed7953"
             ],
             [
              0.7777777777777778,
              "#fb9f3a"
             ],
             [
              0.8888888888888888,
              "#fdca26"
             ],
             [
              1,
              "#f0f921"
             ]
            ],
            "type": "heatmapgl"
           }
          ],
          "histogram": [
           {
            "marker": {
             "pattern": {
              "fillmode": "overlay",
              "size": 10,
              "solidity": 0.2
             }
            },
            "type": "histogram"
           }
          ],
          "histogram2d": [
           {
            "colorbar": {
             "outlinewidth": 0,
             "ticks": ""
            },
            "colorscale": [
             [
              0,
              "#0d0887"
             ],
             [
              0.1111111111111111,
              "#46039f"
             ],
             [
              0.2222222222222222,
              "#7201a8"
             ],
             [
              0.3333333333333333,
              "#9c179e"
             ],
             [
              0.4444444444444444,
              "#bd3786"
             ],
             [
              0.5555555555555556,
              "#d8576b"
             ],
             [
              0.6666666666666666,
              "#ed7953"
             ],
             [
              0.7777777777777778,
              "#fb9f3a"
             ],
             [
              0.8888888888888888,
              "#fdca26"
             ],
             [
              1,
              "#f0f921"
             ]
            ],
            "type": "histogram2d"
           }
          ],
          "histogram2dcontour": [
           {
            "colorbar": {
             "outlinewidth": 0,
             "ticks": ""
            },
            "colorscale": [
             [
              0,
              "#0d0887"
             ],
             [
              0.1111111111111111,
              "#46039f"
             ],
             [
              0.2222222222222222,
              "#7201a8"
             ],
             [
              0.3333333333333333,
              "#9c179e"
             ],
             [
              0.4444444444444444,
              "#bd3786"
             ],
             [
              0.5555555555555556,
              "#d8576b"
             ],
             [
              0.6666666666666666,
              "#ed7953"
             ],
             [
              0.7777777777777778,
              "#fb9f3a"
             ],
             [
              0.8888888888888888,
              "#fdca26"
             ],
             [
              1,
              "#f0f921"
             ]
            ],
            "type": "histogram2dcontour"
           }
          ],
          "mesh3d": [
           {
            "colorbar": {
             "outlinewidth": 0,
             "ticks": ""
            },
            "type": "mesh3d"
           }
          ],
          "parcoords": [
           {
            "line": {
             "colorbar": {
              "outlinewidth": 0,
              "ticks": ""
             }
            },
            "type": "parcoords"
           }
          ],
          "pie": [
           {
            "automargin": true,
            "type": "pie"
           }
          ],
          "scatter": [
           {
            "fillpattern": {
             "fillmode": "overlay",
             "size": 10,
             "solidity": 0.2
            },
            "type": "scatter"
           }
          ],
          "scatter3d": [
           {
            "line": {
             "colorbar": {
              "outlinewidth": 0,
              "ticks": ""
             }
            },
            "marker": {
             "colorbar": {
              "outlinewidth": 0,
              "ticks": ""
             }
            },
            "type": "scatter3d"
           }
          ],
          "scattercarpet": [
           {
            "marker": {
             "colorbar": {
              "outlinewidth": 0,
              "ticks": ""
             }
            },
            "type": "scattercarpet"
           }
          ],
          "scattergeo": [
           {
            "marker": {
             "colorbar": {
              "outlinewidth": 0,
              "ticks": ""
             }
            },
            "type": "scattergeo"
           }
          ],
          "scattergl": [
           {
            "marker": {
             "colorbar": {
              "outlinewidth": 0,
              "ticks": ""
             }
            },
            "type": "scattergl"
           }
          ],
          "scattermapbox": [
           {
            "marker": {
             "colorbar": {
              "outlinewidth": 0,
              "ticks": ""
             }
            },
            "type": "scattermapbox"
           }
          ],
          "scatterpolar": [
           {
            "marker": {
             "colorbar": {
              "outlinewidth": 0,
              "ticks": ""
             }
            },
            "type": "scatterpolar"
           }
          ],
          "scatterpolargl": [
           {
            "marker": {
             "colorbar": {
              "outlinewidth": 0,
              "ticks": ""
             }
            },
            "type": "scatterpolargl"
           }
          ],
          "scatterternary": [
           {
            "marker": {
             "colorbar": {
              "outlinewidth": 0,
              "ticks": ""
             }
            },
            "type": "scatterternary"
           }
          ],
          "surface": [
           {
            "colorbar": {
             "outlinewidth": 0,
             "ticks": ""
            },
            "colorscale": [
             [
              0,
              "#0d0887"
             ],
             [
              0.1111111111111111,
              "#46039f"
             ],
             [
              0.2222222222222222,
              "#7201a8"
             ],
             [
              0.3333333333333333,
              "#9c179e"
             ],
             [
              0.4444444444444444,
              "#bd3786"
             ],
             [
              0.5555555555555556,
              "#d8576b"
             ],
             [
              0.6666666666666666,
              "#ed7953"
             ],
             [
              0.7777777777777778,
              "#fb9f3a"
             ],
             [
              0.8888888888888888,
              "#fdca26"
             ],
             [
              1,
              "#f0f921"
             ]
            ],
            "type": "surface"
           }
          ],
          "table": [
           {
            "cells": {
             "fill": {
              "color": "#EBF0F8"
             },
             "line": {
              "color": "white"
             }
            },
            "header": {
             "fill": {
              "color": "#C8D4E3"
             },
             "line": {
              "color": "white"
             }
            },
            "type": "table"
           }
          ]
         },
         "layout": {
          "annotationdefaults": {
           "arrowcolor": "#2a3f5f",
           "arrowhead": 0,
           "arrowwidth": 1
          },
          "autotypenumbers": "strict",
          "coloraxis": {
           "colorbar": {
            "outlinewidth": 0,
            "ticks": ""
           }
          },
          "colorscale": {
           "diverging": [
            [
             0,
             "#8e0152"
            ],
            [
             0.1,
             "#c51b7d"
            ],
            [
             0.2,
             "#de77ae"
            ],
            [
             0.3,
             "#f1b6da"
            ],
            [
             0.4,
             "#fde0ef"
            ],
            [
             0.5,
             "#f7f7f7"
            ],
            [
             0.6,
             "#e6f5d0"
            ],
            [
             0.7,
             "#b8e186"
            ],
            [
             0.8,
             "#7fbc41"
            ],
            [
             0.9,
             "#4d9221"
            ],
            [
             1,
             "#276419"
            ]
           ],
           "sequential": [
            [
             0,
             "#0d0887"
            ],
            [
             0.1111111111111111,
             "#46039f"
            ],
            [
             0.2222222222222222,
             "#7201a8"
            ],
            [
             0.3333333333333333,
             "#9c179e"
            ],
            [
             0.4444444444444444,
             "#bd3786"
            ],
            [
             0.5555555555555556,
             "#d8576b"
            ],
            [
             0.6666666666666666,
             "#ed7953"
            ],
            [
             0.7777777777777778,
             "#fb9f3a"
            ],
            [
             0.8888888888888888,
             "#fdca26"
            ],
            [
             1,
             "#f0f921"
            ]
           ],
           "sequentialminus": [
            [
             0,
             "#0d0887"
            ],
            [
             0.1111111111111111,
             "#46039f"
            ],
            [
             0.2222222222222222,
             "#7201a8"
            ],
            [
             0.3333333333333333,
             "#9c179e"
            ],
            [
             0.4444444444444444,
             "#bd3786"
            ],
            [
             0.5555555555555556,
             "#d8576b"
            ],
            [
             0.6666666666666666,
             "#ed7953"
            ],
            [
             0.7777777777777778,
             "#fb9f3a"
            ],
            [
             0.8888888888888888,
             "#fdca26"
            ],
            [
             1,
             "#f0f921"
            ]
           ]
          },
          "colorway": [
           "#636efa",
           "#EF553B",
           "#00cc96",
           "#ab63fa",
           "#FFA15A",
           "#19d3f3",
           "#FF6692",
           "#B6E880",
           "#FF97FF",
           "#FECB52"
          ],
          "font": {
           "color": "#2a3f5f"
          },
          "geo": {
           "bgcolor": "white",
           "lakecolor": "white",
           "landcolor": "#E5ECF6",
           "showlakes": true,
           "showland": true,
           "subunitcolor": "white"
          },
          "hoverlabel": {
           "align": "left"
          },
          "hovermode": "closest",
          "mapbox": {
           "style": "light"
          },
          "paper_bgcolor": "white",
          "plot_bgcolor": "#E5ECF6",
          "polar": {
           "angularaxis": {
            "gridcolor": "white",
            "linecolor": "white",
            "ticks": ""
           },
           "bgcolor": "#E5ECF6",
           "radialaxis": {
            "gridcolor": "white",
            "linecolor": "white",
            "ticks": ""
           }
          },
          "scene": {
           "xaxis": {
            "backgroundcolor": "#E5ECF6",
            "gridcolor": "white",
            "gridwidth": 2,
            "linecolor": "white",
            "showbackground": true,
            "ticks": "",
            "zerolinecolor": "white"
           },
           "yaxis": {
            "backgroundcolor": "#E5ECF6",
            "gridcolor": "white",
            "gridwidth": 2,
            "linecolor": "white",
            "showbackground": true,
            "ticks": "",
            "zerolinecolor": "white"
           },
           "zaxis": {
            "backgroundcolor": "#E5ECF6",
            "gridcolor": "white",
            "gridwidth": 2,
            "linecolor": "white",
            "showbackground": true,
            "ticks": "",
            "zerolinecolor": "white"
           }
          },
          "shapedefaults": {
           "line": {
            "color": "#2a3f5f"
           }
          },
          "ternary": {
           "aaxis": {
            "gridcolor": "white",
            "linecolor": "white",
            "ticks": ""
           },
           "baxis": {
            "gridcolor": "white",
            "linecolor": "white",
            "ticks": ""
           },
           "bgcolor": "#E5ECF6",
           "caxis": {
            "gridcolor": "white",
            "linecolor": "white",
            "ticks": ""
           }
          },
          "title": {
           "x": 0.05
          },
          "xaxis": {
           "automargin": true,
           "gridcolor": "white",
           "linecolor": "white",
           "ticks": "",
           "title": {
            "standoff": 15
           },
           "zerolinecolor": "white",
           "zerolinewidth": 2
          },
          "yaxis": {
           "automargin": true,
           "gridcolor": "white",
           "linecolor": "white",
           "ticks": "",
           "title": {
            "standoff": 15
           },
           "zerolinecolor": "white",
           "zerolinewidth": 2
          }
         }
        },
        "title": {
         "text": "CAD_CHF_MA_24_128"
        },
        "width": 1000,
        "xaxis": {
         "linecolor": "#3a4a54",
         "linewidth": 1,
         "showgrid": false,
         "zeroline": false
        },
        "yaxis": {
         "linecolor": "#3a4a54",
         "linewidth": 1,
         "showgrid": false,
         "zeroline": false
        }
       }
      }
     },
     "metadata": {},
     "output_type": "display_data"
    }
   ],
   "source": [
    "c = 'MA_24_128'\n",
    "for p in our_pairs:\n",
    "    temp_df = all_trades[(all_trades.CROSS==c)&(all_trades.PAIR==p)].copy()\n",
    "    temp_df['CUM_GAIN'] = temp_df.GAIN.cumsum()\n",
    "    plot_line(temp_df, p + \"_\" + c)"
   ]
  },
  {
   "cell_type": "code",
   "execution_count": 51,
   "metadata": {},
   "outputs": [
    {
     "data": {
      "application/vnd.plotly.v1+json": {
       "config": {
        "plotlyServerURL": "https://plot.ly"
       },
       "data": [
        {
         "line": {
          "color": "#3d825f",
          "shape": "spline",
          "width": 2
         },
         "mode": "lines",
         "name": "MA_64_128",
         "type": "scatter",
         "x": [
          "2024-01-04T13:00:00+00:00",
          "2024-01-04T14:00:00+00:00",
          "2024-01-04T15:00:00+00:00",
          "2024-01-04T16:00:00+00:00",
          "2024-01-04T23:00:00+00:00",
          "2024-01-05T01:00:00+00:00",
          "2024-01-08T04:00:00+00:00",
          "2024-01-08T08:00:00+00:00",
          "2024-01-08T12:00:00+00:00",
          "2024-01-09T06:00:00+00:00",
          "2024-01-09T11:00:00+00:00",
          "2024-01-09T14:00:00+00:00",
          "2024-01-09T15:00:00+00:00",
          "2024-01-10T06:00:00+00:00",
          "2024-01-10T07:00:00+00:00",
          "2024-01-10T13:00:00+00:00",
          "2024-01-10T15:00:00+00:00",
          "2024-01-10T16:00:00+00:00",
          "2024-01-11T02:00:00+00:00",
          "2024-01-11T04:00:00+00:00",
          "2024-01-11T05:00:00+00:00",
          "2024-01-11T07:00:00+00:00",
          "2024-01-11T18:00:00+00:00",
          "2024-01-11T19:00:00+00:00",
          "2024-01-15T20:00:00+00:00",
          "2024-01-16T09:00:00+00:00",
          "2024-01-16T10:00:00+00:00",
          "2024-01-16T13:00:00+00:00",
          "2024-01-17T04:00:00+00:00",
          "2024-01-17T05:00:00+00:00",
          "2024-01-17T11:00:00+00:00",
          "2024-01-17T13:00:00+00:00",
          "2024-01-17T17:00:00+00:00",
          "2024-01-18T19:00:00+00:00",
          "2024-01-19T00:00:00+00:00",
          "2024-01-22T01:00:00+00:00",
          "2024-01-22T04:00:00+00:00",
          "2024-01-22T12:00:00+00:00",
          "2024-01-23T05:00:00+00:00",
          "2024-01-23T10:00:00+00:00",
          "2024-01-23T18:00:00+00:00",
          "2024-01-24T09:00:00+00:00",
          "2024-01-24T10:00:00+00:00",
          "2024-01-24T16:00:00+00:00",
          "2024-01-24T17:00:00+00:00",
          "2024-01-24T18:00:00+00:00",
          "2024-01-24T20:00:00+00:00",
          "2024-01-24T23:00:00+00:00",
          "2024-01-25T02:00:00+00:00",
          "2024-01-25T03:00:00+00:00",
          "2024-01-25T07:00:00+00:00",
          "2024-01-25T11:00:00+00:00",
          "2024-01-25T12:00:00+00:00",
          "2024-01-25T14:00:00+00:00",
          "2024-01-25T17:00:00+00:00",
          "2024-01-26T01:00:00+00:00",
          "2024-01-26T09:00:00+00:00",
          "2024-01-29T06:00:00+00:00",
          "2024-01-29T09:00:00+00:00",
          "2024-01-29T10:00:00+00:00",
          "2024-01-29T15:00:00+00:00",
          "2024-01-29T16:00:00+00:00",
          "2024-01-29T18:00:00+00:00",
          "2024-01-29T22:00:00+00:00",
          "2024-01-30T10:00:00+00:00",
          "2024-01-30T12:00:00+00:00",
          "2024-01-30T22:00:00+00:00",
          "2024-01-31T00:00:00+00:00",
          "2024-01-31T14:00:00+00:00",
          "2024-01-31T23:00:00+00:00",
          "2024-02-01T04:00:00+00:00",
          "2024-02-01T07:00:00+00:00",
          "2024-02-01T11:00:00+00:00",
          "2024-02-01T12:00:00+00:00",
          "2024-02-01T15:00:00+00:00",
          "2024-02-01T19:00:00+00:00",
          "2024-02-02T04:00:00+00:00",
          "2024-02-02T09:00:00+00:00",
          "2024-02-02T10:00:00+00:00",
          "2024-02-02T11:00:00+00:00",
          "2024-02-02T16:00:00+00:00",
          "2024-02-02T17:00:00+00:00",
          "2024-02-02T21:00:00+00:00",
          "2024-02-05T01:00:00+00:00",
          "2024-02-05T03:00:00+00:00",
          "2024-02-05T06:00:00+00:00",
          "2024-02-05T09:00:00+00:00",
          "2024-02-05T14:00:00+00:00",
          "2024-02-05T18:00:00+00:00",
          "2024-02-05T19:00:00+00:00",
          "2024-02-06T00:00:00+00:00",
          "2024-02-06T01:00:00+00:00",
          "2024-02-06T02:00:00+00:00",
          "2024-02-06T06:00:00+00:00",
          "2024-02-06T15:00:00+00:00",
          "2024-02-06T17:00:00+00:00",
          "2024-02-06T22:00:00+00:00",
          "2024-02-07T02:00:00+00:00",
          "2024-02-07T05:00:00+00:00",
          "2024-02-07T07:00:00+00:00",
          "2024-02-07T15:00:00+00:00",
          "2024-02-07T16:00:00+00:00",
          "2024-02-07T19:00:00+00:00",
          "2024-02-07T21:00:00+00:00",
          "2024-02-07T23:00:00+00:00",
          "2024-02-08T07:00:00+00:00",
          "2024-02-08T13:00:00+00:00",
          "2024-02-08T19:00:00+00:00",
          "2024-02-09T06:00:00+00:00",
          "2024-02-09T07:00:00+00:00",
          "2024-02-09T14:00:00+00:00",
          "2024-02-12T07:00:00+00:00",
          "2024-02-12T20:00:00+00:00",
          "2024-02-13T16:00:00+00:00",
          "2024-02-13T22:00:00+00:00",
          "2024-02-14T05:00:00+00:00",
          "2024-02-14T06:00:00+00:00",
          "2024-02-14T07:00:00+00:00",
          "2024-02-14T13:00:00+00:00",
          "2024-02-14T15:00:00+00:00",
          "2024-02-15T16:00:00+00:00",
          "2024-02-16T06:00:00+00:00",
          "2024-02-16T09:00:00+00:00",
          "2024-02-16T13:00:00+00:00",
          "2024-02-16T17:00:00+00:00",
          "2024-02-18T23:00:00+00:00",
          "2024-02-19T03:00:00+00:00",
          "2024-02-19T04:00:00+00:00",
          "2024-02-19T05:00:00+00:00",
          "2024-02-19T06:00:00+00:00",
          "2024-02-19T08:00:00+00:00",
          "2024-02-19T09:00:00+00:00",
          "2024-02-19T13:00:00+00:00",
          "2024-02-19T19:00:00+00:00",
          "2024-02-20T00:00:00+00:00",
          "2024-02-20T05:00:00+00:00",
          "2024-02-20T14:00:00+00:00",
          "2024-02-21T02:00:00+00:00",
          "2024-02-21T04:00:00+00:00",
          "2024-02-21T10:00:00+00:00",
          "2024-02-21T22:00:00+00:00",
          "2024-02-22T04:00:00+00:00",
          "2024-02-23T08:00:00+00:00",
          "2024-02-23T16:00:00+00:00",
          "2024-02-23T21:00:00+00:00",
          "2024-02-26T16:00:00+00:00",
          "2024-02-27T00:00:00+00:00",
          "2024-02-27T04:00:00+00:00",
          "2024-02-27T11:00:00+00:00",
          "2024-02-27T12:00:00+00:00",
          "2024-02-27T13:00:00+00:00",
          "2024-02-27T17:00:00+00:00",
          "2024-02-27T22:00:00+00:00",
          "2024-02-28T05:00:00+00:00",
          "2024-02-28T17:00:00+00:00",
          "2024-02-28T18:00:00+00:00",
          "2024-02-29T06:00:00+00:00",
          "2024-02-29T08:00:00+00:00",
          "2024-02-29T09:00:00+00:00",
          "2024-02-29T12:00:00+00:00",
          "2024-02-29T13:00:00+00:00",
          "2024-02-29T15:00:00+00:00",
          "2024-02-29T23:00:00+00:00",
          "2024-03-01T04:00:00+00:00",
          "2024-03-01T15:00:00+00:00",
          "2024-03-04T03:00:00+00:00",
          "2024-03-04T12:00:00+00:00",
          "2024-03-05T05:00:00+00:00",
          "2024-03-05T10:00:00+00:00",
          "2024-03-05T11:00:00+00:00",
          "2024-03-05T12:00:00+00:00",
          "2024-03-05T13:00:00+00:00",
          "2024-03-05T20:00:00+00:00",
          "2024-03-05T23:00:00+00:00",
          "2024-03-06T13:00:00+00:00",
          "2024-03-06T18:00:00+00:00",
          "2024-03-06T23:00:00+00:00",
          "2024-03-07T12:00:00+00:00",
          "2024-03-07T13:00:00+00:00",
          "2024-03-07T16:00:00+00:00",
          "2024-03-07T23:00:00+00:00",
          "2024-03-08T00:00:00+00:00",
          "2024-03-08T01:00:00+00:00",
          "2024-03-08T07:00:00+00:00",
          "2024-03-10T23:00:00+00:00",
          "2024-03-11T08:00:00+00:00",
          "2024-03-11T15:00:00+00:00",
          "2024-03-12T19:00:00+00:00",
          "2024-03-12T23:00:00+00:00",
          "2024-03-13T06:00:00+00:00",
          "2024-03-13T13:00:00+00:00",
          "2024-03-13T15:00:00+00:00",
          "2024-03-13T18:00:00+00:00",
          "2024-03-13T19:00:00+00:00",
          "2024-03-13T21:00:00+00:00",
          "2024-03-14T00:00:00+00:00",
          "2024-03-14T02:00:00+00:00",
          "2024-03-14T05:00:00+00:00",
          "2024-03-14T06:00:00+00:00",
          "2024-03-14T07:00:00+00:00",
          "2024-03-14T08:00:00+00:00",
          "2024-03-14T09:00:00+00:00",
          "2024-03-14T12:00:00+00:00",
          "2024-03-14T13:00:00+00:00",
          "2024-03-14T15:00:00+00:00",
          "2024-03-14T16:00:00+00:00",
          "2024-03-15T13:00:00+00:00",
          "2024-03-15T14:00:00+00:00",
          "2024-03-18T16:00:00+00:00",
          "2024-03-20T01:00:00+00:00",
          "2024-03-20T05:00:00+00:00",
          "2024-03-20T11:00:00+00:00",
          "2024-03-20T15:00:00+00:00",
          "2024-03-20T17:00:00+00:00",
          "2024-03-20T20:00:00+00:00",
          "2024-03-21T01:00:00+00:00",
          "2024-03-21T13:00:00+00:00",
          "2024-03-21T17:00:00+00:00",
          "2024-03-21T23:00:00+00:00",
          "2024-03-22T01:00:00+00:00",
          "2024-03-25T03:00:00+00:00",
          "2024-03-25T16:00:00+00:00",
          "2024-03-25T17:00:00+00:00",
          "2024-03-25T20:00:00+00:00",
          "2024-03-25T23:00:00+00:00",
          "2024-03-26T04:00:00+00:00",
          "2024-03-26T09:00:00+00:00",
          "2024-03-27T10:00:00+00:00",
          "2024-03-28T06:00:00+00:00",
          "2024-03-28T11:00:00+00:00",
          "2024-03-28T14:00:00+00:00",
          "2024-03-28T19:00:00+00:00",
          "2024-03-28T21:00:00+00:00",
          "2024-03-28T22:00:00+00:00",
          "2024-03-28T23:00:00+00:00",
          "2024-03-29T00:00:00+00:00",
          "2024-03-29T12:00:00+00:00",
          "2024-03-29T16:00:00+00:00",
          "2024-03-29T17:00:00+00:00",
          "2024-04-01T00:00:00+00:00",
          "2024-04-01T02:00:00+00:00",
          "2024-04-01T14:00:00+00:00",
          "2024-04-01T18:00:00+00:00",
          "2024-04-01T20:00:00+00:00",
          "2024-04-02T04:00:00+00:00",
          "2024-04-02T20:00:00+00:00",
          "2024-04-03T05:00:00+00:00",
          "2024-04-03T08:00:00+00:00",
          "2024-04-03T13:00:00+00:00",
          "2024-04-03T16:00:00+00:00",
          "2024-04-03T19:00:00+00:00",
          "2024-04-04T00:00:00+00:00",
          "2024-04-04T01:00:00+00:00",
          "2024-04-04T07:00:00+00:00",
          "2024-04-04T08:00:00+00:00",
          "2024-04-04T10:00:00+00:00",
          "2024-04-04T11:00:00+00:00",
          "2024-04-04T13:00:00+00:00",
          "2024-04-04T19:00:00+00:00",
          "2024-04-04T21:00:00+00:00",
          "2024-04-05T16:00:00+00:00",
          "2024-04-05T17:00:00+00:00",
          "2024-04-07T21:00:00+00:00",
          "2024-04-08T01:00:00+00:00",
          "2024-04-08T13:00:00+00:00",
          "2024-04-08T17:00:00+00:00",
          "2024-04-09T07:00:00+00:00",
          "2024-04-09T11:00:00+00:00",
          "2024-04-09T17:00:00+00:00",
          "2024-04-10T10:00:00+00:00",
          "2024-04-10T12:00:00+00:00",
          "2024-04-10T21:00:00+00:00",
          "2024-04-11T02:00:00+00:00",
          "2024-04-11T03:00:00+00:00",
          "2024-04-11T08:00:00+00:00",
          "2024-04-11T20:00:00+00:00",
          "2024-04-11T21:00:00+00:00",
          "2024-04-12T03:00:00+00:00",
          "2024-04-12T06:00:00+00:00",
          "2024-04-12T13:00:00+00:00",
          "2024-04-12T17:00:00+00:00",
          "2024-04-12T18:00:00+00:00",
          "2024-04-12T20:00:00+00:00",
          "2024-04-14T21:00:00+00:00",
          "2024-04-14T22:00:00+00:00",
          "2024-04-15T05:00:00+00:00",
          "2024-04-15T06:00:00+00:00",
          "2024-04-16T09:00:00+00:00",
          "2024-04-17T05:00:00+00:00",
          "2024-04-17T08:00:00+00:00",
          "2024-04-17T13:00:00+00:00",
          "2024-04-17T15:00:00+00:00",
          "2024-04-17T23:00:00+00:00",
          "2024-04-18T02:00:00+00:00",
          "2024-04-18T07:00:00+00:00",
          "2024-04-19T06:00:00+00:00",
          "2024-04-19T07:00:00+00:00",
          "2024-04-19T15:00:00+00:00",
          "2024-04-22T01:00:00+00:00",
          "2024-04-22T03:00:00+00:00",
          "2024-04-22T07:00:00+00:00",
          "2024-04-22T09:00:00+00:00",
          "2024-04-22T11:00:00+00:00",
          "2024-04-23T04:00:00+00:00",
          "2024-04-23T17:00:00+00:00",
          "2024-04-23T19:00:00+00:00",
          "2024-04-23T22:00:00+00:00",
          "2024-04-24T05:00:00+00:00",
          "2024-04-24T22:00:00+00:00",
          "2024-04-25T06:00:00+00:00",
          "2024-04-25T08:00:00+00:00",
          "2024-04-25T17:00:00+00:00",
          "2024-04-25T18:00:00+00:00",
          "2024-04-25T23:00:00+00:00",
          "2024-04-29T21:00:00+00:00",
          "2024-04-30T08:00:00+00:00",
          "2024-04-30T20:00:00+00:00",
          "2024-04-30T21:00:00+00:00",
          "2024-04-30T22:00:00+00:00",
          "2024-04-30T23:00:00+00:00",
          "2024-05-01T02:00:00+00:00",
          "2024-05-01T03:00:00+00:00",
          "2024-05-01T08:00:00+00:00",
          "2024-05-01T09:00:00+00:00",
          "2024-05-01T21:00:00+00:00",
          "2024-05-02T02:00:00+00:00",
          "2024-05-02T03:00:00+00:00",
          "2024-05-02T06:00:00+00:00",
          "2024-05-02T12:00:00+00:00",
          "2024-05-02T13:00:00+00:00",
          "2024-05-02T17:00:00+00:00",
          "2024-05-02T19:00:00+00:00",
          "2024-05-03T12:00:00+00:00",
          "2024-05-03T13:00:00+00:00",
          "2024-05-03T14:00:00+00:00",
          "2024-05-03T17:00:00+00:00",
          "2024-05-03T18:00:00+00:00",
          "2024-05-03T19:00:00+00:00",
          "2024-05-05T22:00:00+00:00",
          "2024-05-05T23:00:00+00:00",
          "2024-05-06T02:00:00+00:00",
          "2024-05-06T03:00:00+00:00",
          "2024-05-06T10:00:00+00:00",
          "2024-05-07T20:00:00+00:00",
          "2024-05-08T06:00:00+00:00",
          "2024-05-08T09:00:00+00:00",
          "2024-05-08T11:00:00+00:00",
          "2024-05-08T17:00:00+00:00",
          "2024-05-08T18:00:00+00:00",
          "2024-05-09T00:00:00+00:00",
          "2024-05-09T04:00:00+00:00",
          "2024-05-09T11:00:00+00:00",
          "2024-05-09T20:00:00+00:00",
          "2024-05-10T11:00:00+00:00",
          "2024-05-10T18:00:00+00:00",
          "2024-05-13T00:00:00+00:00",
          "2024-05-13T03:00:00+00:00",
          "2024-05-13T04:00:00+00:00",
          "2024-05-13T05:00:00+00:00",
          "2024-05-13T08:00:00+00:00",
          "2024-05-13T19:00:00+00:00",
          "2024-05-14T01:00:00+00:00",
          "2024-05-14T04:00:00+00:00",
          "2024-05-14T12:00:00+00:00",
          "2024-05-14T20:00:00+00:00",
          "2024-05-15T06:00:00+00:00",
          "2024-05-15T13:00:00+00:00",
          "2024-05-15T21:00:00+00:00",
          "2024-05-16T07:00:00+00:00",
          "2024-05-16T09:00:00+00:00",
          "2024-05-17T00:00:00+00:00",
          "2024-05-17T06:00:00+00:00",
          "2024-05-20T14:00:00+00:00",
          "2024-05-20T22:00:00+00:00",
          "2024-05-21T03:00:00+00:00",
          "2024-05-21T18:00:00+00:00",
          "2024-05-21T23:00:00+00:00",
          "2024-05-22T12:00:00+00:00",
          "2024-05-22T14:00:00+00:00",
          "2024-05-22T17:00:00+00:00",
          "2024-05-22T19:00:00+00:00",
          "2024-05-22T21:00:00+00:00",
          "2024-05-23T05:00:00+00:00",
          "2024-05-23T14:00:00+00:00",
          "2024-05-23T15:00:00+00:00",
          "2024-05-27T03:00:00+00:00",
          "2024-05-27T07:00:00+00:00",
          "2024-05-27T10:00:00+00:00",
          "2024-05-28T08:00:00+00:00",
          "2024-05-28T12:00:00+00:00",
          "2024-05-28T20:00:00+00:00",
          "2024-05-28T23:00:00+00:00",
          "2024-05-29T13:00:00+00:00",
          "2024-05-29T15:00:00+00:00",
          "2024-05-29T17:00:00+00:00",
          "2024-05-29T21:00:00+00:00",
          "2024-05-30T05:00:00+00:00",
          "2024-05-30T07:00:00+00:00",
          "2024-05-30T11:00:00+00:00",
          "2024-05-30T16:00:00+00:00",
          "2024-05-30T22:00:00+00:00",
          "2024-05-30T23:00:00+00:00",
          "2024-05-31T00:00:00+00:00",
          "2024-05-31T01:00:00+00:00",
          "2024-05-31T02:00:00+00:00",
          "2024-05-31T05:00:00+00:00",
          "2024-05-31T06:00:00+00:00",
          "2024-05-31T07:00:00+00:00",
          "2024-05-31T11:00:00+00:00",
          "2024-05-31T14:00:00+00:00",
          "2024-06-02T22:00:00+00:00",
          "2024-06-03T07:00:00+00:00",
          "2024-06-03T12:00:00+00:00",
          "2024-06-03T20:00:00+00:00",
          "2024-06-03T21:00:00+00:00",
          "2024-06-03T22:00:00+00:00",
          "2024-06-04T00:00:00+00:00",
          "2024-06-04T03:00:00+00:00",
          "2024-06-04T04:00:00+00:00",
          "2024-06-04T10:00:00+00:00",
          "2024-06-05T00:00:00+00:00",
          "2024-06-06T01:00:00+00:00",
          "2024-06-06T04:00:00+00:00",
          "2024-06-06T14:00:00+00:00",
          "2024-06-07T06:00:00+00:00",
          "2024-06-07T20:00:00+00:00",
          "2024-06-09T22:00:00+00:00",
          "2024-06-10T02:00:00+00:00",
          "2024-06-10T03:00:00+00:00",
          "2024-06-10T04:00:00+00:00",
          "2024-06-10T05:00:00+00:00",
          "2024-06-10T09:00:00+00:00",
          "2024-06-10T13:00:00+00:00",
          "2024-06-10T15:00:00+00:00",
          "2024-06-10T17:00:00+00:00",
          "2024-06-10T18:00:00+00:00",
          "2024-06-10T19:00:00+00:00",
          "2024-06-11T11:00:00+00:00",
          "2024-06-11T20:00:00+00:00",
          "2024-06-12T02:00:00+00:00",
          "2024-06-12T18:00:00+00:00",
          "2024-06-13T00:00:00+00:00",
          "2024-06-13T02:00:00+00:00",
          "2024-06-13T08:00:00+00:00",
          "2024-06-13T11:00:00+00:00",
          "2024-06-13T13:00:00+00:00",
          "2024-06-14T04:00:00+00:00",
          "2024-06-14T06:00:00+00:00",
          "2024-06-14T08:00:00+00:00",
          "2024-06-14T17:00:00+00:00",
          "2024-06-14T19:00:00+00:00",
          "2024-06-17T00:00:00+00:00",
          "2024-06-17T03:00:00+00:00",
          "2024-06-17T05:00:00+00:00",
          "2024-06-17T06:00:00+00:00",
          "2024-06-17T07:00:00+00:00",
          "2024-06-17T08:00:00+00:00",
          "2024-06-17T16:00:00+00:00",
          "2024-06-17T17:00:00+00:00",
          "2024-06-17T18:00:00+00:00",
          "2024-06-18T05:00:00+00:00",
          "2024-06-18T12:00:00+00:00",
          "2024-06-18T13:00:00+00:00",
          "2024-06-19T05:00:00+00:00",
          "2024-06-19T06:00:00+00:00",
          "2024-06-19T16:00:00+00:00",
          "2024-06-20T01:00:00+00:00",
          "2024-06-20T06:00:00+00:00",
          "2024-06-21T03:00:00+00:00",
          "2024-06-21T13:00:00+00:00",
          "2024-06-21T14:00:00+00:00",
          "2024-06-21T18:00:00+00:00",
          "2024-06-21T20:00:00+00:00",
          "2024-06-23T21:00:00+00:00",
          "2024-06-23T22:00:00+00:00",
          "2024-06-23T23:00:00+00:00",
          "2024-06-25T22:00:00+00:00",
          "2024-06-26T05:00:00+00:00",
          "2024-06-26T21:00:00+00:00",
          "2024-06-26T23:00:00+00:00",
          "2024-06-27T17:00:00+00:00",
          "2024-06-27T23:00:00+00:00",
          "2024-06-28T02:00:00+00:00",
          "2024-06-28T10:00:00+00:00",
          "2024-06-28T18:00:00+00:00",
          "2024-07-01T08:00:00+00:00",
          "2024-07-01T13:00:00+00:00",
          "2024-07-01T16:00:00+00:00",
          "2024-07-02T20:00:00+00:00",
          "2024-07-02T22:00:00+00:00",
          "2024-07-04T01:00:00+00:00",
          "2024-07-04T03:00:00+00:00",
          "2024-07-04T10:00:00+00:00",
          "2024-07-04T15:00:00+00:00",
          "2024-07-05T09:00:00+00:00",
          "2024-07-05T18:00:00+00:00",
          "2024-07-05T20:00:00+00:00",
          "2024-07-08T00:00:00+00:00",
          "2024-07-08T13:00:00+00:00",
          "2024-07-09T00:00:00+00:00",
          "2024-07-09T10:00:00+00:00",
          "2024-07-09T18:00:00+00:00",
          "2024-07-10T03:00:00+00:00",
          "2024-07-10T09:00:00+00:00",
          "2024-07-10T13:00:00+00:00",
          "2024-07-10T17:00:00+00:00",
          "2024-07-10T18:00:00+00:00",
          "2024-07-10T19:00:00+00:00",
          "2024-07-10T21:00:00+00:00",
          "2024-07-10T23:00:00+00:00",
          "2024-07-11T07:00:00+00:00",
          "2024-07-11T14:00:00+00:00",
          "2024-07-12T00:00:00+00:00",
          "2024-07-12T02:00:00+00:00",
          "2024-07-12T03:00:00+00:00",
          "2024-07-12T05:00:00+00:00",
          "2024-07-12T11:00:00+00:00",
          "2024-07-12T17:00:00+00:00",
          "2024-07-15T03:00:00+00:00",
          "2024-07-15T05:00:00+00:00",
          "2024-07-15T15:00:00+00:00",
          "2024-07-16T14:00:00+00:00",
          "2024-07-17T11:00:00+00:00",
          "2024-07-17T18:00:00+00:00",
          "2024-07-18T00:00:00+00:00",
          "2024-07-18T19:00:00+00:00",
          "2024-07-18T23:00:00+00:00",
          "2024-07-19T20:00:00+00:00",
          "2024-07-22T10:00:00+00:00",
          "2024-07-22T13:00:00+00:00",
          "2024-07-23T05:00:00+00:00",
          "2024-07-23T12:00:00+00:00",
          "2024-07-24T03:00:00+00:00",
          "2024-07-24T17:00:00+00:00",
          "2024-07-25T12:00:00+00:00",
          "2024-07-26T17:00:00+00:00",
          "2024-07-29T16:00:00+00:00",
          "2024-07-30T13:00:00+00:00",
          "2024-07-30T18:00:00+00:00",
          "2024-07-31T01:00:00+00:00",
          "2024-07-31T13:00:00+00:00",
          "2024-07-31T15:00:00+00:00",
          "2024-07-31T16:00:00+00:00",
          "2024-07-31T18:00:00+00:00",
          "2024-07-31T20:00:00+00:00",
          "2024-07-31T23:00:00+00:00",
          "2024-08-01T07:00:00+00:00",
          "2024-08-01T21:00:00+00:00",
          "2024-08-02T12:00:00+00:00",
          "2024-08-02T14:00:00+00:00",
          "2024-08-05T00:00:00+00:00",
          "2024-08-05T01:00:00+00:00",
          "2024-08-06T02:00:00+00:00",
          "2024-08-07T08:00:00+00:00",
          "2024-08-08T11:00:00+00:00",
          "2024-08-08T13:00:00+00:00",
          "2024-08-08T15:00:00+00:00",
          "2024-08-08T22:00:00+00:00",
          "2024-08-09T13:00:00+00:00",
          "2024-08-12T03:00:00+00:00",
          "2024-08-12T18:00:00+00:00",
          "2024-08-16T00:00:00+00:00"
         ],
         "y": [
          349.4000000000008,
          805.8000000000001,
          924.3999999999999,
          949.3999999999999,
          1173.599999999999,
          1170.3999999999994,
          1163.9,
          1150.9000000000015,
          1134.7000000000019,
          1112.1000000000015,
          1122.9000000000024,
          1085.0000000000016,
          1048.4000000000017,
          1054.0000000000018,
          1144.9000000000012,
          1140.0000000000014,
          1132.6000000000015,
          1105.600000000001,
          1133.300000000001,
          1118.3000000000006,
          1104.7000000000003,
          1245.1000000000008,
          1263.9000000000008,
          1384.5000000000005,
          1439.5,
          1356.2000000000003,
          1312.2000000000007,
          1237.500000000002,
          1230.3000000000018,
          1173.200000000002,
          1157.1000000000022,
          1085.7000000000041,
          1120.1000000000042,
          1066.000000000005,
          1000.9000000000053,
          970.3000000000047,
          956.8000000000051,
          861.8000000000047,
          847.4000000000036,
          799.5000000000036,
          690.7000000000037,
          693.3000000000019,
          801.3000000000003,
          816.7000000000002,
          686.3000000000008,
          688.0999999999992,
          613.6999999999992,
          653.8999999999995,
          594.5000000000001,
          611.899999999998,
          500.3999999999981,
          548.7999999999977,
          509.79999999999757,
          452.5999999999981,
          400.99999999999756,
          410.6999999999992,
          402.80000000000075,
          472.4000000000015,
          411.5000000000022,
          326.50000000000136,
          401.1000000000016,
          368.70000000000255,
          303.3000000000015,
          301.9000000000012,
          291.8000000000006,
          286.20000000000056,
          261.4000000000013,
          174.69999999999942,
          -14.800000000001603,
          -28.600000000002083,
          -91.50000000000115,
          -152.90000000000157,
          -218.00000000000261,
          -270.60000000000304,
          -277.40000000000316,
          -308.40000000000305,
          -372.20000000000357,
          -476.80000000000496,
          -629.6000000000046,
          -646.300000000004,
          -647.1000000000048,
          -712.7000000000049,
          -720.700000000004,
          -1049.1000000000038,
          -1079.300000000003,
          -1090.9000000000035,
          -982.6000000000034,
          -969.0000000000032,
          -808.9000000000033,
          -624.3000000000029,
          -356.2000000000046,
          -284.20000000000476,
          -231.00000000000512,
          -170.10000000000707,
          -170.30000000000615,
          -13.500000000006992,
          132.69999999999334,
          245.39999999999336,
          180.3999999999928,
          126.29999999999364,
          99.19999999999374,
          86.19999999999419,
          78.0999999999953,
          93.89999999999556,
          10.599999999995717,
          147.49999999999568,
          134.6999999999951,
          125.99999999999473,
          22.59999999999458,
          -45.800000000004985,
          -110.70000000000606,
          -223.70000000000846,
          -334.7000000000073,
          -470.5000000000066,
          -403.60000000000576,
          -563.9000000000034,
          -621.4000000000037,
          -685.5000000000064,
          -769.9000000000063,
          -793.1000000000063,
          -808.6000000000064,
          -821.2000000000068,
          -715.300000000007,
          -823.2000000000078,
          -782.0000000000088,
          -731.0000000000089,
          -746.300000000008,
          -730.6000000000073,
          -702.1000000000071,
          -767.3000000000056,
          -774.5000000000059,
          -804.1000000000045,
          -789.2000000000046,
          -804.5000000000038,
          -749.8000000000051,
          -700.600000000006,
          -708.4000000000061,
          -542.5000000000073,
          -546.2000000000071,
          -616.4000000000069,
          -616.5000000000053,
          -678.7000000000039,
          -727.000000000003,
          -722.3000000000033,
          -743.3000000000031,
          -563.1000000000039,
          -433.30000000000285,
          -437.40000000000305,
          -413.60000000000366,
          -342.1000000000038,
          -328.7000000000048,
          -344.50000000000506,
          -149.1000000000057,
          -9.600000000004684,
          -24.900000000004997,
          -76.60000000000507,
          -130.50000000000512,
          -205.50000000000512,
          -300.30000000000587,
          -402.30000000000683,
          -489.2000000000068,
          -312.30000000000626,
          -356.70000000000624,
          -406.9000000000054,
          -409.70000000000596,
          -366.9000000000076,
          -367.40000000000754,
          -343.60000000000815,
          -281.70000000000897,
          -532.900000000009,
          -656.500000000008,
          -547.700000000008,
          -556.4000000000084,
          -338.00000000000864,
          -336.9000000000092,
          -316.70000000000897,
          -271.3000000000091,
          -341.7000000000099,
          -345.10000000000883,
          -316.00000000000915,
          -315.7000000000094,
          -313.90000000000987,
          -341.7000000000088,
          -446.0000000000082,
          -435.30000000000916,
          -473.5000000000096,
          -496.80000000000905,
          -521.200000000009,
          -279.6000000000072,
          -297.50000000000676,
          -327.60000000000855,
          -53.200000000007265,
          25.599999999991596,
          142.9999999999913,
          271.59999999999224,
          449.999999999993,
          428.5999999999927,
          460.2999999999934,
          692.4999999999936,
          1044.6999999999928,
          1320.6999999999919,
          1576.4999999999923,
          1808.7999999999902,
          1868.0999999999901,
          1969.9999999999905,
          1946.7999999999906,
          2061.099999999989,
          2019.6999999999887,
          1945.2999999999888,
          1896.299999999988,
          1860.5999999999872,
          1763.8999999999864,
          1738.7999999999874,
          1724.5999999999876,
          1714.9999999999868,
          1745.3999999999862,
          1738.899999999987,
          1712.6999999999884,
          1687.2999999999886,
          1651.6999999999884,
          1728.1999999999898,
          1683.8999999999905,
          1590.5999999999885,
          1580.8999999999917,
          1605.199999999991,
          1573.5999999999935,
          1542.1999999999928,
          1453.1999999999937,
          1386.199999999992,
          1355.5999999999926,
          1333.0999999999917,
          1330.4999999999907,
          1334.8999999999905,
          1321.899999999991,
          1295.1999999999894,
          1280.3999999999899,
          1267.19999999999,
          1219.2999999999915,
          1201.2999999999913,
          1179.899999999991,
          1124.8999999999903,
          1069.4999999999893,
          1042.8999999999894,
          965.4999999999893,
          961.7999999999922,
          901.3999999999929,
          778.199999999993,
          874.1999999999913,
          848.1999999999908,
          804.999999999992,
          780.6999999999928,
          775.8999999999918,
          711.2999999999931,
          737.7999999999936,
          697.2999999999925,
          592.6999999999887,
          483.09999999998786,
          393.4999999999893,
          300.39999999999003,
          306.49999999999,
          262.29999999998927,
          191.29999999998932,
          151.0999999999891,
          146.09999999998797,
          135.99999999998806,
          302.99999999998965,
          307.39999999998963,
          443.7999999999872,
          369.3999999999883,
          360.9999999999877,
          377.49999999998704,
          465.19999999998646,
          509.7999999999855,
          459.099999999985,
          410.4999999999853,
          500.19999999998447,
          499.39999999998366,
          505.7999999999845,
          419.39999999998406,
          368.2999999999846,
          143.09999999998294,
          78.09999999998237,
          29.29999999998242,
          22.09999999998383,
          49.39999999998393,
          271.79999999998574,
          192.49999999998582,
          139.0999999999868,
          322.29999999998756,
          199.09999999998763,
          274.69999999998765,
          207.79999999998682,
          197.69999999998615,
          149.89999999998608,
          161.89999999998588,
          180.6999999999847,
          324.4999999999852,
          290.49999999998676,
          202.3999999999869,
          15.199999999988336,
          -6.400000000011062,
          24.999999999989253,
          35.09999999998881,
          11.599999999988068,
          9.499999999988741,
          28.099999999989578,
          15.299999999988989,
          -96.3000000000116,
          -269.9000000000095,
          -276.5000000000106,
          -285.7000000000109,
          -277.1000000000101,
          -158.70000000001158,
          -287.00000000001273,
          -379.6000000000132,
          -394.00000000001427,
          -414.5000000000142,
          -366.5000000000139,
          -560.3000000000112,
          -706.3000000000118,
          -832.3000000000112,
          -774.800000000012,
          -1059.6000000000126,
          -1072.4000000000121,
          -1154.8000000000125,
          -1199.1000000000122,
          -1167.0000000000123,
          -1184.800000000012,
          -1357.3000000000116,
          -1408.5000000000116,
          -1638.4000000000094,
          -1873.8000000000106,
          -1830.8000000000109,
          -1828.9000000000106,
          -1813.1000000000092,
          -1913.0000000000086,
          -1958.300000000009,
          -1934.7000000000098,
          -1949.80000000001,
          -1977.9000000000096,
          -2026.7000000000096,
          -1919.1000000000097,
          -1897.10000000001,
          -1573.00000000001,
          -1510.2000000000114,
          -1533.8000000000106,
          -1289.2000000000107,
          -751.8000000000112,
          -859.6000000000113,
          -896.500000000011,
          -793.3000000000111,
          -824.2000000000114,
          -814.1000000000097,
          -819.8000000000093,
          -731.0000000000093,
          -713.0000000000091,
          -652.6000000000087,
          -610.7000000000073,
          -638.9000000000078,
          -659.5000000000084,
          -485.50000000000983,
          -316.7000000000098,
          -364.5000000000099,
          -530.1000000000113,
          -283.90000000001265,
          -245.40000000001356,
          -175.70000000001323,
          -157.5000000000139,
          -277.1000000000158,
          -457.60000000001367,
          -436.60000000001287,
          -482.9000000000137,
          -443.9000000000135,
          -429.7000000000139,
          -399.3000000000137,
          -503.3000000000156,
          -524.8000000000143,
          -563.0000000000158,
          -585.3000000000153,
          -642.4000000000163,
          -578.0000000000158,
          -600.4000000000149,
          -593.0000000000141,
          -550.2000000000144,
          -511.8000000000137,
          209.59999999998615,
          204.09999999998675,
          179.49999999998545,
          149.29999999998523,
          87.79999999998645,
          246.5999999999865,
          176.59999999998533,
          189.7999999999852,
          194.99999999998596,
          185.6999999999872,
          489.0999999999875,
          759.2999999999868,
          665.8999999999877,
          682.899999999988,
          615.6999999999897,
          562.2999999999907,
          481.69999999998896,
          416.39999999998975,
          357.7999999999878,
          370.8999999999878,
          242.59999999998905,
          317.29999999998904,
          319.19999999998674,
          189.99999999998633,
          130.1999999999876,
          120.59999999998799,
          11.999999999987068,
          -7.600000000012727,
          -58.20000000001337,
          -19.600000000013623,
          -207.30000000001093,
          -217.90000000001044,
          -308.9000000000115,
          -334.40000000001106,
          -419.20000000001147,
          -461.30000000001195,
          -411.20000000001124,
          -346.9000000000119,
          -323.10000000001196,
          -369.10000000001276,
          -273.5000000000126,
          -201.10000000001367,
          -153.50000000001376,
          -289.1000000000139,
          -350.0000000000132,
          -430.00000000001324,
          -549.4000000000135,
          -416.0000000000122,
          -472.6000000000122,
          -568.2000000000123,
          -593.400000000013,
          -205.50000000001256,
          -338.0000000000124,
          -377.70000000001266,
          -438.7000000000126,
          -479.10000000001224,
          -551.9000000000118,
          -620.2000000000119,
          -744.4000000000128,
          -783.8000000000122,
          -840.0000000000118,
          -796.9000000000115,
          -905.8000000000119,
          -943.4000000000117,
          -955.6000000000117,
          -961.900000000013,
          -961.6000000000145,
          -907.8000000000151,
          -613.9000000000153,
          -724.0000000000152,
          -740.5000000000157,
          -727.000000000016,
          -697.5000000000159,
          -693.0000000000153,
          -745.700000000014,
          -782.1000000000145,
          -776.9000000000137,
          -832.9000000000142,
          -466.10000000001355,
          -548.1000000000134,
          -143.20000000001278,
          -9.100000000013381,
          -49.20000000001407,
          -148.7000000000142,
          -98.10000000001466,
          -93.30000000001431,
          -88.30000000001486,
          46.19999999998474,
          35.29999999998439,
          6.09999999998405,
          193.19999999998407,
          317.8999999999839,
          1173.8999999999828,
          1172.4999999999836,
          1196.4999999999832,
          1156.2999999999818,
          1090.6999999999828,
          1054.8999999999826,
          1059.899999999983,
          1375.4999999999834,
          1378.5999999999826,
          1512.7999999999824,
          1922.199999999982,
          2151.8999999999814,
          2086.299999999981,
          2089.8999999999824,
          1927.9999999999823,
          1977.1999999999825,
          1938.3999999999826,
          1928.3999999999826,
          1823.0999999999829,
          1723.4999999999832,
          1537.199999999984,
          1543.8999999999835,
          1477.2999999999838,
          1454.8999999999837,
          1718.799999999983,
          1720.1999999999832,
          2099.599999999984,
          3103.0999999999835,
          3230.599999999984,
          2976.8999999999833,
          2983.8999999999837,
          2795.799999999984,
          2718.199999999984,
          2674.0999999999835,
          2665.8999999999833,
          2635.599999999982,
          2690.4999999999827,
          3886.0999999999813,
          4848.199999999981,
          6093.99999999998,
          6125.99999999998,
          7893.499999999978,
          8160.899999999978,
          8354.599999999977,
          8400.399999999978,
          8514.999999999978,
          8720.399999999978,
          9160.099999999979,
          9138.29999999998,
          9009.699999999979,
          9164.199999999979,
          9136.79999999998,
          9138.79999999998,
          9282.99999999998,
          9176.99999999998,
          9208.999999999978,
          9168.499999999978,
          9158.599999999979,
          9142.899999999978,
          9407.499999999976,
          9309.299999999976,
          9625.199999999975,
          9575.399999999976,
          9822.699999999975,
          9621.099999999975,
          9687.099999999975,
          9611.499999999975,
          9560.099999999975,
          9616.899999999976,
          9722.299999999976,
          9804.299999999976,
          9768.199999999975,
          9750.399999999974,
          9625.799999999976,
          9529.499999999975,
          9328.599999999975,
          9347.399999999976,
          9299.099999999975,
          9141.099999999973,
          9174.199999999972,
          9136.699999999972,
          9128.699999999972,
          9149.99999999997,
          9153.39999999997,
          9136.69999999997
         ]
        }
       ],
       "layout": {
        "font": {
         "color": "#e1e1e1",
         "size": 10
        },
        "height": 400,
        "margin": {
         "b": 10,
         "l": 15,
         "r": 15
        },
        "paper_bgcolor": "#1e1e1e",
        "plot_bgcolor": "#1e1e1e",
        "template": {
         "data": {
          "bar": [
           {
            "error_x": {
             "color": "#2a3f5f"
            },
            "error_y": {
             "color": "#2a3f5f"
            },
            "marker": {
             "line": {
              "color": "#E5ECF6",
              "width": 0.5
             },
             "pattern": {
              "fillmode": "overlay",
              "size": 10,
              "solidity": 0.2
             }
            },
            "type": "bar"
           }
          ],
          "barpolar": [
           {
            "marker": {
             "line": {
              "color": "#E5ECF6",
              "width": 0.5
             },
             "pattern": {
              "fillmode": "overlay",
              "size": 10,
              "solidity": 0.2
             }
            },
            "type": "barpolar"
           }
          ],
          "carpet": [
           {
            "aaxis": {
             "endlinecolor": "#2a3f5f",
             "gridcolor": "white",
             "linecolor": "white",
             "minorgridcolor": "white",
             "startlinecolor": "#2a3f5f"
            },
            "baxis": {
             "endlinecolor": "#2a3f5f",
             "gridcolor": "white",
             "linecolor": "white",
             "minorgridcolor": "white",
             "startlinecolor": "#2a3f5f"
            },
            "type": "carpet"
           }
          ],
          "choropleth": [
           {
            "colorbar": {
             "outlinewidth": 0,
             "ticks": ""
            },
            "type": "choropleth"
           }
          ],
          "contour": [
           {
            "colorbar": {
             "outlinewidth": 0,
             "ticks": ""
            },
            "colorscale": [
             [
              0,
              "#0d0887"
             ],
             [
              0.1111111111111111,
              "#46039f"
             ],
             [
              0.2222222222222222,
              "#7201a8"
             ],
             [
              0.3333333333333333,
              "#9c179e"
             ],
             [
              0.4444444444444444,
              "#bd3786"
             ],
             [
              0.5555555555555556,
              "#d8576b"
             ],
             [
              0.6666666666666666,
              "#ed7953"
             ],
             [
              0.7777777777777778,
              "#fb9f3a"
             ],
             [
              0.8888888888888888,
              "#fdca26"
             ],
             [
              1,
              "#f0f921"
             ]
            ],
            "type": "contour"
           }
          ],
          "contourcarpet": [
           {
            "colorbar": {
             "outlinewidth": 0,
             "ticks": ""
            },
            "type": "contourcarpet"
           }
          ],
          "heatmap": [
           {
            "colorbar": {
             "outlinewidth": 0,
             "ticks": ""
            },
            "colorscale": [
             [
              0,
              "#0d0887"
             ],
             [
              0.1111111111111111,
              "#46039f"
             ],
             [
              0.2222222222222222,
              "#7201a8"
             ],
             [
              0.3333333333333333,
              "#9c179e"
             ],
             [
              0.4444444444444444,
              "#bd3786"
             ],
             [
              0.5555555555555556,
              "#d8576b"
             ],
             [
              0.6666666666666666,
              "#ed7953"
             ],
             [
              0.7777777777777778,
              "#fb9f3a"
             ],
             [
              0.8888888888888888,
              "#fdca26"
             ],
             [
              1,
              "#f0f921"
             ]
            ],
            "type": "heatmap"
           }
          ],
          "heatmapgl": [
           {
            "colorbar": {
             "outlinewidth": 0,
             "ticks": ""
            },
            "colorscale": [
             [
              0,
              "#0d0887"
             ],
             [
              0.1111111111111111,
              "#46039f"
             ],
             [
              0.2222222222222222,
              "#7201a8"
             ],
             [
              0.3333333333333333,
              "#9c179e"
             ],
             [
              0.4444444444444444,
              "#bd3786"
             ],
             [
              0.5555555555555556,
              "#d8576b"
             ],
             [
              0.6666666666666666,
              "#ed7953"
             ],
             [
              0.7777777777777778,
              "#fb9f3a"
             ],
             [
              0.8888888888888888,
              "#fdca26"
             ],
             [
              1,
              "#f0f921"
             ]
            ],
            "type": "heatmapgl"
           }
          ],
          "histogram": [
           {
            "marker": {
             "pattern": {
              "fillmode": "overlay",
              "size": 10,
              "solidity": 0.2
             }
            },
            "type": "histogram"
           }
          ],
          "histogram2d": [
           {
            "colorbar": {
             "outlinewidth": 0,
             "ticks": ""
            },
            "colorscale": [
             [
              0,
              "#0d0887"
             ],
             [
              0.1111111111111111,
              "#46039f"
             ],
             [
              0.2222222222222222,
              "#7201a8"
             ],
             [
              0.3333333333333333,
              "#9c179e"
             ],
             [
              0.4444444444444444,
              "#bd3786"
             ],
             [
              0.5555555555555556,
              "#d8576b"
             ],
             [
              0.6666666666666666,
              "#ed7953"
             ],
             [
              0.7777777777777778,
              "#fb9f3a"
             ],
             [
              0.8888888888888888,
              "#fdca26"
             ],
             [
              1,
              "#f0f921"
             ]
            ],
            "type": "histogram2d"
           }
          ],
          "histogram2dcontour": [
           {
            "colorbar": {
             "outlinewidth": 0,
             "ticks": ""
            },
            "colorscale": [
             [
              0,
              "#0d0887"
             ],
             [
              0.1111111111111111,
              "#46039f"
             ],
             [
              0.2222222222222222,
              "#7201a8"
             ],
             [
              0.3333333333333333,
              "#9c179e"
             ],
             [
              0.4444444444444444,
              "#bd3786"
             ],
             [
              0.5555555555555556,
              "#d8576b"
             ],
             [
              0.6666666666666666,
              "#ed7953"
             ],
             [
              0.7777777777777778,
              "#fb9f3a"
             ],
             [
              0.8888888888888888,
              "#fdca26"
             ],
             [
              1,
              "#f0f921"
             ]
            ],
            "type": "histogram2dcontour"
           }
          ],
          "mesh3d": [
           {
            "colorbar": {
             "outlinewidth": 0,
             "ticks": ""
            },
            "type": "mesh3d"
           }
          ],
          "parcoords": [
           {
            "line": {
             "colorbar": {
              "outlinewidth": 0,
              "ticks": ""
             }
            },
            "type": "parcoords"
           }
          ],
          "pie": [
           {
            "automargin": true,
            "type": "pie"
           }
          ],
          "scatter": [
           {
            "fillpattern": {
             "fillmode": "overlay",
             "size": 10,
             "solidity": 0.2
            },
            "type": "scatter"
           }
          ],
          "scatter3d": [
           {
            "line": {
             "colorbar": {
              "outlinewidth": 0,
              "ticks": ""
             }
            },
            "marker": {
             "colorbar": {
              "outlinewidth": 0,
              "ticks": ""
             }
            },
            "type": "scatter3d"
           }
          ],
          "scattercarpet": [
           {
            "marker": {
             "colorbar": {
              "outlinewidth": 0,
              "ticks": ""
             }
            },
            "type": "scattercarpet"
           }
          ],
          "scattergeo": [
           {
            "marker": {
             "colorbar": {
              "outlinewidth": 0,
              "ticks": ""
             }
            },
            "type": "scattergeo"
           }
          ],
          "scattergl": [
           {
            "marker": {
             "colorbar": {
              "outlinewidth": 0,
              "ticks": ""
             }
            },
            "type": "scattergl"
           }
          ],
          "scattermapbox": [
           {
            "marker": {
             "colorbar": {
              "outlinewidth": 0,
              "ticks": ""
             }
            },
            "type": "scattermapbox"
           }
          ],
          "scatterpolar": [
           {
            "marker": {
             "colorbar": {
              "outlinewidth": 0,
              "ticks": ""
             }
            },
            "type": "scatterpolar"
           }
          ],
          "scatterpolargl": [
           {
            "marker": {
             "colorbar": {
              "outlinewidth": 0,
              "ticks": ""
             }
            },
            "type": "scatterpolargl"
           }
          ],
          "scatterternary": [
           {
            "marker": {
             "colorbar": {
              "outlinewidth": 0,
              "ticks": ""
             }
            },
            "type": "scatterternary"
           }
          ],
          "surface": [
           {
            "colorbar": {
             "outlinewidth": 0,
             "ticks": ""
            },
            "colorscale": [
             [
              0,
              "#0d0887"
             ],
             [
              0.1111111111111111,
              "#46039f"
             ],
             [
              0.2222222222222222,
              "#7201a8"
             ],
             [
              0.3333333333333333,
              "#9c179e"
             ],
             [
              0.4444444444444444,
              "#bd3786"
             ],
             [
              0.5555555555555556,
              "#d8576b"
             ],
             [
              0.6666666666666666,
              "#ed7953"
             ],
             [
              0.7777777777777778,
              "#fb9f3a"
             ],
             [
              0.8888888888888888,
              "#fdca26"
             ],
             [
              1,
              "#f0f921"
             ]
            ],
            "type": "surface"
           }
          ],
          "table": [
           {
            "cells": {
             "fill": {
              "color": "#EBF0F8"
             },
             "line": {
              "color": "white"
             }
            },
            "header": {
             "fill": {
              "color": "#C8D4E3"
             },
             "line": {
              "color": "white"
             }
            },
            "type": "table"
           }
          ]
         },
         "layout": {
          "annotationdefaults": {
           "arrowcolor": "#2a3f5f",
           "arrowhead": 0,
           "arrowwidth": 1
          },
          "autotypenumbers": "strict",
          "coloraxis": {
           "colorbar": {
            "outlinewidth": 0,
            "ticks": ""
           }
          },
          "colorscale": {
           "diverging": [
            [
             0,
             "#8e0152"
            ],
            [
             0.1,
             "#c51b7d"
            ],
            [
             0.2,
             "#de77ae"
            ],
            [
             0.3,
             "#f1b6da"
            ],
            [
             0.4,
             "#fde0ef"
            ],
            [
             0.5,
             "#f7f7f7"
            ],
            [
             0.6,
             "#e6f5d0"
            ],
            [
             0.7,
             "#b8e186"
            ],
            [
             0.8,
             "#7fbc41"
            ],
            [
             0.9,
             "#4d9221"
            ],
            [
             1,
             "#276419"
            ]
           ],
           "sequential": [
            [
             0,
             "#0d0887"
            ],
            [
             0.1111111111111111,
             "#46039f"
            ],
            [
             0.2222222222222222,
             "#7201a8"
            ],
            [
             0.3333333333333333,
             "#9c179e"
            ],
            [
             0.4444444444444444,
             "#bd3786"
            ],
            [
             0.5555555555555556,
             "#d8576b"
            ],
            [
             0.6666666666666666,
             "#ed7953"
            ],
            [
             0.7777777777777778,
             "#fb9f3a"
            ],
            [
             0.8888888888888888,
             "#fdca26"
            ],
            [
             1,
             "#f0f921"
            ]
           ],
           "sequentialminus": [
            [
             0,
             "#0d0887"
            ],
            [
             0.1111111111111111,
             "#46039f"
            ],
            [
             0.2222222222222222,
             "#7201a8"
            ],
            [
             0.3333333333333333,
             "#9c179e"
            ],
            [
             0.4444444444444444,
             "#bd3786"
            ],
            [
             0.5555555555555556,
             "#d8576b"
            ],
            [
             0.6666666666666666,
             "#ed7953"
            ],
            [
             0.7777777777777778,
             "#fb9f3a"
            ],
            [
             0.8888888888888888,
             "#fdca26"
            ],
            [
             1,
             "#f0f921"
            ]
           ]
          },
          "colorway": [
           "#636efa",
           "#EF553B",
           "#00cc96",
           "#ab63fa",
           "#FFA15A",
           "#19d3f3",
           "#FF6692",
           "#B6E880",
           "#FF97FF",
           "#FECB52"
          ],
          "font": {
           "color": "#2a3f5f"
          },
          "geo": {
           "bgcolor": "white",
           "lakecolor": "white",
           "landcolor": "#E5ECF6",
           "showlakes": true,
           "showland": true,
           "subunitcolor": "white"
          },
          "hoverlabel": {
           "align": "left"
          },
          "hovermode": "closest",
          "mapbox": {
           "style": "light"
          },
          "paper_bgcolor": "white",
          "plot_bgcolor": "#E5ECF6",
          "polar": {
           "angularaxis": {
            "gridcolor": "white",
            "linecolor": "white",
            "ticks": ""
           },
           "bgcolor": "#E5ECF6",
           "radialaxis": {
            "gridcolor": "white",
            "linecolor": "white",
            "ticks": ""
           }
          },
          "scene": {
           "xaxis": {
            "backgroundcolor": "#E5ECF6",
            "gridcolor": "white",
            "gridwidth": 2,
            "linecolor": "white",
            "showbackground": true,
            "ticks": "",
            "zerolinecolor": "white"
           },
           "yaxis": {
            "backgroundcolor": "#E5ECF6",
            "gridcolor": "white",
            "gridwidth": 2,
            "linecolor": "white",
            "showbackground": true,
            "ticks": "",
            "zerolinecolor": "white"
           },
           "zaxis": {
            "backgroundcolor": "#E5ECF6",
            "gridcolor": "white",
            "gridwidth": 2,
            "linecolor": "white",
            "showbackground": true,
            "ticks": "",
            "zerolinecolor": "white"
           }
          },
          "shapedefaults": {
           "line": {
            "color": "#2a3f5f"
           }
          },
          "ternary": {
           "aaxis": {
            "gridcolor": "white",
            "linecolor": "white",
            "ticks": ""
           },
           "baxis": {
            "gridcolor": "white",
            "linecolor": "white",
            "ticks": ""
           },
           "bgcolor": "#E5ECF6",
           "caxis": {
            "gridcolor": "white",
            "linecolor": "white",
            "ticks": ""
           }
          },
          "title": {
           "x": 0.05
          },
          "xaxis": {
           "automargin": true,
           "gridcolor": "white",
           "linecolor": "white",
           "ticks": "",
           "title": {
            "standoff": 15
           },
           "zerolinecolor": "white",
           "zerolinewidth": 2
          },
          "yaxis": {
           "automargin": true,
           "gridcolor": "white",
           "linecolor": "white",
           "ticks": "",
           "title": {
            "standoff": 15
           },
           "zerolinecolor": "white",
           "zerolinewidth": 2
          }
         }
        },
        "title": {
         "text": "MA_64_128"
        },
        "width": 1000,
        "xaxis": {
         "linecolor": "#3a4a54",
         "linewidth": 1,
         "showgrid": false,
         "zeroline": false
        },
        "yaxis": {
         "linecolor": "#3a4a54",
         "linewidth": 1,
         "showgrid": false,
         "zeroline": false
        }
       }
      }
     },
     "metadata": {},
     "output_type": "display_data"
    },
    {
     "data": {
      "application/vnd.plotly.v1+json": {
       "config": {
        "plotlyServerURL": "https://plot.ly"
       },
       "data": [
        {
         "line": {
          "color": "#3d825f",
          "shape": "spline",
          "width": 2
         },
         "mode": "lines",
         "name": "MA_32_128",
         "type": "scatter",
         "x": [
          "2024-01-04T13:00:00+00:00",
          "2024-01-05T01:00:00+00:00",
          "2024-01-05T05:00:00+00:00",
          "2024-01-05T11:00:00+00:00",
          "2024-01-05T15:00:00+00:00",
          "2024-01-05T20:00:00+00:00",
          "2024-01-07T22:00:00+00:00",
          "2024-01-08T21:00:00+00:00",
          "2024-01-09T03:00:00+00:00",
          "2024-01-09T06:00:00+00:00",
          "2024-01-09T20:00:00+00:00",
          "2024-01-10T01:00:00+00:00",
          "2024-01-10T04:00:00+00:00",
          "2024-01-10T05:00:00+00:00",
          "2024-01-10T06:00:00+00:00",
          "2024-01-10T10:00:00+00:00",
          "2024-01-10T15:00:00+00:00",
          "2024-01-10T16:00:00+00:00",
          "2024-01-10T21:00:00+00:00",
          "2024-01-12T06:00:00+00:00",
          "2024-01-12T13:00:00+00:00",
          "2024-01-12T14:00:00+00:00",
          "2024-01-12T16:00:00+00:00",
          "2024-01-14T23:00:00+00:00",
          "2024-01-15T04:00:00+00:00",
          "2024-01-15T09:00:00+00:00",
          "2024-01-15T14:00:00+00:00",
          "2024-01-15T16:00:00+00:00",
          "2024-01-15T20:00:00+00:00",
          "2024-01-15T22:00:00+00:00",
          "2024-01-16T04:00:00+00:00",
          "2024-01-17T05:00:00+00:00",
          "2024-01-17T11:00:00+00:00",
          "2024-01-17T15:00:00+00:00",
          "2024-01-17T23:00:00+00:00",
          "2024-01-18T10:00:00+00:00",
          "2024-01-19T02:00:00+00:00",
          "2024-01-19T10:00:00+00:00",
          "2024-01-19T17:00:00+00:00",
          "2024-01-19T21:00:00+00:00",
          "2024-01-22T01:00:00+00:00",
          "2024-01-22T06:00:00+00:00",
          "2024-01-22T16:00:00+00:00",
          "2024-01-22T22:00:00+00:00",
          "2024-01-23T04:00:00+00:00",
          "2024-01-23T10:00:00+00:00",
          "2024-01-23T18:00:00+00:00",
          "2024-01-24T01:00:00+00:00",
          "2024-01-24T09:00:00+00:00",
          "2024-01-24T11:00:00+00:00",
          "2024-01-24T13:00:00+00:00",
          "2024-01-24T14:00:00+00:00",
          "2024-01-24T19:00:00+00:00",
          "2024-01-24T20:00:00+00:00",
          "2024-01-24T21:00:00+00:00",
          "2024-01-24T22:00:00+00:00",
          "2024-01-25T00:00:00+00:00",
          "2024-01-25T03:00:00+00:00",
          "2024-01-25T06:00:00+00:00",
          "2024-01-25T07:00:00+00:00",
          "2024-01-25T10:00:00+00:00",
          "2024-01-25T20:00:00+00:00",
          "2024-01-26T08:00:00+00:00",
          "2024-01-26T20:00:00+00:00",
          "2024-01-26T21:00:00+00:00",
          "2024-01-28T22:00:00+00:00",
          "2024-01-28T23:00:00+00:00",
          "2024-01-29T01:00:00+00:00",
          "2024-01-29T04:00:00+00:00",
          "2024-01-29T09:00:00+00:00",
          "2024-01-29T14:00:00+00:00",
          "2024-01-29T20:00:00+00:00",
          "2024-01-29T21:00:00+00:00",
          "2024-01-30T04:00:00+00:00",
          "2024-01-30T16:00:00+00:00",
          "2024-01-31T03:00:00+00:00",
          "2024-01-31T12:00:00+00:00",
          "2024-01-31T17:00:00+00:00",
          "2024-01-31T19:00:00+00:00",
          "2024-01-31T20:00:00+00:00",
          "2024-01-31T22:00:00+00:00",
          "2024-01-31T23:00:00+00:00",
          "2024-02-01T00:00:00+00:00",
          "2024-02-01T03:00:00+00:00",
          "2024-02-01T10:00:00+00:00",
          "2024-02-02T04:00:00+00:00",
          "2024-02-02T06:00:00+00:00",
          "2024-02-02T13:00:00+00:00",
          "2024-02-02T14:00:00+00:00",
          "2024-02-02T15:00:00+00:00",
          "2024-02-02T19:00:00+00:00",
          "2024-02-04T22:00:00+00:00",
          "2024-02-04T23:00:00+00:00",
          "2024-02-05T00:00:00+00:00",
          "2024-02-05T02:00:00+00:00",
          "2024-02-05T03:00:00+00:00",
          "2024-02-05T04:00:00+00:00",
          "2024-02-05T05:00:00+00:00",
          "2024-02-05T06:00:00+00:00",
          "2024-02-05T08:00:00+00:00",
          "2024-02-05T10:00:00+00:00",
          "2024-02-05T23:00:00+00:00",
          "2024-02-06T04:00:00+00:00",
          "2024-02-06T08:00:00+00:00",
          "2024-02-06T12:00:00+00:00",
          "2024-02-07T00:00:00+00:00",
          "2024-02-07T01:00:00+00:00",
          "2024-02-07T02:00:00+00:00",
          "2024-02-07T04:00:00+00:00",
          "2024-02-07T13:00:00+00:00",
          "2024-02-07T18:00:00+00:00",
          "2024-02-07T21:00:00+00:00",
          "2024-02-08T04:00:00+00:00",
          "2024-02-08T16:00:00+00:00",
          "2024-02-09T03:00:00+00:00",
          "2024-02-09T06:00:00+00:00",
          "2024-02-09T12:00:00+00:00",
          "2024-02-12T03:00:00+00:00",
          "2024-02-13T04:00:00+00:00",
          "2024-02-13T13:00:00+00:00",
          "2024-02-13T14:00:00+00:00",
          "2024-02-13T15:00:00+00:00",
          "2024-02-13T16:00:00+00:00",
          "2024-02-13T18:00:00+00:00",
          "2024-02-13T20:00:00+00:00",
          "2024-02-13T23:00:00+00:00",
          "2024-02-14T03:00:00+00:00",
          "2024-02-15T05:00:00+00:00",
          "2024-02-15T09:00:00+00:00",
          "2024-02-15T12:00:00+00:00",
          "2024-02-15T14:00:00+00:00",
          "2024-02-15T22:00:00+00:00",
          "2024-02-16T02:00:00+00:00",
          "2024-02-16T08:00:00+00:00",
          "2024-02-16T09:00:00+00:00",
          "2024-02-16T11:00:00+00:00",
          "2024-02-16T12:00:00+00:00",
          "2024-02-16T16:00:00+00:00",
          "2024-02-16T17:00:00+00:00",
          "2024-02-16T20:00:00+00:00",
          "2024-02-19T02:00:00+00:00",
          "2024-02-19T03:00:00+00:00",
          "2024-02-19T07:00:00+00:00",
          "2024-02-19T20:00:00+00:00",
          "2024-02-20T15:00:00+00:00",
          "2024-02-20T18:00:00+00:00",
          "2024-02-20T21:00:00+00:00",
          "2024-02-20T22:00:00+00:00",
          "2024-02-21T06:00:00+00:00",
          "2024-02-22T04:00:00+00:00",
          "2024-02-22T08:00:00+00:00",
          "2024-02-22T14:00:00+00:00",
          "2024-02-23T08:00:00+00:00",
          "2024-02-23T14:00:00+00:00",
          "2024-02-26T05:00:00+00:00",
          "2024-02-26T06:00:00+00:00",
          "2024-02-26T08:00:00+00:00",
          "2024-02-26T09:00:00+00:00",
          "2024-02-26T10:00:00+00:00",
          "2024-02-26T13:00:00+00:00",
          "2024-02-26T21:00:00+00:00",
          "2024-02-26T22:00:00+00:00",
          "2024-02-26T23:00:00+00:00",
          "2024-02-27T00:00:00+00:00",
          "2024-02-27T02:00:00+00:00",
          "2024-02-27T03:00:00+00:00",
          "2024-02-27T05:00:00+00:00",
          "2024-02-27T16:00:00+00:00",
          "2024-02-28T00:00:00+00:00",
          "2024-02-28T11:00:00+00:00",
          "2024-02-28T14:00:00+00:00",
          "2024-02-28T18:00:00+00:00",
          "2024-02-28T19:00:00+00:00",
          "2024-02-28T20:00:00+00:00",
          "2024-02-28T23:00:00+00:00",
          "2024-02-29T03:00:00+00:00",
          "2024-02-29T05:00:00+00:00",
          "2024-02-29T07:00:00+00:00",
          "2024-02-29T12:00:00+00:00",
          "2024-03-01T00:00:00+00:00",
          "2024-03-01T04:00:00+00:00",
          "2024-03-01T10:00:00+00:00",
          "2024-03-01T14:00:00+00:00",
          "2024-03-01T19:00:00+00:00",
          "2024-03-04T04:00:00+00:00",
          "2024-03-04T14:00:00+00:00",
          "2024-03-04T17:00:00+00:00",
          "2024-03-04T18:00:00+00:00",
          "2024-03-04T20:00:00+00:00",
          "2024-03-05T01:00:00+00:00",
          "2024-03-05T04:00:00+00:00",
          "2024-03-05T05:00:00+00:00",
          "2024-03-06T00:00:00+00:00",
          "2024-03-06T14:00:00+00:00",
          "2024-03-06T16:00:00+00:00",
          "2024-03-06T17:00:00+00:00",
          "2024-03-06T19:00:00+00:00",
          "2024-03-07T03:00:00+00:00",
          "2024-03-07T08:00:00+00:00",
          "2024-03-07T10:00:00+00:00",
          "2024-03-08T06:00:00+00:00",
          "2024-03-08T14:00:00+00:00",
          "2024-03-08T21:00:00+00:00",
          "2024-03-10T22:00:00+00:00",
          "2024-03-11T00:00:00+00:00",
          "2024-03-11T03:00:00+00:00",
          "2024-03-12T13:00:00+00:00",
          "2024-03-12T14:00:00+00:00",
          "2024-03-12T20:00:00+00:00",
          "2024-03-12T22:00:00+00:00",
          "2024-03-13T01:00:00+00:00",
          "2024-03-13T03:00:00+00:00",
          "2024-03-13T04:00:00+00:00",
          "2024-03-13T06:00:00+00:00",
          "2024-03-13T10:00:00+00:00",
          "2024-03-13T11:00:00+00:00",
          "2024-03-13T13:00:00+00:00",
          "2024-03-13T17:00:00+00:00",
          "2024-03-13T18:00:00+00:00",
          "2024-03-13T20:00:00+00:00",
          "2024-03-13T22:00:00+00:00",
          "2024-03-14T00:00:00+00:00",
          "2024-03-14T04:00:00+00:00",
          "2024-03-14T05:00:00+00:00",
          "2024-03-14T07:00:00+00:00",
          "2024-03-14T13:00:00+00:00",
          "2024-03-14T16:00:00+00:00",
          "2024-03-14T17:00:00+00:00",
          "2024-03-14T19:00:00+00:00",
          "2024-03-14T23:00:00+00:00",
          "2024-03-15T03:00:00+00:00",
          "2024-03-15T09:00:00+00:00",
          "2024-03-15T10:00:00+00:00",
          "2024-03-18T11:00:00+00:00",
          "2024-03-19T01:00:00+00:00",
          "2024-03-19T15:00:00+00:00",
          "2024-03-19T19:00:00+00:00",
          "2024-03-20T04:00:00+00:00",
          "2024-03-20T06:00:00+00:00",
          "2024-03-21T06:00:00+00:00",
          "2024-03-21T07:00:00+00:00",
          "2024-03-21T09:00:00+00:00",
          "2024-03-21T11:00:00+00:00",
          "2024-03-21T12:00:00+00:00",
          "2024-03-22T04:00:00+00:00",
          "2024-03-22T08:00:00+00:00",
          "2024-03-22T09:00:00+00:00",
          "2024-03-22T16:00:00+00:00",
          "2024-03-24T21:00:00+00:00",
          "2024-03-25T08:00:00+00:00",
          "2024-03-25T10:00:00+00:00",
          "2024-03-25T17:00:00+00:00",
          "2024-03-26T06:00:00+00:00",
          "2024-03-26T16:00:00+00:00",
          "2024-03-27T17:00:00+00:00",
          "2024-03-28T06:00:00+00:00",
          "2024-03-28T11:00:00+00:00",
          "2024-03-28T19:00:00+00:00",
          "2024-03-28T22:00:00+00:00",
          "2024-03-28T23:00:00+00:00",
          "2024-03-29T05:00:00+00:00",
          "2024-03-29T16:00:00+00:00",
          "2024-03-29T20:00:00+00:00",
          "2024-03-31T21:00:00+00:00",
          "2024-04-01T02:00:00+00:00",
          "2024-04-01T05:00:00+00:00",
          "2024-04-01T19:00:00+00:00",
          "2024-04-02T01:00:00+00:00",
          "2024-04-02T11:00:00+00:00",
          "2024-04-02T14:00:00+00:00",
          "2024-04-02T15:00:00+00:00",
          "2024-04-02T21:00:00+00:00",
          "2024-04-03T04:00:00+00:00",
          "2024-04-03T05:00:00+00:00",
          "2024-04-03T13:00:00+00:00",
          "2024-04-03T15:00:00+00:00",
          "2024-04-03T19:00:00+00:00",
          "2024-04-03T20:00:00+00:00",
          "2024-04-03T21:00:00+00:00",
          "2024-04-03T22:00:00+00:00",
          "2024-04-04T02:00:00+00:00",
          "2024-04-04T07:00:00+00:00",
          "2024-04-04T12:00:00+00:00",
          "2024-04-04T20:00:00+00:00",
          "2024-04-05T03:00:00+00:00",
          "2024-04-05T13:00:00+00:00",
          "2024-04-05T14:00:00+00:00",
          "2024-04-05T18:00:00+00:00",
          "2024-04-07T22:00:00+00:00",
          "2024-04-08T10:00:00+00:00",
          "2024-04-08T13:00:00+00:00",
          "2024-04-09T21:00:00+00:00",
          "2024-04-10T00:00:00+00:00",
          "2024-04-10T13:00:00+00:00",
          "2024-04-10T15:00:00+00:00",
          "2024-04-10T17:00:00+00:00",
          "2024-04-10T21:00:00+00:00",
          "2024-04-11T00:00:00+00:00",
          "2024-04-11T01:00:00+00:00",
          "2024-04-11T02:00:00+00:00",
          "2024-04-11T03:00:00+00:00",
          "2024-04-11T06:00:00+00:00",
          "2024-04-11T07:00:00+00:00",
          "2024-04-11T14:00:00+00:00",
          "2024-04-11T19:00:00+00:00",
          "2024-04-11T20:00:00+00:00",
          "2024-04-11T22:00:00+00:00",
          "2024-04-11T23:00:00+00:00",
          "2024-04-12T06:00:00+00:00",
          "2024-04-12T07:00:00+00:00",
          "2024-04-12T13:00:00+00:00",
          "2024-04-12T15:00:00+00:00",
          "2024-04-12T18:00:00+00:00",
          "2024-04-14T23:00:00+00:00",
          "2024-04-15T09:00:00+00:00",
          "2024-04-15T19:00:00+00:00",
          "2024-04-16T01:00:00+00:00",
          "2024-04-16T08:00:00+00:00",
          "2024-04-16T23:00:00+00:00",
          "2024-04-17T01:00:00+00:00",
          "2024-04-17T09:00:00+00:00",
          "2024-04-17T17:00:00+00:00",
          "2024-04-17T20:00:00+00:00",
          "2024-04-18T09:00:00+00:00",
          "2024-04-18T12:00:00+00:00",
          "2024-04-18T14:00:00+00:00",
          "2024-04-18T20:00:00+00:00",
          "2024-04-19T06:00:00+00:00",
          "2024-04-19T10:00:00+00:00",
          "2024-04-19T20:00:00+00:00",
          "2024-04-22T02:00:00+00:00",
          "2024-04-22T09:00:00+00:00",
          "2024-04-22T12:00:00+00:00",
          "2024-04-22T15:00:00+00:00",
          "2024-04-22T18:00:00+00:00",
          "2024-04-22T20:00:00+00:00",
          "2024-04-22T23:00:00+00:00",
          "2024-04-23T00:00:00+00:00",
          "2024-04-24T04:00:00+00:00",
          "2024-04-24T05:00:00+00:00",
          "2024-04-24T09:00:00+00:00",
          "2024-04-24T20:00:00+00:00",
          "2024-04-24T21:00:00+00:00",
          "2024-04-25T02:00:00+00:00",
          "2024-04-25T03:00:00+00:00",
          "2024-04-25T06:00:00+00:00",
          "2024-04-25T13:00:00+00:00",
          "2024-04-29T05:00:00+00:00",
          "2024-04-29T16:00:00+00:00",
          "2024-04-30T04:00:00+00:00",
          "2024-04-30T06:00:00+00:00",
          "2024-04-30T09:00:00+00:00",
          "2024-04-30T14:00:00+00:00",
          "2024-04-30T18:00:00+00:00",
          "2024-04-30T20:00:00+00:00",
          "2024-04-30T21:00:00+00:00",
          "2024-04-30T22:00:00+00:00",
          "2024-05-01T02:00:00+00:00",
          "2024-05-01T13:00:00+00:00",
          "2024-05-01T16:00:00+00:00",
          "2024-05-01T17:00:00+00:00",
          "2024-05-01T22:00:00+00:00",
          "2024-05-01T23:00:00+00:00",
          "2024-05-02T08:00:00+00:00",
          "2024-05-02T09:00:00+00:00",
          "2024-05-02T10:00:00+00:00",
          "2024-05-02T11:00:00+00:00",
          "2024-05-02T18:00:00+00:00",
          "2024-05-02T19:00:00+00:00",
          "2024-05-02T22:00:00+00:00",
          "2024-05-03T00:00:00+00:00",
          "2024-05-03T01:00:00+00:00",
          "2024-05-03T05:00:00+00:00",
          "2024-05-03T07:00:00+00:00",
          "2024-05-03T13:00:00+00:00",
          "2024-05-03T19:00:00+00:00",
          "2024-05-06T11:00:00+00:00",
          "2024-05-07T03:00:00+00:00",
          "2024-05-07T05:00:00+00:00",
          "2024-05-07T17:00:00+00:00",
          "2024-05-07T23:00:00+00:00",
          "2024-05-08T04:00:00+00:00",
          "2024-05-08T05:00:00+00:00",
          "2024-05-08T08:00:00+00:00",
          "2024-05-08T11:00:00+00:00",
          "2024-05-08T12:00:00+00:00",
          "2024-05-09T01:00:00+00:00",
          "2024-05-09T04:00:00+00:00",
          "2024-05-09T09:00:00+00:00",
          "2024-05-10T02:00:00+00:00",
          "2024-05-10T10:00:00+00:00",
          "2024-05-10T11:00:00+00:00",
          "2024-05-10T13:00:00+00:00",
          "2024-05-10T17:00:00+00:00",
          "2024-05-13T01:00:00+00:00",
          "2024-05-13T07:00:00+00:00",
          "2024-05-13T12:00:00+00:00",
          "2024-05-13T16:00:00+00:00",
          "2024-05-13T20:00:00+00:00",
          "2024-05-14T01:00:00+00:00",
          "2024-05-14T02:00:00+00:00",
          "2024-05-14T03:00:00+00:00",
          "2024-05-14T19:00:00+00:00",
          "2024-05-15T02:00:00+00:00",
          "2024-05-15T07:00:00+00:00",
          "2024-05-15T15:00:00+00:00",
          "2024-05-15T22:00:00+00:00",
          "2024-05-16T05:00:00+00:00",
          "2024-05-16T06:00:00+00:00",
          "2024-05-16T09:00:00+00:00",
          "2024-05-16T17:00:00+00:00",
          "2024-05-17T01:00:00+00:00",
          "2024-05-17T02:00:00+00:00",
          "2024-05-17T14:00:00+00:00",
          "2024-05-17T15:00:00+00:00",
          "2024-05-20T05:00:00+00:00",
          "2024-05-21T05:00:00+00:00",
          "2024-05-21T15:00:00+00:00",
          "2024-05-21T21:00:00+00:00",
          "2024-05-21T22:00:00+00:00",
          "2024-05-22T01:00:00+00:00",
          "2024-05-22T13:00:00+00:00",
          "2024-05-24T02:00:00+00:00",
          "2024-05-24T04:00:00+00:00",
          "2024-05-24T06:00:00+00:00",
          "2024-05-24T16:00:00+00:00",
          "2024-05-24T18:00:00+00:00",
          "2024-05-27T01:00:00+00:00",
          "2024-05-27T04:00:00+00:00",
          "2024-05-27T06:00:00+00:00",
          "2024-05-27T07:00:00+00:00",
          "2024-05-27T13:00:00+00:00",
          "2024-05-27T17:00:00+00:00",
          "2024-05-27T20:00:00+00:00",
          "2024-05-28T09:00:00+00:00",
          "2024-05-29T05:00:00+00:00",
          "2024-05-29T09:00:00+00:00",
          "2024-05-29T12:00:00+00:00",
          "2024-05-29T20:00:00+00:00",
          "2024-05-29T21:00:00+00:00",
          "2024-05-29T23:00:00+00:00",
          "2024-05-30T01:00:00+00:00",
          "2024-05-30T03:00:00+00:00",
          "2024-05-30T07:00:00+00:00",
          "2024-05-30T10:00:00+00:00",
          "2024-05-30T11:00:00+00:00",
          "2024-05-30T12:00:00+00:00",
          "2024-05-30T14:00:00+00:00",
          "2024-05-30T18:00:00+00:00",
          "2024-05-30T23:00:00+00:00",
          "2024-05-31T03:00:00+00:00",
          "2024-05-31T05:00:00+00:00",
          "2024-05-31T12:00:00+00:00",
          "2024-05-31T15:00:00+00:00",
          "2024-05-31T18:00:00+00:00",
          "2024-06-02T22:00:00+00:00",
          "2024-06-03T02:00:00+00:00",
          "2024-06-03T04:00:00+00:00",
          "2024-06-03T07:00:00+00:00",
          "2024-06-03T16:00:00+00:00",
          "2024-06-03T17:00:00+00:00",
          "2024-06-03T18:00:00+00:00",
          "2024-06-04T01:00:00+00:00",
          "2024-06-04T04:00:00+00:00",
          "2024-06-04T06:00:00+00:00",
          "2024-06-04T08:00:00+00:00",
          "2024-06-04T16:00:00+00:00",
          "2024-06-05T06:00:00+00:00",
          "2024-06-05T18:00:00+00:00",
          "2024-06-05T23:00:00+00:00",
          "2024-06-06T12:00:00+00:00",
          "2024-06-06T20:00:00+00:00",
          "2024-06-07T16:00:00+00:00",
          "2024-06-07T18:00:00+00:00",
          "2024-06-07T20:00:00+00:00",
          "2024-06-09T23:00:00+00:00",
          "2024-06-10T00:00:00+00:00",
          "2024-06-10T02:00:00+00:00",
          "2024-06-10T05:00:00+00:00",
          "2024-06-10T07:00:00+00:00",
          "2024-06-10T16:00:00+00:00",
          "2024-06-10T22:00:00+00:00",
          "2024-06-11T04:00:00+00:00",
          "2024-06-11T17:00:00+00:00",
          "2024-06-12T08:00:00+00:00",
          "2024-06-12T13:00:00+00:00",
          "2024-06-12T17:00:00+00:00",
          "2024-06-12T18:00:00+00:00",
          "2024-06-12T20:00:00+00:00",
          "2024-06-13T07:00:00+00:00",
          "2024-06-13T08:00:00+00:00",
          "2024-06-13T10:00:00+00:00",
          "2024-06-13T13:00:00+00:00",
          "2024-06-13T16:00:00+00:00",
          "2024-06-13T20:00:00+00:00",
          "2024-06-13T23:00:00+00:00",
          "2024-06-14T05:00:00+00:00",
          "2024-06-14T09:00:00+00:00",
          "2024-06-14T11:00:00+00:00",
          "2024-06-14T14:00:00+00:00",
          "2024-06-14T16:00:00+00:00",
          "2024-06-16T23:00:00+00:00",
          "2024-06-17T01:00:00+00:00",
          "2024-06-17T02:00:00+00:00",
          "2024-06-17T12:00:00+00:00",
          "2024-06-17T16:00:00+00:00",
          "2024-06-18T01:00:00+00:00",
          "2024-06-18T06:00:00+00:00",
          "2024-06-18T07:00:00+00:00",
          "2024-06-18T15:00:00+00:00",
          "2024-06-18T23:00:00+00:00",
          "2024-06-19T22:00:00+00:00",
          "2024-06-20T06:00:00+00:00",
          "2024-06-20T17:00:00+00:00",
          "2024-06-20T22:00:00+00:00",
          "2024-06-21T01:00:00+00:00",
          "2024-06-21T02:00:00+00:00",
          "2024-06-21T04:00:00+00:00",
          "2024-06-21T05:00:00+00:00",
          "2024-06-21T07:00:00+00:00",
          "2024-06-21T10:00:00+00:00",
          "2024-06-24T23:00:00+00:00",
          "2024-06-25T07:00:00+00:00",
          "2024-06-25T11:00:00+00:00",
          "2024-06-25T17:00:00+00:00",
          "2024-06-25T22:00:00+00:00",
          "2024-06-26T04:00:00+00:00",
          "2024-06-26T14:00:00+00:00",
          "2024-06-27T05:00:00+00:00",
          "2024-06-27T08:00:00+00:00",
          "2024-06-27T11:00:00+00:00",
          "2024-06-27T22:00:00+00:00",
          "2024-06-28T10:00:00+00:00",
          "2024-06-28T15:00:00+00:00",
          "2024-06-30T21:00:00+00:00",
          "2024-06-30T23:00:00+00:00",
          "2024-07-01T13:00:00+00:00",
          "2024-07-02T15:00:00+00:00",
          "2024-07-02T20:00:00+00:00",
          "2024-07-03T11:00:00+00:00",
          "2024-07-03T15:00:00+00:00",
          "2024-07-03T19:00:00+00:00",
          "2024-07-04T16:00:00+00:00",
          "2024-07-04T20:00:00+00:00",
          "2024-07-05T03:00:00+00:00",
          "2024-07-07T22:00:00+00:00",
          "2024-07-08T00:00:00+00:00",
          "2024-07-08T04:00:00+00:00",
          "2024-07-08T09:00:00+00:00",
          "2024-07-09T12:00:00+00:00",
          "2024-07-09T13:00:00+00:00",
          "2024-07-09T14:00:00+00:00",
          "2024-07-09T20:00:00+00:00",
          "2024-07-10T04:00:00+00:00",
          "2024-07-10T07:00:00+00:00",
          "2024-07-10T09:00:00+00:00",
          "2024-07-10T22:00:00+00:00",
          "2024-07-11T00:00:00+00:00",
          "2024-07-11T01:00:00+00:00",
          "2024-07-11T18:00:00+00:00",
          "2024-07-11T19:00:00+00:00",
          "2024-07-11T22:00:00+00:00",
          "2024-07-11T23:00:00+00:00",
          "2024-07-12T03:00:00+00:00",
          "2024-07-12T07:00:00+00:00",
          "2024-07-15T03:00:00+00:00",
          "2024-07-15T13:00:00+00:00",
          "2024-07-16T02:00:00+00:00",
          "2024-07-17T11:00:00+00:00",
          "2024-07-17T16:00:00+00:00",
          "2024-07-18T02:00:00+00:00",
          "2024-07-18T14:00:00+00:00",
          "2024-07-18T19:00:00+00:00",
          "2024-07-18T22:00:00+00:00",
          "2024-07-19T06:00:00+00:00",
          "2024-07-19T12:00:00+00:00",
          "2024-07-19T16:00:00+00:00",
          "2024-07-22T19:00:00+00:00",
          "2024-07-22T23:00:00+00:00",
          "2024-07-23T09:00:00+00:00",
          "2024-07-24T03:00:00+00:00",
          "2024-07-24T15:00:00+00:00",
          "2024-07-24T19:00:00+00:00",
          "2024-07-25T02:00:00+00:00",
          "2024-07-26T00:00:00+00:00",
          "2024-07-26T19:00:00+00:00",
          "2024-07-29T05:00:00+00:00",
          "2024-07-29T07:00:00+00:00",
          "2024-07-29T17:00:00+00:00",
          "2024-07-30T09:00:00+00:00",
          "2024-07-30T14:00:00+00:00",
          "2024-07-30T16:00:00+00:00",
          "2024-07-30T22:00:00+00:00",
          "2024-07-31T01:00:00+00:00",
          "2024-07-31T02:00:00+00:00",
          "2024-07-31T06:00:00+00:00",
          "2024-07-31T09:00:00+00:00",
          "2024-07-31T10:00:00+00:00",
          "2024-08-01T00:00:00+00:00",
          "2024-08-01T05:00:00+00:00",
          "2024-08-01T06:00:00+00:00",
          "2024-08-02T02:00:00+00:00",
          "2024-08-02T04:00:00+00:00",
          "2024-08-02T16:00:00+00:00",
          "2024-08-02T20:00:00+00:00",
          "2024-08-05T09:00:00+00:00",
          "2024-08-06T09:00:00+00:00",
          "2024-08-06T10:00:00+00:00",
          "2024-08-06T22:00:00+00:00",
          "2024-08-07T12:00:00+00:00",
          "2024-08-07T15:00:00+00:00",
          "2024-08-07T17:00:00+00:00",
          "2024-08-07T20:00:00+00:00",
          "2024-08-07T21:00:00+00:00",
          "2024-08-08T06:00:00+00:00",
          "2024-08-08T13:00:00+00:00",
          "2024-08-09T11:00:00+00:00",
          "2024-08-09T13:00:00+00:00",
          "2024-08-09T20:00:00+00:00",
          "2024-08-14T16:00:00+00:00",
          "2024-08-14T19:00:00+00:00",
          "2024-08-15T01:00:00+00:00",
          "2024-08-15T04:00:00+00:00",
          "2024-08-15T06:00:00+00:00"
         ],
         "y": [
          -54.09999999999804,
          -58.2999999999978,
          -61.29999999999747,
          -85.89999999999765,
          -46.099999999996705,
          -46.099999999996705,
          -36.39999999999533,
          -91.09999999999619,
          -144.2999999999961,
          -169.89999999999728,
          -165.8999999999966,
          -261.2999999999954,
          -280.3999999999951,
          -73.39999999999571,
          -121.29999999999643,
          -121.29999999999643,
          -103.59999999999705,
          64.80000000000261,
          39.500000000003396,
          52.70000000000327,
          37.80000000000336,
          13.700000000003126,
          28.500000000003496,
          -16.09999999999559,
          -26.09999999999502,
          49.40000000000555,
          107.90000000000576,
          161.30000000000697,
          131.80000000000916,
          155.60000000000966,
          117.50000000000986,
          -13.899999999989433,
          -94.89999999998939,
          -98.49999999998744,
          -114.69999999998699,
          -177.69999999998652,
          -201.2999999999879,
          -228.49999999998846,
          -287.0999999999869,
          -288.8999999999876,
          -381.69999999998714,
          -434.9999999999877,
          -491.9999999999859,
          -536.7999999999852,
          -597.4999999999853,
          -611.8999999999853,
          -662.8999999999842,
          -599.6999999999865,
          -659.4999999999878,
          -688.8999999999872,
          -770.099999999987,
          -745.5999999999867,
          -748.9999999999868,
          -793.4999999999875,
          -866.2999999999881,
          -1006.3999999999867,
          -976.1999999999864,
          -1085.599999999988,
          -1175.2999999999872,
          -1223.2999999999863,
          -1281.9999999999845,
          -1317.7999999999838,
          -1249.7999999999847,
          -1252.4999999999868,
          -1282.9999999999868,
          -1410.9999999999866,
          -1496.7999999999847,
          -1573.4999999999843,
          -1639.899999999983,
          -1687.499999999983,
          -1763.8999999999817,
          -1846.3999999999814,
          -1814.799999999981,
          -1918.4999999999789,
          -1930.3999999999792,
          -1930.0999999999794,
          -1949.5999999999794,
          -1956.999999999979,
          -1970.0999999999783,
          -1983.8999999999776,
          -1988.5999999999772,
          -2034.7999999999774,
          -2151.4999999999777,
          -2247.4999999999773,
          -2269.799999999978,
          -2408.69999999998,
          -2502.29999999998,
          -2500.19999999998,
          -2628.499999999981,
          -2735.49999999998,
          -2751.2999999999793,
          -2776.6999999999794,
          -2843.899999999979,
          -2904.99999999998,
          -2951.19999999998,
          -2857.199999999977,
          -2864.2999999999793,
          -2721.5999999999794,
          -2476.8999999999796,
          -2491.699999999979,
          -2530.299999999979,
          -2573.699999999979,
          -2640.199999999978,
          -2719.7999999999806,
          -2578.5999999999804,
          -2552.499999999982,
          -2606.2999999999834,
          -2361.4999999999827,
          -2368.199999999982,
          -2386.699999999982,
          -2202.3999999999833,
          -2262.199999999983,
          -2026.099999999984,
          -2141.499999999985,
          -2166.6999999999857,
          -2261.2999999999856,
          -2310.5999999999844,
          -2333.899999999986,
          -2388.299999999987,
          -2441.499999999987,
          -2556.3999999999846,
          -2763.699999999988,
          -2783.2999999999874,
          -2956.599999999987,
          -3073.299999999988,
          -3102.9999999999873,
          -2910.399999999987,
          -2932.1999999999866,
          -2935.799999999987,
          -2894.2999999999906,
          -2981.099999999991,
          -3018.0999999999913,
          -3071.6999999999903,
          -3120.49999999999,
          -3048.1999999999916,
          -3059.999999999991,
          -3090.9999999999895,
          -3037.3999999999896,
          -2994.39999999999,
          -2991.5999999999894,
          -2946.599999999989,
          -2953.699999999989,
          -2912.699999999989,
          -2927.899999999988,
          -2944.9999999999877,
          -2840.199999999987,
          -2844.299999999985,
          -2920.699999999985,
          -2945.999999999984,
          -3008.799999999983,
          -3052.3999999999837,
          -3092.299999999983,
          -3100.6999999999825,
          -3125.299999999983,
          -2959.399999999984,
          -2973.999999999983,
          -2983.799999999983,
          -3015.5999999999826,
          -3021.4999999999823,
          -2880.4999999999823,
          -2879.1999999999825,
          -2810.3999999999837,
          -2814.299999999984,
          -2823.3999999999833,
          -2791.799999999983,
          -2835.9999999999827,
          -2666.799999999982,
          -2672.7999999999815,
          -2519.5999999999817,
          -2532.6999999999807,
          -2537.1999999999803,
          -2592.69999999998,
          -2631.2999999999797,
          -2666.9999999999804,
          -2688.3999999999805,
          -2810.89999999998,
          -2912.5999999999794,
          -2999.6999999999775,
          -2818.699999999977,
          -2841.899999999977,
          -2813.8999999999764,
          -2781.9999999999764,
          -2811.4999999999764,
          -2816.2999999999747,
          -2731.299999999973,
          -2699.8999999999714,
          -2605.299999999971,
          -2671.599999999972,
          -2840.8999999999705,
          -2841.099999999971,
          -2894.7999999999683,
          -2877.1999999999684,
          -2654.5999999999685,
          -2622.299999999968,
          -2519.5999999999694,
          -2500.0999999999694,
          -2458.699999999969,
          -2396.2999999999674,
          -2420.499999999968,
          -2518.8999999999687,
          -2551.499999999969,
          -2560.8999999999687,
          -2561.299999999968,
          -2581.299999999968,
          -2599.599999999968,
          -2617.7999999999697,
          -2655.299999999969,
          -2666.899999999969,
          -2688.899999999969,
          -2699.7999999999674,
          -2698.3999999999673,
          -2711.9999999999677,
          -2412.199999999969,
          -2223.499999999968,
          -2083.499999999967,
          -1919.5999999999678,
          -1923.199999999967,
          -1731.699999999968,
          -1371.599999999968,
          -1185.3999999999671,
          -1079.8999999999676,
          -893.6999999999681,
          -670.9999999999679,
          -602.1999999999675,
          -653.9999999999671,
          -530.0999999999681,
          -585.5999999999675,
          -619.599999999967,
          -657.1999999999668,
          -689.5999999999682,
          -760.399999999968,
          -860.2999999999677,
          -889.0999999999688,
          -929.5999999999699,
          -967.2999999999704,
          -1006.8999999999705,
          -1034.2999999999702,
          -1078.7999999999686,
          -1121.899999999969,
          -1274.2999999999681,
          -1521.0999999999685,
          -1503.9999999999675,
          -1387.3999999999673,
          -1429.9999999999677,
          -1417.1999999999682,
          -1393.4999999999686,
          -1413.399999999968,
          -1471.2999999999677,
          -1607.699999999968,
          -1661.9999999999686,
          -1683.0999999999692,
          -1714.1999999999684,
          -1745.1999999999684,
          -1749.0999999999674,
          -1712.099999999967,
          -1709.6999999999668,
          -1737.3999999999655,
          -1770.0999999999644,
          -1816.7999999999643,
          -1857.599999999964,
          -1917.1999999999648,
          -1913.7999999999647,
          -1999.6999999999657,
          -2017.2999999999656,
          -2040.5999999999651,
          -2123.899999999965,
          -2162.4999999999645,
          -2204.8999999999637,
          -2257.599999999962,
          -2305.5999999999613,
          -2317.9999999999604,
          -2308.999999999959,
          -2339.3999999999596,
          -2356.9999999999595,
          -2418.9999999999595,
          -2393.6999999999593,
          -2365.799999999959,
          -2544.699999999956,
          -2605.999999999956,
          -2582.399999999957,
          -2694.4999999999563,
          -2618.2999999999565,
          -2638.399999999956,
          -2752.599999999956,
          -2811.799999999957,
          -2847.199999999957,
          -2889.399999999957,
          -2712.1999999999575,
          -2746.499999999956,
          -2422.299999999957,
          -2447.5999999999563,
          -2447.999999999957,
          -2451.399999999957,
          -2439.799999999957,
          -2467.4999999999573,
          -2379.499999999956,
          -2268.5999999999553,
          -2368.6999999999557,
          -2392.8999999999555,
          -2433.099999999954,
          -2372.099999999954,
          -2375.499999999954,
          -2364.599999999953,
          -2318.5999999999526,
          -2311.6999999999516,
          -2319.399999999951,
          -2355.999999999951,
          -2224.099999999952,
          -2165.899999999953,
          -2160.3999999999523,
          -2302.89999999995,
          -2358.299999999949,
          -2416.4999999999495,
          -2372.2999999999497,
          -2458.699999999947,
          -2472.2999999999474,
          -2310.9999999999472,
          -2397.7999999999465,
          -2459.0999999999462,
          -2290.8999999999446,
          -2321.3999999999446,
          -2340.499999999944,
          -2320.999999999944,
          -2378.599999999945,
          -2363.199999999944,
          -2313.4999999999445,
          -2284.8999999999437,
          -2331.8999999999437,
          -2330.7999999999433,
          -2487.3999999999437,
          -2616.2999999999442,
          -2596.099999999944,
          -2437.599999999943,
          -2390.3999999999437,
          -2424.799999999944,
          -2409.399999999944,
          -2430.199999999944,
          -2551.199999999944,
          -2403.8999999999423,
          -2351.499999999943,
          -2293.7999999999424,
          -2318.6999999999425,
          -2401.099999999944,
          -2369.199999999944,
          -2306.4999999999463,
          -2397.899999999945,
          -2440.3999999999482,
          -2486.69999999995,
          -2582.09999999995,
          -2634.7999999999497,
          -2655.7999999999497,
          -2607.5999999999494,
          -2684.3999999999487,
          -2733.399999999948,
          -2944.7999999999483,
          -3079.999999999948,
          -3127.4999999999472,
          -3174.9999999999477,
          -3226.6999999999466,
          -3263.499999999947,
          -3259.199999999946,
          -3316.7999999999456,
          -3272.0999999999467,
          -3301.899999999944,
          -3289.1999999999434,
          -3322.799999999942,
          -3303.4999999999422,
          -3243.9999999999422,
          -3238.7999999999415,
          -3223.1999999999416,
          -3212.199999999943,
          -3090.7999999999424,
          -3050.7999999999447,
          -2996.8999999999446,
          -3034.199999999945,
          -2893.2999999999456,
          -2929.3999999999446,
          -2643.599999999944,
          -2668.0999999999444,
          -2581.899999999945,
          -2343.299999999943,
          -2376.299999999944,
          -2448.6999999999452,
          -2535.8999999999437,
          -2508.4999999999436,
          -1981.2999999999445,
          -2007.499999999943,
          -2028.8999999999432,
          -1891.099999999943,
          -1805.0999999999415,
          -1810.799999999941,
          -1774.7999999999406,
          -1776.5999999999412,
          -1805.2999999999406,
          -1591.2999999999397,
          -1632.4999999999397,
          -1683.9999999999395,
          -1462.199999999941,
          -1592.89999999994,
          -1537.4999999999402,
          -1336.999999999941,
          -1290.199999999941,
          -1293.9999999999413,
          -1190.2999999999424,
          -1134.6999999999423,
          -1229.699999999943,
          -1344.2999999999415,
          -1405.89999999994,
          -1501.8999999999394,
          -1535.899999999939,
          -1580.1999999999373,
          -1526.2999999999356,
          -1518.4999999999357,
          -1482.6999999999364,
          -1475.0999999999372,
          -1365.4999999999368,
          -1416.9999999999366,
          -1432.2999999999347,
          -1536.6999999999348,
          -1572.7999999999347,
          -1568.0999999999349,
          -1572.2999999999336,
          -881.499999999932,
          -914.8999999999321,
          -971.0999999999333,
          -978.4999999999329,
          -1032.299999999934,
          -1077.0999999999344,
          -1103.1999999999343,
          -1118.899999999934,
          -1160.9999999999343,
          -1212.6999999999355,
          -1299.5999999999342,
          -1369.7999999999345,
          -1236.5999999999344,
          -889.5999999999337,
          -730.7999999999337,
          -525.599999999935,
          -449.49999999993497,
          -485.69999999993456,
          -572.6999999999339,
          -673.4999999999347,
          -721.6999999999341,
          -791.799999999936,
          -898.9999999999362,
          -1006.6999999999375,
          -1098.4999999999368,
          -1121.8999999999378,
          -1176.6999999999382,
          -1234.6999999999384,
          -1278.099999999938,
          -1365.8999999999382,
          -1400.099999999938,
          -1484.299999999939,
          -1532.6999999999387,
          -1616.1999999999412,
          -1888.7999999999397,
          -2072.79999999994,
          -2106.99999999994,
          -2127.0999999999394,
          -2192.499999999939,
          -2270.7999999999392,
          -2345.7999999999397,
          -2292.3999999999405,
          -2337.5999999999412,
          -2447.699999999941,
          -2553.599999999941,
          -2496.89999999994,
          -2442.899999999939,
          -2527.8999999999387,
          -2593.6999999999375,
          -2665.6999999999375,
          -2738.199999999937,
          -2720.0999999999385,
          -3084.699999999939,
          -3145.699999999939,
          -2767.99999999994,
          -2866.79999999994,
          -2822.8999999999414,
          -2831.4999999999413,
          -2465.8999999999423,
          -2518.8999999999432,
          -2437.5999999999435,
          -2444.4999999999436,
          -2482.799999999944,
          -2566.4999999999436,
          -2738.2999999999433,
          -2806.8999999999432,
          -2898.099999999946,
          -3110.599999999946,
          -3120.599999999945,
          -3067.799999999945,
          -3113.2999999999456,
          -3122.399999999945,
          -3039.5999999999444,
          -3047.7999999999447,
          -3036.799999999944,
          -2948.9999999999436,
          -3107.399999999944,
          -2983.499999999945,
          -2965.5999999999453,
          -3017.699999999947,
          -2921.4999999999463,
          -2895.299999999947,
          -2941.4999999999472,
          -2943.8999999999464,
          -3017.299999999948,
          -2758.0999999999494,
          -2863.19999999995,
          -2314.599999999951,
          -2198.1999999999507,
          -2227.0999999999513,
          -2268.8999999999496,
          -2291.699999999948,
          -2240.8999999999473,
          -2285.6999999999475,
          -2295.799999999947,
          -2208.299999999948,
          -2051.599999999947,
          -2031.7999999999474,
          -1902.4999999999486,
          -1812.4999999999498,
          -1828.8999999999505,
          -799.1999999999505,
          -864.7999999999495,
          -878.2999999999491,
          -902.6999999999491,
          -965.4999999999498,
          -987.3999999999489,
          -994.699999999949,
          -992.7999999999488,
          -701.3999999999494,
          -732.4999999999511,
          -716.0999999999514,
          -796.8999999999522,
          -642.8999999999514,
          -283.89999999995104,
          -366.2999999999494,
          -116.49999999994941,
          -76.69999999994846,
          -26.199999999948474,
          -262.79999999994845,
          -250.09999999994852,
          -289.69999999994815,
          -372.5999999999489,
          -402.79999999994914,
          -440.0999999999481,
          -511.4999999999494,
          -514.0999999999486,
          -233.29999999994874,
          426.6000000000511,
          426.1000000000512,
          393.9000000000512,
          -83.49999999994924,
          36.20000000005001,
          1055.2000000000498,
          976.60000000005,
          959.0000000000502,
          941.3000000000509,
          1369.8000000000507,
          2365.400000000051,
          2425.3000000000516,
          3682.600000000052,
          4019.1000000000518,
          5826.300000000052,
          5985.600000000052,
          5951.500000000052,
          5919.9000000000515,
          6211.500000000051,
          6662.700000000052,
          6635.4000000000515,
          6639.500000000051,
          6753.000000000052,
          6697.600000000055,
          6874.500000000055,
          6852.400000000054,
          6790.400000000054,
          7412.000000000055,
          7422.400000000054,
          7352.000000000055,
          7324.000000000055,
          7314.7000000000535,
          7322.100000000053,
          7301.600000000053,
          7285.600000000054,
          7294.400000000054,
          7255.7000000000535,
          7192.200000000053,
          7159.300000000052,
          7108.4000000000515,
          6891.000000000051,
          6886.800000000051,
          6738.20000000005,
          7219.20000000005,
          7823.500000000052,
          7819.9000000000515,
          7794.600000000052,
          7959.600000000052,
          7906.900000000053,
          7887.900000000053,
          8011.7000000000535,
          7976.700000000053,
          8000.100000000052,
          7880.000000000052,
          7884.900000000051,
          7596.700000000052,
          7522.300000000052,
          7456.800000000051,
          7476.800000000051,
          7431.10000000005,
          7205.30000000005,
          7158.40000000005,
          7207.400000000049,
          7237.800000000048,
          7312.50000000005,
          7322.20000000005,
          7301.20000000005,
          7289.80000000005,
          7218.20000000005,
          7166.100000000051,
          7109.000000000051,
          7058.000000000051,
          7013.600000000051,
          6920.4000000000515
         ]
        }
       ],
       "layout": {
        "font": {
         "color": "#e1e1e1",
         "size": 10
        },
        "height": 400,
        "margin": {
         "b": 10,
         "l": 15,
         "r": 15
        },
        "paper_bgcolor": "#1e1e1e",
        "plot_bgcolor": "#1e1e1e",
        "template": {
         "data": {
          "bar": [
           {
            "error_x": {
             "color": "#2a3f5f"
            },
            "error_y": {
             "color": "#2a3f5f"
            },
            "marker": {
             "line": {
              "color": "#E5ECF6",
              "width": 0.5
             },
             "pattern": {
              "fillmode": "overlay",
              "size": 10,
              "solidity": 0.2
             }
            },
            "type": "bar"
           }
          ],
          "barpolar": [
           {
            "marker": {
             "line": {
              "color": "#E5ECF6",
              "width": 0.5
             },
             "pattern": {
              "fillmode": "overlay",
              "size": 10,
              "solidity": 0.2
             }
            },
            "type": "barpolar"
           }
          ],
          "carpet": [
           {
            "aaxis": {
             "endlinecolor": "#2a3f5f",
             "gridcolor": "white",
             "linecolor": "white",
             "minorgridcolor": "white",
             "startlinecolor": "#2a3f5f"
            },
            "baxis": {
             "endlinecolor": "#2a3f5f",
             "gridcolor": "white",
             "linecolor": "white",
             "minorgridcolor": "white",
             "startlinecolor": "#2a3f5f"
            },
            "type": "carpet"
           }
          ],
          "choropleth": [
           {
            "colorbar": {
             "outlinewidth": 0,
             "ticks": ""
            },
            "type": "choropleth"
           }
          ],
          "contour": [
           {
            "colorbar": {
             "outlinewidth": 0,
             "ticks": ""
            },
            "colorscale": [
             [
              0,
              "#0d0887"
             ],
             [
              0.1111111111111111,
              "#46039f"
             ],
             [
              0.2222222222222222,
              "#7201a8"
             ],
             [
              0.3333333333333333,
              "#9c179e"
             ],
             [
              0.4444444444444444,
              "#bd3786"
             ],
             [
              0.5555555555555556,
              "#d8576b"
             ],
             [
              0.6666666666666666,
              "#ed7953"
             ],
             [
              0.7777777777777778,
              "#fb9f3a"
             ],
             [
              0.8888888888888888,
              "#fdca26"
             ],
             [
              1,
              "#f0f921"
             ]
            ],
            "type": "contour"
           }
          ],
          "contourcarpet": [
           {
            "colorbar": {
             "outlinewidth": 0,
             "ticks": ""
            },
            "type": "contourcarpet"
           }
          ],
          "heatmap": [
           {
            "colorbar": {
             "outlinewidth": 0,
             "ticks": ""
            },
            "colorscale": [
             [
              0,
              "#0d0887"
             ],
             [
              0.1111111111111111,
              "#46039f"
             ],
             [
              0.2222222222222222,
              "#7201a8"
             ],
             [
              0.3333333333333333,
              "#9c179e"
             ],
             [
              0.4444444444444444,
              "#bd3786"
             ],
             [
              0.5555555555555556,
              "#d8576b"
             ],
             [
              0.6666666666666666,
              "#ed7953"
             ],
             [
              0.7777777777777778,
              "#fb9f3a"
             ],
             [
              0.8888888888888888,
              "#fdca26"
             ],
             [
              1,
              "#f0f921"
             ]
            ],
            "type": "heatmap"
           }
          ],
          "heatmapgl": [
           {
            "colorbar": {
             "outlinewidth": 0,
             "ticks": ""
            },
            "colorscale": [
             [
              0,
              "#0d0887"
             ],
             [
              0.1111111111111111,
              "#46039f"
             ],
             [
              0.2222222222222222,
              "#7201a8"
             ],
             [
              0.3333333333333333,
              "#9c179e"
             ],
             [
              0.4444444444444444,
              "#bd3786"
             ],
             [
              0.5555555555555556,
              "#d8576b"
             ],
             [
              0.6666666666666666,
              "#ed7953"
             ],
             [
              0.7777777777777778,
              "#fb9f3a"
             ],
             [
              0.8888888888888888,
              "#fdca26"
             ],
             [
              1,
              "#f0f921"
             ]
            ],
            "type": "heatmapgl"
           }
          ],
          "histogram": [
           {
            "marker": {
             "pattern": {
              "fillmode": "overlay",
              "size": 10,
              "solidity": 0.2
             }
            },
            "type": "histogram"
           }
          ],
          "histogram2d": [
           {
            "colorbar": {
             "outlinewidth": 0,
             "ticks": ""
            },
            "colorscale": [
             [
              0,
              "#0d0887"
             ],
             [
              0.1111111111111111,
              "#46039f"
             ],
             [
              0.2222222222222222,
              "#7201a8"
             ],
             [
              0.3333333333333333,
              "#9c179e"
             ],
             [
              0.4444444444444444,
              "#bd3786"
             ],
             [
              0.5555555555555556,
              "#d8576b"
             ],
             [
              0.6666666666666666,
              "#ed7953"
             ],
             [
              0.7777777777777778,
              "#fb9f3a"
             ],
             [
              0.8888888888888888,
              "#fdca26"
             ],
             [
              1,
              "#f0f921"
             ]
            ],
            "type": "histogram2d"
           }
          ],
          "histogram2dcontour": [
           {
            "colorbar": {
             "outlinewidth": 0,
             "ticks": ""
            },
            "colorscale": [
             [
              0,
              "#0d0887"
             ],
             [
              0.1111111111111111,
              "#46039f"
             ],
             [
              0.2222222222222222,
              "#7201a8"
             ],
             [
              0.3333333333333333,
              "#9c179e"
             ],
             [
              0.4444444444444444,
              "#bd3786"
             ],
             [
              0.5555555555555556,
              "#d8576b"
             ],
             [
              0.6666666666666666,
              "#ed7953"
             ],
             [
              0.7777777777777778,
              "#fb9f3a"
             ],
             [
              0.8888888888888888,
              "#fdca26"
             ],
             [
              1,
              "#f0f921"
             ]
            ],
            "type": "histogram2dcontour"
           }
          ],
          "mesh3d": [
           {
            "colorbar": {
             "outlinewidth": 0,
             "ticks": ""
            },
            "type": "mesh3d"
           }
          ],
          "parcoords": [
           {
            "line": {
             "colorbar": {
              "outlinewidth": 0,
              "ticks": ""
             }
            },
            "type": "parcoords"
           }
          ],
          "pie": [
           {
            "automargin": true,
            "type": "pie"
           }
          ],
          "scatter": [
           {
            "fillpattern": {
             "fillmode": "overlay",
             "size": 10,
             "solidity": 0.2
            },
            "type": "scatter"
           }
          ],
          "scatter3d": [
           {
            "line": {
             "colorbar": {
              "outlinewidth": 0,
              "ticks": ""
             }
            },
            "marker": {
             "colorbar": {
              "outlinewidth": 0,
              "ticks": ""
             }
            },
            "type": "scatter3d"
           }
          ],
          "scattercarpet": [
           {
            "marker": {
             "colorbar": {
              "outlinewidth": 0,
              "ticks": ""
             }
            },
            "type": "scattercarpet"
           }
          ],
          "scattergeo": [
           {
            "marker": {
             "colorbar": {
              "outlinewidth": 0,
              "ticks": ""
             }
            },
            "type": "scattergeo"
           }
          ],
          "scattergl": [
           {
            "marker": {
             "colorbar": {
              "outlinewidth": 0,
              "ticks": ""
             }
            },
            "type": "scattergl"
           }
          ],
          "scattermapbox": [
           {
            "marker": {
             "colorbar": {
              "outlinewidth": 0,
              "ticks": ""
             }
            },
            "type": "scattermapbox"
           }
          ],
          "scatterpolar": [
           {
            "marker": {
             "colorbar": {
              "outlinewidth": 0,
              "ticks": ""
             }
            },
            "type": "scatterpolar"
           }
          ],
          "scatterpolargl": [
           {
            "marker": {
             "colorbar": {
              "outlinewidth": 0,
              "ticks": ""
             }
            },
            "type": "scatterpolargl"
           }
          ],
          "scatterternary": [
           {
            "marker": {
             "colorbar": {
              "outlinewidth": 0,
              "ticks": ""
             }
            },
            "type": "scatterternary"
           }
          ],
          "surface": [
           {
            "colorbar": {
             "outlinewidth": 0,
             "ticks": ""
            },
            "colorscale": [
             [
              0,
              "#0d0887"
             ],
             [
              0.1111111111111111,
              "#46039f"
             ],
             [
              0.2222222222222222,
              "#7201a8"
             ],
             [
              0.3333333333333333,
              "#9c179e"
             ],
             [
              0.4444444444444444,
              "#bd3786"
             ],
             [
              0.5555555555555556,
              "#d8576b"
             ],
             [
              0.6666666666666666,
              "#ed7953"
             ],
             [
              0.7777777777777778,
              "#fb9f3a"
             ],
             [
              0.8888888888888888,
              "#fdca26"
             ],
             [
              1,
              "#f0f921"
             ]
            ],
            "type": "surface"
           }
          ],
          "table": [
           {
            "cells": {
             "fill": {
              "color": "#EBF0F8"
             },
             "line": {
              "color": "white"
             }
            },
            "header": {
             "fill": {
              "color": "#C8D4E3"
             },
             "line": {
              "color": "white"
             }
            },
            "type": "table"
           }
          ]
         },
         "layout": {
          "annotationdefaults": {
           "arrowcolor": "#2a3f5f",
           "arrowhead": 0,
           "arrowwidth": 1
          },
          "autotypenumbers": "strict",
          "coloraxis": {
           "colorbar": {
            "outlinewidth": 0,
            "ticks": ""
           }
          },
          "colorscale": {
           "diverging": [
            [
             0,
             "#8e0152"
            ],
            [
             0.1,
             "#c51b7d"
            ],
            [
             0.2,
             "#de77ae"
            ],
            [
             0.3,
             "#f1b6da"
            ],
            [
             0.4,
             "#fde0ef"
            ],
            [
             0.5,
             "#f7f7f7"
            ],
            [
             0.6,
             "#e6f5d0"
            ],
            [
             0.7,
             "#b8e186"
            ],
            [
             0.8,
             "#7fbc41"
            ],
            [
             0.9,
             "#4d9221"
            ],
            [
             1,
             "#276419"
            ]
           ],
           "sequential": [
            [
             0,
             "#0d0887"
            ],
            [
             0.1111111111111111,
             "#46039f"
            ],
            [
             0.2222222222222222,
             "#7201a8"
            ],
            [
             0.3333333333333333,
             "#9c179e"
            ],
            [
             0.4444444444444444,
             "#bd3786"
            ],
            [
             0.5555555555555556,
             "#d8576b"
            ],
            [
             0.6666666666666666,
             "#ed7953"
            ],
            [
             0.7777777777777778,
             "#fb9f3a"
            ],
            [
             0.8888888888888888,
             "#fdca26"
            ],
            [
             1,
             "#f0f921"
            ]
           ],
           "sequentialminus": [
            [
             0,
             "#0d0887"
            ],
            [
             0.1111111111111111,
             "#46039f"
            ],
            [
             0.2222222222222222,
             "#7201a8"
            ],
            [
             0.3333333333333333,
             "#9c179e"
            ],
            [
             0.4444444444444444,
             "#bd3786"
            ],
            [
             0.5555555555555556,
             "#d8576b"
            ],
            [
             0.6666666666666666,
             "#ed7953"
            ],
            [
             0.7777777777777778,
             "#fb9f3a"
            ],
            [
             0.8888888888888888,
             "#fdca26"
            ],
            [
             1,
             "#f0f921"
            ]
           ]
          },
          "colorway": [
           "#636efa",
           "#EF553B",
           "#00cc96",
           "#ab63fa",
           "#FFA15A",
           "#19d3f3",
           "#FF6692",
           "#B6E880",
           "#FF97FF",
           "#FECB52"
          ],
          "font": {
           "color": "#2a3f5f"
          },
          "geo": {
           "bgcolor": "white",
           "lakecolor": "white",
           "landcolor": "#E5ECF6",
           "showlakes": true,
           "showland": true,
           "subunitcolor": "white"
          },
          "hoverlabel": {
           "align": "left"
          },
          "hovermode": "closest",
          "mapbox": {
           "style": "light"
          },
          "paper_bgcolor": "white",
          "plot_bgcolor": "#E5ECF6",
          "polar": {
           "angularaxis": {
            "gridcolor": "white",
            "linecolor": "white",
            "ticks": ""
           },
           "bgcolor": "#E5ECF6",
           "radialaxis": {
            "gridcolor": "white",
            "linecolor": "white",
            "ticks": ""
           }
          },
          "scene": {
           "xaxis": {
            "backgroundcolor": "#E5ECF6",
            "gridcolor": "white",
            "gridwidth": 2,
            "linecolor": "white",
            "showbackground": true,
            "ticks": "",
            "zerolinecolor": "white"
           },
           "yaxis": {
            "backgroundcolor": "#E5ECF6",
            "gridcolor": "white",
            "gridwidth": 2,
            "linecolor": "white",
            "showbackground": true,
            "ticks": "",
            "zerolinecolor": "white"
           },
           "zaxis": {
            "backgroundcolor": "#E5ECF6",
            "gridcolor": "white",
            "gridwidth": 2,
            "linecolor": "white",
            "showbackground": true,
            "ticks": "",
            "zerolinecolor": "white"
           }
          },
          "shapedefaults": {
           "line": {
            "color": "#2a3f5f"
           }
          },
          "ternary": {
           "aaxis": {
            "gridcolor": "white",
            "linecolor": "white",
            "ticks": ""
           },
           "baxis": {
            "gridcolor": "white",
            "linecolor": "white",
            "ticks": ""
           },
           "bgcolor": "#E5ECF6",
           "caxis": {
            "gridcolor": "white",
            "linecolor": "white",
            "ticks": ""
           }
          },
          "title": {
           "x": 0.05
          },
          "xaxis": {
           "automargin": true,
           "gridcolor": "white",
           "linecolor": "white",
           "ticks": "",
           "title": {
            "standoff": 15
           },
           "zerolinecolor": "white",
           "zerolinewidth": 2
          },
          "yaxis": {
           "automargin": true,
           "gridcolor": "white",
           "linecolor": "white",
           "ticks": "",
           "title": {
            "standoff": 15
           },
           "zerolinecolor": "white",
           "zerolinewidth": 2
          }
         }
        },
        "title": {
         "text": "MA_32_128"
        },
        "width": 1000,
        "xaxis": {
         "linecolor": "#3a4a54",
         "linewidth": 1,
         "showgrid": false,
         "zeroline": false
        },
        "yaxis": {
         "linecolor": "#3a4a54",
         "linewidth": 1,
         "showgrid": false,
         "zeroline": false
        }
       }
      }
     },
     "metadata": {},
     "output_type": "display_data"
    },
    {
     "data": {
      "application/vnd.plotly.v1+json": {
       "config": {
        "plotlyServerURL": "https://plot.ly"
       },
       "data": [
        {
         "line": {
          "color": "#3d825f",
          "shape": "spline",
          "width": 2
         },
         "mode": "lines",
         "name": "MA_24_128",
         "type": "scatter",
         "x": [
          "2024-01-04T12:00:00+00:00",
          "2024-01-04T13:00:00+00:00",
          "2024-01-04T14:00:00+00:00",
          "2024-01-04T22:00:00+00:00",
          "2024-01-05T05:00:00+00:00",
          "2024-01-05T07:00:00+00:00",
          "2024-01-05T19:00:00+00:00",
          "2024-01-05T21:00:00+00:00",
          "2024-01-07T22:00:00+00:00",
          "2024-01-08T01:00:00+00:00",
          "2024-01-08T16:00:00+00:00",
          "2024-01-08T21:00:00+00:00",
          "2024-01-09T01:00:00+00:00",
          "2024-01-09T04:00:00+00:00",
          "2024-01-09T13:00:00+00:00",
          "2024-01-09T20:00:00+00:00",
          "2024-01-09T23:00:00+00:00",
          "2024-01-10T00:00:00+00:00",
          "2024-01-10T01:00:00+00:00",
          "2024-01-10T10:00:00+00:00",
          "2024-01-10T15:00:00+00:00",
          "2024-01-10T18:00:00+00:00",
          "2024-01-11T09:00:00+00:00",
          "2024-01-11T15:00:00+00:00",
          "2024-01-11T18:00:00+00:00",
          "2024-01-12T15:00:00+00:00",
          "2024-01-12T20:00:00+00:00",
          "2024-01-14T23:00:00+00:00",
          "2024-01-15T06:00:00+00:00",
          "2024-01-15T08:00:00+00:00",
          "2024-01-15T13:00:00+00:00",
          "2024-01-15T14:00:00+00:00",
          "2024-01-15T16:00:00+00:00",
          "2024-01-15T19:00:00+00:00",
          "2024-01-15T23:00:00+00:00",
          "2024-01-16T14:00:00+00:00",
          "2024-01-16T15:00:00+00:00",
          "2024-01-17T01:00:00+00:00",
          "2024-01-17T06:00:00+00:00",
          "2024-01-17T11:00:00+00:00",
          "2024-01-17T12:00:00+00:00",
          "2024-01-17T17:00:00+00:00",
          "2024-01-18T04:00:00+00:00",
          "2024-01-18T21:00:00+00:00",
          "2024-01-19T05:00:00+00:00",
          "2024-01-19T15:00:00+00:00",
          "2024-01-19T16:00:00+00:00",
          "2024-01-21T23:00:00+00:00",
          "2024-01-22T00:00:00+00:00",
          "2024-01-22T12:00:00+00:00",
          "2024-01-22T21:00:00+00:00",
          "2024-01-23T01:00:00+00:00",
          "2024-01-23T03:00:00+00:00",
          "2024-01-23T16:00:00+00:00",
          "2024-01-23T22:00:00+00:00",
          "2024-01-24T06:00:00+00:00",
          "2024-01-24T10:00:00+00:00",
          "2024-01-24T13:00:00+00:00",
          "2024-01-24T14:00:00+00:00",
          "2024-01-24T15:00:00+00:00",
          "2024-01-24T16:00:00+00:00",
          "2024-01-24T17:00:00+00:00",
          "2024-01-24T18:00:00+00:00",
          "2024-01-24T19:00:00+00:00",
          "2024-01-24T21:00:00+00:00",
          "2024-01-24T22:00:00+00:00",
          "2024-01-25T03:00:00+00:00",
          "2024-01-25T05:00:00+00:00",
          "2024-01-25T07:00:00+00:00",
          "2024-01-25T10:00:00+00:00",
          "2024-01-25T16:00:00+00:00",
          "2024-01-26T03:00:00+00:00",
          "2024-01-26T05:00:00+00:00",
          "2024-01-26T09:00:00+00:00",
          "2024-01-26T13:00:00+00:00",
          "2024-01-26T14:00:00+00:00",
          "2024-01-26T15:00:00+00:00",
          "2024-01-26T16:00:00+00:00",
          "2024-01-26T17:00:00+00:00",
          "2024-01-26T18:00:00+00:00",
          "2024-01-28T23:00:00+00:00",
          "2024-01-29T00:00:00+00:00",
          "2024-01-29T07:00:00+00:00",
          "2024-01-29T12:00:00+00:00",
          "2024-01-29T17:00:00+00:00",
          "2024-01-29T20:00:00+00:00",
          "2024-01-30T00:00:00+00:00",
          "2024-01-30T10:00:00+00:00",
          "2024-01-30T19:00:00+00:00",
          "2024-01-31T04:00:00+00:00",
          "2024-01-31T16:00:00+00:00",
          "2024-01-31T19:00:00+00:00",
          "2024-01-31T20:00:00+00:00",
          "2024-01-31T21:00:00+00:00",
          "2024-02-01T00:00:00+00:00",
          "2024-02-01T07:00:00+00:00",
          "2024-02-01T14:00:00+00:00",
          "2024-02-01T23:00:00+00:00",
          "2024-02-02T02:00:00+00:00",
          "2024-02-02T04:00:00+00:00",
          "2024-02-02T10:00:00+00:00",
          "2024-02-02T11:00:00+00:00",
          "2024-02-02T12:00:00+00:00",
          "2024-02-02T16:00:00+00:00",
          "2024-02-02T17:00:00+00:00",
          "2024-02-02T18:00:00+00:00",
          "2024-02-02T20:00:00+00:00",
          "2024-02-02T21:00:00+00:00",
          "2024-02-04T22:00:00+00:00",
          "2024-02-05T00:00:00+00:00",
          "2024-02-05T01:00:00+00:00",
          "2024-02-05T02:00:00+00:00",
          "2024-02-05T03:00:00+00:00",
          "2024-02-05T08:00:00+00:00",
          "2024-02-05T19:00:00+00:00",
          "2024-02-05T22:00:00+00:00",
          "2024-02-06T00:00:00+00:00",
          "2024-02-06T02:00:00+00:00",
          "2024-02-06T12:00:00+00:00",
          "2024-02-06T13:00:00+00:00",
          "2024-02-06T17:00:00+00:00",
          "2024-02-06T19:00:00+00:00",
          "2024-02-06T20:00:00+00:00",
          "2024-02-06T22:00:00+00:00",
          "2024-02-07T01:00:00+00:00",
          "2024-02-07T02:00:00+00:00",
          "2024-02-07T07:00:00+00:00",
          "2024-02-07T12:00:00+00:00",
          "2024-02-07T15:00:00+00:00",
          "2024-02-07T17:00:00+00:00",
          "2024-02-07T23:00:00+00:00",
          "2024-02-08T08:00:00+00:00",
          "2024-02-09T00:00:00+00:00",
          "2024-02-09T09:00:00+00:00",
          "2024-02-09T13:00:00+00:00",
          "2024-02-12T01:00:00+00:00",
          "2024-02-12T06:00:00+00:00",
          "2024-02-12T18:00:00+00:00",
          "2024-02-13T01:00:00+00:00",
          "2024-02-13T13:00:00+00:00",
          "2024-02-13T14:00:00+00:00",
          "2024-02-13T16:00:00+00:00",
          "2024-02-13T17:00:00+00:00",
          "2024-02-13T21:00:00+00:00",
          "2024-02-13T23:00:00+00:00",
          "2024-02-14T22:00:00+00:00",
          "2024-02-15T03:00:00+00:00",
          "2024-02-15T05:00:00+00:00",
          "2024-02-15T15:00:00+00:00",
          "2024-02-16T01:00:00+00:00",
          "2024-02-16T03:00:00+00:00",
          "2024-02-16T04:00:00+00:00",
          "2024-02-16T06:00:00+00:00",
          "2024-02-16T07:00:00+00:00",
          "2024-02-16T10:00:00+00:00",
          "2024-02-16T12:00:00+00:00",
          "2024-02-16T13:00:00+00:00",
          "2024-02-16T17:00:00+00:00",
          "2024-02-16T20:00:00+00:00",
          "2024-02-19T00:00:00+00:00",
          "2024-02-19T01:00:00+00:00",
          "2024-02-19T05:00:00+00:00",
          "2024-02-19T07:00:00+00:00",
          "2024-02-19T14:00:00+00:00",
          "2024-02-20T04:00:00+00:00",
          "2024-02-20T15:00:00+00:00",
          "2024-02-20T16:00:00+00:00",
          "2024-02-20T18:00:00+00:00",
          "2024-02-20T20:00:00+00:00",
          "2024-02-21T03:00:00+00:00",
          "2024-02-22T01:00:00+00:00",
          "2024-02-22T05:00:00+00:00",
          "2024-02-22T08:00:00+00:00",
          "2024-02-23T04:00:00+00:00",
          "2024-02-23T08:00:00+00:00",
          "2024-02-26T02:00:00+00:00",
          "2024-02-26T03:00:00+00:00",
          "2024-02-26T04:00:00+00:00",
          "2024-02-26T05:00:00+00:00",
          "2024-02-26T10:00:00+00:00",
          "2024-02-26T12:00:00+00:00",
          "2024-02-26T17:00:00+00:00",
          "2024-02-26T18:00:00+00:00",
          "2024-02-26T21:00:00+00:00",
          "2024-02-26T22:00:00+00:00",
          "2024-02-27T08:00:00+00:00",
          "2024-02-27T21:00:00+00:00",
          "2024-02-28T02:00:00+00:00",
          "2024-02-28T13:00:00+00:00",
          "2024-02-28T15:00:00+00:00",
          "2024-02-28T16:00:00+00:00",
          "2024-02-28T17:00:00+00:00",
          "2024-02-29T02:00:00+00:00",
          "2024-02-29T04:00:00+00:00",
          "2024-02-29T07:00:00+00:00",
          "2024-02-29T11:00:00+00:00",
          "2024-02-29T12:00:00+00:00",
          "2024-02-29T16:00:00+00:00",
          "2024-02-29T21:00:00+00:00",
          "2024-03-01T01:00:00+00:00",
          "2024-03-01T06:00:00+00:00",
          "2024-03-01T09:00:00+00:00",
          "2024-03-01T13:00:00+00:00",
          "2024-03-03T23:00:00+00:00",
          "2024-03-04T08:00:00+00:00",
          "2024-03-04T13:00:00+00:00",
          "2024-03-04T15:00:00+00:00",
          "2024-03-04T17:00:00+00:00",
          "2024-03-04T23:00:00+00:00",
          "2024-03-05T00:00:00+00:00",
          "2024-03-05T02:00:00+00:00",
          "2024-03-05T20:00:00+00:00",
          "2024-03-06T01:00:00+00:00",
          "2024-03-06T02:00:00+00:00",
          "2024-03-06T09:00:00+00:00",
          "2024-03-06T10:00:00+00:00",
          "2024-03-06T15:00:00+00:00",
          "2024-03-06T18:00:00+00:00",
          "2024-03-07T00:00:00+00:00",
          "2024-03-07T01:00:00+00:00",
          "2024-03-07T05:00:00+00:00",
          "2024-03-07T06:00:00+00:00",
          "2024-03-08T04:00:00+00:00",
          "2024-03-08T17:00:00+00:00",
          "2024-03-08T20:00:00+00:00",
          "2024-03-11T02:00:00+00:00",
          "2024-03-11T08:00:00+00:00",
          "2024-03-11T19:00:00+00:00",
          "2024-03-12T08:00:00+00:00",
          "2024-03-12T10:00:00+00:00",
          "2024-03-12T16:00:00+00:00",
          "2024-03-12T17:00:00+00:00",
          "2024-03-12T20:00:00+00:00",
          "2024-03-13T00:00:00+00:00",
          "2024-03-13T05:00:00+00:00",
          "2024-03-13T06:00:00+00:00",
          "2024-03-13T08:00:00+00:00",
          "2024-03-13T09:00:00+00:00",
          "2024-03-13T10:00:00+00:00",
          "2024-03-13T15:00:00+00:00",
          "2024-03-13T18:00:00+00:00",
          "2024-03-13T19:00:00+00:00",
          "2024-03-13T20:00:00+00:00",
          "2024-03-13T22:00:00+00:00",
          "2024-03-13T23:00:00+00:00",
          "2024-03-14T01:00:00+00:00",
          "2024-03-14T02:00:00+00:00",
          "2024-03-14T09:00:00+00:00",
          "2024-03-14T11:00:00+00:00",
          "2024-03-14T17:00:00+00:00",
          "2024-03-14T19:00:00+00:00",
          "2024-03-14T22:00:00+00:00",
          "2024-03-15T05:00:00+00:00",
          "2024-03-15T08:00:00+00:00",
          "2024-03-15T13:00:00+00:00",
          "2024-03-18T05:00:00+00:00",
          "2024-03-18T22:00:00+00:00",
          "2024-03-19T14:00:00+00:00",
          "2024-03-19T15:00:00+00:00",
          "2024-03-20T00:00:00+00:00",
          "2024-03-20T01:00:00+00:00",
          "2024-03-21T03:00:00+00:00",
          "2024-03-21T04:00:00+00:00",
          "2024-03-21T07:00:00+00:00",
          "2024-03-21T09:00:00+00:00",
          "2024-03-21T12:00:00+00:00",
          "2024-03-21T23:00:00+00:00",
          "2024-03-22T04:00:00+00:00",
          "2024-03-22T11:00:00+00:00",
          "2024-03-22T17:00:00+00:00",
          "2024-03-25T03:00:00+00:00",
          "2024-03-25T05:00:00+00:00",
          "2024-03-25T11:00:00+00:00",
          "2024-03-26T03:00:00+00:00",
          "2024-03-26T08:00:00+00:00",
          "2024-03-27T05:00:00+00:00",
          "2024-03-28T03:00:00+00:00",
          "2024-03-28T06:00:00+00:00",
          "2024-03-28T17:00:00+00:00",
          "2024-03-28T18:00:00+00:00",
          "2024-03-28T20:00:00+00:00",
          "2024-03-29T01:00:00+00:00",
          "2024-03-29T09:00:00+00:00",
          "2024-03-29T14:00:00+00:00",
          "2024-03-29T15:00:00+00:00",
          "2024-03-29T16:00:00+00:00",
          "2024-03-29T20:00:00+00:00",
          "2024-03-31T22:00:00+00:00",
          "2024-04-01T00:00:00+00:00",
          "2024-04-01T05:00:00+00:00",
          "2024-04-01T15:00:00+00:00",
          "2024-04-01T20:00:00+00:00",
          "2024-04-02T03:00:00+00:00",
          "2024-04-02T07:00:00+00:00",
          "2024-04-02T15:00:00+00:00",
          "2024-04-02T18:00:00+00:00",
          "2024-04-02T22:00:00+00:00",
          "2024-04-02T23:00:00+00:00",
          "2024-04-03T00:00:00+00:00",
          "2024-04-03T09:00:00+00:00",
          "2024-04-03T12:00:00+00:00",
          "2024-04-03T13:00:00+00:00",
          "2024-04-03T17:00:00+00:00",
          "2024-04-03T18:00:00+00:00",
          "2024-04-03T23:00:00+00:00",
          "2024-04-04T00:00:00+00:00",
          "2024-04-04T03:00:00+00:00",
          "2024-04-04T13:00:00+00:00",
          "2024-04-05T01:00:00+00:00",
          "2024-04-05T08:00:00+00:00",
          "2024-04-05T09:00:00+00:00",
          "2024-04-05T13:00:00+00:00",
          "2024-04-05T15:00:00+00:00",
          "2024-04-08T05:00:00+00:00",
          "2024-04-08T11:00:00+00:00",
          "2024-04-09T02:00:00+00:00",
          "2024-04-09T08:00:00+00:00",
          "2024-04-09T10:00:00+00:00",
          "2024-04-09T20:00:00+00:00",
          "2024-04-09T23:00:00+00:00",
          "2024-04-10T14:00:00+00:00",
          "2024-04-10T15:00:00+00:00",
          "2024-04-10T19:00:00+00:00",
          "2024-04-10T20:00:00+00:00",
          "2024-04-10T21:00:00+00:00",
          "2024-04-10T22:00:00+00:00",
          "2024-04-10T23:00:00+00:00",
          "2024-04-11T01:00:00+00:00",
          "2024-04-11T02:00:00+00:00",
          "2024-04-11T11:00:00+00:00",
          "2024-04-11T12:00:00+00:00",
          "2024-04-11T13:00:00+00:00",
          "2024-04-11T14:00:00+00:00",
          "2024-04-11T15:00:00+00:00",
          "2024-04-11T17:00:00+00:00",
          "2024-04-11T19:00:00+00:00",
          "2024-04-12T00:00:00+00:00",
          "2024-04-12T02:00:00+00:00",
          "2024-04-12T10:00:00+00:00",
          "2024-04-12T12:00:00+00:00",
          "2024-04-12T13:00:00+00:00",
          "2024-04-12T17:00:00+00:00",
          "2024-04-14T21:00:00+00:00",
          "2024-04-15T03:00:00+00:00",
          "2024-04-15T05:00:00+00:00",
          "2024-04-15T06:00:00+00:00",
          "2024-04-15T16:00:00+00:00",
          "2024-04-15T17:00:00+00:00",
          "2024-04-16T01:00:00+00:00",
          "2024-04-16T19:00:00+00:00",
          "2024-04-16T21:00:00+00:00",
          "2024-04-17T04:00:00+00:00",
          "2024-04-17T15:00:00+00:00",
          "2024-04-17T19:00:00+00:00",
          "2024-04-18T07:00:00+00:00",
          "2024-04-18T08:00:00+00:00",
          "2024-04-18T15:00:00+00:00",
          "2024-04-19T04:00:00+00:00",
          "2024-04-19T11:00:00+00:00",
          "2024-04-19T12:00:00+00:00",
          "2024-04-19T17:00:00+00:00",
          "2024-04-22T01:00:00+00:00",
          "2024-04-22T04:00:00+00:00",
          "2024-04-22T08:00:00+00:00",
          "2024-04-22T09:00:00+00:00",
          "2024-04-22T16:00:00+00:00",
          "2024-04-22T17:00:00+00:00",
          "2024-04-22T19:00:00+00:00",
          "2024-04-24T00:00:00+00:00",
          "2024-04-24T01:00:00+00:00",
          "2024-04-24T03:00:00+00:00",
          "2024-04-24T13:00:00+00:00",
          "2024-04-24T18:00:00+00:00",
          "2024-04-24T23:00:00+00:00",
          "2024-04-25T00:00:00+00:00",
          "2024-04-25T06:00:00+00:00",
          "2024-04-25T09:00:00+00:00",
          "2024-04-28T23:00:00+00:00",
          "2024-04-29T15:00:00+00:00",
          "2024-04-30T01:00:00+00:00",
          "2024-04-30T03:00:00+00:00",
          "2024-04-30T12:00:00+00:00",
          "2024-04-30T17:00:00+00:00",
          "2024-04-30T18:00:00+00:00",
          "2024-04-30T22:00:00+00:00",
          "2024-05-01T08:00:00+00:00",
          "2024-05-01T10:00:00+00:00",
          "2024-05-01T12:00:00+00:00",
          "2024-05-01T21:00:00+00:00",
          "2024-05-01T22:00:00+00:00",
          "2024-05-02T05:00:00+00:00",
          "2024-05-02T06:00:00+00:00",
          "2024-05-02T07:00:00+00:00",
          "2024-05-02T08:00:00+00:00",
          "2024-05-02T14:00:00+00:00",
          "2024-05-02T17:00:00+00:00",
          "2024-05-02T18:00:00+00:00",
          "2024-05-02T19:00:00+00:00",
          "2024-05-02T22:00:00+00:00",
          "2024-05-03T00:00:00+00:00",
          "2024-05-03T01:00:00+00:00",
          "2024-05-03T02:00:00+00:00",
          "2024-05-03T06:00:00+00:00",
          "2024-05-03T14:00:00+00:00",
          "2024-05-06T00:00:00+00:00",
          "2024-05-06T23:00:00+00:00",
          "2024-05-07T07:00:00+00:00",
          "2024-05-07T15:00:00+00:00",
          "2024-05-07T20:00:00+00:00",
          "2024-05-08T01:00:00+00:00",
          "2024-05-08T02:00:00+00:00",
          "2024-05-08T06:00:00+00:00",
          "2024-05-08T10:00:00+00:00",
          "2024-05-08T12:00:00+00:00",
          "2024-05-08T13:00:00+00:00",
          "2024-05-08T23:00:00+00:00",
          "2024-05-09T07:00:00+00:00",
          "2024-05-09T14:00:00+00:00",
          "2024-05-09T21:00:00+00:00",
          "2024-05-10T04:00:00+00:00",
          "2024-05-10T06:00:00+00:00",
          "2024-05-10T07:00:00+00:00",
          "2024-05-10T17:00:00+00:00",
          "2024-05-12T21:00:00+00:00",
          "2024-05-13T01:00:00+00:00",
          "2024-05-13T09:00:00+00:00",
          "2024-05-13T16:00:00+00:00",
          "2024-05-13T17:00:00+00:00",
          "2024-05-13T19:00:00+00:00",
          "2024-05-13T21:00:00+00:00",
          "2024-05-14T00:00:00+00:00",
          "2024-05-14T05:00:00+00:00",
          "2024-05-14T22:00:00+00:00",
          "2024-05-15T04:00:00+00:00",
          "2024-05-15T12:00:00+00:00",
          "2024-05-15T19:00:00+00:00",
          "2024-05-16T01:00:00+00:00",
          "2024-05-16T02:00:00+00:00",
          "2024-05-16T06:00:00+00:00",
          "2024-05-16T09:00:00+00:00",
          "2024-05-17T00:00:00+00:00",
          "2024-05-17T08:00:00+00:00",
          "2024-05-17T09:00:00+00:00",
          "2024-05-19T23:00:00+00:00",
          "2024-05-21T01:00:00+00:00",
          "2024-05-21T12:00:00+00:00",
          "2024-05-21T19:00:00+00:00",
          "2024-05-21T20:00:00+00:00",
          "2024-05-21T23:00:00+00:00",
          "2024-05-22T09:00:00+00:00",
          "2024-05-23T21:00:00+00:00",
          "2024-05-24T01:00:00+00:00",
          "2024-05-24T04:00:00+00:00",
          "2024-05-24T07:00:00+00:00",
          "2024-05-24T19:00:00+00:00",
          "2024-05-24T20:00:00+00:00",
          "2024-05-27T00:00:00+00:00",
          "2024-05-27T01:00:00+00:00",
          "2024-05-27T05:00:00+00:00",
          "2024-05-27T07:00:00+00:00",
          "2024-05-27T12:00:00+00:00",
          "2024-05-27T18:00:00+00:00",
          "2024-05-28T07:00:00+00:00",
          "2024-05-29T01:00:00+00:00",
          "2024-05-29T04:00:00+00:00",
          "2024-05-29T11:00:00+00:00",
          "2024-05-29T16:00:00+00:00",
          "2024-05-29T18:00:00+00:00",
          "2024-05-29T19:00:00+00:00",
          "2024-05-29T21:00:00+00:00",
          "2024-05-29T23:00:00+00:00",
          "2024-05-30T07:00:00+00:00",
          "2024-05-30T08:00:00+00:00",
          "2024-05-30T09:00:00+00:00",
          "2024-05-30T10:00:00+00:00",
          "2024-05-30T15:00:00+00:00",
          "2024-05-30T19:00:00+00:00",
          "2024-05-30T20:00:00+00:00",
          "2024-05-31T04:00:00+00:00",
          "2024-05-31T10:00:00+00:00",
          "2024-05-31T11:00:00+00:00",
          "2024-05-31T12:00:00+00:00",
          "2024-05-31T14:00:00+00:00",
          "2024-05-31T18:00:00+00:00",
          "2024-06-02T21:00:00+00:00",
          "2024-06-02T23:00:00+00:00",
          "2024-06-03T01:00:00+00:00",
          "2024-06-03T04:00:00+00:00",
          "2024-06-03T14:00:00+00:00",
          "2024-06-03T15:00:00+00:00",
          "2024-06-03T16:00:00+00:00",
          "2024-06-03T17:00:00+00:00",
          "2024-06-03T22:00:00+00:00",
          "2024-06-04T02:00:00+00:00",
          "2024-06-04T03:00:00+00:00",
          "2024-06-04T14:00:00+00:00",
          "2024-06-04T22:00:00+00:00",
          "2024-06-05T18:00:00+00:00",
          "2024-06-05T19:00:00+00:00",
          "2024-06-06T06:00:00+00:00",
          "2024-06-06T19:00:00+00:00",
          "2024-06-07T08:00:00+00:00",
          "2024-06-07T12:00:00+00:00",
          "2024-06-07T15:00:00+00:00",
          "2024-06-07T17:00:00+00:00",
          "2024-06-07T18:00:00+00:00",
          "2024-06-07T19:00:00+00:00",
          "2024-06-09T22:00:00+00:00",
          "2024-06-10T03:00:00+00:00",
          "2024-06-10T15:00:00+00:00",
          "2024-06-10T21:00:00+00:00",
          "2024-06-10T22:00:00+00:00",
          "2024-06-11T11:00:00+00:00",
          "2024-06-11T16:00:00+00:00",
          "2024-06-12T02:00:00+00:00",
          "2024-06-12T10:00:00+00:00",
          "2024-06-12T15:00:00+00:00",
          "2024-06-12T17:00:00+00:00",
          "2024-06-13T00:00:00+00:00",
          "2024-06-13T02:00:00+00:00",
          "2024-06-13T03:00:00+00:00",
          "2024-06-13T04:00:00+00:00",
          "2024-06-13T07:00:00+00:00",
          "2024-06-13T08:00:00+00:00",
          "2024-06-13T09:00:00+00:00",
          "2024-06-13T16:00:00+00:00",
          "2024-06-13T17:00:00+00:00",
          "2024-06-13T18:00:00+00:00",
          "2024-06-14T06:00:00+00:00",
          "2024-06-14T07:00:00+00:00",
          "2024-06-14T11:00:00+00:00",
          "2024-06-14T16:00:00+00:00",
          "2024-06-14T20:00:00+00:00",
          "2024-06-16T21:00:00+00:00",
          "2024-06-17T06:00:00+00:00",
          "2024-06-17T11:00:00+00:00",
          "2024-06-17T20:00:00+00:00",
          "2024-06-18T00:00:00+00:00",
          "2024-06-18T03:00:00+00:00",
          "2024-06-18T09:00:00+00:00",
          "2024-06-18T22:00:00+00:00",
          "2024-06-19T21:00:00+00:00",
          "2024-06-20T02:00:00+00:00",
          "2024-06-20T12:00:00+00:00",
          "2024-06-20T19:00:00+00:00",
          "2024-06-20T20:00:00+00:00",
          "2024-06-20T21:00:00+00:00",
          "2024-06-21T00:00:00+00:00",
          "2024-06-21T01:00:00+00:00",
          "2024-06-21T02:00:00+00:00",
          "2024-06-21T05:00:00+00:00",
          "2024-06-21T08:00:00+00:00",
          "2024-06-24T19:00:00+00:00",
          "2024-06-25T02:00:00+00:00",
          "2024-06-25T06:00:00+00:00",
          "2024-06-25T09:00:00+00:00",
          "2024-06-25T18:00:00+00:00",
          "2024-06-25T22:00:00+00:00",
          "2024-06-26T05:00:00+00:00",
          "2024-06-26T11:00:00+00:00",
          "2024-06-26T13:00:00+00:00",
          "2024-06-27T00:00:00+00:00",
          "2024-06-27T03:00:00+00:00",
          "2024-06-27T04:00:00+00:00",
          "2024-06-27T19:00:00+00:00",
          "2024-06-28T01:00:00+00:00",
          "2024-06-28T04:00:00+00:00",
          "2024-06-28T06:00:00+00:00",
          "2024-06-30T21:00:00+00:00",
          "2024-06-30T22:00:00+00:00",
          "2024-06-30T23:00:00+00:00",
          "2024-07-01T11:00:00+00:00",
          "2024-07-01T14:00:00+00:00",
          "2024-07-01T15:00:00+00:00",
          "2024-07-01T20:00:00+00:00",
          "2024-07-02T02:00:00+00:00",
          "2024-07-02T13:00:00+00:00",
          "2024-07-02T20:00:00+00:00",
          "2024-07-03T06:00:00+00:00",
          "2024-07-03T10:00:00+00:00",
          "2024-07-03T15:00:00+00:00",
          "2024-07-03T16:00:00+00:00",
          "2024-07-04T12:00:00+00:00",
          "2024-07-04T18:00:00+00:00",
          "2024-07-04T22:00:00+00:00",
          "2024-07-05T10:00:00+00:00",
          "2024-07-05T12:00:00+00:00",
          "2024-07-07T21:00:00+00:00",
          "2024-07-08T00:00:00+00:00",
          "2024-07-08T05:00:00+00:00",
          "2024-07-09T05:00:00+00:00",
          "2024-07-09T09:00:00+00:00",
          "2024-07-09T14:00:00+00:00",
          "2024-07-09T20:00:00+00:00",
          "2024-07-10T00:00:00+00:00",
          "2024-07-10T05:00:00+00:00",
          "2024-07-10T06:00:00+00:00",
          "2024-07-10T08:00:00+00:00",
          "2024-07-10T10:00:00+00:00",
          "2024-07-10T14:00:00+00:00",
          "2024-07-10T16:00:00+00:00",
          "2024-07-10T19:00:00+00:00",
          "2024-07-10T21:00:00+00:00",
          "2024-07-10T22:00:00+00:00",
          "2024-07-11T16:00:00+00:00",
          "2024-07-11T17:00:00+00:00",
          "2024-07-11T19:00:00+00:00",
          "2024-07-12T02:00:00+00:00",
          "2024-07-15T03:00:00+00:00",
          "2024-07-15T06:00:00+00:00",
          "2024-07-15T18:00:00+00:00",
          "2024-07-17T09:00:00+00:00",
          "2024-07-17T14:00:00+00:00",
          "2024-07-17T19:00:00+00:00",
          "2024-07-18T10:00:00+00:00",
          "2024-07-18T17:00:00+00:00",
          "2024-07-18T20:00:00+00:00",
          "2024-07-19T02:00:00+00:00",
          "2024-07-19T08:00:00+00:00",
          "2024-07-19T13:00:00+00:00",
          "2024-07-22T15:00:00+00:00",
          "2024-07-22T19:00:00+00:00",
          "2024-07-23T07:00:00+00:00",
          "2024-07-23T23:00:00+00:00",
          "2024-07-24T08:00:00+00:00",
          "2024-07-24T13:00:00+00:00",
          "2024-07-24T22:00:00+00:00",
          "2024-07-25T19:00:00+00:00",
          "2024-07-26T11:00:00+00:00",
          "2024-07-28T22:00:00+00:00",
          "2024-07-30T04:00:00+00:00",
          "2024-07-30T08:00:00+00:00",
          "2024-07-30T10:00:00+00:00",
          "2024-07-30T19:00:00+00:00",
          "2024-07-30T21:00:00+00:00",
          "2024-07-30T22:00:00+00:00",
          "2024-07-30T23:00:00+00:00",
          "2024-07-31T01:00:00+00:00",
          "2024-07-31T04:00:00+00:00",
          "2024-07-31T07:00:00+00:00",
          "2024-07-31T15:00:00+00:00",
          "2024-07-31T21:00:00+00:00",
          "2024-08-01T12:00:00+00:00",
          "2024-08-01T15:00:00+00:00",
          "2024-08-01T22:00:00+00:00",
          "2024-08-02T00:00:00+00:00",
          "2024-08-02T13:00:00+00:00",
          "2024-08-02T17:00:00+00:00",
          "2024-08-05T06:00:00+00:00",
          "2024-08-06T01:00:00+00:00",
          "2024-08-06T05:00:00+00:00",
          "2024-08-06T12:00:00+00:00",
          "2024-08-06T17:00:00+00:00",
          "2024-08-07T07:00:00+00:00",
          "2024-08-07T10:00:00+00:00",
          "2024-08-07T12:00:00+00:00",
          "2024-08-07T15:00:00+00:00",
          "2024-08-07T16:00:00+00:00",
          "2024-08-07T23:00:00+00:00",
          "2024-08-08T07:00:00+00:00",
          "2024-08-08T19:00:00+00:00",
          "2024-08-08T20:00:00+00:00",
          "2024-08-09T08:00:00+00:00",
          "2024-08-09T09:00:00+00:00",
          "2024-08-09T13:00:00+00:00",
          "2024-08-13T08:00:00+00:00",
          "2024-08-13T18:00:00+00:00",
          "2024-08-14T08:00:00+00:00",
          "2024-08-14T14:00:00+00:00",
          "2024-08-14T21:00:00+00:00",
          "2024-08-14T22:00:00+00:00",
          "2024-08-14T23:00:00+00:00",
          "2024-08-16T15:00:00+00:00"
         ],
         "y": [
          25.799999999998047,
          6.099999999997774,
          -55.400000000001,
          -64.00000000000072,
          -63.00000000000084,
          19.99999999999889,
          5.199999999998523,
          12.699999999998807,
          7.099999999998758,
          -13.90000000000115,
          -46.500000000001556,
          -76.50000000000158,
          -135.10000000000133,
          -159.30000000000223,
          -165.7000000000031,
          -256.6000000000035,
          -285.50000000000364,
          -98.80000000000399,
          -69.80000000000496,
          -79.00000000000527,
          -122.60000000000669,
          -148.80000000000513,
          -155.60000000000525,
          -172.6000000000056,
          -161.6000000000057,
          -214.9000000000063,
          -287.5000000000062,
          -333.20000000000584,
          -168.1000000000056,
          -92.90000000000589,
          -118.10000000000684,
          -12.000000000006764,
          -28.20000000000738,
          18.899999999992538,
          -16.80000000000708,
          -40.00000000000701,
          -67.00000000000804,
          -156.40000000000754,
          -178.10000000000758,
          -139.4000000000072,
          -208.60000000000758,
          -240.10000000000744,
          -293.1000000000075,
          -344.70000000000806,
          -354.2000000000081,
          -319.5000000000095,
          -353.10000000001077,
          -442.30000000000894,
          -526.5000000000099,
          -591.1000000000112,
          -624.700000000011,
          -672.6000000000117,
          -694.5000000000119,
          -752.4000000000137,
          -654.9000000000143,
          -777.1000000000155,
          -792.9000000000168,
          -878.6000000000157,
          -949.8000000000146,
          -1061.6000000000156,
          -1159.0000000000152,
          -1214.000000000016,
          -1267.900000000016,
          -1317.0000000000168,
          -1320.4000000000146,
          -1559.300000000012,
          -1593.1000000000113,
          -1597.5000000000134,
          -1631.0000000000152,
          -1681.300000000016,
          -1723.6000000000156,
          -1670.300000000015,
          -1782.1000000000145,
          -1790.300000000015,
          -1732.9000000000142,
          -1857.100000000015,
          -1905.9000000000137,
          -1973.900000000015,
          -2009.9000000000144,
          -2088.5000000000146,
          -2263.7000000000126,
          -2319.700000000013,
          -2366.100000000013,
          -2413.700000000014,
          -2442.2000000000135,
          -2466.8000000000125,
          -2606.500000000012,
          -2622.6000000000117,
          -2629.100000000011,
          -2643.70000000001,
          -2648.10000000001,
          -2661.200000000009,
          -2675.000000000008,
          -2777.5000000000086,
          -2874.300000000009,
          -2892.100000000009,
          -2927.500000000009,
          -3008.7000000000094,
          -3252.700000000011,
          -3252.500000000011,
          -3313.500000000011,
          -3324.4000000000115,
          -3407.000000000011,
          -3536.4000000000106,
          -3745.200000000013,
          -3805.4000000000133,
          -3815.7000000000144,
          -3808.700000000013,
          -4141.600000000015,
          -4008.8000000000156,
          -4022.200000000015,
          -3815.9000000000156,
          -3637.6000000000154,
          -3695.400000000014,
          -3745.3000000000147,
          -3803.100000000015,
          -3831.500000000017,
          -3919.700000000017,
          -3768.9000000000174,
          -3791.900000000017,
          -3817.4000000000174,
          -3690.400000000018,
          -3744.7000000000185,
          -3801.700000000019,
          -3567.200000000019,
          -3602.000000000019,
          -3648.700000000018,
          -3564.500000000017,
          -3615.8000000000166,
          -3432.800000000015,
          -3155.200000000017,
          -3260.0000000000155,
          -3368.200000000015,
          -3386.6000000000154,
          -3461.2000000000157,
          -3489.400000000014,
          -3527.6000000000136,
          -3567.200000000013,
          -3662.2000000000116,
          -3877.1000000000163,
          -4023.8000000000143,
          -4068.900000000014,
          -4276.900000000013,
          -4303.500000000012,
          -4327.500000000012,
          -4348.500000000012,
          -4337.4000000000115,
          -4205.800000000011,
          -4340.9000000000115,
          -4390.700000000012,
          -4426.100000000012,
          -4343.2000000000135,
          -4350.700000000015,
          -4380.900000000013,
          -4321.700000000015,
          -4329.5000000000155,
          -4390.300000000016,
          -4344.200000000015,
          -4157.200000000016,
          -4092.2000000000166,
          -4097.000000000018,
          -4048.1000000000176,
          -4062.100000000018,
          -4089.1000000000163,
          -4109.200000000017,
          -4126.500000000017,
          -4057.0000000000173,
          -4050.500000000019,
          -4110.600000000019,
          -4169.700000000017,
          -4234.900000000016,
          -4259.600000000016,
          -4320.5000000000155,
          -4329.400000000015,
          -4339.800000000016,
          -4363.600000000015,
          -4158.000000000014,
          -4154.400000000014,
          -4153.000000000014,
          -3979.2000000000144,
          -3979.300000000014,
          -3933.400000000014,
          -3884.200000000015,
          -3931.3000000000147,
          -3882.700000000015,
          -3740.3000000000156,
          -3589.4000000000156,
          -3597.400000000016,
          -3636.000000000016,
          -3680.600000000017,
          -3676.9000000000174,
          -3687.4000000000174,
          -3823.4000000000187,
          -3935.200000000018,
          -4014.7000000000166,
          -3815.900000000017,
          -3838.6000000000167,
          -3877.100000000018,
          -3906.3000000000184,
          -3883.700000000018,
          -3849.9000000000187,
          -3867.3000000000184,
          -3865.3000000000184,
          -3769.7000000000185,
          -3728.0000000000205,
          -3612.200000000021,
          -3683.200000000019,
          -3827.4000000000196,
          -3881.00000000002,
          -3871.2000000000203,
          -3881.0000000000214,
          -3665.9000000000233,
          -3671.7000000000235,
          -3654.300000000023,
          -3545.7000000000216,
          -3535.5000000000214,
          -3499.4000000000215,
          -3477.4000000000215,
          -3415.400000000021,
          -3387.4000000000206,
          -3412.8000000000206,
          -3491.6000000000217,
          -3523.1000000000217,
          -3553.800000000022,
          -3575.4000000000224,
          -3608.3000000000225,
          -3645.9000000000246,
          -3641.6000000000276,
          -3665.2000000000266,
          -3724.800000000026,
          -3736.400000000024,
          -3756.8000000000234,
          -3754.700000000024,
          -3342.7000000000203,
          -3345.700000000022,
          -3192.800000000022,
          -2881.800000000023,
          -2907.7000000000216,
          -2979.1000000000213,
          -2792.800000000021,
          -2435.600000000021,
          -2274.500000000022,
          -2172.700000000022,
          -2010.5000000000207,
          -2070.70000000002,
          -2004.5000000000218,
          -1777.5000000000214,
          -1674.900000000022,
          -1709.9000000000215,
          -1816.3000000000236,
          -1819.9000000000228,
          -1917.3000000000247,
          -1987.300000000025,
          -2045.5000000000243,
          -2054.100000000026,
          -2076.8000000000256,
          -2107.3000000000256,
          -2132.300000000026,
          -2168.900000000026,
          -2214.500000000025,
          -2238.7000000000235,
          -2374.600000000026,
          -2598.4000000000265,
          -2479.4000000000265,
          -2543.6000000000263,
          -2541.8000000000266,
          -2495.5000000000273,
          -2425.4000000000265,
          -2468.200000000027,
          -2567.0000000000273,
          -2579.9000000000265,
          -2605.7000000000266,
          -2649.500000000027,
          -2666.1000000000267,
          -2683.800000000027,
          -2621.3000000000284,
          -2614.600000000029,
          -2652.8000000000266,
          -2684.400000000027,
          -2713.000000000027,
          -2723.300000000026,
          -2779.7000000000257,
          -2764.7000000000253,
          -2767.000000000025,
          -2766.500000000025,
          -2788.500000000025,
          -2830.3000000000256,
          -2842.5000000000255,
          -2866.300000000026,
          -2944.900000000026,
          -3010.700000000025,
          -3008.500000000025,
          -3001.000000000027,
          -3120.9000000000274,
          -3121.800000000029,
          -2991.6000000000286,
          -2990.500000000029,
          -2965.5000000000286,
          -3010.700000000027,
          -3061.300000000028,
          -3006.0000000000255,
          -2903.8000000000247,
          -2842.500000000025,
          -3018.1000000000254,
          -3127.700000000026,
          -3095.9000000000265,
          -3064.8000000000256,
          -3068.600000000025,
          -3141.0000000000236,
          -3151.6000000000245,
          -3172.300000000024,
          -3052.000000000024,
          -3115.5000000000227,
          -2744.300000000021,
          -2756.900000000019,
          -2778.600000000018,
          -2786.8000000000175,
          -2878.7000000000166,
          -2883.9000000000174,
          -2895.700000000017,
          -2893.700000000017,
          -2835.6000000000186,
          -2750.2000000000185,
          -2776.8000000000175,
          -2802.500000000018,
          -2889.900000000018,
          -2827.100000000017,
          -2840.9000000000165,
          -2822.2000000000157,
          -2840.600000000016,
          -2899.8000000000156,
          -2830.6000000000154,
          -2860.8000000000134,
          -3082.8000000000147,
          -3109.800000000015,
          -3138.200000000017,
          -3179.0000000000177,
          -3105.3000000000166,
          -3053.900000000016,
          -3089.7000000000176,
          -3307.8000000000175,
          -3364.400000000018,
          -3315.7000000000185,
          -3339.7000000000194,
          -3206.50000000002,
          -3285.8000000000197,
          -3256.8000000000206,
          -3127.9000000000206,
          -3185.800000000021,
          -3204.700000000023,
          -2940.200000000022,
          -2971.1000000000226,
          -2966.5000000000236,
          -2947.9000000000237,
          -2858.4000000000237,
          -2959.500000000023,
          -2935.100000000023,
          -3002.600000000024,
          -3016.1000000000236,
          -3001.100000000023,
          -3150.900000000025,
          -3246.600000000026,
          -3222.3000000000266,
          -3055.400000000027,
          -3006.800000000027,
          -3015.6000000000267,
          -2987.1000000000267,
          -3089.000000000028,
          -2909.1000000000304,
          -2856.8000000000297,
          -2815.000000000029,
          -2896.2000000000303,
          -2925.600000000031,
          -2895.7000000000303,
          -2856.4000000000283,
          -3050.800000000027,
          -3041.400000000028,
          -3065.1000000000276,
          -3148.600000000027,
          -3229.3000000000275,
          -3145.9000000000274,
          -3215.2000000000285,
          -3425.7000000000285,
          -3561.3000000000275,
          -3590.200000000028,
          -3613.100000000027,
          -3648.200000000027,
          -3610.400000000027,
          -3791.100000000026,
          -3784.600000000026,
          -3735.400000000024,
          -3690.3000000000247,
          -3666.5000000000246,
          -3671.300000000023,
          -3513.000000000024,
          -3494.6000000000236,
          -3461.9000000000237,
          -3455.6000000000236,
          -3327.400000000023,
          -3185.100000000023,
          -3154.0000000000236,
          -3242.3000000000247,
          -3272.8000000000247,
          -3124.8000000000256,
          -3148.3000000000266,
          -2842.3000000000266,
          -2864.6000000000263,
          -2781.5000000000273,
          -2605.1000000000263,
          -2638.7000000000244,
          -2710.100000000026,
          -2739.300000000026,
          -2772.8000000000256,
          -2237.6000000000267,
          -2260.000000000027,
          -2295.300000000027,
          -2317.500000000027,
          -2191.2000000000266,
          -2119.3000000000266,
          -2138.700000000027,
          -2116.9000000000287,
          -2127.300000000028,
          -2146.700000000026,
          -1969.7000000000257,
          -1990.7000000000257,
          -2063.400000000027,
          -1827.0000000000282,
          -1912.5000000000286,
          -1859.4000000000271,
          -1634.2000000000285,
          -1571.7000000000287,
          -1590.6000000000292,
          -1488.6000000000304,
          -1428.1000000000315,
          -1471.3000000000302,
          -1550.8000000000288,
          -1600.8000000000288,
          -1709.1000000000301,
          -1750.60000000003,
          -1823.600000000029,
          -1738.8000000000284,
          -1731.7000000000285,
          -1708.6000000000292,
          -1603.7000000000285,
          -1644.9000000000274,
          -1651.5000000000284,
          -1738.8000000000297,
          -1775.4000000000296,
          -1771.900000000029,
          -1762.700000000031,
          -1084.8000000000284,
          -1115.0000000000286,
          -1162.0000000000286,
          -1200.900000000028,
          -1241.100000000028,
          -1275.2000000000273,
          -1288.6000000000274,
          -1304.0000000000273,
          -1329.6000000000263,
          -1374.2000000000253,
          -1436.4000000000265,
          -1500.400000000026,
          -1361.900000000027,
          -1139.3000000000275,
          -989.7000000000266,
          -769.9000000000278,
          -698.400000000028,
          -750.2000000000276,
          -829.0000000000286,
          -912.3000000000281,
          -941.2000000000277,
          -1033.700000000029,
          -1209.7000000000264,
          -1291.6000000000267,
          -1401.3000000000275,
          -1452.8000000000272,
          -1492.4000000000292,
          -1533.60000000003,
          -1607.2000000000303,
          -1634.7000000000305,
          -1722.5000000000284,
          -1763.8000000000281,
          -1785.10000000003,
          -1864.90000000003,
          -2100.500000000031,
          -2100.8000000000325,
          -2153.400000000033,
          -2263.2000000000344,
          -2286.100000000036,
          -2311.1000000000354,
          -2394.9000000000347,
          -2460.8000000000334,
          -2465.2000000000335,
          -2454.4000000000337,
          -2363.600000000035,
          -2464.000000000034,
          -2412.100000000034,
          -2509.2000000000344,
          -2523.1000000000345,
          -2593.5000000000355,
          -2672.000000000035,
          -2681.7000000000344,
          -2634.300000000034,
          -2684.600000000034,
          -2693.8000000000343,
          -2957.800000000034,
          -3199.7000000000353,
          -2810.200000000035,
          -2890.3000000000343,
          -2527.700000000034,
          -2467.000000000036,
          -2495.0000000000373,
          -2496.2000000000357,
          -2509.2000000000353,
          -2553.5000000000346,
          -2566.9000000000347,
          -2780.000000000035,
          -2870.6000000000336,
          -2893.200000000033,
          -2864.0000000000327,
          -2948.3000000000347,
          -2945.7000000000353,
          -3017.700000000034,
          -3102.4000000000337,
          -3171.100000000034,
          -3191.300000000033,
          -3139.000000000033,
          -3037.000000000033,
          -2935.5000000000346,
          -2981.3000000000343,
          -2836.900000000034,
          -2815.1000000000336,
          -2704.1000000000336,
          -2772.5000000000323,
          -2853.0000000000314,
          -2868.400000000031,
          -2929.0000000000327,
          -2601.0000000000327,
          -2669.200000000031,
          -2164.9000000000306,
          -2055.6000000000304,
          -2096.1000000000313,
          -2130.5000000000323,
          -2143.1000000000327,
          -2091.800000000033,
          -2114.700000000032,
          -2147.1000000000336,
          -2066.700000000033,
          -1928.7000000000337,
          -1931.300000000034,
          -1732.4000000000344,
          -1812.2000000000353,
          -1718.9000000000347,
          -1743.6000000000365,
          -710.7000000000378,
          -741.7000000000367,
          -762.8000000000372,
          -785.5000000000372,
          -832.9000000000361,
          -823.2000000000347,
          -867.100000000034,
          -888.9000000000325,
          -888.1000000000328,
          -879.8000000000328,
          -590.1000000000334,
          -595.7000000000335,
          -621.6000000000333,
          -661.400000000032,
          -641.5000000000316,
          -726.6000000000317,
          -582.4000000000308,
          -627.0000000000299,
          -681.6000000000301,
          -329.4000000000299,
          -342.5000000000291,
          -390.70000000002955,
          -466.5000000000277,
          -207.600000000028,
          -165.10000000002935,
          -109.50000000002926,
          -304.6000000000286,
          -327.4000000000281,
          -319.80000000002826,
          -307.8000000000285,
          -327.1000000000297,
          -340.70000000002995,
          -384.10000000003004,
          -498.30000000002985,
          -568.8000000000297,
          -607.5000000000301,
          -626.0000000000304,
          -5.1000000000306045,
          259.79999999996954,
          227.09999999996958,
          -263.800000000031,
          -118.50000000003058,
          -133.90000000003045,
          -191.10000000002992,
          754.4999999999703,
          747.2999999999698,
          711.6999999999698,
          685.5999999999698,
          654.8999999999696,
          612.099999999969,
          1002.5999999999663,
          1994.5999999999658,
          3520.599999999965,
          5312.299999999965,
          5466.4999999999645,
          5457.699999999964,
          5451.299999999964,
          5761.099999999964,
          6251.299999999962,
          6230.499999999961,
          6224.699999999961,
          6344.59999999996,
          6268.199999999959,
          6452.299999999959,
          6420.299999999958,
          6372.69999999996,
          6958.199999999959,
          6958.799999999958,
          6910.699999999957,
          6882.099999999958,
          6851.699999999956,
          6852.899999999955,
          6834.099999999955,
          6816.099999999956,
          6800.499999999955,
          6775.699999999957,
          6718.899999999958,
          6714.699999999958,
          6483.899999999956,
          6355.899999999957,
          6591.699999999959,
          6751.199999999957,
          6754.199999999957,
          7368.199999999955,
          7589.999999999956,
          7579.199999999957,
          7527.7999999999565,
          7449.7999999999565,
          7427.599999999957,
          7535.099999999957,
          7460.199999999957,
          7454.199999999957,
          7357.699999999958,
          7364.199999999956,
          6989.499999999955,
          7092.199999999955,
          7013.399999999955,
          6970.599999999955,
          7012.699999999954,
          6964.899999999954,
          6714.299999999954,
          6676.799999999955,
          6647.999999999955,
          6652.399999999955,
          6735.099999999955,
          6780.099999999956,
          6786.099999999956,
          6751.399999999955,
          6739.099999999954,
          6712.999999999954,
          6627.299999999954,
          6558.299999999954,
          6508.099999999953,
          6490.4999999999545,
          6461.099999999955,
          6412.599999999955,
          6374.699999999955,
          6282.299999999956,
          6268.899999999954
         ]
        }
       ],
       "layout": {
        "font": {
         "color": "#e1e1e1",
         "size": 10
        },
        "height": 400,
        "margin": {
         "b": 10,
         "l": 15,
         "r": 15
        },
        "paper_bgcolor": "#1e1e1e",
        "plot_bgcolor": "#1e1e1e",
        "template": {
         "data": {
          "bar": [
           {
            "error_x": {
             "color": "#2a3f5f"
            },
            "error_y": {
             "color": "#2a3f5f"
            },
            "marker": {
             "line": {
              "color": "#E5ECF6",
              "width": 0.5
             },
             "pattern": {
              "fillmode": "overlay",
              "size": 10,
              "solidity": 0.2
             }
            },
            "type": "bar"
           }
          ],
          "barpolar": [
           {
            "marker": {
             "line": {
              "color": "#E5ECF6",
              "width": 0.5
             },
             "pattern": {
              "fillmode": "overlay",
              "size": 10,
              "solidity": 0.2
             }
            },
            "type": "barpolar"
           }
          ],
          "carpet": [
           {
            "aaxis": {
             "endlinecolor": "#2a3f5f",
             "gridcolor": "white",
             "linecolor": "white",
             "minorgridcolor": "white",
             "startlinecolor": "#2a3f5f"
            },
            "baxis": {
             "endlinecolor": "#2a3f5f",
             "gridcolor": "white",
             "linecolor": "white",
             "minorgridcolor": "white",
             "startlinecolor": "#2a3f5f"
            },
            "type": "carpet"
           }
          ],
          "choropleth": [
           {
            "colorbar": {
             "outlinewidth": 0,
             "ticks": ""
            },
            "type": "choropleth"
           }
          ],
          "contour": [
           {
            "colorbar": {
             "outlinewidth": 0,
             "ticks": ""
            },
            "colorscale": [
             [
              0,
              "#0d0887"
             ],
             [
              0.1111111111111111,
              "#46039f"
             ],
             [
              0.2222222222222222,
              "#7201a8"
             ],
             [
              0.3333333333333333,
              "#9c179e"
             ],
             [
              0.4444444444444444,
              "#bd3786"
             ],
             [
              0.5555555555555556,
              "#d8576b"
             ],
             [
              0.6666666666666666,
              "#ed7953"
             ],
             [
              0.7777777777777778,
              "#fb9f3a"
             ],
             [
              0.8888888888888888,
              "#fdca26"
             ],
             [
              1,
              "#f0f921"
             ]
            ],
            "type": "contour"
           }
          ],
          "contourcarpet": [
           {
            "colorbar": {
             "outlinewidth": 0,
             "ticks": ""
            },
            "type": "contourcarpet"
           }
          ],
          "heatmap": [
           {
            "colorbar": {
             "outlinewidth": 0,
             "ticks": ""
            },
            "colorscale": [
             [
              0,
              "#0d0887"
             ],
             [
              0.1111111111111111,
              "#46039f"
             ],
             [
              0.2222222222222222,
              "#7201a8"
             ],
             [
              0.3333333333333333,
              "#9c179e"
             ],
             [
              0.4444444444444444,
              "#bd3786"
             ],
             [
              0.5555555555555556,
              "#d8576b"
             ],
             [
              0.6666666666666666,
              "#ed7953"
             ],
             [
              0.7777777777777778,
              "#fb9f3a"
             ],
             [
              0.8888888888888888,
              "#fdca26"
             ],
             [
              1,
              "#f0f921"
             ]
            ],
            "type": "heatmap"
           }
          ],
          "heatmapgl": [
           {
            "colorbar": {
             "outlinewidth": 0,
             "ticks": ""
            },
            "colorscale": [
             [
              0,
              "#0d0887"
             ],
             [
              0.1111111111111111,
              "#46039f"
             ],
             [
              0.2222222222222222,
              "#7201a8"
             ],
             [
              0.3333333333333333,
              "#9c179e"
             ],
             [
              0.4444444444444444,
              "#bd3786"
             ],
             [
              0.5555555555555556,
              "#d8576b"
             ],
             [
              0.6666666666666666,
              "#ed7953"
             ],
             [
              0.7777777777777778,
              "#fb9f3a"
             ],
             [
              0.8888888888888888,
              "#fdca26"
             ],
             [
              1,
              "#f0f921"
             ]
            ],
            "type": "heatmapgl"
           }
          ],
          "histogram": [
           {
            "marker": {
             "pattern": {
              "fillmode": "overlay",
              "size": 10,
              "solidity": 0.2
             }
            },
            "type": "histogram"
           }
          ],
          "histogram2d": [
           {
            "colorbar": {
             "outlinewidth": 0,
             "ticks": ""
            },
            "colorscale": [
             [
              0,
              "#0d0887"
             ],
             [
              0.1111111111111111,
              "#46039f"
             ],
             [
              0.2222222222222222,
              "#7201a8"
             ],
             [
              0.3333333333333333,
              "#9c179e"
             ],
             [
              0.4444444444444444,
              "#bd3786"
             ],
             [
              0.5555555555555556,
              "#d8576b"
             ],
             [
              0.6666666666666666,
              "#ed7953"
             ],
             [
              0.7777777777777778,
              "#fb9f3a"
             ],
             [
              0.8888888888888888,
              "#fdca26"
             ],
             [
              1,
              "#f0f921"
             ]
            ],
            "type": "histogram2d"
           }
          ],
          "histogram2dcontour": [
           {
            "colorbar": {
             "outlinewidth": 0,
             "ticks": ""
            },
            "colorscale": [
             [
              0,
              "#0d0887"
             ],
             [
              0.1111111111111111,
              "#46039f"
             ],
             [
              0.2222222222222222,
              "#7201a8"
             ],
             [
              0.3333333333333333,
              "#9c179e"
             ],
             [
              0.4444444444444444,
              "#bd3786"
             ],
             [
              0.5555555555555556,
              "#d8576b"
             ],
             [
              0.6666666666666666,
              "#ed7953"
             ],
             [
              0.7777777777777778,
              "#fb9f3a"
             ],
             [
              0.8888888888888888,
              "#fdca26"
             ],
             [
              1,
              "#f0f921"
             ]
            ],
            "type": "histogram2dcontour"
           }
          ],
          "mesh3d": [
           {
            "colorbar": {
             "outlinewidth": 0,
             "ticks": ""
            },
            "type": "mesh3d"
           }
          ],
          "parcoords": [
           {
            "line": {
             "colorbar": {
              "outlinewidth": 0,
              "ticks": ""
             }
            },
            "type": "parcoords"
           }
          ],
          "pie": [
           {
            "automargin": true,
            "type": "pie"
           }
          ],
          "scatter": [
           {
            "fillpattern": {
             "fillmode": "overlay",
             "size": 10,
             "solidity": 0.2
            },
            "type": "scatter"
           }
          ],
          "scatter3d": [
           {
            "line": {
             "colorbar": {
              "outlinewidth": 0,
              "ticks": ""
             }
            },
            "marker": {
             "colorbar": {
              "outlinewidth": 0,
              "ticks": ""
             }
            },
            "type": "scatter3d"
           }
          ],
          "scattercarpet": [
           {
            "marker": {
             "colorbar": {
              "outlinewidth": 0,
              "ticks": ""
             }
            },
            "type": "scattercarpet"
           }
          ],
          "scattergeo": [
           {
            "marker": {
             "colorbar": {
              "outlinewidth": 0,
              "ticks": ""
             }
            },
            "type": "scattergeo"
           }
          ],
          "scattergl": [
           {
            "marker": {
             "colorbar": {
              "outlinewidth": 0,
              "ticks": ""
             }
            },
            "type": "scattergl"
           }
          ],
          "scattermapbox": [
           {
            "marker": {
             "colorbar": {
              "outlinewidth": 0,
              "ticks": ""
             }
            },
            "type": "scattermapbox"
           }
          ],
          "scatterpolar": [
           {
            "marker": {
             "colorbar": {
              "outlinewidth": 0,
              "ticks": ""
             }
            },
            "type": "scatterpolar"
           }
          ],
          "scatterpolargl": [
           {
            "marker": {
             "colorbar": {
              "outlinewidth": 0,
              "ticks": ""
             }
            },
            "type": "scatterpolargl"
           }
          ],
          "scatterternary": [
           {
            "marker": {
             "colorbar": {
              "outlinewidth": 0,
              "ticks": ""
             }
            },
            "type": "scatterternary"
           }
          ],
          "surface": [
           {
            "colorbar": {
             "outlinewidth": 0,
             "ticks": ""
            },
            "colorscale": [
             [
              0,
              "#0d0887"
             ],
             [
              0.1111111111111111,
              "#46039f"
             ],
             [
              0.2222222222222222,
              "#7201a8"
             ],
             [
              0.3333333333333333,
              "#9c179e"
             ],
             [
              0.4444444444444444,
              "#bd3786"
             ],
             [
              0.5555555555555556,
              "#d8576b"
             ],
             [
              0.6666666666666666,
              "#ed7953"
             ],
             [
              0.7777777777777778,
              "#fb9f3a"
             ],
             [
              0.8888888888888888,
              "#fdca26"
             ],
             [
              1,
              "#f0f921"
             ]
            ],
            "type": "surface"
           }
          ],
          "table": [
           {
            "cells": {
             "fill": {
              "color": "#EBF0F8"
             },
             "line": {
              "color": "white"
             }
            },
            "header": {
             "fill": {
              "color": "#C8D4E3"
             },
             "line": {
              "color": "white"
             }
            },
            "type": "table"
           }
          ]
         },
         "layout": {
          "annotationdefaults": {
           "arrowcolor": "#2a3f5f",
           "arrowhead": 0,
           "arrowwidth": 1
          },
          "autotypenumbers": "strict",
          "coloraxis": {
           "colorbar": {
            "outlinewidth": 0,
            "ticks": ""
           }
          },
          "colorscale": {
           "diverging": [
            [
             0,
             "#8e0152"
            ],
            [
             0.1,
             "#c51b7d"
            ],
            [
             0.2,
             "#de77ae"
            ],
            [
             0.3,
             "#f1b6da"
            ],
            [
             0.4,
             "#fde0ef"
            ],
            [
             0.5,
             "#f7f7f7"
            ],
            [
             0.6,
             "#e6f5d0"
            ],
            [
             0.7,
             "#b8e186"
            ],
            [
             0.8,
             "#7fbc41"
            ],
            [
             0.9,
             "#4d9221"
            ],
            [
             1,
             "#276419"
            ]
           ],
           "sequential": [
            [
             0,
             "#0d0887"
            ],
            [
             0.1111111111111111,
             "#46039f"
            ],
            [
             0.2222222222222222,
             "#7201a8"
            ],
            [
             0.3333333333333333,
             "#9c179e"
            ],
            [
             0.4444444444444444,
             "#bd3786"
            ],
            [
             0.5555555555555556,
             "#d8576b"
            ],
            [
             0.6666666666666666,
             "#ed7953"
            ],
            [
             0.7777777777777778,
             "#fb9f3a"
            ],
            [
             0.8888888888888888,
             "#fdca26"
            ],
            [
             1,
             "#f0f921"
            ]
           ],
           "sequentialminus": [
            [
             0,
             "#0d0887"
            ],
            [
             0.1111111111111111,
             "#46039f"
            ],
            [
             0.2222222222222222,
             "#7201a8"
            ],
            [
             0.3333333333333333,
             "#9c179e"
            ],
            [
             0.4444444444444444,
             "#bd3786"
            ],
            [
             0.5555555555555556,
             "#d8576b"
            ],
            [
             0.6666666666666666,
             "#ed7953"
            ],
            [
             0.7777777777777778,
             "#fb9f3a"
            ],
            [
             0.8888888888888888,
             "#fdca26"
            ],
            [
             1,
             "#f0f921"
            ]
           ]
          },
          "colorway": [
           "#636efa",
           "#EF553B",
           "#00cc96",
           "#ab63fa",
           "#FFA15A",
           "#19d3f3",
           "#FF6692",
           "#B6E880",
           "#FF97FF",
           "#FECB52"
          ],
          "font": {
           "color": "#2a3f5f"
          },
          "geo": {
           "bgcolor": "white",
           "lakecolor": "white",
           "landcolor": "#E5ECF6",
           "showlakes": true,
           "showland": true,
           "subunitcolor": "white"
          },
          "hoverlabel": {
           "align": "left"
          },
          "hovermode": "closest",
          "mapbox": {
           "style": "light"
          },
          "paper_bgcolor": "white",
          "plot_bgcolor": "#E5ECF6",
          "polar": {
           "angularaxis": {
            "gridcolor": "white",
            "linecolor": "white",
            "ticks": ""
           },
           "bgcolor": "#E5ECF6",
           "radialaxis": {
            "gridcolor": "white",
            "linecolor": "white",
            "ticks": ""
           }
          },
          "scene": {
           "xaxis": {
            "backgroundcolor": "#E5ECF6",
            "gridcolor": "white",
            "gridwidth": 2,
            "linecolor": "white",
            "showbackground": true,
            "ticks": "",
            "zerolinecolor": "white"
           },
           "yaxis": {
            "backgroundcolor": "#E5ECF6",
            "gridcolor": "white",
            "gridwidth": 2,
            "linecolor": "white",
            "showbackground": true,
            "ticks": "",
            "zerolinecolor": "white"
           },
           "zaxis": {
            "backgroundcolor": "#E5ECF6",
            "gridcolor": "white",
            "gridwidth": 2,
            "linecolor": "white",
            "showbackground": true,
            "ticks": "",
            "zerolinecolor": "white"
           }
          },
          "shapedefaults": {
           "line": {
            "color": "#2a3f5f"
           }
          },
          "ternary": {
           "aaxis": {
            "gridcolor": "white",
            "linecolor": "white",
            "ticks": ""
           },
           "baxis": {
            "gridcolor": "white",
            "linecolor": "white",
            "ticks": ""
           },
           "bgcolor": "#E5ECF6",
           "caxis": {
            "gridcolor": "white",
            "linecolor": "white",
            "ticks": ""
           }
          },
          "title": {
           "x": 0.05
          },
          "xaxis": {
           "automargin": true,
           "gridcolor": "white",
           "linecolor": "white",
           "ticks": "",
           "title": {
            "standoff": 15
           },
           "zerolinecolor": "white",
           "zerolinewidth": 2
          },
          "yaxis": {
           "automargin": true,
           "gridcolor": "white",
           "linecolor": "white",
           "ticks": "",
           "title": {
            "standoff": 15
           },
           "zerolinecolor": "white",
           "zerolinewidth": 2
          }
         }
        },
        "title": {
         "text": "MA_24_128"
        },
        "width": 1000,
        "xaxis": {
         "linecolor": "#3a4a54",
         "linewidth": 1,
         "showgrid": false,
         "zeroline": false
        },
        "yaxis": {
         "linecolor": "#3a4a54",
         "linewidth": 1,
         "showgrid": false,
         "zeroline": false
        }
       }
      }
     },
     "metadata": {},
     "output_type": "display_data"
    }
   ],
   "source": [
    "for c in crosses:   \n",
    "    temp_df = all_trades[(all_trades.CROSS==c)].copy()    \n",
    "    temp_df = temp_df.groupby(by=\"time\", as_index=False).sum()\n",
    "    temp_df['CUM_GAIN'] = temp_df.GAIN.cumsum()\n",
    "    plot_line(temp_df, c)"
   ]
  }
 ],
 "metadata": {
  "kernelspec": {
   "display_name": ".venv",
   "language": "python",
   "name": "python3"
  },
  "language_info": {
   "codemirror_mode": {
    "name": "ipython",
    "version": 3
   },
   "file_extension": ".py",
   "mimetype": "text/x-python",
   "name": "python",
   "nbconvert_exporter": "python",
   "pygments_lexer": "ipython3",
   "version": "3.12.4"
  }
 },
 "nbformat": 4,
 "nbformat_minor": 2
}
